{
 "cells": [
  {
   "cell_type": "code",
   "execution_count": 1,
   "metadata": {},
   "outputs": [],
   "source": [
    "import pandas as pd\n",
    "import numpy as np\n",
    "import cufflinks as cf\n",
    "%matplotlib inline"
   ]
  },
  {
   "cell_type": "code",
   "execution_count": 2,
   "metadata": {},
   "outputs": [],
   "source": [
    "from plotly import __version__"
   ]
  },
  {
   "cell_type": "code",
   "execution_count": 3,
   "metadata": {},
   "outputs": [
    {
     "name": "stdout",
     "output_type": "stream",
     "text": [
      "4.4.1\n"
     ]
    }
   ],
   "source": [
    "# nothing important. Just checking version for Plotly\n",
    "print(__version__)"
   ]
  },
  {
   "cell_type": "code",
   "execution_count": 4,
   "metadata": {},
   "outputs": [],
   "source": [
    "from plotly.offline import download_plotlyjs,init_notebook_mode,plot,iplot"
   ]
  },
  {
   "cell_type": "code",
   "execution_count": 5,
   "metadata": {},
   "outputs": [
    {
     "data": {
      "text/html": [
       "        <script type=\"text/javascript\">\n",
       "        window.PlotlyConfig = {MathJaxConfig: 'local'};\n",
       "        if (window.MathJax) {MathJax.Hub.Config({SVG: {font: \"STIX-Web\"}});}\n",
       "        if (typeof require !== 'undefined') {\n",
       "        require.undef(\"plotly\");\n",
       "        requirejs.config({\n",
       "            paths: {\n",
       "                'plotly': ['https://cdn.plot.ly/plotly-latest.min']\n",
       "            }\n",
       "        });\n",
       "        require(['plotly'], function(Plotly) {\n",
       "            window._Plotly = Plotly;\n",
       "        });\n",
       "        }\n",
       "        </script>\n",
       "        "
      ]
     },
     "metadata": {},
     "output_type": "display_data"
    }
   ],
   "source": [
    "init_notebook_mode(connected=True)"
   ]
  },
  {
   "cell_type": "code",
   "execution_count": 6,
   "metadata": {},
   "outputs": [
    {
     "data": {
      "text/html": [
       "        <script type=\"text/javascript\">\n",
       "        window.PlotlyConfig = {MathJaxConfig: 'local'};\n",
       "        if (window.MathJax) {MathJax.Hub.Config({SVG: {font: \"STIX-Web\"}});}\n",
       "        if (typeof require !== 'undefined') {\n",
       "        require.undef(\"plotly\");\n",
       "        requirejs.config({\n",
       "            paths: {\n",
       "                'plotly': ['https://cdn.plot.ly/plotly-latest.min']\n",
       "            }\n",
       "        });\n",
       "        require(['plotly'], function(Plotly) {\n",
       "            window._Plotly = Plotly;\n",
       "        });\n",
       "        }\n",
       "        </script>\n",
       "        "
      ]
     },
     "metadata": {},
     "output_type": "display_data"
    }
   ],
   "source": [
    "cf.go_offline()"
   ]
  },
  {
   "cell_type": "code",
   "execution_count": 7,
   "metadata": {},
   "outputs": [],
   "source": [
    "# DATA\n",
    "df = pd.DataFrame(np.random.randn(100,4),columns='A B C D'.split())"
   ]
  },
  {
   "cell_type": "code",
   "execution_count": 8,
   "metadata": {},
   "outputs": [
    {
     "data": {
      "text/html": [
       "<div>\n",
       "<style scoped>\n",
       "    .dataframe tbody tr th:only-of-type {\n",
       "        vertical-align: middle;\n",
       "    }\n",
       "\n",
       "    .dataframe tbody tr th {\n",
       "        vertical-align: top;\n",
       "    }\n",
       "\n",
       "    .dataframe thead th {\n",
       "        text-align: right;\n",
       "    }\n",
       "</style>\n",
       "<table border=\"1\" class=\"dataframe\">\n",
       "  <thead>\n",
       "    <tr style=\"text-align: right;\">\n",
       "      <th></th>\n",
       "      <th>A</th>\n",
       "      <th>B</th>\n",
       "      <th>C</th>\n",
       "      <th>D</th>\n",
       "    </tr>\n",
       "  </thead>\n",
       "  <tbody>\n",
       "    <tr>\n",
       "      <td>0</td>\n",
       "      <td>-1.837579</td>\n",
       "      <td>1.797907</td>\n",
       "      <td>-0.111957</td>\n",
       "      <td>0.877611</td>\n",
       "    </tr>\n",
       "    <tr>\n",
       "      <td>1</td>\n",
       "      <td>-0.159497</td>\n",
       "      <td>0.462854</td>\n",
       "      <td>0.198135</td>\n",
       "      <td>-0.109183</td>\n",
       "    </tr>\n",
       "    <tr>\n",
       "      <td>2</td>\n",
       "      <td>1.131037</td>\n",
       "      <td>-1.186763</td>\n",
       "      <td>0.624395</td>\n",
       "      <td>0.432220</td>\n",
       "    </tr>\n",
       "    <tr>\n",
       "      <td>3</td>\n",
       "      <td>0.033424</td>\n",
       "      <td>-1.306999</td>\n",
       "      <td>3.463622</td>\n",
       "      <td>0.211686</td>\n",
       "    </tr>\n",
       "    <tr>\n",
       "      <td>4</td>\n",
       "      <td>-0.272664</td>\n",
       "      <td>0.284699</td>\n",
       "      <td>1.602578</td>\n",
       "      <td>-0.954820</td>\n",
       "    </tr>\n",
       "    <tr>\n",
       "      <td>...</td>\n",
       "      <td>...</td>\n",
       "      <td>...</td>\n",
       "      <td>...</td>\n",
       "      <td>...</td>\n",
       "    </tr>\n",
       "    <tr>\n",
       "      <td>95</td>\n",
       "      <td>3.006403</td>\n",
       "      <td>1.912535</td>\n",
       "      <td>-0.165296</td>\n",
       "      <td>1.663133</td>\n",
       "    </tr>\n",
       "    <tr>\n",
       "      <td>96</td>\n",
       "      <td>1.794644</td>\n",
       "      <td>-1.820911</td>\n",
       "      <td>1.787396</td>\n",
       "      <td>0.016759</td>\n",
       "    </tr>\n",
       "    <tr>\n",
       "      <td>97</td>\n",
       "      <td>1.275824</td>\n",
       "      <td>-2.256363</td>\n",
       "      <td>0.685595</td>\n",
       "      <td>-0.088699</td>\n",
       "    </tr>\n",
       "    <tr>\n",
       "      <td>98</td>\n",
       "      <td>0.038206</td>\n",
       "      <td>0.057985</td>\n",
       "      <td>-0.416936</td>\n",
       "      <td>-0.337590</td>\n",
       "    </tr>\n",
       "    <tr>\n",
       "      <td>99</td>\n",
       "      <td>-0.052200</td>\n",
       "      <td>-0.723400</td>\n",
       "      <td>1.195764</td>\n",
       "      <td>0.656072</td>\n",
       "    </tr>\n",
       "  </tbody>\n",
       "</table>\n",
       "<p>100 rows × 4 columns</p>\n",
       "</div>"
      ],
      "text/plain": [
       "           A         B         C         D\n",
       "0  -1.837579  1.797907 -0.111957  0.877611\n",
       "1  -0.159497  0.462854  0.198135 -0.109183\n",
       "2   1.131037 -1.186763  0.624395  0.432220\n",
       "3   0.033424 -1.306999  3.463622  0.211686\n",
       "4  -0.272664  0.284699  1.602578 -0.954820\n",
       "..       ...       ...       ...       ...\n",
       "95  3.006403  1.912535 -0.165296  1.663133\n",
       "96  1.794644 -1.820911  1.787396  0.016759\n",
       "97  1.275824 -2.256363  0.685595 -0.088699\n",
       "98  0.038206  0.057985 -0.416936 -0.337590\n",
       "99 -0.052200 -0.723400  1.195764  0.656072\n",
       "\n",
       "[100 rows x 4 columns]"
      ]
     },
     "execution_count": 8,
     "metadata": {},
     "output_type": "execute_result"
    }
   ],
   "source": [
    "df"
   ]
  },
  {
   "cell_type": "code",
   "execution_count": 9,
   "metadata": {},
   "outputs": [],
   "source": [
    "df2 = pd.DataFrame({'Category':['A','B','C'],'Values':[32,43,50]})"
   ]
  },
  {
   "cell_type": "code",
   "execution_count": 10,
   "metadata": {},
   "outputs": [
    {
     "data": {
      "text/html": [
       "<div>\n",
       "<style scoped>\n",
       "    .dataframe tbody tr th:only-of-type {\n",
       "        vertical-align: middle;\n",
       "    }\n",
       "\n",
       "    .dataframe tbody tr th {\n",
       "        vertical-align: top;\n",
       "    }\n",
       "\n",
       "    .dataframe thead th {\n",
       "        text-align: right;\n",
       "    }\n",
       "</style>\n",
       "<table border=\"1\" class=\"dataframe\">\n",
       "  <thead>\n",
       "    <tr style=\"text-align: right;\">\n",
       "      <th></th>\n",
       "      <th>Category</th>\n",
       "      <th>Values</th>\n",
       "    </tr>\n",
       "  </thead>\n",
       "  <tbody>\n",
       "    <tr>\n",
       "      <td>0</td>\n",
       "      <td>A</td>\n",
       "      <td>32</td>\n",
       "    </tr>\n",
       "    <tr>\n",
       "      <td>1</td>\n",
       "      <td>B</td>\n",
       "      <td>43</td>\n",
       "    </tr>\n",
       "    <tr>\n",
       "      <td>2</td>\n",
       "      <td>C</td>\n",
       "      <td>50</td>\n",
       "    </tr>\n",
       "  </tbody>\n",
       "</table>\n",
       "</div>"
      ],
      "text/plain": [
       "  Category  Values\n",
       "0        A      32\n",
       "1        B      43\n",
       "2        C      50"
      ]
     },
     "execution_count": 10,
     "metadata": {},
     "output_type": "execute_result"
    }
   ],
   "source": [
    "df2"
   ]
  },
  {
   "cell_type": "code",
   "execution_count": 11,
   "metadata": {},
   "outputs": [
    {
     "data": {
      "text/plain": [
       "<matplotlib.axes._subplots.AxesSubplot at 0x1c20b71250>"
      ]
     },
     "execution_count": 11,
     "metadata": {},
     "output_type": "execute_result"
    },
    {
     "data": {
      "image/png": "[encoded data removed]",
      "text/plain": [
       "<Figure size 432x288 with 1 Axes>"
      ]
     },
     "metadata": {
      "needs_background": "light"
     },
     "output_type": "display_data"
    }
   ],
   "source": [
    "# Basic static plot\n",
    "df.plot()"
   ]
  },
  {
   "cell_type": "code",
   "execution_count": 12,
   "metadata": {},
   "outputs": [
    {
     "data": {
      "application/vnd.plotly.v1+json": {
       "config": {
        "linkText": "Export to plot.ly",
        "plotlyServerURL": "https://plot.ly",
        "showLink": true
       },
       "data": [
        {
         "line": {
          "color": "rgba(255, 153, 51, 1.0)",
          "dash": "solid",
          "shape": "linear",
          "width": 1.3
         },
         "mode": "lines",
         "name": "A",
         "text": "",
         "type": "scatter",
         "x": [
          0,
          1,
          2,
          3,
          4,
          5,
          6,
          7,
          8,
          9,
          10,
          11,
          12,
          13,
          14,
          15,
          16,
          17,
          18,
          19,
          20,
          21,
          22,
          23,
          24,
          25,
          26,
          27,
          28,
          29,
          30,
          31,
          32,
          33,
          34,
          35,
          36,
          37,
          38,
          39,
          40,
          41,
          42,
          43,
          44,
          45,
          46,
          47,
          48,
          49,
          50,
          51,
          52,
          53,
          54,
          55,
          56,
          57,
          58,
          59,
          60,
          61,
          62,
          63,
          64,
          65,
          66,
          67,
          68,
          69,
          70,
          71,
          72,
          73,
          74,
          75,
          76,
          77,
          78,
          79,
          80,
          81,
          82,
          83,
          84,
          85,
          86,
          87,
          88,
          89,
          90,
          91,
          92,
          93,
          94,
          95,
          96,
          97,
          98,
          99
         ],
         "y": [
          -1.8375793829805152,
          -0.15949696869273136,
          1.1310371011634441,
          0.033424317827104935,
          -0.27266433823248903,
          -1.5266480612294526,
          0.6406900998232502,
          -1.2037810103452755,
          0.45766181096666353,
          -0.65756316944976,
          1.2254607006230938,
          -0.49670888312590306,
          0.9517977824412835,
          -0.4737685536624598,
          -0.18866034695016973,
          1.7707542889792907,
          0.6323242648780771,
          0.12204537313043434,
          -1.9034920234674675,
          -0.04442225969249496,
          0.15429995846266448,
          0.7932222997650096,
          2.539915784248557,
          -1.1930343034985709,
          -0.614857906207743,
          1.4806568174717332,
          -1.8648504458226827,
          -0.41509780444484906,
          -1.5902518624107531,
          -1.1668716248656292,
          0.7148812419826943,
          0.9205412994571905,
          -1.0552530177997501,
          -1.1144495047103273,
          -1.4148418771042273,
          -0.7978844421999658,
          -0.7196315490672652,
          -0.6581896684098428,
          -0.003017838744859791,
          1.000572700470973,
          0.03907023496823878,
          0.9445560069535803,
          -0.4370724628095535,
          -0.5308855796106563,
          0.40885528594580445,
          0.188730040054379,
          -0.7941436814811723,
          1.9071063059377538,
          -0.05371617887237018,
          -1.2180771449054735,
          -0.0027625945812005813,
          -0.7289781761912149,
          -1.5148040962595313,
          1.5310393005980325,
          1.2115849481386265,
          0.47883686689648225,
          -0.45499490210360916,
          -1.0189093313495297,
          -0.15728791717667132,
          -0.11127659476746542,
          0.8690846353904871,
          0.20354127289823257,
          -2.0630281790612797,
          1.3344770773409376,
          -1.6200000617491879,
          -0.23116693293656054,
          -0.6755590465420752,
          0.4685086761604976,
          0.49494635923821795,
          -0.005597955485651658,
          1.0885292455914743,
          -1.0407905089838017,
          -0.929490474183066,
          -1.015229473319679,
          1.8836505311940042,
          0.852998689782739,
          1.0753372020989056,
          1.4373344844109446,
          -0.03480585890954957,
          -0.37548221973787094,
          1.5645635392346884,
          1.758746465445413,
          -1.7330027977656584,
          -0.25500034465944543,
          -0.11760242138474251,
          1.9831290035306863,
          -1.6781345236672671,
          1.0916134309838674,
          -0.4986127299448885,
          0.4985659415525577,
          1.1762317481769409,
          -0.9905137465769372,
          -1.063065614167874,
          1.242282812838642,
          0.990357440665751,
          3.006402504672399,
          1.7946437084519817,
          1.2758239575605375,
          0.038206062830590415,
          -0.052200463798188414
         ]
        },
        {
         "line": {
          "color": "rgba(55, 128, 191, 1.0)",
          "dash": "solid",
          "shape": "linear",
          "width": 1.3
         },
         "mode": "lines",
         "name": "B",
         "text": "",
         "type": "scatter",
         "x": [
          0,
          1,
          2,
          3,
          4,
          5,
          6,
          7,
          8,
          9,
          10,
          11,
          12,
          13,
          14,
          15,
          16,
          17,
          18,
          19,
          20,
          21,
          22,
          23,
          24,
          25,
          26,
          27,
          28,
          29,
          30,
          31,
          32,
          33,
          34,
          35,
          36,
          37,
          38,
          39,
          40,
          41,
          42,
          43,
          44,
          45,
          46,
          47,
          48,
          49,
          50,
          51,
          52,
          53,
          54,
          55,
          56,
          57,
          58,
          59,
          60,
          61,
          62,
          63,
          64,
          65,
          66,
          67,
          68,
          69,
          70,
          71,
          72,
          73,
          74,
          75,
          76,
          77,
          78,
          79,
          80,
          81,
          82,
          83,
          84,
          85,
          86,
          87,
          88,
          89,
          90,
          91,
          92,
          93,
          94,
          95,
          96,
          97,
          98,
          99
         ],
         "y": [
          1.7979066365959437,
          0.46285376386792,
          -1.186763222985012,
          -1.3069987790938424,
          0.2846992419759555,
          -0.46572268676860606,
          0.37506581218122054,
          0.04307716596099602,
          -0.10030470230806747,
          0.2253581478192807,
          1.5881375303218745,
          -0.7860510560549011,
          0.0709065210939935,
          1.3179919385263983,
          0.1911135355144382,
          -0.1659826156491933,
          0.1335520665302867,
          -1.3591338016683188,
          0.6810870536812119,
          -0.3210353527483331,
          -0.9898181449092167,
          -1.2243689025562479,
          0.9843652721650106,
          -1.2543373215912461,
          0.8715596268958955,
          1.3562385722623433,
          -0.2579451332063824,
          0.8699716121262567,
          1.248480225043317,
          -1.5952232935299056,
          -0.03397694249447452,
          -0.343267396460641,
          0.28802212629747814,
          -0.8593404698722109,
          -0.2530951725001365,
          -1.1386052562784248,
          0.38917661781477536,
          -0.9825733525869731,
          -0.31696837518324317,
          0.7990527808015294,
          1.5176967691503638,
          1.410126737765439,
          -0.2743896134901539,
          -0.6929350750237689,
          0.2936921575856845,
          0.8254128170753967,
          -0.38061138001210737,
          -1.029983050729118,
          0.5164862990891124,
          0.5294226142890159,
          1.3419954272688206,
          0.4908184159374298,
          0.49612404315739556,
          -1.5353261683128314,
          -0.23122135512542397,
          -0.969643060285253,
          -0.7905605694819513,
          0.6367390711248883,
          -1.1584050310341727,
          0.7132292476684078,
          0.5512209938581333,
          -1.2332536027280028,
          1.263445214176733,
          1.0355389031994173,
          -0.4385948782738462,
          1.2783266636003576,
          0.9694074826731098,
          -0.5354973913133867,
          0.3763906230930325,
          1.0822003941489435,
          0.7361046509510144,
          -0.4335373702666788,
          -0.17899964389897075,
          -0.3648809060196582,
          -0.32072220887824276,
          -0.02508944822472686,
          -0.5833657581143926,
          -0.3995712267987253,
          0.9009130860560229,
          -1.4986325461576935,
          -1.8715391056827866,
          2.8798459765859827,
          0.07355556328316204,
          -0.022392130905374747,
          -1.4390151669046745,
          -0.12588443717729894,
          -0.1749203096655581,
          0.5710963935160036,
          -0.8221985582564402,
          1.1613570625458303,
          0.7006283651400398,
          0.028200929375390538,
          -1.1587338283713418,
          0.18389562050698247,
          -0.9159351961730826,
          1.912535172503708,
          -1.8209107037327792,
          -2.2563632012174306,
          0.05798522639921089,
          -0.7234000317144638
         ]
        },
        {
         "line": {
          "color": "rgba(50, 171, 96, 1.0)",
          "dash": "solid",
          "shape": "linear",
          "width": 1.3
         },
         "mode": "lines",
         "name": "C",
         "text": "",
         "type": "scatter",
         "x": [
          0,
          1,
          2,
          3,
          4,
          5,
          6,
          7,
          8,
          9,
          10,
          11,
          12,
          13,
          14,
          15,
          16,
          17,
          18,
          19,
          20,
          21,
          22,
          23,
          24,
          25,
          26,
          27,
          28,
          29,
          30,
          31,
          32,
          33,
          34,
          35,
          36,
          37,
          38,
          39,
          40,
          41,
          42,
          43,
          44,
          45,
          46,
          47,
          48,
          49,
          50,
          51,
          52,
          53,
          54,
          55,
          56,
          57,
          58,
          59,
          60,
          61,
          62,
          63,
          64,
          65,
          66,
          67,
          68,
          69,
          70,
          71,
          72,
          73,
          74,
          75,
          76,
          77,
          78,
          79,
          80,
          81,
          82,
          83,
          84,
          85,
          86,
          87,
          88,
          89,
          90,
          91,
          92,
          93,
          94,
          95,
          96,
          97,
          98,
          99
         ],
         "y": [
          -0.11195680488630352,
          0.19813513395996601,
          0.6243952583500618,
          3.4636216744699926,
          1.6025780971968129,
          -1.4842957023344758,
          1.5200032468496212,
          -0.2631744539556295,
          1.6500701251249659,
          -3.029823148650362,
          1.0265662580499642,
          -0.2567714743133042,
          2.457180119797221,
          0.5238088696860247,
          0.26209872027584513,
          0.6956634102215381,
          -0.6875276285625027,
          0.6392616577482672,
          1.3351393658985924,
          0.34141495490170315,
          -0.5659435780610622,
          -1.5608013996314807,
          0.48786006329180565,
          0.336081140259419,
          1.0175981710604358,
          -1.0135670113619677,
          0.3129251024807007,
          0.09328582639040285,
          -0.87220153866261,
          2.219797990891727,
          0.3655625592140774,
          0.8002282698773922,
          0.5158153974877858,
          -0.33700303233675205,
          -1.2940315214203613,
          1.1328240142383346,
          0.10094096472141936,
          1.7370875372990418,
          0.1839808055476812,
          1.2827729447774527,
          0.01818646549473812,
          -0.8766507338302455,
          0.11151420077033018,
          -1.226767964025608,
          0.5925924682575862,
          -0.661867073821238,
          -0.3727916276086114,
          -0.35054991247657,
          -0.725074404132708,
          -0.8056579783319012,
          -2.370764105329452,
          0.022591428355840264,
          0.1701455330688707,
          -1.2801069400543095,
          1.80983649905343,
          1.3215544377183117,
          -0.6475697652766453,
          -2.878377702333487,
          -0.3907665880809579,
          -0.9491649532134488,
          0.08817234504563345,
          0.410923543362477,
          0.2118958880439002,
          0.027784440467459877,
          -0.3580699215915449,
          -2.0625597051700364,
          -1.0760324793561697,
          0.8371078225097193,
          0.5682216990227285,
          0.06389082048082165,
          -0.9604774121864444,
          -1.5094374087850413,
          -0.9892302232683492,
          -0.08039240707564778,
          0.4338028851904076,
          -0.32565578060191,
          -1.3588064292335826,
          -0.6212581022909891,
          -0.14729134904037633,
          0.676065770331901,
          0.048383080662061546,
          1.1655116085226473,
          0.36441634440261894,
          0.13740405736192837,
          -0.2692124351999852,
          1.0333699470883486,
          -1.4292425177566495,
          1.3193573123226177,
          0.14325005584199305,
          -0.6451136154829559,
          1.5868146161808676,
          0.3139631548592902,
          -1.2599371618269581,
          0.6661701105361751,
          0.050813451678986335,
          -0.16529638984939754,
          1.7873956492526328,
          0.6855946366040738,
          -0.4169361655747808,
          1.1957640390301516
         ]
        },
        {
         "line": {
          "color": "rgba(128, 0, 128, 1.0)",
          "dash": "solid",
          "shape": "linear",
          "width": 1.3
         },
         "mode": "lines",
         "name": "D",
         "text": "",
         "type": "scatter",
         "x": [
          0,
          1,
          2,
          3,
          4,
          5,
          6,
          7,
          8,
          9,
          10,
          11,
          12,
          13,
          14,
          15,
          16,
          17,
          18,
          19,
          20,
          21,
          22,
          23,
          24,
          25,
          26,
          27,
          28,
          29,
          30,
          31,
          32,
          33,
          34,
          35,
          36,
          37,
          38,
          39,
          40,
          41,
          42,
          43,
          44,
          45,
          46,
          47,
          48,
          49,
          50,
          51,
          52,
          53,
          54,
          55,
          56,
          57,
          58,
          59,
          60,
          61,
          62,
          63,
          64,
          65,
          66,
          67,
          68,
          69,
          70,
          71,
          72,
          73,
          74,
          75,
          76,
          77,
          78,
          79,
          80,
          81,
          82,
          83,
          84,
          85,
          86,
          87,
          88,
          89,
          90,
          91,
          92,
          93,
          94,
          95,
          96,
          97,
          98,
          99
         ],
         "y": [
          0.8776105999726939,
          -0.10918325673623544,
          0.43222002504828105,
          0.21168643105607898,
          -0.9548195681227061,
          -0.6582052405583847,
          -0.3438405764101884,
          0.024985400072480204,
          0.8845177708376631,
          1.825785856913161,
          -0.28356750209844556,
          0.2742762047578588,
          -0.6886177300532897,
          0.5455626463032112,
          0.5512032007015983,
          -0.08465280718060102,
          -1.5683868440841968,
          -2.109777683469117,
          2.405134896361823,
          0.9499776131789283,
          0.529550183658126,
          -1.7435741433932503,
          -0.9283743006001778,
          1.3966321748408201,
          0.8373142928074896,
          0.08189116770723855,
          0.5154221849354002,
          -0.03439821187574808,
          0.2869642638346971,
          -0.03845611395295513,
          2.2779916916551435,
          0.8367230528940887,
          -1.7602317632984699,
          -1.0902609470819251,
          0.370608475722315,
          0.23087291044609118,
          -0.9429003049634584,
          -0.461098739151424,
          3.2211304767698223,
          1.311354278181902,
          -1.6504354303851616,
          -0.6950894070767035,
          -0.38424297017119463,
          1.4667644026261295,
          -0.2183733939914209,
          -1.2735493192721279,
          -0.7759015930990381,
          0.8913003162757013,
          -0.1436722265327362,
          0.8363533428070496,
          0.39207836074386404,
          -0.15199663407635397,
          0.28787773000192673,
          -0.4801591093253376,
          -0.3034078886198265,
          1.7352664204007102,
          0.5930378637504586,
          2.4102024296351297,
          -0.3307829848947105,
          0.0886876517645023,
          1.277432516235606,
          0.9019558405223357,
          -0.7686226225707046,
          -1.0990782319705044,
          -1.2594527794158445,
          -0.19837010832596924,
          -0.5189316931204656,
          -0.8051186320505203,
          -2.3767339874302347,
          1.437999065479335,
          1.1017865847557078,
          -1.2797434001507912,
          -0.3995660222486687,
          -0.8090871880124815,
          -1.6292142376945211,
          0.9051799112583083,
          -1.0310477717438267,
          0.1461910289114032,
          0.15232455199932002,
          -0.12343962851039851,
          -0.24341614756844326,
          0.7196652201614023,
          -1.2080488799693634,
          -0.8418013066217972,
          -1.2231851046757791,
          1.0191435197448586,
          0.8445573153614979,
          -0.9013918480171765,
          0.6440958508132099,
          -0.5749211031387301,
          -0.44451902570747176,
          -0.14964556022134423,
          -0.2506450929917549,
          -1.489332270604689,
          0.8837149767609971,
          1.6631330486294185,
          0.01675864008521639,
          -0.08869869279391412,
          -0.3375904941282858,
          0.6560718655960883
         ]
        }
       ],
       "layout": {
        "legend": {
         "bgcolor": "#F5F6F9",
         "font": {
          "color": "#4D5663"
         }
        },
        "paper_bgcolor": "#F5F6F9",
        "plot_bgcolor": "#F5F6F9",
        "template": {
         "data": {
          "bar": [
           {
            "error_x": {
             "color": "#2a3f5f"
            },
            "error_y": {
             "color": "#2a3f5f"
            },
            "marker": {
             "line": {
              "color": "#E5ECF6",
              "width": 0.5
             }
            },
            "type": "bar"
           }
          ],
          "barpolar": [
           {
            "marker": {
             "line": {
              "color": "#E5ECF6",
              "width": 0.5
             }
            },
            "type": "barpolar"
           }
          ],
          "carpet": [
           {
            "aaxis": {
             "endlinecolor": "#2a3f5f",
             "gridcolor": "white",
             "linecolor": "white",
             "minorgridcolor": "white",
             "startlinecolor": "#2a3f5f"
            },
            "baxis": {
             "endlinecolor": "#2a3f5f",
             "gridcolor": "white",
             "linecolor": "white",
             "minorgridcolor": "white",
             "startlinecolor": "#2a3f5f"
            },
            "type": "carpet"
           }
          ],
          "choropleth": [
           {
            "colorbar": {
             "outlinewidth": 0,
             "ticks": ""
            },
            "type": "choropleth"
           }
          ],
          "contour": [
           {
            "colorbar": {
             "outlinewidth": 0,
             "ticks": ""
            },
            "colorscale": [
             [
              0,
              "#0d0887"
             ],
             [
              0.1111111111111111,
              "#46039f"
             ],
             [
              0.2222222222222222,
              "#7201a8"
             ],
             [
              0.3333333333333333,
              "#9c179e"
             ],
             [
              0.4444444444444444,
              "#bd3786"
             ],
             [
              0.5555555555555556,
              "#d8576b"
             ],
             [
              0.6666666666666666,
              "#ed7953"
             ],
             [
              0.7777777777777778,
              "#fb9f3a"
             ],
             [
              0.8888888888888888,
              "#fdca26"
             ],
             [
              1,
              "#f0f921"
             ]
            ],
            "type": "contour"
           }
          ],
          "contourcarpet": [
           {
            "colorbar": {
             "outlinewidth": 0,
             "ticks": ""
            },
            "type": "contourcarpet"
           }
          ],
          "heatmap": [
           {
            "colorbar": {
             "outlinewidth": 0,
             "ticks": ""
            },
            "colorscale": [
             [
              0,
              "#0d0887"
             ],
             [
              0.1111111111111111,
              "#46039f"
             ],
             [
              0.2222222222222222,
              "#7201a8"
             ],
             [
              0.3333333333333333,
              "#9c179e"
             ],
             [
              0.4444444444444444,
              "#bd3786"
             ],
             [
              0.5555555555555556,
              "#d8576b"
             ],
             [
              0.6666666666666666,
              "#ed7953"
             ],
             [
              0.7777777777777778,
              "#fb9f3a"
             ],
             [
              0.8888888888888888,
              "#fdca26"
             ],
             [
              1,
              "#f0f921"
             ]
            ],
            "type": "heatmap"
           }
          ],
          "heatmapgl": [
           {
            "colorbar": {
             "outlinewidth": 0,
             "ticks": ""
            },
            "colorscale": [
             [
              0,
              "#0d0887"
             ],
             [
              0.1111111111111111,
              "#46039f"
             ],
             [
              0.2222222222222222,
              "#7201a8"
             ],
             [
              0.3333333333333333,
              "#9c179e"
             ],
             [
              0.4444444444444444,
              "#bd3786"
             ],
             [
              0.5555555555555556,
              "#d8576b"
             ],
             [
              0.6666666666666666,
              "#ed7953"
             ],
             [
              0.7777777777777778,
              "#fb9f3a"
             ],
             [
              0.8888888888888888,
              "#fdca26"
             ],
             [
              1,
              "#f0f921"
             ]
            ],
            "type": "heatmapgl"
           }
          ],
          "histogram": [
           {
            "marker": {
             "colorbar": {
              "outlinewidth": 0,
              "ticks": ""
             }
            },
            "type": "histogram"
           }
          ],
          "histogram2d": [
           {
            "colorbar": {
             "outlinewidth": 0,
             "ticks": ""
            },
            "colorscale": [
             [
              0,
              "#0d0887"
             ],
             [
              0.1111111111111111,
              "#46039f"
             ],
             [
              0.2222222222222222,
              "#7201a8"
             ],
             [
              0.3333333333333333,
              "#9c179e"
             ],
             [
              0.4444444444444444,
              "#bd3786"
             ],
             [
              0.5555555555555556,
              "#d8576b"
             ],
             [
              0.6666666666666666,
              "#ed7953"
             ],
             [
              0.7777777777777778,
              "#fb9f3a"
             ],
             [
              0.8888888888888888,
              "#fdca26"
             ],
             [
              1,
              "#f0f921"
             ]
            ],
            "type": "histogram2d"
           }
          ],
          "histogram2dcontour": [
           {
            "colorbar": {
             "outlinewidth": 0,
             "ticks": ""
            },
            "colorscale": [
             [
              0,
              "#0d0887"
             ],
             [
              0.1111111111111111,
              "#46039f"
             ],
             [
              0.2222222222222222,
              "#7201a8"
             ],
             [
              0.3333333333333333,
              "#9c179e"
             ],
             [
              0.4444444444444444,
              "#bd3786"
             ],
             [
              0.5555555555555556,
              "#d8576b"
             ],
             [
              0.6666666666666666,
              "#ed7953"
             ],
             [
              0.7777777777777778,
              "#fb9f3a"
             ],
             [
              0.8888888888888888,
              "#fdca26"
             ],
             [
              1,
              "#f0f921"
             ]
            ],
            "type": "histogram2dcontour"
           }
          ],
          "mesh3d": [
           {
            "colorbar": {
             "outlinewidth": 0,
             "ticks": ""
            },
            "type": "mesh3d"
           }
          ],
          "parcoords": [
           {
            "line": {
             "colorbar": {
              "outlinewidth": 0,
              "ticks": ""
             }
            },
            "type": "parcoords"
           }
          ],
          "pie": [
           {
            "automargin": true,
            "type": "pie"
           }
          ],
          "scatter": [
           {
            "marker": {
             "colorbar": {
              "outlinewidth": 0,
              "ticks": ""
             }
            },
            "type": "scatter"
           }
          ],
          "scatter3d": [
           {
            "line": {
             "colorbar": {
              "outlinewidth": 0,
              "ticks": ""
             }
            },
            "marker": {
             "colorbar": {
              "outlinewidth": 0,
              "ticks": ""
             }
            },
            "type": "scatter3d"
           }
          ],
          "scattercarpet": [
           {
            "marker": {
             "colorbar": {
              "outlinewidth": 0,
              "ticks": ""
             }
            },
            "type": "scattercarpet"
           }
          ],
          "scattergeo": [
           {
            "marker": {
             "colorbar": {
              "outlinewidth": 0,
              "ticks": ""
             }
            },
            "type": "scattergeo"
           }
          ],
          "scattergl": [
           {
            "marker": {
             "colorbar": {
              "outlinewidth": 0,
              "ticks": ""
             }
            },
            "type": "scattergl"
           }
          ],
          "scattermapbox": [
           {
            "marker": {
             "colorbar": {
              "outlinewidth": 0,
              "ticks": ""
             }
            },
            "type": "scattermapbox"
           }
          ],
          "scatterpolar": [
           {
            "marker": {
             "colorbar": {
              "outlinewidth": 0,
              "ticks": ""
             }
            },
            "type": "scatterpolar"
           }
          ],
          "scatterpolargl": [
           {
            "marker": {
             "colorbar": {
              "outlinewidth": 0,
              "ticks": ""
             }
            },
            "type": "scatterpolargl"
           }
          ],
          "scatterternary": [
           {
            "marker": {
             "colorbar": {
              "outlinewidth": 0,
              "ticks": ""
             }
            },
            "type": "scatterternary"
           }
          ],
          "surface": [
           {
            "colorbar": {
             "outlinewidth": 0,
             "ticks": ""
            },
            "colorscale": [
             [
              0,
              "#0d0887"
             ],
             [
              0.1111111111111111,
              "#46039f"
             ],
             [
              0.2222222222222222,
              "#7201a8"
             ],
             [
              0.3333333333333333,
              "#9c179e"
             ],
             [
              0.4444444444444444,
              "#bd3786"
             ],
             [
              0.5555555555555556,
              "#d8576b"
             ],
             [
              0.6666666666666666,
              "#ed7953"
             ],
             [
              0.7777777777777778,
              "#fb9f3a"
             ],
             [
              0.8888888888888888,
              "#fdca26"
             ],
             [
              1,
              "#f0f921"
             ]
            ],
            "type": "surface"
           }
          ],
          "table": [
           {
            "cells": {
             "fill": {
              "color": "#EBF0F8"
             },
             "line": {
              "color": "white"
             }
            },
            "header": {
             "fill": {
              "color": "#C8D4E3"
             },
             "line": {
              "color": "white"
             }
            },
            "type": "table"
           }
          ]
         },
         "layout": {
          "annotationdefaults": {
           "arrowcolor": "#2a3f5f",
           "arrowhead": 0,
           "arrowwidth": 1
          },
          "coloraxis": {
           "colorbar": {
            "outlinewidth": 0,
            "ticks": ""
           }
          },
          "colorscale": {
           "diverging": [
            [
             0,
             "#8e0152"
            ],
            [
             0.1,
             "#c51b7d"
            ],
            [
             0.2,
             "#de77ae"
            ],
            [
             0.3,
             "#f1b6da"
            ],
            [
             0.4,
             "#fde0ef"
            ],
            [
             0.5,
             "#f7f7f7"
            ],
            [
             0.6,
             "#e6f5d0"
            ],
            [
             0.7,
             "#b8e186"
            ],
            [
             0.8,
             "#7fbc41"
            ],
            [
             0.9,
             "#4d9221"
            ],
            [
             1,
             "#276419"
            ]
           ],
           "sequential": [
            [
             0,
             "#0d0887"
            ],
            [
             0.1111111111111111,
             "#46039f"
            ],
            [
             0.2222222222222222,
             "#7201a8"
            ],
            [
             0.3333333333333333,
             "#9c179e"
            ],
            [
             0.4444444444444444,
             "#bd3786"
            ],
            [
             0.5555555555555556,
             "#d8576b"
            ],
            [
             0.6666666666666666,
             "#ed7953"
            ],
            [
             0.7777777777777778,
             "#fb9f3a"
            ],
            [
             0.8888888888888888,
             "#fdca26"
            ],
            [
             1,
             "#f0f921"
            ]
           ],
           "sequentialminus": [
            [
             0,
             "#0d0887"
            ],
            [
             0.1111111111111111,
             "#46039f"
            ],
            [
             0.2222222222222222,
             "#7201a8"
            ],
            [
             0.3333333333333333,
             "#9c179e"
            ],
            [
             0.4444444444444444,
             "#bd3786"
            ],
            [
             0.5555555555555556,
             "#d8576b"
            ],
            [
             0.6666666666666666,
             "#ed7953"
            ],
            [
             0.7777777777777778,
             "#fb9f3a"
            ],
            [
             0.8888888888888888,
             "#fdca26"
            ],
            [
             1,
             "#f0f921"
            ]
           ]
          },
          "colorway": [
           "#636efa",
           "#EF553B",
           "#00cc96",
           "#ab63fa",
           "#FFA15A",
           "#19d3f3",
           "#FF6692",
           "#B6E880",
           "#FF97FF",
           "#FECB52"
          ],
          "font": {
           "color": "#2a3f5f"
          },
          "geo": {
           "bgcolor": "white",
           "lakecolor": "white",
           "landcolor": "#E5ECF6",
           "showlakes": true,
           "showland": true,
           "subunitcolor": "white"
          },
          "hoverlabel": {
           "align": "left"
          },
          "hovermode": "closest",
          "mapbox": {
           "style": "light"
          },
          "paper_bgcolor": "white",
          "plot_bgcolor": "#E5ECF6",
          "polar": {
           "angularaxis": {
            "gridcolor": "white",
            "linecolor": "white",
            "ticks": ""
           },
           "bgcolor": "#E5ECF6",
           "radialaxis": {
            "gridcolor": "white",
            "linecolor": "white",
            "ticks": ""
           }
          },
          "scene": {
           "xaxis": {
            "backgroundcolor": "#E5ECF6",
            "gridcolor": "white",
            "gridwidth": 2,
            "linecolor": "white",
            "showbackground": true,
            "ticks": "",
            "zerolinecolor": "white"
           },
           "yaxis": {
            "backgroundcolor": "#E5ECF6",
            "gridcolor": "white",
            "gridwidth": 2,
            "linecolor": "white",
            "showbackground": true,
            "ticks": "",
            "zerolinecolor": "white"
           },
           "zaxis": {
            "backgroundcolor": "#E5ECF6",
            "gridcolor": "white",
            "gridwidth": 2,
            "linecolor": "white",
            "showbackground": true,
            "ticks": "",
            "zerolinecolor": "white"
           }
          },
          "shapedefaults": {
           "line": {
            "color": "#2a3f5f"
           }
          },
          "ternary": {
           "aaxis": {
            "gridcolor": "white",
            "linecolor": "white",
            "ticks": ""
           },
           "baxis": {
            "gridcolor": "white",
            "linecolor": "white",
            "ticks": ""
           },
           "bgcolor": "#E5ECF6",
           "caxis": {
            "gridcolor": "white",
            "linecolor": "white",
            "ticks": ""
           }
          },
          "title": {
           "x": 0.05
          },
          "xaxis": {
           "automargin": true,
           "gridcolor": "white",
           "linecolor": "white",
           "ticks": "",
           "title": {
            "standoff": 15
           },
           "zerolinecolor": "white",
           "zerolinewidth": 2
          },
          "yaxis": {
           "automargin": true,
           "gridcolor": "white",
           "linecolor": "white",
           "ticks": "",
           "title": {
            "standoff": 15
           },
           "zerolinecolor": "white",
           "zerolinewidth": 2
          }
         }
        },
        "title": {
         "font": {
          "color": "#4D5663"
         }
        },
        "xaxis": {
         "gridcolor": "#E1E5ED",
         "showgrid": true,
         "tickfont": {
          "color": "#4D5663"
         },
         "title": {
          "font": {
           "color": "#4D5663"
          },
          "text": ""
         },
         "zerolinecolor": "#E1E5ED"
        },
        "yaxis": {
         "gridcolor": "#E1E5ED",
         "showgrid": true,
         "tickfont": {
          "color": "#4D5663"
         },
         "title": {
          "font": {
           "color": "#4D5663"
          },
          "text": ""
         },
         "zerolinecolor": "#E1E5ED"
        }
       }
      },
      "text/html": [
       "<div>\n",
       "        \n",
       "        \n",
       "            <div id=\"9c53715a-0006-47e6-aaa1-ea761b2d9c5f\" class=\"plotly-graph-div\" style=\"height:525px; width:100%;\"></div>\n",
       "            <script type=\"text/javascript\">\n",
       "                require([\"plotly\"], function(Plotly) {\n",
       "                    window.PLOTLYENV=window.PLOTLYENV || {};\n",
       "                    window.PLOTLYENV.BASE_URL='https://plot.ly';\n",
       "                    \n",
       "                if (document.getElementById(\"9c53715a-0006-47e6-aaa1-ea761b2d9c5f\")) {\n",
       "                    Plotly.newPlot(\n",
       "                        '9c53715a-0006-47e6-aaa1-ea761b2d9c5f',\n",
       "                        [{\"line\": {\"color\": \"rgba(255, 153, 51, 1.0)\", \"dash\": \"solid\", \"shape\": \"linear\", \"width\": 1.3}, \"mode\": \"lines\", \"name\": \"A\", \"text\": \"\", \"type\": \"scatter\", \"x\": [0, 1, 2, 3, 4, 5, 6, 7, 8, 9, 10, 11, 12, 13, 14, 15, 16, 17, 18, 19, 20, 21, 22, 23, 24, 25, 26, 27, 28, 29, 30, 31, 32, 33, 34, 35, 36, 37, 38, 39, 40, 41, 42, 43, 44, 45, 46, 47, 48, 49, 50, 51, 52, 53, 54, 55, 56, 57, 58, 59, 60, 61, 62, 63, 64, 65, 66, 67, 68, 69, 70, 71, 72, 73, 74, 75, 76, 77, 78, 79, 80, 81, 82, 83, 84, 85, 86, 87, 88, 89, 90, 91, 92, 93, 94, 95, 96, 97, 98, 99], \"y\": [-1.8375793829805152, -0.15949696869273136, 1.1310371011634441, 0.033424317827104935, -0.27266433823248903, -1.5266480612294526, 0.6406900998232502, -1.2037810103452755, 0.45766181096666353, -0.65756316944976, 1.2254607006230938, -0.49670888312590306, 0.9517977824412835, -0.4737685536624598, -0.18866034695016973, 1.7707542889792907, 0.6323242648780771, 0.12204537313043434, -1.9034920234674675, -0.04442225969249496, 0.15429995846266448, 0.7932222997650096, 2.539915784248557, -1.1930343034985709, -0.614857906207743, 1.4806568174717332, -1.8648504458226827, -0.41509780444484906, -1.5902518624107531, -1.1668716248656292, 0.7148812419826943, 0.9205412994571905, -1.0552530177997501, -1.1144495047103273, -1.4148418771042273, -0.7978844421999658, -0.7196315490672652, -0.6581896684098428, -0.003017838744859791, 1.000572700470973, 0.03907023496823878, 0.9445560069535803, -0.4370724628095535, -0.5308855796106563, 0.40885528594580445, 0.188730040054379, -0.7941436814811723, 1.9071063059377538, -0.05371617887237018, -1.2180771449054735, -0.0027625945812005813, -0.7289781761912149, -1.5148040962595313, 1.5310393005980325, 1.2115849481386265, 0.47883686689648225, -0.45499490210360916, -1.0189093313495297, -0.15728791717667132, -0.11127659476746542, 0.8690846353904871, 0.20354127289823257, -2.0630281790612797, 1.3344770773409376, -1.6200000617491879, -0.23116693293656054, -0.6755590465420752, 0.4685086761604976, 0.49494635923821795, -0.005597955485651658, 1.0885292455914743, -1.0407905089838017, -0.929490474183066, -1.015229473319679, 1.8836505311940042, 0.852998689782739, 1.0753372020989056, 1.4373344844109446, -0.03480585890954957, -0.37548221973787094, 1.5645635392346884, 1.758746465445413, -1.7330027977656584, -0.25500034465944543, -0.11760242138474251, 1.9831290035306863, -1.6781345236672671, 1.0916134309838674, -0.4986127299448885, 0.4985659415525577, 1.1762317481769409, -0.9905137465769372, -1.063065614167874, 1.242282812838642, 0.990357440665751, 3.006402504672399, 1.7946437084519817, 1.2758239575605375, 0.038206062830590415, -0.052200463798188414]}, {\"line\": {\"color\": \"rgba(55, 128, 191, 1.0)\", \"dash\": \"solid\", \"shape\": \"linear\", \"width\": 1.3}, \"mode\": \"lines\", \"name\": \"B\", \"text\": \"\", \"type\": \"scatter\", \"x\": [0, 1, 2, 3, 4, 5, 6, 7, 8, 9, 10, 11, 12, 13, 14, 15, 16, 17, 18, 19, 20, 21, 22, 23, 24, 25, 26, 27, 28, 29, 30, 31, 32, 33, 34, 35, 36, 37, 38, 39, 40, 41, 42, 43, 44, 45, 46, 47, 48, 49, 50, 51, 52, 53, 54, 55, 56, 57, 58, 59, 60, 61, 62, 63, 64, 65, 66, 67, 68, 69, 70, 71, 72, 73, 74, 75, 76, 77, 78, 79, 80, 81, 82, 83, 84, 85, 86, 87, 88, 89, 90, 91, 92, 93, 94, 95, 96, 97, 98, 99], \"y\": [1.7979066365959437, 0.46285376386792, -1.186763222985012, -1.3069987790938424, 0.2846992419759555, -0.46572268676860606, 0.37506581218122054, 0.04307716596099602, -0.10030470230806747, 0.2253581478192807, 1.5881375303218745, -0.7860510560549011, 0.0709065210939935, 1.3179919385263983, 0.1911135355144382, -0.1659826156491933, 0.1335520665302867, -1.3591338016683188, 0.6810870536812119, -0.3210353527483331, -0.9898181449092167, -1.2243689025562479, 0.9843652721650106, -1.2543373215912461, 0.8715596268958955, 1.3562385722623433, -0.2579451332063824, 0.8699716121262567, 1.248480225043317, -1.5952232935299056, -0.03397694249447452, -0.343267396460641, 0.28802212629747814, -0.8593404698722109, -0.2530951725001365, -1.1386052562784248, 0.38917661781477536, -0.9825733525869731, -0.31696837518324317, 0.7990527808015294, 1.5176967691503638, 1.410126737765439, -0.2743896134901539, -0.6929350750237689, 0.2936921575856845, 0.8254128170753967, -0.38061138001210737, -1.029983050729118, 0.5164862990891124, 0.5294226142890159, 1.3419954272688206, 0.4908184159374298, 0.49612404315739556, -1.5353261683128314, -0.23122135512542397, -0.969643060285253, -0.7905605694819513, 0.6367390711248883, -1.1584050310341727, 0.7132292476684078, 0.5512209938581333, -1.2332536027280028, 1.263445214176733, 1.0355389031994173, -0.4385948782738462, 1.2783266636003576, 0.9694074826731098, -0.5354973913133867, 0.3763906230930325, 1.0822003941489435, 0.7361046509510144, -0.4335373702666788, -0.17899964389897075, -0.3648809060196582, -0.32072220887824276, -0.02508944822472686, -0.5833657581143926, -0.3995712267987253, 0.9009130860560229, -1.4986325461576935, -1.8715391056827866, 2.8798459765859827, 0.07355556328316204, -0.022392130905374747, -1.4390151669046745, -0.12588443717729894, -0.1749203096655581, 0.5710963935160036, -0.8221985582564402, 1.1613570625458303, 0.7006283651400398, 0.028200929375390538, -1.1587338283713418, 0.18389562050698247, -0.9159351961730826, 1.912535172503708, -1.8209107037327792, -2.2563632012174306, 0.05798522639921089, -0.7234000317144638]}, {\"line\": {\"color\": \"rgba(50, 171, 96, 1.0)\", \"dash\": \"solid\", \"shape\": \"linear\", \"width\": 1.3}, \"mode\": \"lines\", \"name\": \"C\", \"text\": \"\", \"type\": \"scatter\", \"x\": [0, 1, 2, 3, 4, 5, 6, 7, 8, 9, 10, 11, 12, 13, 14, 15, 16, 17, 18, 19, 20, 21, 22, 23, 24, 25, 26, 27, 28, 29, 30, 31, 32, 33, 34, 35, 36, 37, 38, 39, 40, 41, 42, 43, 44, 45, 46, 47, 48, 49, 50, 51, 52, 53, 54, 55, 56, 57, 58, 59, 60, 61, 62, 63, 64, 65, 66, 67, 68, 69, 70, 71, 72, 73, 74, 75, 76, 77, 78, 79, 80, 81, 82, 83, 84, 85, 86, 87, 88, 89, 90, 91, 92, 93, 94, 95, 96, 97, 98, 99], \"y\": [-0.11195680488630352, 0.19813513395996601, 0.6243952583500618, 3.4636216744699926, 1.6025780971968129, -1.4842957023344758, 1.5200032468496212, -0.2631744539556295, 1.6500701251249659, -3.029823148650362, 1.0265662580499642, -0.2567714743133042, 2.457180119797221, 0.5238088696860247, 0.26209872027584513, 0.6956634102215381, -0.6875276285625027, 0.6392616577482672, 1.3351393658985924, 0.34141495490170315, -0.5659435780610622, -1.5608013996314807, 0.48786006329180565, 0.336081140259419, 1.0175981710604358, -1.0135670113619677, 0.3129251024807007, 0.09328582639040285, -0.87220153866261, 2.219797990891727, 0.3655625592140774, 0.8002282698773922, 0.5158153974877858, -0.33700303233675205, -1.2940315214203613, 1.1328240142383346, 0.10094096472141936, 1.7370875372990418, 0.1839808055476812, 1.2827729447774527, 0.01818646549473812, -0.8766507338302455, 0.11151420077033018, -1.226767964025608, 0.5925924682575862, -0.661867073821238, -0.3727916276086114, -0.35054991247657, -0.725074404132708, -0.8056579783319012, -2.370764105329452, 0.022591428355840264, 0.1701455330688707, -1.2801069400543095, 1.80983649905343, 1.3215544377183117, -0.6475697652766453, -2.878377702333487, -0.3907665880809579, -0.9491649532134488, 0.08817234504563345, 0.410923543362477, 0.2118958880439002, 0.027784440467459877, -0.3580699215915449, -2.0625597051700364, -1.0760324793561697, 0.8371078225097193, 0.5682216990227285, 0.06389082048082165, -0.9604774121864444, -1.5094374087850413, -0.9892302232683492, -0.08039240707564778, 0.4338028851904076, -0.32565578060191, -1.3588064292335826, -0.6212581022909891, -0.14729134904037633, 0.676065770331901, 0.048383080662061546, 1.1655116085226473, 0.36441634440261894, 0.13740405736192837, -0.2692124351999852, 1.0333699470883486, -1.4292425177566495, 1.3193573123226177, 0.14325005584199305, -0.6451136154829559, 1.5868146161808676, 0.3139631548592902, -1.2599371618269581, 0.6661701105361751, 0.050813451678986335, -0.16529638984939754, 1.7873956492526328, 0.6855946366040738, -0.4169361655747808, 1.1957640390301516]}, {\"line\": {\"color\": \"rgba(128, 0, 128, 1.0)\", \"dash\": \"solid\", \"shape\": \"linear\", \"width\": 1.3}, \"mode\": \"lines\", \"name\": \"D\", \"text\": \"\", \"type\": \"scatter\", \"x\": [0, 1, 2, 3, 4, 5, 6, 7, 8, 9, 10, 11, 12, 13, 14, 15, 16, 17, 18, 19, 20, 21, 22, 23, 24, 25, 26, 27, 28, 29, 30, 31, 32, 33, 34, 35, 36, 37, 38, 39, 40, 41, 42, 43, 44, 45, 46, 47, 48, 49, 50, 51, 52, 53, 54, 55, 56, 57, 58, 59, 60, 61, 62, 63, 64, 65, 66, 67, 68, 69, 70, 71, 72, 73, 74, 75, 76, 77, 78, 79, 80, 81, 82, 83, 84, 85, 86, 87, 88, 89, 90, 91, 92, 93, 94, 95, 96, 97, 98, 99], \"y\": [0.8776105999726939, -0.10918325673623544, 0.43222002504828105, 0.21168643105607898, -0.9548195681227061, -0.6582052405583847, -0.3438405764101884, 0.024985400072480204, 0.8845177708376631, 1.825785856913161, -0.28356750209844556, 0.2742762047578588, -0.6886177300532897, 0.5455626463032112, 0.5512032007015983, -0.08465280718060102, -1.5683868440841968, -2.109777683469117, 2.405134896361823, 0.9499776131789283, 0.529550183658126, -1.7435741433932503, -0.9283743006001778, 1.3966321748408201, 0.8373142928074896, 0.08189116770723855, 0.5154221849354002, -0.03439821187574808, 0.2869642638346971, -0.03845611395295513, 2.2779916916551435, 0.8367230528940887, -1.7602317632984699, -1.0902609470819251, 0.370608475722315, 0.23087291044609118, -0.9429003049634584, -0.461098739151424, 3.2211304767698223, 1.311354278181902, -1.6504354303851616, -0.6950894070767035, -0.38424297017119463, 1.4667644026261295, -0.2183733939914209, -1.2735493192721279, -0.7759015930990381, 0.8913003162757013, -0.1436722265327362, 0.8363533428070496, 0.39207836074386404, -0.15199663407635397, 0.28787773000192673, -0.4801591093253376, -0.3034078886198265, 1.7352664204007102, 0.5930378637504586, 2.4102024296351297, -0.3307829848947105, 0.0886876517645023, 1.277432516235606, 0.9019558405223357, -0.7686226225707046, -1.0990782319705044, -1.2594527794158445, -0.19837010832596924, -0.5189316931204656, -0.8051186320505203, -2.3767339874302347, 1.437999065479335, 1.1017865847557078, -1.2797434001507912, -0.3995660222486687, -0.8090871880124815, -1.6292142376945211, 0.9051799112583083, -1.0310477717438267, 0.1461910289114032, 0.15232455199932002, -0.12343962851039851, -0.24341614756844326, 0.7196652201614023, -1.2080488799693634, -0.8418013066217972, -1.2231851046757791, 1.0191435197448586, 0.8445573153614979, -0.9013918480171765, 0.6440958508132099, -0.5749211031387301, -0.44451902570747176, -0.14964556022134423, -0.2506450929917549, -1.489332270604689, 0.8837149767609971, 1.6631330486294185, 0.01675864008521639, -0.08869869279391412, -0.3375904941282858, 0.6560718655960883]}],\n",
       "                        {\"legend\": {\"bgcolor\": \"#F5F6F9\", \"font\": {\"color\": \"#4D5663\"}}, \"paper_bgcolor\": \"#F5F6F9\", \"plot_bgcolor\": \"#F5F6F9\", \"template\": {\"data\": {\"bar\": [{\"error_x\": {\"color\": \"#2a3f5f\"}, \"error_y\": {\"color\": \"#2a3f5f\"}, \"marker\": {\"line\": {\"color\": \"#E5ECF6\", \"width\": 0.5}}, \"type\": \"bar\"}], \"barpolar\": [{\"marker\": {\"line\": {\"color\": \"#E5ECF6\", \"width\": 0.5}}, \"type\": \"barpolar\"}], \"carpet\": [{\"aaxis\": {\"endlinecolor\": \"#2a3f5f\", \"gridcolor\": \"white\", \"linecolor\": \"white\", \"minorgridcolor\": \"white\", \"startlinecolor\": \"#2a3f5f\"}, \"baxis\": {\"endlinecolor\": \"#2a3f5f\", \"gridcolor\": \"white\", \"linecolor\": \"white\", \"minorgridcolor\": \"white\", \"startlinecolor\": \"#2a3f5f\"}, \"type\": \"carpet\"}], \"choropleth\": [{\"colorbar\": {\"outlinewidth\": 0, \"ticks\": \"\"}, \"type\": \"choropleth\"}], \"contour\": [{\"colorbar\": {\"outlinewidth\": 0, \"ticks\": \"\"}, \"colorscale\": [[0.0, \"#0d0887\"], [0.1111111111111111, \"#46039f\"], [0.2222222222222222, \"#7201a8\"], [0.3333333333333333, \"#9c179e\"], [0.4444444444444444, \"#bd3786\"], [0.5555555555555556, \"#d8576b\"], [0.6666666666666666, \"#ed7953\"], [0.7777777777777778, \"#fb9f3a\"], [0.8888888888888888, \"#fdca26\"], [1.0, \"#f0f921\"]], \"type\": \"contour\"}], \"contourcarpet\": [{\"colorbar\": {\"outlinewidth\": 0, \"ticks\": \"\"}, \"type\": \"contourcarpet\"}], \"heatmap\": [{\"colorbar\": {\"outlinewidth\": 0, \"ticks\": \"\"}, \"colorscale\": [[0.0, \"#0d0887\"], [0.1111111111111111, \"#46039f\"], [0.2222222222222222, \"#7201a8\"], [0.3333333333333333, \"#9c179e\"], [0.4444444444444444, \"#bd3786\"], [0.5555555555555556, \"#d8576b\"], [0.6666666666666666, \"#ed7953\"], [0.7777777777777778, \"#fb9f3a\"], [0.8888888888888888, \"#fdca26\"], [1.0, \"#f0f921\"]], \"type\": \"heatmap\"}], \"heatmapgl\": [{\"colorbar\": {\"outlinewidth\": 0, \"ticks\": \"\"}, \"colorscale\": [[0.0, \"#0d0887\"], [0.1111111111111111, \"#46039f\"], [0.2222222222222222, \"#7201a8\"], [0.3333333333333333, \"#9c179e\"], [0.4444444444444444, \"#bd3786\"], [0.5555555555555556, \"#d8576b\"], [0.6666666666666666, \"#ed7953\"], [0.7777777777777778, \"#fb9f3a\"], [0.8888888888888888, \"#fdca26\"], [1.0, \"#f0f921\"]], \"type\": \"heatmapgl\"}], \"histogram\": [{\"marker\": {\"colorbar\": {\"outlinewidth\": 0, \"ticks\": \"\"}}, \"type\": \"histogram\"}], \"histogram2d\": [{\"colorbar\": {\"outlinewidth\": 0, \"ticks\": \"\"}, \"colorscale\": [[0.0, \"#0d0887\"], [0.1111111111111111, \"#46039f\"], [0.2222222222222222, \"#7201a8\"], [0.3333333333333333, \"#9c179e\"], [0.4444444444444444, \"#bd3786\"], [0.5555555555555556, \"#d8576b\"], [0.6666666666666666, \"#ed7953\"], [0.7777777777777778, \"#fb9f3a\"], [0.8888888888888888, \"#fdca26\"], [1.0, \"#f0f921\"]], \"type\": \"histogram2d\"}], \"histogram2dcontour\": [{\"colorbar\": {\"outlinewidth\": 0, \"ticks\": \"\"}, \"colorscale\": [[0.0, \"#0d0887\"], [0.1111111111111111, \"#46039f\"], [0.2222222222222222, \"#7201a8\"], [0.3333333333333333, \"#9c179e\"], [0.4444444444444444, \"#bd3786\"], [0.5555555555555556, \"#d8576b\"], [0.6666666666666666, \"#ed7953\"], [0.7777777777777778, \"#fb9f3a\"], [0.8888888888888888, \"#fdca26\"], [1.0, \"#f0f921\"]], \"type\": \"histogram2dcontour\"}], \"mesh3d\": [{\"colorbar\": {\"outlinewidth\": 0, \"ticks\": \"\"}, \"type\": \"mesh3d\"}], \"parcoords\": [{\"line\": {\"colorbar\": {\"outlinewidth\": 0, \"ticks\": \"\"}}, \"type\": \"parcoords\"}], \"pie\": [{\"automargin\": true, \"type\": \"pie\"}], \"scatter\": [{\"marker\": {\"colorbar\": {\"outlinewidth\": 0, \"ticks\": \"\"}}, \"type\": \"scatter\"}], \"scatter3d\": [{\"line\": {\"colorbar\": {\"outlinewidth\": 0, \"ticks\": \"\"}}, \"marker\": {\"colorbar\": {\"outlinewidth\": 0, \"ticks\": \"\"}}, \"type\": \"scatter3d\"}], \"scattercarpet\": [{\"marker\": {\"colorbar\": {\"outlinewidth\": 0, \"ticks\": \"\"}}, \"type\": \"scattercarpet\"}], \"scattergeo\": [{\"marker\": {\"colorbar\": {\"outlinewidth\": 0, \"ticks\": \"\"}}, \"type\": \"scattergeo\"}], \"scattergl\": [{\"marker\": {\"colorbar\": {\"outlinewidth\": 0, \"ticks\": \"\"}}, \"type\": \"scattergl\"}], \"scattermapbox\": [{\"marker\": {\"colorbar\": {\"outlinewidth\": 0, \"ticks\": \"\"}}, \"type\": \"scattermapbox\"}], \"scatterpolar\": [{\"marker\": {\"colorbar\": {\"outlinewidth\": 0, \"ticks\": \"\"}}, \"type\": \"scatterpolar\"}], \"scatterpolargl\": [{\"marker\": {\"colorbar\": {\"outlinewidth\": 0, \"ticks\": \"\"}}, \"type\": \"scatterpolargl\"}], \"scatterternary\": [{\"marker\": {\"colorbar\": {\"outlinewidth\": 0, \"ticks\": \"\"}}, \"type\": \"scatterternary\"}], \"surface\": [{\"colorbar\": {\"outlinewidth\": 0, \"ticks\": \"\"}, \"colorscale\": [[0.0, \"#0d0887\"], [0.1111111111111111, \"#46039f\"], [0.2222222222222222, \"#7201a8\"], [0.3333333333333333, \"#9c179e\"], [0.4444444444444444, \"#bd3786\"], [0.5555555555555556, \"#d8576b\"], [0.6666666666666666, \"#ed7953\"], [0.7777777777777778, \"#fb9f3a\"], [0.8888888888888888, \"#fdca26\"], [1.0, \"#f0f921\"]], \"type\": \"surface\"}], \"table\": [{\"cells\": {\"fill\": {\"color\": \"#EBF0F8\"}, \"line\": {\"color\": \"white\"}}, \"header\": {\"fill\": {\"color\": \"#C8D4E3\"}, \"line\": {\"color\": \"white\"}}, \"type\": \"table\"}]}, \"layout\": {\"annotationdefaults\": {\"arrowcolor\": \"#2a3f5f\", \"arrowhead\": 0, \"arrowwidth\": 1}, \"coloraxis\": {\"colorbar\": {\"outlinewidth\": 0, \"ticks\": \"\"}}, \"colorscale\": {\"diverging\": [[0, \"#8e0152\"], [0.1, \"#c51b7d\"], [0.2, \"#de77ae\"], [0.3, \"#f1b6da\"], [0.4, \"#fde0ef\"], [0.5, \"#f7f7f7\"], [0.6, \"#e6f5d0\"], [0.7, \"#b8e186\"], [0.8, \"#7fbc41\"], [0.9, \"#4d9221\"], [1, \"#276419\"]], \"sequential\": [[0.0, \"#0d0887\"], [0.1111111111111111, \"#46039f\"], [0.2222222222222222, \"#7201a8\"], [0.3333333333333333, \"#9c179e\"], [0.4444444444444444, \"#bd3786\"], [0.5555555555555556, \"#d8576b\"], [0.6666666666666666, \"#ed7953\"], [0.7777777777777778, \"#fb9f3a\"], [0.8888888888888888, \"#fdca26\"], [1.0, \"#f0f921\"]], \"sequentialminus\": [[0.0, \"#0d0887\"], [0.1111111111111111, \"#46039f\"], [0.2222222222222222, \"#7201a8\"], [0.3333333333333333, \"#9c179e\"], [0.4444444444444444, \"#bd3786\"], [0.5555555555555556, \"#d8576b\"], [0.6666666666666666, \"#ed7953\"], [0.7777777777777778, \"#fb9f3a\"], [0.8888888888888888, \"#fdca26\"], [1.0, \"#f0f921\"]]}, \"colorway\": [\"#636efa\", \"#EF553B\", \"#00cc96\", \"#ab63fa\", \"#FFA15A\", \"#19d3f3\", \"#FF6692\", \"#B6E880\", \"#FF97FF\", \"#FECB52\"], \"font\": {\"color\": \"#2a3f5f\"}, \"geo\": {\"bgcolor\": \"white\", \"lakecolor\": \"white\", \"landcolor\": \"#E5ECF6\", \"showlakes\": true, \"showland\": true, \"subunitcolor\": \"white\"}, \"hoverlabel\": {\"align\": \"left\"}, \"hovermode\": \"closest\", \"mapbox\": {\"style\": \"light\"}, \"paper_bgcolor\": \"white\", \"plot_bgcolor\": \"#E5ECF6\", \"polar\": {\"angularaxis\": {\"gridcolor\": \"white\", \"linecolor\": \"white\", \"ticks\": \"\"}, \"bgcolor\": \"#E5ECF6\", \"radialaxis\": {\"gridcolor\": \"white\", \"linecolor\": \"white\", \"ticks\": \"\"}}, \"scene\": {\"xaxis\": {\"backgroundcolor\": \"#E5ECF6\", \"gridcolor\": \"white\", \"gridwidth\": 2, \"linecolor\": \"white\", \"showbackground\": true, \"ticks\": \"\", \"zerolinecolor\": \"white\"}, \"yaxis\": {\"backgroundcolor\": \"#E5ECF6\", \"gridcolor\": \"white\", \"gridwidth\": 2, \"linecolor\": \"white\", \"showbackground\": true, \"ticks\": \"\", \"zerolinecolor\": \"white\"}, \"zaxis\": {\"backgroundcolor\": \"#E5ECF6\", \"gridcolor\": \"white\", \"gridwidth\": 2, \"linecolor\": \"white\", \"showbackground\": true, \"ticks\": \"\", \"zerolinecolor\": \"white\"}}, \"shapedefaults\": {\"line\": {\"color\": \"#2a3f5f\"}}, \"ternary\": {\"aaxis\": {\"gridcolor\": \"white\", \"linecolor\": \"white\", \"ticks\": \"\"}, \"baxis\": {\"gridcolor\": \"white\", \"linecolor\": \"white\", \"ticks\": \"\"}, \"bgcolor\": \"#E5ECF6\", \"caxis\": {\"gridcolor\": \"white\", \"linecolor\": \"white\", \"ticks\": \"\"}}, \"title\": {\"x\": 0.05}, \"xaxis\": {\"automargin\": true, \"gridcolor\": \"white\", \"linecolor\": \"white\", \"ticks\": \"\", \"title\": {\"standoff\": 15}, \"zerolinecolor\": \"white\", \"zerolinewidth\": 2}, \"yaxis\": {\"automargin\": true, \"gridcolor\": \"white\", \"linecolor\": \"white\", \"ticks\": \"\", \"title\": {\"standoff\": 15}, \"zerolinecolor\": \"white\", \"zerolinewidth\": 2}}}, \"title\": {\"font\": {\"color\": \"#4D5663\"}}, \"xaxis\": {\"gridcolor\": \"#E1E5ED\", \"showgrid\": true, \"tickfont\": {\"color\": \"#4D5663\"}, \"title\": {\"font\": {\"color\": \"#4D5663\"}, \"text\": \"\"}, \"zerolinecolor\": \"#E1E5ED\"}, \"yaxis\": {\"gridcolor\": \"#E1E5ED\", \"showgrid\": true, \"tickfont\": {\"color\": \"#4D5663\"}, \"title\": {\"font\": {\"color\": \"#4D5663\"}, \"text\": \"\"}, \"zerolinecolor\": \"#E1E5ED\"}},\n",
       "                        {\"showLink\": true, \"linkText\": \"Export to plot.ly\", \"plotlyServerURL\": \"https://plot.ly\", \"responsive\": true}\n",
       "                    ).then(function(){\n",
       "                            \n",
       "var gd = document.getElementById('9c53715a-0006-47e6-aaa1-ea761b2d9c5f');\n",
       "var x = new MutationObserver(function (mutations, observer) {{\n",
       "        var display = window.getComputedStyle(gd).display;\n",
       "        if (!display || display === 'none') {{\n",
       "            console.log([gd, 'removed!']);\n",
       "            Plotly.purge(gd);\n",
       "            observer.disconnect();\n",
       "        }}\n",
       "}});\n",
       "\n",
       "// Listen for the removal of the full notebook cells\n",
       "var notebookContainer = gd.closest('#notebook-container');\n",
       "if (notebookContainer) {{\n",
       "    x.observe(notebookContainer, {childList: true});\n",
       "}}\n",
       "\n",
       "// Listen for the clearing of the current output cell\n",
       "var outputEl = gd.closest('.output');\n",
       "if (outputEl) {{\n",
       "    x.observe(outputEl, {childList: true});\n",
       "}}\n",
       "\n",
       "                        })\n",
       "                };\n",
       "                });\n",
       "            </script>\n",
       "        </div>"
      ]
     },
     "metadata": {},
     "output_type": "display_data"
    }
   ],
   "source": [
    "# Adding an 'i' to Pandas' built-in visualization makes it interactive\n",
    "df.iplot()"
   ]
  },
  {
   "cell_type": "code",
   "execution_count": 13,
   "metadata": {},
   "outputs": [
    {
     "data": {
      "application/vnd.plotly.v1+json": {
       "config": {
        "linkText": "Export to plot.ly",
        "plotlyServerURL": "https://plot.ly",
        "showLink": true
       },
       "data": [
        {
         "line": {
          "color": "rgba(255, 153, 51, 1.0)",
          "dash": "solid",
          "shape": "linear",
          "width": 1.3
         },
         "mode": "lines",
         "name": "B",
         "text": "",
         "type": "scatter",
         "x": [
          -1.8375793829805152,
          -0.15949696869273136,
          1.1310371011634441,
          0.033424317827104935,
          -0.27266433823248903,
          -1.5266480612294526,
          0.6406900998232502,
          -1.2037810103452755,
          0.45766181096666353,
          -0.65756316944976,
          1.2254607006230938,
          -0.49670888312590306,
          0.9517977824412835,
          -0.4737685536624598,
          -0.18866034695016973,
          1.7707542889792907,
          0.6323242648780771,
          0.12204537313043434,
          -1.9034920234674675,
          -0.04442225969249496,
          0.15429995846266448,
          0.7932222997650096,
          2.539915784248557,
          -1.1930343034985709,
          -0.614857906207743,
          1.4806568174717332,
          -1.8648504458226827,
          -0.41509780444484906,
          -1.5902518624107531,
          -1.1668716248656292,
          0.7148812419826943,
          0.9205412994571905,
          -1.0552530177997501,
          -1.1144495047103273,
          -1.4148418771042273,
          -0.7978844421999658,
          -0.7196315490672652,
          -0.6581896684098428,
          -0.003017838744859791,
          1.000572700470973,
          0.03907023496823878,
          0.9445560069535803,
          -0.4370724628095535,
          -0.5308855796106563,
          0.40885528594580445,
          0.188730040054379,
          -0.7941436814811723,
          1.9071063059377538,
          -0.05371617887237018,
          -1.2180771449054735,
          -0.0027625945812005813,
          -0.7289781761912149,
          -1.5148040962595313,
          1.5310393005980325,
          1.2115849481386265,
          0.47883686689648225,
          -0.45499490210360916,
          -1.0189093313495297,
          -0.15728791717667132,
          -0.11127659476746542,
          0.8690846353904871,
          0.20354127289823257,
          -2.0630281790612797,
          1.3344770773409376,
          -1.6200000617491879,
          -0.23116693293656054,
          -0.6755590465420752,
          0.4685086761604976,
          0.49494635923821795,
          -0.005597955485651658,
          1.0885292455914743,
          -1.0407905089838017,
          -0.929490474183066,
          -1.015229473319679,
          1.8836505311940042,
          0.852998689782739,
          1.0753372020989056,
          1.4373344844109446,
          -0.03480585890954957,
          -0.37548221973787094,
          1.5645635392346884,
          1.758746465445413,
          -1.7330027977656584,
          -0.25500034465944543,
          -0.11760242138474251,
          1.9831290035306863,
          -1.6781345236672671,
          1.0916134309838674,
          -0.4986127299448885,
          0.4985659415525577,
          1.1762317481769409,
          -0.9905137465769372,
          -1.063065614167874,
          1.242282812838642,
          0.990357440665751,
          3.006402504672399,
          1.7946437084519817,
          1.2758239575605375,
          0.038206062830590415,
          -0.052200463798188414
         ],
         "y": [
          1.7979066365959437,
          0.46285376386792,
          -1.186763222985012,
          -1.3069987790938424,
          0.2846992419759555,
          -0.46572268676860606,
          0.37506581218122054,
          0.04307716596099602,
          -0.10030470230806747,
          0.2253581478192807,
          1.5881375303218745,
          -0.7860510560549011,
          0.0709065210939935,
          1.3179919385263983,
          0.1911135355144382,
          -0.1659826156491933,
          0.1335520665302867,
          -1.3591338016683188,
          0.6810870536812119,
          -0.3210353527483331,
          -0.9898181449092167,
          -1.2243689025562479,
          0.9843652721650106,
          -1.2543373215912461,
          0.8715596268958955,
          1.3562385722623433,
          -0.2579451332063824,
          0.8699716121262567,
          1.248480225043317,
          -1.5952232935299056,
          -0.03397694249447452,
          -0.343267396460641,
          0.28802212629747814,
          -0.8593404698722109,
          -0.2530951725001365,
          -1.1386052562784248,
          0.38917661781477536,
          -0.9825733525869731,
          -0.31696837518324317,
          0.7990527808015294,
          1.5176967691503638,
          1.410126737765439,
          -0.2743896134901539,
          -0.6929350750237689,
          0.2936921575856845,
          0.8254128170753967,
          -0.38061138001210737,
          -1.029983050729118,
          0.5164862990891124,
          0.5294226142890159,
          1.3419954272688206,
          0.4908184159374298,
          0.49612404315739556,
          -1.5353261683128314,
          -0.23122135512542397,
          -0.969643060285253,
          -0.7905605694819513,
          0.6367390711248883,
          -1.1584050310341727,
          0.7132292476684078,
          0.5512209938581333,
          -1.2332536027280028,
          1.263445214176733,
          1.0355389031994173,
          -0.4385948782738462,
          1.2783266636003576,
          0.9694074826731098,
          -0.5354973913133867,
          0.3763906230930325,
          1.0822003941489435,
          0.7361046509510144,
          -0.4335373702666788,
          -0.17899964389897075,
          -0.3648809060196582,
          -0.32072220887824276,
          -0.02508944822472686,
          -0.5833657581143926,
          -0.3995712267987253,
          0.9009130860560229,
          -1.4986325461576935,
          -1.8715391056827866,
          2.8798459765859827,
          0.07355556328316204,
          -0.022392130905374747,
          -1.4390151669046745,
          -0.12588443717729894,
          -0.1749203096655581,
          0.5710963935160036,
          -0.8221985582564402,
          1.1613570625458303,
          0.7006283651400398,
          0.028200929375390538,
          -1.1587338283713418,
          0.18389562050698247,
          -0.9159351961730826,
          1.912535172503708,
          -1.8209107037327792,
          -2.2563632012174306,
          0.05798522639921089,
          -0.7234000317144638
         ]
        }
       ],
       "layout": {
        "legend": {
         "bgcolor": "#F5F6F9",
         "font": {
          "color": "#4D5663"
         }
        },
        "paper_bgcolor": "#F5F6F9",
        "plot_bgcolor": "#F5F6F9",
        "template": {
         "data": {
          "bar": [
           {
            "error_x": {
             "color": "#2a3f5f"
            },
            "error_y": {
             "color": "#2a3f5f"
            },
            "marker": {
             "line": {
              "color": "#E5ECF6",
              "width": 0.5
             }
            },
            "type": "bar"
           }
          ],
          "barpolar": [
           {
            "marker": {
             "line": {
              "color": "#E5ECF6",
              "width": 0.5
             }
            },
            "type": "barpolar"
           }
          ],
          "carpet": [
           {
            "aaxis": {
             "endlinecolor": "#2a3f5f",
             "gridcolor": "white",
             "linecolor": "white",
             "minorgridcolor": "white",
             "startlinecolor": "#2a3f5f"
            },
            "baxis": {
             "endlinecolor": "#2a3f5f",
             "gridcolor": "white",
             "linecolor": "white",
             "minorgridcolor": "white",
             "startlinecolor": "#2a3f5f"
            },
            "type": "carpet"
           }
          ],
          "choropleth": [
           {
            "colorbar": {
             "outlinewidth": 0,
             "ticks": ""
            },
            "type": "choropleth"
           }
          ],
          "contour": [
           {
            "colorbar": {
             "outlinewidth": 0,
             "ticks": ""
            },
            "colorscale": [
             [
              0,
              "#0d0887"
             ],
             [
              0.1111111111111111,
              "#46039f"
             ],
             [
              0.2222222222222222,
              "#7201a8"
             ],
             [
              0.3333333333333333,
              "#9c179e"
             ],
             [
              0.4444444444444444,
              "#bd3786"
             ],
             [
              0.5555555555555556,
              "#d8576b"
             ],
             [
              0.6666666666666666,
              "#ed7953"
             ],
             [
              0.7777777777777778,
              "#fb9f3a"
             ],
             [
              0.8888888888888888,
              "#fdca26"
             ],
             [
              1,
              "#f0f921"
             ]
            ],
            "type": "contour"
           }
          ],
          "contourcarpet": [
           {
            "colorbar": {
             "outlinewidth": 0,
             "ticks": ""
            },
            "type": "contourcarpet"
           }
          ],
          "heatmap": [
           {
            "colorbar": {
             "outlinewidth": 0,
             "ticks": ""
            },
            "colorscale": [
             [
              0,
              "#0d0887"
             ],
             [
              0.1111111111111111,
              "#46039f"
             ],
             [
              0.2222222222222222,
              "#7201a8"
             ],
             [
              0.3333333333333333,
              "#9c179e"
             ],
             [
              0.4444444444444444,
              "#bd3786"
             ],
             [
              0.5555555555555556,
              "#d8576b"
             ],
             [
              0.6666666666666666,
              "#ed7953"
             ],
             [
              0.7777777777777778,
              "#fb9f3a"
             ],
             [
              0.8888888888888888,
              "#fdca26"
             ],
             [
              1,
              "#f0f921"
             ]
            ],
            "type": "heatmap"
           }
          ],
          "heatmapgl": [
           {
            "colorbar": {
             "outlinewidth": 0,
             "ticks": ""
            },
            "colorscale": [
             [
              0,
              "#0d0887"
             ],
             [
              0.1111111111111111,
              "#46039f"
             ],
             [
              0.2222222222222222,
              "#7201a8"
             ],
             [
              0.3333333333333333,
              "#9c179e"
             ],
             [
              0.4444444444444444,
              "#bd3786"
             ],
             [
              0.5555555555555556,
              "#d8576b"
             ],
             [
              0.6666666666666666,
              "#ed7953"
             ],
             [
              0.7777777777777778,
              "#fb9f3a"
             ],
             [
              0.8888888888888888,
              "#fdca26"
             ],
             [
              1,
              "#f0f921"
             ]
            ],
            "type": "heatmapgl"
           }
          ],
          "histogram": [
           {
            "marker": {
             "colorbar": {
              "outlinewidth": 0,
              "ticks": ""
             }
            },
            "type": "histogram"
           }
          ],
          "histogram2d": [
           {
            "colorbar": {
             "outlinewidth": 0,
             "ticks": ""
            },
            "colorscale": [
             [
              0,
              "#0d0887"
             ],
             [
              0.1111111111111111,
              "#46039f"
             ],
             [
              0.2222222222222222,
              "#7201a8"
             ],
             [
              0.3333333333333333,
              "#9c179e"
             ],
             [
              0.4444444444444444,
              "#bd3786"
             ],
             [
              0.5555555555555556,
              "#d8576b"
             ],
             [
              0.6666666666666666,
              "#ed7953"
             ],
             [
              0.7777777777777778,
              "#fb9f3a"
             ],
             [
              0.8888888888888888,
              "#fdca26"
             ],
             [
              1,
              "#f0f921"
             ]
            ],
            "type": "histogram2d"
           }
          ],
          "histogram2dcontour": [
           {
            "colorbar": {
             "outlinewidth": 0,
             "ticks": ""
            },
            "colorscale": [
             [
              0,
              "#0d0887"
             ],
             [
              0.1111111111111111,
              "#46039f"
             ],
             [
              0.2222222222222222,
              "#7201a8"
             ],
             [
              0.3333333333333333,
              "#9c179e"
             ],
             [
              0.4444444444444444,
              "#bd3786"
             ],
             [
              0.5555555555555556,
              "#d8576b"
             ],
             [
              0.6666666666666666,
              "#ed7953"
             ],
             [
              0.7777777777777778,
              "#fb9f3a"
             ],
             [
              0.8888888888888888,
              "#fdca26"
             ],
             [
              1,
              "#f0f921"
             ]
            ],
            "type": "histogram2dcontour"
           }
          ],
          "mesh3d": [
           {
            "colorbar": {
             "outlinewidth": 0,
             "ticks": ""
            },
            "type": "mesh3d"
           }
          ],
          "parcoords": [
           {
            "line": {
             "colorbar": {
              "outlinewidth": 0,
              "ticks": ""
             }
            },
            "type": "parcoords"
           }
          ],
          "pie": [
           {
            "automargin": true,
            "type": "pie"
           }
          ],
          "scatter": [
           {
            "marker": {
             "colorbar": {
              "outlinewidth": 0,
              "ticks": ""
             }
            },
            "type": "scatter"
           }
          ],
          "scatter3d": [
           {
            "line": {
             "colorbar": {
              "outlinewidth": 0,
              "ticks": ""
             }
            },
            "marker": {
             "colorbar": {
              "outlinewidth": 0,
              "ticks": ""
             }
            },
            "type": "scatter3d"
           }
          ],
          "scattercarpet": [
           {
            "marker": {
             "colorbar": {
              "outlinewidth": 0,
              "ticks": ""
             }
            },
            "type": "scattercarpet"
           }
          ],
          "scattergeo": [
           {
            "marker": {
             "colorbar": {
              "outlinewidth": 0,
              "ticks": ""
             }
            },
            "type": "scattergeo"
           }
          ],
          "scattergl": [
           {
            "marker": {
             "colorbar": {
              "outlinewidth": 0,
              "ticks": ""
             }
            },
            "type": "scattergl"
           }
          ],
          "scattermapbox": [
           {
            "marker": {
             "colorbar": {
              "outlinewidth": 0,
              "ticks": ""
             }
            },
            "type": "scattermapbox"
           }
          ],
          "scatterpolar": [
           {
            "marker": {
             "colorbar": {
              "outlinewidth": 0,
              "ticks": ""
             }
            },
            "type": "scatterpolar"
           }
          ],
          "scatterpolargl": [
           {
            "marker": {
             "colorbar": {
              "outlinewidth": 0,
              "ticks": ""
             }
            },
            "type": "scatterpolargl"
           }
          ],
          "scatterternary": [
           {
            "marker": {
             "colorbar": {
              "outlinewidth": 0,
              "ticks": ""
             }
            },
            "type": "scatterternary"
           }
          ],
          "surface": [
           {
            "colorbar": {
             "outlinewidth": 0,
             "ticks": ""
            },
            "colorscale": [
             [
              0,
              "#0d0887"
             ],
             [
              0.1111111111111111,
              "#46039f"
             ],
             [
              0.2222222222222222,
              "#7201a8"
             ],
             [
              0.3333333333333333,
              "#9c179e"
             ],
             [
              0.4444444444444444,
              "#bd3786"
             ],
             [
              0.5555555555555556,
              "#d8576b"
             ],
             [
              0.6666666666666666,
              "#ed7953"
             ],
             [
              0.7777777777777778,
              "#fb9f3a"
             ],
             [
              0.8888888888888888,
              "#fdca26"
             ],
             [
              1,
              "#f0f921"
             ]
            ],
            "type": "surface"
           }
          ],
          "table": [
           {
            "cells": {
             "fill": {
              "color": "#EBF0F8"
             },
             "line": {
              "color": "white"
             }
            },
            "header": {
             "fill": {
              "color": "#C8D4E3"
             },
             "line": {
              "color": "white"
             }
            },
            "type": "table"
           }
          ]
         },
         "layout": {
          "annotationdefaults": {
           "arrowcolor": "#2a3f5f",
           "arrowhead": 0,
           "arrowwidth": 1
          },
          "coloraxis": {
           "colorbar": {
            "outlinewidth": 0,
            "ticks": ""
           }
          },
          "colorscale": {
           "diverging": [
            [
             0,
             "#8e0152"
            ],
            [
             0.1,
             "#c51b7d"
            ],
            [
             0.2,
             "#de77ae"
            ],
            [
             0.3,
             "#f1b6da"
            ],
            [
             0.4,
             "#fde0ef"
            ],
            [
             0.5,
             "#f7f7f7"
            ],
            [
             0.6,
             "#e6f5d0"
            ],
            [
             0.7,
             "#b8e186"
            ],
            [
             0.8,
             "#7fbc41"
            ],
            [
             0.9,
             "#4d9221"
            ],
            [
             1,
             "#276419"
            ]
           ],
           "sequential": [
            [
             0,
             "#0d0887"
            ],
            [
             0.1111111111111111,
             "#46039f"
            ],
            [
             0.2222222222222222,
             "#7201a8"
            ],
            [
             0.3333333333333333,
             "#9c179e"
            ],
            [
             0.4444444444444444,
             "#bd3786"
            ],
            [
             0.5555555555555556,
             "#d8576b"
            ],
            [
             0.6666666666666666,
             "#ed7953"
            ],
            [
             0.7777777777777778,
             "#fb9f3a"
            ],
            [
             0.8888888888888888,
             "#fdca26"
            ],
            [
             1,
             "#f0f921"
            ]
           ],
           "sequentialminus": [
            [
             0,
             "#0d0887"
            ],
            [
             0.1111111111111111,
             "#46039f"
            ],
            [
             0.2222222222222222,
             "#7201a8"
            ],
            [
             0.3333333333333333,
             "#9c179e"
            ],
            [
             0.4444444444444444,
             "#bd3786"
            ],
            [
             0.5555555555555556,
             "#d8576b"
            ],
            [
             0.6666666666666666,
             "#ed7953"
            ],
            [
             0.7777777777777778,
             "#fb9f3a"
            ],
            [
             0.8888888888888888,
             "#fdca26"
            ],
            [
             1,
             "#f0f921"
            ]
           ]
          },
          "colorway": [
           "#636efa",
           "#EF553B",
           "#00cc96",
           "#ab63fa",
           "#FFA15A",
           "#19d3f3",
           "#FF6692",
           "#B6E880",
           "#FF97FF",
           "#FECB52"
          ],
          "font": {
           "color": "#2a3f5f"
          },
          "geo": {
           "bgcolor": "white",
           "lakecolor": "white",
           "landcolor": "#E5ECF6",
           "showlakes": true,
           "showland": true,
           "subunitcolor": "white"
          },
          "hoverlabel": {
           "align": "left"
          },
          "hovermode": "closest",
          "mapbox": {
           "style": "light"
          },
          "paper_bgcolor": "white",
          "plot_bgcolor": "#E5ECF6",
          "polar": {
           "angularaxis": {
            "gridcolor": "white",
            "linecolor": "white",
            "ticks": ""
           },
           "bgcolor": "#E5ECF6",
           "radialaxis": {
            "gridcolor": "white",
            "linecolor": "white",
            "ticks": ""
           }
          },
          "scene": {
           "xaxis": {
            "backgroundcolor": "#E5ECF6",
            "gridcolor": "white",
            "gridwidth": 2,
            "linecolor": "white",
            "showbackground": true,
            "ticks": "",
            "zerolinecolor": "white"
           },
           "yaxis": {
            "backgroundcolor": "#E5ECF6",
            "gridcolor": "white",
            "gridwidth": 2,
            "linecolor": "white",
            "showbackground": true,
            "ticks": "",
            "zerolinecolor": "white"
           },
           "zaxis": {
            "backgroundcolor": "#E5ECF6",
            "gridcolor": "white",
            "gridwidth": 2,
            "linecolor": "white",
            "showbackground": true,
            "ticks": "",
            "zerolinecolor": "white"
           }
          },
          "shapedefaults": {
           "line": {
            "color": "#2a3f5f"
           }
          },
          "ternary": {
           "aaxis": {
            "gridcolor": "white",
            "linecolor": "white",
            "ticks": ""
           },
           "baxis": {
            "gridcolor": "white",
            "linecolor": "white",
            "ticks": ""
           },
           "bgcolor": "#E5ECF6",
           "caxis": {
            "gridcolor": "white",
            "linecolor": "white",
            "ticks": ""
           }
          },
          "title": {
           "x": 0.05
          },
          "xaxis": {
           "automargin": true,
           "gridcolor": "white",
           "linecolor": "white",
           "ticks": "",
           "title": {
            "standoff": 15
           },
           "zerolinecolor": "white",
           "zerolinewidth": 2
          },
          "yaxis": {
           "automargin": true,
           "gridcolor": "white",
           "linecolor": "white",
           "ticks": "",
           "title": {
            "standoff": 15
           },
           "zerolinecolor": "white",
           "zerolinewidth": 2
          }
         }
        },
        "title": {
         "font": {
          "color": "#4D5663"
         }
        },
        "xaxis": {
         "gridcolor": "#E1E5ED",
         "showgrid": true,
         "tickfont": {
          "color": "#4D5663"
         },
         "title": {
          "font": {
           "color": "#4D5663"
          },
          "text": ""
         },
         "zerolinecolor": "#E1E5ED"
        },
        "yaxis": {
         "gridcolor": "#E1E5ED",
         "showgrid": true,
         "tickfont": {
          "color": "#4D5663"
         },
         "title": {
          "font": {
           "color": "#4D5663"
          },
          "text": ""
         },
         "zerolinecolor": "#E1E5ED"
        }
       }
      },
      "text/html": [
       "<div>\n",
       "        \n",
       "        \n",
       "            <div id=\"6b0183a5-4899-4f29-a355-48cf8a27b80f\" class=\"plotly-graph-div\" style=\"height:525px; width:100%;\"></div>\n",
       "            <script type=\"text/javascript\">\n",
       "                require([\"plotly\"], function(Plotly) {\n",
       "                    window.PLOTLYENV=window.PLOTLYENV || {};\n",
       "                    window.PLOTLYENV.BASE_URL='https://plot.ly';\n",
       "                    \n",
       "                if (document.getElementById(\"6b0183a5-4899-4f29-a355-48cf8a27b80f\")) {\n",
       "                    Plotly.newPlot(\n",
       "                        '6b0183a5-4899-4f29-a355-48cf8a27b80f',\n",
       "                        [{\"line\": {\"color\": \"rgba(255, 153, 51, 1.0)\", \"dash\": \"solid\", \"shape\": \"linear\", \"width\": 1.3}, \"mode\": \"lines\", \"name\": \"B\", \"text\": \"\", \"type\": \"scatter\", \"x\": [-1.8375793829805152, -0.15949696869273136, 1.1310371011634441, 0.033424317827104935, -0.27266433823248903, -1.5266480612294526, 0.6406900998232502, -1.2037810103452755, 0.45766181096666353, -0.65756316944976, 1.2254607006230938, -0.49670888312590306, 0.9517977824412835, -0.4737685536624598, -0.18866034695016973, 1.7707542889792907, 0.6323242648780771, 0.12204537313043434, -1.9034920234674675, -0.04442225969249496, 0.15429995846266448, 0.7932222997650096, 2.539915784248557, -1.1930343034985709, -0.614857906207743, 1.4806568174717332, -1.8648504458226827, -0.41509780444484906, -1.5902518624107531, -1.1668716248656292, 0.7148812419826943, 0.9205412994571905, -1.0552530177997501, -1.1144495047103273, -1.4148418771042273, -0.7978844421999658, -0.7196315490672652, -0.6581896684098428, -0.003017838744859791, 1.000572700470973, 0.03907023496823878, 0.9445560069535803, -0.4370724628095535, -0.5308855796106563, 0.40885528594580445, 0.188730040054379, -0.7941436814811723, 1.9071063059377538, -0.05371617887237018, -1.2180771449054735, -0.0027625945812005813, -0.7289781761912149, -1.5148040962595313, 1.5310393005980325, 1.2115849481386265, 0.47883686689648225, -0.45499490210360916, -1.0189093313495297, -0.15728791717667132, -0.11127659476746542, 0.8690846353904871, 0.20354127289823257, -2.0630281790612797, 1.3344770773409376, -1.6200000617491879, -0.23116693293656054, -0.6755590465420752, 0.4685086761604976, 0.49494635923821795, -0.005597955485651658, 1.0885292455914743, -1.0407905089838017, -0.929490474183066, -1.015229473319679, 1.8836505311940042, 0.852998689782739, 1.0753372020989056, 1.4373344844109446, -0.03480585890954957, -0.37548221973787094, 1.5645635392346884, 1.758746465445413, -1.7330027977656584, -0.25500034465944543, -0.11760242138474251, 1.9831290035306863, -1.6781345236672671, 1.0916134309838674, -0.4986127299448885, 0.4985659415525577, 1.1762317481769409, -0.9905137465769372, -1.063065614167874, 1.242282812838642, 0.990357440665751, 3.006402504672399, 1.7946437084519817, 1.2758239575605375, 0.038206062830590415, -0.052200463798188414], \"y\": [1.7979066365959437, 0.46285376386792, -1.186763222985012, -1.3069987790938424, 0.2846992419759555, -0.46572268676860606, 0.37506581218122054, 0.04307716596099602, -0.10030470230806747, 0.2253581478192807, 1.5881375303218745, -0.7860510560549011, 0.0709065210939935, 1.3179919385263983, 0.1911135355144382, -0.1659826156491933, 0.1335520665302867, -1.3591338016683188, 0.6810870536812119, -0.3210353527483331, -0.9898181449092167, -1.2243689025562479, 0.9843652721650106, -1.2543373215912461, 0.8715596268958955, 1.3562385722623433, -0.2579451332063824, 0.8699716121262567, 1.248480225043317, -1.5952232935299056, -0.03397694249447452, -0.343267396460641, 0.28802212629747814, -0.8593404698722109, -0.2530951725001365, -1.1386052562784248, 0.38917661781477536, -0.9825733525869731, -0.31696837518324317, 0.7990527808015294, 1.5176967691503638, 1.410126737765439, -0.2743896134901539, -0.6929350750237689, 0.2936921575856845, 0.8254128170753967, -0.38061138001210737, -1.029983050729118, 0.5164862990891124, 0.5294226142890159, 1.3419954272688206, 0.4908184159374298, 0.49612404315739556, -1.5353261683128314, -0.23122135512542397, -0.969643060285253, -0.7905605694819513, 0.6367390711248883, -1.1584050310341727, 0.7132292476684078, 0.5512209938581333, -1.2332536027280028, 1.263445214176733, 1.0355389031994173, -0.4385948782738462, 1.2783266636003576, 0.9694074826731098, -0.5354973913133867, 0.3763906230930325, 1.0822003941489435, 0.7361046509510144, -0.4335373702666788, -0.17899964389897075, -0.3648809060196582, -0.32072220887824276, -0.02508944822472686, -0.5833657581143926, -0.3995712267987253, 0.9009130860560229, -1.4986325461576935, -1.8715391056827866, 2.8798459765859827, 0.07355556328316204, -0.022392130905374747, -1.4390151669046745, -0.12588443717729894, -0.1749203096655581, 0.5710963935160036, -0.8221985582564402, 1.1613570625458303, 0.7006283651400398, 0.028200929375390538, -1.1587338283713418, 0.18389562050698247, -0.9159351961730826, 1.912535172503708, -1.8209107037327792, -2.2563632012174306, 0.05798522639921089, -0.7234000317144638]}],\n",
       "                        {\"legend\": {\"bgcolor\": \"#F5F6F9\", \"font\": {\"color\": \"#4D5663\"}}, \"paper_bgcolor\": \"#F5F6F9\", \"plot_bgcolor\": \"#F5F6F9\", \"template\": {\"data\": {\"bar\": [{\"error_x\": {\"color\": \"#2a3f5f\"}, \"error_y\": {\"color\": \"#2a3f5f\"}, \"marker\": {\"line\": {\"color\": \"#E5ECF6\", \"width\": 0.5}}, \"type\": \"bar\"}], \"barpolar\": [{\"marker\": {\"line\": {\"color\": \"#E5ECF6\", \"width\": 0.5}}, \"type\": \"barpolar\"}], \"carpet\": [{\"aaxis\": {\"endlinecolor\": \"#2a3f5f\", \"gridcolor\": \"white\", \"linecolor\": \"white\", \"minorgridcolor\": \"white\", \"startlinecolor\": \"#2a3f5f\"}, \"baxis\": {\"endlinecolor\": \"#2a3f5f\", \"gridcolor\": \"white\", \"linecolor\": \"white\", \"minorgridcolor\": \"white\", \"startlinecolor\": \"#2a3f5f\"}, \"type\": \"carpet\"}], \"choropleth\": [{\"colorbar\": {\"outlinewidth\": 0, \"ticks\": \"\"}, \"type\": \"choropleth\"}], \"contour\": [{\"colorbar\": {\"outlinewidth\": 0, \"ticks\": \"\"}, \"colorscale\": [[0.0, \"#0d0887\"], [0.1111111111111111, \"#46039f\"], [0.2222222222222222, \"#7201a8\"], [0.3333333333333333, \"#9c179e\"], [0.4444444444444444, \"#bd3786\"], [0.5555555555555556, \"#d8576b\"], [0.6666666666666666, \"#ed7953\"], [0.7777777777777778, \"#fb9f3a\"], [0.8888888888888888, \"#fdca26\"], [1.0, \"#f0f921\"]], \"type\": \"contour\"}], \"contourcarpet\": [{\"colorbar\": {\"outlinewidth\": 0, \"ticks\": \"\"}, \"type\": \"contourcarpet\"}], \"heatmap\": [{\"colorbar\": {\"outlinewidth\": 0, \"ticks\": \"\"}, \"colorscale\": [[0.0, \"#0d0887\"], [0.1111111111111111, \"#46039f\"], [0.2222222222222222, \"#7201a8\"], [0.3333333333333333, \"#9c179e\"], [0.4444444444444444, \"#bd3786\"], [0.5555555555555556, \"#d8576b\"], [0.6666666666666666, \"#ed7953\"], [0.7777777777777778, \"#fb9f3a\"], [0.8888888888888888, \"#fdca26\"], [1.0, \"#f0f921\"]], \"type\": \"heatmap\"}], \"heatmapgl\": [{\"colorbar\": {\"outlinewidth\": 0, \"ticks\": \"\"}, \"colorscale\": [[0.0, \"#0d0887\"], [0.1111111111111111, \"#46039f\"], [0.2222222222222222, \"#7201a8\"], [0.3333333333333333, \"#9c179e\"], [0.4444444444444444, \"#bd3786\"], [0.5555555555555556, \"#d8576b\"], [0.6666666666666666, \"#ed7953\"], [0.7777777777777778, \"#fb9f3a\"], [0.8888888888888888, \"#fdca26\"], [1.0, \"#f0f921\"]], \"type\": \"heatmapgl\"}], \"histogram\": [{\"marker\": {\"colorbar\": {\"outlinewidth\": 0, \"ticks\": \"\"}}, \"type\": \"histogram\"}], \"histogram2d\": [{\"colorbar\": {\"outlinewidth\": 0, \"ticks\": \"\"}, \"colorscale\": [[0.0, \"#0d0887\"], [0.1111111111111111, \"#46039f\"], [0.2222222222222222, \"#7201a8\"], [0.3333333333333333, \"#9c179e\"], [0.4444444444444444, \"#bd3786\"], [0.5555555555555556, \"#d8576b\"], [0.6666666666666666, \"#ed7953\"], [0.7777777777777778, \"#fb9f3a\"], [0.8888888888888888, \"#fdca26\"], [1.0, \"#f0f921\"]], \"type\": \"histogram2d\"}], \"histogram2dcontour\": [{\"colorbar\": {\"outlinewidth\": 0, \"ticks\": \"\"}, \"colorscale\": [[0.0, \"#0d0887\"], [0.1111111111111111, \"#46039f\"], [0.2222222222222222, \"#7201a8\"], [0.3333333333333333, \"#9c179e\"], [0.4444444444444444, \"#bd3786\"], [0.5555555555555556, \"#d8576b\"], [0.6666666666666666, \"#ed7953\"], [0.7777777777777778, \"#fb9f3a\"], [0.8888888888888888, \"#fdca26\"], [1.0, \"#f0f921\"]], \"type\": \"histogram2dcontour\"}], \"mesh3d\": [{\"colorbar\": {\"outlinewidth\": 0, \"ticks\": \"\"}, \"type\": \"mesh3d\"}], \"parcoords\": [{\"line\": {\"colorbar\": {\"outlinewidth\": 0, \"ticks\": \"\"}}, \"type\": \"parcoords\"}], \"pie\": [{\"automargin\": true, \"type\": \"pie\"}], \"scatter\": [{\"marker\": {\"colorbar\": {\"outlinewidth\": 0, \"ticks\": \"\"}}, \"type\": \"scatter\"}], \"scatter3d\": [{\"line\": {\"colorbar\": {\"outlinewidth\": 0, \"ticks\": \"\"}}, \"marker\": {\"colorbar\": {\"outlinewidth\": 0, \"ticks\": \"\"}}, \"type\": \"scatter3d\"}], \"scattercarpet\": [{\"marker\": {\"colorbar\": {\"outlinewidth\": 0, \"ticks\": \"\"}}, \"type\": \"scattercarpet\"}], \"scattergeo\": [{\"marker\": {\"colorbar\": {\"outlinewidth\": 0, \"ticks\": \"\"}}, \"type\": \"scattergeo\"}], \"scattergl\": [{\"marker\": {\"colorbar\": {\"outlinewidth\": 0, \"ticks\": \"\"}}, \"type\": \"scattergl\"}], \"scattermapbox\": [{\"marker\": {\"colorbar\": {\"outlinewidth\": 0, \"ticks\": \"\"}}, \"type\": \"scattermapbox\"}], \"scatterpolar\": [{\"marker\": {\"colorbar\": {\"outlinewidth\": 0, \"ticks\": \"\"}}, \"type\": \"scatterpolar\"}], \"scatterpolargl\": [{\"marker\": {\"colorbar\": {\"outlinewidth\": 0, \"ticks\": \"\"}}, \"type\": \"scatterpolargl\"}], \"scatterternary\": [{\"marker\": {\"colorbar\": {\"outlinewidth\": 0, \"ticks\": \"\"}}, \"type\": \"scatterternary\"}], \"surface\": [{\"colorbar\": {\"outlinewidth\": 0, \"ticks\": \"\"}, \"colorscale\": [[0.0, \"#0d0887\"], [0.1111111111111111, \"#46039f\"], [0.2222222222222222, \"#7201a8\"], [0.3333333333333333, \"#9c179e\"], [0.4444444444444444, \"#bd3786\"], [0.5555555555555556, \"#d8576b\"], [0.6666666666666666, \"#ed7953\"], [0.7777777777777778, \"#fb9f3a\"], [0.8888888888888888, \"#fdca26\"], [1.0, \"#f0f921\"]], \"type\": \"surface\"}], \"table\": [{\"cells\": {\"fill\": {\"color\": \"#EBF0F8\"}, \"line\": {\"color\": \"white\"}}, \"header\": {\"fill\": {\"color\": \"#C8D4E3\"}, \"line\": {\"color\": \"white\"}}, \"type\": \"table\"}]}, \"layout\": {\"annotationdefaults\": {\"arrowcolor\": \"#2a3f5f\", \"arrowhead\": 0, \"arrowwidth\": 1}, \"coloraxis\": {\"colorbar\": {\"outlinewidth\": 0, \"ticks\": \"\"}}, \"colorscale\": {\"diverging\": [[0, \"#8e0152\"], [0.1, \"#c51b7d\"], [0.2, \"#de77ae\"], [0.3, \"#f1b6da\"], [0.4, \"#fde0ef\"], [0.5, \"#f7f7f7\"], [0.6, \"#e6f5d0\"], [0.7, \"#b8e186\"], [0.8, \"#7fbc41\"], [0.9, \"#4d9221\"], [1, \"#276419\"]], \"sequential\": [[0.0, \"#0d0887\"], [0.1111111111111111, \"#46039f\"], [0.2222222222222222, \"#7201a8\"], [0.3333333333333333, \"#9c179e\"], [0.4444444444444444, \"#bd3786\"], [0.5555555555555556, \"#d8576b\"], [0.6666666666666666, \"#ed7953\"], [0.7777777777777778, \"#fb9f3a\"], [0.8888888888888888, \"#fdca26\"], [1.0, \"#f0f921\"]], \"sequentialminus\": [[0.0, \"#0d0887\"], [0.1111111111111111, \"#46039f\"], [0.2222222222222222, \"#7201a8\"], [0.3333333333333333, \"#9c179e\"], [0.4444444444444444, \"#bd3786\"], [0.5555555555555556, \"#d8576b\"], [0.6666666666666666, \"#ed7953\"], [0.7777777777777778, \"#fb9f3a\"], [0.8888888888888888, \"#fdca26\"], [1.0, \"#f0f921\"]]}, \"colorway\": [\"#636efa\", \"#EF553B\", \"#00cc96\", \"#ab63fa\", \"#FFA15A\", \"#19d3f3\", \"#FF6692\", \"#B6E880\", \"#FF97FF\", \"#FECB52\"], \"font\": {\"color\": \"#2a3f5f\"}, \"geo\": {\"bgcolor\": \"white\", \"lakecolor\": \"white\", \"landcolor\": \"#E5ECF6\", \"showlakes\": true, \"showland\": true, \"subunitcolor\": \"white\"}, \"hoverlabel\": {\"align\": \"left\"}, \"hovermode\": \"closest\", \"mapbox\": {\"style\": \"light\"}, \"paper_bgcolor\": \"white\", \"plot_bgcolor\": \"#E5ECF6\", \"polar\": {\"angularaxis\": {\"gridcolor\": \"white\", \"linecolor\": \"white\", \"ticks\": \"\"}, \"bgcolor\": \"#E5ECF6\", \"radialaxis\": {\"gridcolor\": \"white\", \"linecolor\": \"white\", \"ticks\": \"\"}}, \"scene\": {\"xaxis\": {\"backgroundcolor\": \"#E5ECF6\", \"gridcolor\": \"white\", \"gridwidth\": 2, \"linecolor\": \"white\", \"showbackground\": true, \"ticks\": \"\", \"zerolinecolor\": \"white\"}, \"yaxis\": {\"backgroundcolor\": \"#E5ECF6\", \"gridcolor\": \"white\", \"gridwidth\": 2, \"linecolor\": \"white\", \"showbackground\": true, \"ticks\": \"\", \"zerolinecolor\": \"white\"}, \"zaxis\": {\"backgroundcolor\": \"#E5ECF6\", \"gridcolor\": \"white\", \"gridwidth\": 2, \"linecolor\": \"white\", \"showbackground\": true, \"ticks\": \"\", \"zerolinecolor\": \"white\"}}, \"shapedefaults\": {\"line\": {\"color\": \"#2a3f5f\"}}, \"ternary\": {\"aaxis\": {\"gridcolor\": \"white\", \"linecolor\": \"white\", \"ticks\": \"\"}, \"baxis\": {\"gridcolor\": \"white\", \"linecolor\": \"white\", \"ticks\": \"\"}, \"bgcolor\": \"#E5ECF6\", \"caxis\": {\"gridcolor\": \"white\", \"linecolor\": \"white\", \"ticks\": \"\"}}, \"title\": {\"x\": 0.05}, \"xaxis\": {\"automargin\": true, \"gridcolor\": \"white\", \"linecolor\": \"white\", \"ticks\": \"\", \"title\": {\"standoff\": 15}, \"zerolinecolor\": \"white\", \"zerolinewidth\": 2}, \"yaxis\": {\"automargin\": true, \"gridcolor\": \"white\", \"linecolor\": \"white\", \"ticks\": \"\", \"title\": {\"standoff\": 15}, \"zerolinecolor\": \"white\", \"zerolinewidth\": 2}}}, \"title\": {\"font\": {\"color\": \"#4D5663\"}}, \"xaxis\": {\"gridcolor\": \"#E1E5ED\", \"showgrid\": true, \"tickfont\": {\"color\": \"#4D5663\"}, \"title\": {\"font\": {\"color\": \"#4D5663\"}, \"text\": \"\"}, \"zerolinecolor\": \"#E1E5ED\"}, \"yaxis\": {\"gridcolor\": \"#E1E5ED\", \"showgrid\": true, \"tickfont\": {\"color\": \"#4D5663\"}, \"title\": {\"font\": {\"color\": \"#4D5663\"}, \"text\": \"\"}, \"zerolinecolor\": \"#E1E5ED\"}},\n",
       "                        {\"showLink\": true, \"linkText\": \"Export to plot.ly\", \"plotlyServerURL\": \"https://plot.ly\", \"responsive\": true}\n",
       "                    ).then(function(){\n",
       "                            \n",
       "var gd = document.getElementById('6b0183a5-4899-4f29-a355-48cf8a27b80f');\n",
       "var x = new MutationObserver(function (mutations, observer) {{\n",
       "        var display = window.getComputedStyle(gd).display;\n",
       "        if (!display || display === 'none') {{\n",
       "            console.log([gd, 'removed!']);\n",
       "            Plotly.purge(gd);\n",
       "            observer.disconnect();\n",
       "        }}\n",
       "}});\n",
       "\n",
       "// Listen for the removal of the full notebook cells\n",
       "var notebookContainer = gd.closest('#notebook-container');\n",
       "if (notebookContainer) {{\n",
       "    x.observe(notebookContainer, {childList: true});\n",
       "}}\n",
       "\n",
       "// Listen for the clearing of the current output cell\n",
       "var outputEl = gd.closest('.output');\n",
       "if (outputEl) {{\n",
       "    x.observe(outputEl, {childList: true});\n",
       "}}\n",
       "\n",
       "                        })\n",
       "                };\n",
       "                });\n",
       "            </script>\n",
       "        </div>"
      ]
     },
     "metadata": {},
     "output_type": "display_data"
    }
   ],
   "source": [
    "df.iplot(kind='scatter',x='A',y='B')"
   ]
  },
  {
   "cell_type": "code",
   "execution_count": 15,
   "metadata": {},
   "outputs": [
    {
     "data": {
      "application/vnd.plotly.v1+json": {
       "config": {
        "linkText": "Export to plot.ly",
        "plotlyServerURL": "https://plot.ly",
        "showLink": true
       },
       "data": [
        {
         "line": {
          "color": "rgba(255, 153, 51, 1.0)",
          "dash": "solid",
          "shape": "linear",
          "width": 1.3
         },
         "marker": {
          "size": 10,
          "symbol": "circle"
         },
         "mode": "markers",
         "name": "B",
         "text": "",
         "type": "scatter",
         "x": [
          -1.8375793829805152,
          -0.15949696869273136,
          1.1310371011634441,
          0.033424317827104935,
          -0.27266433823248903,
          -1.5266480612294526,
          0.6406900998232502,
          -1.2037810103452755,
          0.45766181096666353,
          -0.65756316944976,
          1.2254607006230938,
          -0.49670888312590306,
          0.9517977824412835,
          -0.4737685536624598,
          -0.18866034695016973,
          1.7707542889792907,
          0.6323242648780771,
          0.12204537313043434,
          -1.9034920234674675,
          -0.04442225969249496,
          0.15429995846266448,
          0.7932222997650096,
          2.539915784248557,
          -1.1930343034985709,
          -0.614857906207743,
          1.4806568174717332,
          -1.8648504458226827,
          -0.41509780444484906,
          -1.5902518624107531,
          -1.1668716248656292,
          0.7148812419826943,
          0.9205412994571905,
          -1.0552530177997501,
          -1.1144495047103273,
          -1.4148418771042273,
          -0.7978844421999658,
          -0.7196315490672652,
          -0.6581896684098428,
          -0.003017838744859791,
          1.000572700470973,
          0.03907023496823878,
          0.9445560069535803,
          -0.4370724628095535,
          -0.5308855796106563,
          0.40885528594580445,
          0.188730040054379,
          -0.7941436814811723,
          1.9071063059377538,
          -0.05371617887237018,
          -1.2180771449054735,
          -0.0027625945812005813,
          -0.7289781761912149,
          -1.5148040962595313,
          1.5310393005980325,
          1.2115849481386265,
          0.47883686689648225,
          -0.45499490210360916,
          -1.0189093313495297,
          -0.15728791717667132,
          -0.11127659476746542,
          0.8690846353904871,
          0.20354127289823257,
          -2.0630281790612797,
          1.3344770773409376,
          -1.6200000617491879,
          -0.23116693293656054,
          -0.6755590465420752,
          0.4685086761604976,
          0.49494635923821795,
          -0.005597955485651658,
          1.0885292455914743,
          -1.0407905089838017,
          -0.929490474183066,
          -1.015229473319679,
          1.8836505311940042,
          0.852998689782739,
          1.0753372020989056,
          1.4373344844109446,
          -0.03480585890954957,
          -0.37548221973787094,
          1.5645635392346884,
          1.758746465445413,
          -1.7330027977656584,
          -0.25500034465944543,
          -0.11760242138474251,
          1.9831290035306863,
          -1.6781345236672671,
          1.0916134309838674,
          -0.4986127299448885,
          0.4985659415525577,
          1.1762317481769409,
          -0.9905137465769372,
          -1.063065614167874,
          1.242282812838642,
          0.990357440665751,
          3.006402504672399,
          1.7946437084519817,
          1.2758239575605375,
          0.038206062830590415,
          -0.052200463798188414
         ],
         "y": [
          1.7979066365959437,
          0.46285376386792,
          -1.186763222985012,
          -1.3069987790938424,
          0.2846992419759555,
          -0.46572268676860606,
          0.37506581218122054,
          0.04307716596099602,
          -0.10030470230806747,
          0.2253581478192807,
          1.5881375303218745,
          -0.7860510560549011,
          0.0709065210939935,
          1.3179919385263983,
          0.1911135355144382,
          -0.1659826156491933,
          0.1335520665302867,
          -1.3591338016683188,
          0.6810870536812119,
          -0.3210353527483331,
          -0.9898181449092167,
          -1.2243689025562479,
          0.9843652721650106,
          -1.2543373215912461,
          0.8715596268958955,
          1.3562385722623433,
          -0.2579451332063824,
          0.8699716121262567,
          1.248480225043317,
          -1.5952232935299056,
          -0.03397694249447452,
          -0.343267396460641,
          0.28802212629747814,
          -0.8593404698722109,
          -0.2530951725001365,
          -1.1386052562784248,
          0.38917661781477536,
          -0.9825733525869731,
          -0.31696837518324317,
          0.7990527808015294,
          1.5176967691503638,
          1.410126737765439,
          -0.2743896134901539,
          -0.6929350750237689,
          0.2936921575856845,
          0.8254128170753967,
          -0.38061138001210737,
          -1.029983050729118,
          0.5164862990891124,
          0.5294226142890159,
          1.3419954272688206,
          0.4908184159374298,
          0.49612404315739556,
          -1.5353261683128314,
          -0.23122135512542397,
          -0.969643060285253,
          -0.7905605694819513,
          0.6367390711248883,
          -1.1584050310341727,
          0.7132292476684078,
          0.5512209938581333,
          -1.2332536027280028,
          1.263445214176733,
          1.0355389031994173,
          -0.4385948782738462,
          1.2783266636003576,
          0.9694074826731098,
          -0.5354973913133867,
          0.3763906230930325,
          1.0822003941489435,
          0.7361046509510144,
          -0.4335373702666788,
          -0.17899964389897075,
          -0.3648809060196582,
          -0.32072220887824276,
          -0.02508944822472686,
          -0.5833657581143926,
          -0.3995712267987253,
          0.9009130860560229,
          -1.4986325461576935,
          -1.8715391056827866,
          2.8798459765859827,
          0.07355556328316204,
          -0.022392130905374747,
          -1.4390151669046745,
          -0.12588443717729894,
          -0.1749203096655581,
          0.5710963935160036,
          -0.8221985582564402,
          1.1613570625458303,
          0.7006283651400398,
          0.028200929375390538,
          -1.1587338283713418,
          0.18389562050698247,
          -0.9159351961730826,
          1.912535172503708,
          -1.8209107037327792,
          -2.2563632012174306,
          0.05798522639921089,
          -0.7234000317144638
         ]
        }
       ],
       "layout": {
        "legend": {
         "bgcolor": "#F5F6F9",
         "font": {
          "color": "#4D5663"
         }
        },
        "paper_bgcolor": "#F5F6F9",
        "plot_bgcolor": "#F5F6F9",
        "template": {
         "data": {
          "bar": [
           {
            "error_x": {
             "color": "#2a3f5f"
            },
            "error_y": {
             "color": "#2a3f5f"
            },
            "marker": {
             "line": {
              "color": "#E5ECF6",
              "width": 0.5
             }
            },
            "type": "bar"
           }
          ],
          "barpolar": [
           {
            "marker": {
             "line": {
              "color": "#E5ECF6",
              "width": 0.5
             }
            },
            "type": "barpolar"
           }
          ],
          "carpet": [
           {
            "aaxis": {
             "endlinecolor": "#2a3f5f",
             "gridcolor": "white",
             "linecolor": "white",
             "minorgridcolor": "white",
             "startlinecolor": "#2a3f5f"
            },
            "baxis": {
             "endlinecolor": "#2a3f5f",
             "gridcolor": "white",
             "linecolor": "white",
             "minorgridcolor": "white",
             "startlinecolor": "#2a3f5f"
            },
            "type": "carpet"
           }
          ],
          "choropleth": [
           {
            "colorbar": {
             "outlinewidth": 0,
             "ticks": ""
            },
            "type": "choropleth"
           }
          ],
          "contour": [
           {
            "colorbar": {
             "outlinewidth": 0,
             "ticks": ""
            },
            "colorscale": [
             [
              0,
              "#0d0887"
             ],
             [
              0.1111111111111111,
              "#46039f"
             ],
             [
              0.2222222222222222,
              "#7201a8"
             ],
             [
              0.3333333333333333,
              "#9c179e"
             ],
             [
              0.4444444444444444,
              "#bd3786"
             ],
             [
              0.5555555555555556,
              "#d8576b"
             ],
             [
              0.6666666666666666,
              "#ed7953"
             ],
             [
              0.7777777777777778,
              "#fb9f3a"
             ],
             [
              0.8888888888888888,
              "#fdca26"
             ],
             [
              1,
              "#f0f921"
             ]
            ],
            "type": "contour"
           }
          ],
          "contourcarpet": [
           {
            "colorbar": {
             "outlinewidth": 0,
             "ticks": ""
            },
            "type": "contourcarpet"
           }
          ],
          "heatmap": [
           {
            "colorbar": {
             "outlinewidth": 0,
             "ticks": ""
            },
            "colorscale": [
             [
              0,
              "#0d0887"
             ],
             [
              0.1111111111111111,
              "#46039f"
             ],
             [
              0.2222222222222222,
              "#7201a8"
             ],
             [
              0.3333333333333333,
              "#9c179e"
             ],
             [
              0.4444444444444444,
              "#bd3786"
             ],
             [
              0.5555555555555556,
              "#d8576b"
             ],
             [
              0.6666666666666666,
              "#ed7953"
             ],
             [
              0.7777777777777778,
              "#fb9f3a"
             ],
             [
              0.8888888888888888,
              "#fdca26"
             ],
             [
              1,
              "#f0f921"
             ]
            ],
            "type": "heatmap"
           }
          ],
          "heatmapgl": [
           {
            "colorbar": {
             "outlinewidth": 0,
             "ticks": ""
            },
            "colorscale": [
             [
              0,
              "#0d0887"
             ],
             [
              0.1111111111111111,
              "#46039f"
             ],
             [
              0.2222222222222222,
              "#7201a8"
             ],
             [
              0.3333333333333333,
              "#9c179e"
             ],
             [
              0.4444444444444444,
              "#bd3786"
             ],
             [
              0.5555555555555556,
              "#d8576b"
             ],
             [
              0.6666666666666666,
              "#ed7953"
             ],
             [
              0.7777777777777778,
              "#fb9f3a"
             ],
             [
              0.8888888888888888,
              "#fdca26"
             ],
             [
              1,
              "#f0f921"
             ]
            ],
            "type": "heatmapgl"
           }
          ],
          "histogram": [
           {
            "marker": {
             "colorbar": {
              "outlinewidth": 0,
              "ticks": ""
             }
            },
            "type": "histogram"
           }
          ],
          "histogram2d": [
           {
            "colorbar": {
             "outlinewidth": 0,
             "ticks": ""
            },
            "colorscale": [
             [
              0,
              "#0d0887"
             ],
             [
              0.1111111111111111,
              "#46039f"
             ],
             [
              0.2222222222222222,
              "#7201a8"
             ],
             [
              0.3333333333333333,
              "#9c179e"
             ],
             [
              0.4444444444444444,
              "#bd3786"
             ],
             [
              0.5555555555555556,
              "#d8576b"
             ],
             [
              0.6666666666666666,
              "#ed7953"
             ],
             [
              0.7777777777777778,
              "#fb9f3a"
             ],
             [
              0.8888888888888888,
              "#fdca26"
             ],
             [
              1,
              "#f0f921"
             ]
            ],
            "type": "histogram2d"
           }
          ],
          "histogram2dcontour": [
           {
            "colorbar": {
             "outlinewidth": 0,
             "ticks": ""
            },
            "colorscale": [
             [
              0,
              "#0d0887"
             ],
             [
              0.1111111111111111,
              "#46039f"
             ],
             [
              0.2222222222222222,
              "#7201a8"
             ],
             [
              0.3333333333333333,
              "#9c179e"
             ],
             [
              0.4444444444444444,
              "#bd3786"
             ],
             [
              0.5555555555555556,
              "#d8576b"
             ],
             [
              0.6666666666666666,
              "#ed7953"
             ],
             [
              0.7777777777777778,
              "#fb9f3a"
             ],
             [
              0.8888888888888888,
              "#fdca26"
             ],
             [
              1,
              "#f0f921"
             ]
            ],
            "type": "histogram2dcontour"
           }
          ],
          "mesh3d": [
           {
            "colorbar": {
             "outlinewidth": 0,
             "ticks": ""
            },
            "type": "mesh3d"
           }
          ],
          "parcoords": [
           {
            "line": {
             "colorbar": {
              "outlinewidth": 0,
              "ticks": ""
             }
            },
            "type": "parcoords"
           }
          ],
          "pie": [
           {
            "automargin": true,
            "type": "pie"
           }
          ],
          "scatter": [
           {
            "marker": {
             "colorbar": {
              "outlinewidth": 0,
              "ticks": ""
             }
            },
            "type": "scatter"
           }
          ],
          "scatter3d": [
           {
            "line": {
             "colorbar": {
              "outlinewidth": 0,
              "ticks": ""
             }
            },
            "marker": {
             "colorbar": {
              "outlinewidth": 0,
              "ticks": ""
             }
            },
            "type": "scatter3d"
           }
          ],
          "scattercarpet": [
           {
            "marker": {
             "colorbar": {
              "outlinewidth": 0,
              "ticks": ""
             }
            },
            "type": "scattercarpet"
           }
          ],
          "scattergeo": [
           {
            "marker": {
             "colorbar": {
              "outlinewidth": 0,
              "ticks": ""
             }
            },
            "type": "scattergeo"
           }
          ],
          "scattergl": [
           {
            "marker": {
             "colorbar": {
              "outlinewidth": 0,
              "ticks": ""
             }
            },
            "type": "scattergl"
           }
          ],
          "scattermapbox": [
           {
            "marker": {
             "colorbar": {
              "outlinewidth": 0,
              "ticks": ""
             }
            },
            "type": "scattermapbox"
           }
          ],
          "scatterpolar": [
           {
            "marker": {
             "colorbar": {
              "outlinewidth": 0,
              "ticks": ""
             }
            },
            "type": "scatterpolar"
           }
          ],
          "scatterpolargl": [
           {
            "marker": {
             "colorbar": {
              "outlinewidth": 0,
              "ticks": ""
             }
            },
            "type": "scatterpolargl"
           }
          ],
          "scatterternary": [
           {
            "marker": {
             "colorbar": {
              "outlinewidth": 0,
              "ticks": ""
             }
            },
            "type": "scatterternary"
           }
          ],
          "surface": [
           {
            "colorbar": {
             "outlinewidth": 0,
             "ticks": ""
            },
            "colorscale": [
             [
              0,
              "#0d0887"
             ],
             [
              0.1111111111111111,
              "#46039f"
             ],
             [
              0.2222222222222222,
              "#7201a8"
             ],
             [
              0.3333333333333333,
              "#9c179e"
             ],
             [
              0.4444444444444444,
              "#bd3786"
             ],
             [
              0.5555555555555556,
              "#d8576b"
             ],
             [
              0.6666666666666666,
              "#ed7953"
             ],
             [
              0.7777777777777778,
              "#fb9f3a"
             ],
             [
              0.8888888888888888,
              "#fdca26"
             ],
             [
              1,
              "#f0f921"
             ]
            ],
            "type": "surface"
           }
          ],
          "table": [
           {
            "cells": {
             "fill": {
              "color": "#EBF0F8"
             },
             "line": {
              "color": "white"
             }
            },
            "header": {
             "fill": {
              "color": "#C8D4E3"
             },
             "line": {
              "color": "white"
             }
            },
            "type": "table"
           }
          ]
         },
         "layout": {
          "annotationdefaults": {
           "arrowcolor": "#2a3f5f",
           "arrowhead": 0,
           "arrowwidth": 1
          },
          "coloraxis": {
           "colorbar": {
            "outlinewidth": 0,
            "ticks": ""
           }
          },
          "colorscale": {
           "diverging": [
            [
             0,
             "#8e0152"
            ],
            [
             0.1,
             "#c51b7d"
            ],
            [
             0.2,
             "#de77ae"
            ],
            [
             0.3,
             "#f1b6da"
            ],
            [
             0.4,
             "#fde0ef"
            ],
            [
             0.5,
             "#f7f7f7"
            ],
            [
             0.6,
             "#e6f5d0"
            ],
            [
             0.7,
             "#b8e186"
            ],
            [
             0.8,
             "#7fbc41"
            ],
            [
             0.9,
             "#4d9221"
            ],
            [
             1,
             "#276419"
            ]
           ],
           "sequential": [
            [
             0,
             "#0d0887"
            ],
            [
             0.1111111111111111,
             "#46039f"
            ],
            [
             0.2222222222222222,
             "#7201a8"
            ],
            [
             0.3333333333333333,
             "#9c179e"
            ],
            [
             0.4444444444444444,
             "#bd3786"
            ],
            [
             0.5555555555555556,
             "#d8576b"
            ],
            [
             0.6666666666666666,
             "#ed7953"
            ],
            [
             0.7777777777777778,
             "#fb9f3a"
            ],
            [
             0.8888888888888888,
             "#fdca26"
            ],
            [
             1,
             "#f0f921"
            ]
           ],
           "sequentialminus": [
            [
             0,
             "#0d0887"
            ],
            [
             0.1111111111111111,
             "#46039f"
            ],
            [
             0.2222222222222222,
             "#7201a8"
            ],
            [
             0.3333333333333333,
             "#9c179e"
            ],
            [
             0.4444444444444444,
             "#bd3786"
            ],
            [
             0.5555555555555556,
             "#d8576b"
            ],
            [
             0.6666666666666666,
             "#ed7953"
            ],
            [
             0.7777777777777778,
             "#fb9f3a"
            ],
            [
             0.8888888888888888,
             "#fdca26"
            ],
            [
             1,
             "#f0f921"
            ]
           ]
          },
          "colorway": [
           "#636efa",
           "#EF553B",
           "#00cc96",
           "#ab63fa",
           "#FFA15A",
           "#19d3f3",
           "#FF6692",
           "#B6E880",
           "#FF97FF",
           "#FECB52"
          ],
          "font": {
           "color": "#2a3f5f"
          },
          "geo": {
           "bgcolor": "white",
           "lakecolor": "white",
           "landcolor": "#E5ECF6",
           "showlakes": true,
           "showland": true,
           "subunitcolor": "white"
          },
          "hoverlabel": {
           "align": "left"
          },
          "hovermode": "closest",
          "mapbox": {
           "style": "light"
          },
          "paper_bgcolor": "white",
          "plot_bgcolor": "#E5ECF6",
          "polar": {
           "angularaxis": {
            "gridcolor": "white",
            "linecolor": "white",
            "ticks": ""
           },
           "bgcolor": "#E5ECF6",
           "radialaxis": {
            "gridcolor": "white",
            "linecolor": "white",
            "ticks": ""
           }
          },
          "scene": {
           "xaxis": {
            "backgroundcolor": "#E5ECF6",
            "gridcolor": "white",
            "gridwidth": 2,
            "linecolor": "white",
            "showbackground": true,
            "ticks": "",
            "zerolinecolor": "white"
           },
           "yaxis": {
            "backgroundcolor": "#E5ECF6",
            "gridcolor": "white",
            "gridwidth": 2,
            "linecolor": "white",
            "showbackground": true,
            "ticks": "",
            "zerolinecolor": "white"
           },
           "zaxis": {
            "backgroundcolor": "#E5ECF6",
            "gridcolor": "white",
            "gridwidth": 2,
            "linecolor": "white",
            "showbackground": true,
            "ticks": "",
            "zerolinecolor": "white"
           }
          },
          "shapedefaults": {
           "line": {
            "color": "#2a3f5f"
           }
          },
          "ternary": {
           "aaxis": {
            "gridcolor": "white",
            "linecolor": "white",
            "ticks": ""
           },
           "baxis": {
            "gridcolor": "white",
            "linecolor": "white",
            "ticks": ""
           },
           "bgcolor": "#E5ECF6",
           "caxis": {
            "gridcolor": "white",
            "linecolor": "white",
            "ticks": ""
           }
          },
          "title": {
           "x": 0.05
          },
          "xaxis": {
           "automargin": true,
           "gridcolor": "white",
           "linecolor": "white",
           "ticks": "",
           "title": {
            "standoff": 15
           },
           "zerolinecolor": "white",
           "zerolinewidth": 2
          },
          "yaxis": {
           "automargin": true,
           "gridcolor": "white",
           "linecolor": "white",
           "ticks": "",
           "title": {
            "standoff": 15
           },
           "zerolinecolor": "white",
           "zerolinewidth": 2
          }
         }
        },
        "title": {
         "font": {
          "color": "#4D5663"
         }
        },
        "xaxis": {
         "gridcolor": "#E1E5ED",
         "showgrid": true,
         "tickfont": {
          "color": "#4D5663"
         },
         "title": {
          "font": {
           "color": "#4D5663"
          },
          "text": ""
         },
         "zerolinecolor": "#E1E5ED"
        },
        "yaxis": {
         "gridcolor": "#E1E5ED",
         "showgrid": true,
         "tickfont": {
          "color": "#4D5663"
         },
         "title": {
          "font": {
           "color": "#4D5663"
          },
          "text": ""
         },
         "zerolinecolor": "#E1E5ED"
        }
       }
      },
      "text/html": [
       "<div>\n",
       "        \n",
       "        \n",
       "            <div id=\"f1337636-169f-4319-8315-9d59659e4d39\" class=\"plotly-graph-div\" style=\"height:525px; width:100%;\"></div>\n",
       "            <script type=\"text/javascript\">\n",
       "                require([\"plotly\"], function(Plotly) {\n",
       "                    window.PLOTLYENV=window.PLOTLYENV || {};\n",
       "                    window.PLOTLYENV.BASE_URL='https://plot.ly';\n",
       "                    \n",
       "                if (document.getElementById(\"f1337636-169f-4319-8315-9d59659e4d39\")) {\n",
       "                    Plotly.newPlot(\n",
       "                        'f1337636-169f-4319-8315-9d59659e4d39',\n",
       "                        [{\"line\": {\"color\": \"rgba(255, 153, 51, 1.0)\", \"dash\": \"solid\", \"shape\": \"linear\", \"width\": 1.3}, \"marker\": {\"size\": 10, \"symbol\": \"circle\"}, \"mode\": \"markers\", \"name\": \"B\", \"text\": \"\", \"type\": \"scatter\", \"x\": [-1.8375793829805152, -0.15949696869273136, 1.1310371011634441, 0.033424317827104935, -0.27266433823248903, -1.5266480612294526, 0.6406900998232502, -1.2037810103452755, 0.45766181096666353, -0.65756316944976, 1.2254607006230938, -0.49670888312590306, 0.9517977824412835, -0.4737685536624598, -0.18866034695016973, 1.7707542889792907, 0.6323242648780771, 0.12204537313043434, -1.9034920234674675, -0.04442225969249496, 0.15429995846266448, 0.7932222997650096, 2.539915784248557, -1.1930343034985709, -0.614857906207743, 1.4806568174717332, -1.8648504458226827, -0.41509780444484906, -1.5902518624107531, -1.1668716248656292, 0.7148812419826943, 0.9205412994571905, -1.0552530177997501, -1.1144495047103273, -1.4148418771042273, -0.7978844421999658, -0.7196315490672652, -0.6581896684098428, -0.003017838744859791, 1.000572700470973, 0.03907023496823878, 0.9445560069535803, -0.4370724628095535, -0.5308855796106563, 0.40885528594580445, 0.188730040054379, -0.7941436814811723, 1.9071063059377538, -0.05371617887237018, -1.2180771449054735, -0.0027625945812005813, -0.7289781761912149, -1.5148040962595313, 1.5310393005980325, 1.2115849481386265, 0.47883686689648225, -0.45499490210360916, -1.0189093313495297, -0.15728791717667132, -0.11127659476746542, 0.8690846353904871, 0.20354127289823257, -2.0630281790612797, 1.3344770773409376, -1.6200000617491879, -0.23116693293656054, -0.6755590465420752, 0.4685086761604976, 0.49494635923821795, -0.005597955485651658, 1.0885292455914743, -1.0407905089838017, -0.929490474183066, -1.015229473319679, 1.8836505311940042, 0.852998689782739, 1.0753372020989056, 1.4373344844109446, -0.03480585890954957, -0.37548221973787094, 1.5645635392346884, 1.758746465445413, -1.7330027977656584, -0.25500034465944543, -0.11760242138474251, 1.9831290035306863, -1.6781345236672671, 1.0916134309838674, -0.4986127299448885, 0.4985659415525577, 1.1762317481769409, -0.9905137465769372, -1.063065614167874, 1.242282812838642, 0.990357440665751, 3.006402504672399, 1.7946437084519817, 1.2758239575605375, 0.038206062830590415, -0.052200463798188414], \"y\": [1.7979066365959437, 0.46285376386792, -1.186763222985012, -1.3069987790938424, 0.2846992419759555, -0.46572268676860606, 0.37506581218122054, 0.04307716596099602, -0.10030470230806747, 0.2253581478192807, 1.5881375303218745, -0.7860510560549011, 0.0709065210939935, 1.3179919385263983, 0.1911135355144382, -0.1659826156491933, 0.1335520665302867, -1.3591338016683188, 0.6810870536812119, -0.3210353527483331, -0.9898181449092167, -1.2243689025562479, 0.9843652721650106, -1.2543373215912461, 0.8715596268958955, 1.3562385722623433, -0.2579451332063824, 0.8699716121262567, 1.248480225043317, -1.5952232935299056, -0.03397694249447452, -0.343267396460641, 0.28802212629747814, -0.8593404698722109, -0.2530951725001365, -1.1386052562784248, 0.38917661781477536, -0.9825733525869731, -0.31696837518324317, 0.7990527808015294, 1.5176967691503638, 1.410126737765439, -0.2743896134901539, -0.6929350750237689, 0.2936921575856845, 0.8254128170753967, -0.38061138001210737, -1.029983050729118, 0.5164862990891124, 0.5294226142890159, 1.3419954272688206, 0.4908184159374298, 0.49612404315739556, -1.5353261683128314, -0.23122135512542397, -0.969643060285253, -0.7905605694819513, 0.6367390711248883, -1.1584050310341727, 0.7132292476684078, 0.5512209938581333, -1.2332536027280028, 1.263445214176733, 1.0355389031994173, -0.4385948782738462, 1.2783266636003576, 0.9694074826731098, -0.5354973913133867, 0.3763906230930325, 1.0822003941489435, 0.7361046509510144, -0.4335373702666788, -0.17899964389897075, -0.3648809060196582, -0.32072220887824276, -0.02508944822472686, -0.5833657581143926, -0.3995712267987253, 0.9009130860560229, -1.4986325461576935, -1.8715391056827866, 2.8798459765859827, 0.07355556328316204, -0.022392130905374747, -1.4390151669046745, -0.12588443717729894, -0.1749203096655581, 0.5710963935160036, -0.8221985582564402, 1.1613570625458303, 0.7006283651400398, 0.028200929375390538, -1.1587338283713418, 0.18389562050698247, -0.9159351961730826, 1.912535172503708, -1.8209107037327792, -2.2563632012174306, 0.05798522639921089, -0.7234000317144638]}],\n",
       "                        {\"legend\": {\"bgcolor\": \"#F5F6F9\", \"font\": {\"color\": \"#4D5663\"}}, \"paper_bgcolor\": \"#F5F6F9\", \"plot_bgcolor\": \"#F5F6F9\", \"template\": {\"data\": {\"bar\": [{\"error_x\": {\"color\": \"#2a3f5f\"}, \"error_y\": {\"color\": \"#2a3f5f\"}, \"marker\": {\"line\": {\"color\": \"#E5ECF6\", \"width\": 0.5}}, \"type\": \"bar\"}], \"barpolar\": [{\"marker\": {\"line\": {\"color\": \"#E5ECF6\", \"width\": 0.5}}, \"type\": \"barpolar\"}], \"carpet\": [{\"aaxis\": {\"endlinecolor\": \"#2a3f5f\", \"gridcolor\": \"white\", \"linecolor\": \"white\", \"minorgridcolor\": \"white\", \"startlinecolor\": \"#2a3f5f\"}, \"baxis\": {\"endlinecolor\": \"#2a3f5f\", \"gridcolor\": \"white\", \"linecolor\": \"white\", \"minorgridcolor\": \"white\", \"startlinecolor\": \"#2a3f5f\"}, \"type\": \"carpet\"}], \"choropleth\": [{\"colorbar\": {\"outlinewidth\": 0, \"ticks\": \"\"}, \"type\": \"choropleth\"}], \"contour\": [{\"colorbar\": {\"outlinewidth\": 0, \"ticks\": \"\"}, \"colorscale\": [[0.0, \"#0d0887\"], [0.1111111111111111, \"#46039f\"], [0.2222222222222222, \"#7201a8\"], [0.3333333333333333, \"#9c179e\"], [0.4444444444444444, \"#bd3786\"], [0.5555555555555556, \"#d8576b\"], [0.6666666666666666, \"#ed7953\"], [0.7777777777777778, \"#fb9f3a\"], [0.8888888888888888, \"#fdca26\"], [1.0, \"#f0f921\"]], \"type\": \"contour\"}], \"contourcarpet\": [{\"colorbar\": {\"outlinewidth\": 0, \"ticks\": \"\"}, \"type\": \"contourcarpet\"}], \"heatmap\": [{\"colorbar\": {\"outlinewidth\": 0, \"ticks\": \"\"}, \"colorscale\": [[0.0, \"#0d0887\"], [0.1111111111111111, \"#46039f\"], [0.2222222222222222, \"#7201a8\"], [0.3333333333333333, \"#9c179e\"], [0.4444444444444444, \"#bd3786\"], [0.5555555555555556, \"#d8576b\"], [0.6666666666666666, \"#ed7953\"], [0.7777777777777778, \"#fb9f3a\"], [0.8888888888888888, \"#fdca26\"], [1.0, \"#f0f921\"]], \"type\": \"heatmap\"}], \"heatmapgl\": [{\"colorbar\": {\"outlinewidth\": 0, \"ticks\": \"\"}, \"colorscale\": [[0.0, \"#0d0887\"], [0.1111111111111111, \"#46039f\"], [0.2222222222222222, \"#7201a8\"], [0.3333333333333333, \"#9c179e\"], [0.4444444444444444, \"#bd3786\"], [0.5555555555555556, \"#d8576b\"], [0.6666666666666666, \"#ed7953\"], [0.7777777777777778, \"#fb9f3a\"], [0.8888888888888888, \"#fdca26\"], [1.0, \"#f0f921\"]], \"type\": \"heatmapgl\"}], \"histogram\": [{\"marker\": {\"colorbar\": {\"outlinewidth\": 0, \"ticks\": \"\"}}, \"type\": \"histogram\"}], \"histogram2d\": [{\"colorbar\": {\"outlinewidth\": 0, \"ticks\": \"\"}, \"colorscale\": [[0.0, \"#0d0887\"], [0.1111111111111111, \"#46039f\"], [0.2222222222222222, \"#7201a8\"], [0.3333333333333333, \"#9c179e\"], [0.4444444444444444, \"#bd3786\"], [0.5555555555555556, \"#d8576b\"], [0.6666666666666666, \"#ed7953\"], [0.7777777777777778, \"#fb9f3a\"], [0.8888888888888888, \"#fdca26\"], [1.0, \"#f0f921\"]], \"type\": \"histogram2d\"}], \"histogram2dcontour\": [{\"colorbar\": {\"outlinewidth\": 0, \"ticks\": \"\"}, \"colorscale\": [[0.0, \"#0d0887\"], [0.1111111111111111, \"#46039f\"], [0.2222222222222222, \"#7201a8\"], [0.3333333333333333, \"#9c179e\"], [0.4444444444444444, \"#bd3786\"], [0.5555555555555556, \"#d8576b\"], [0.6666666666666666, \"#ed7953\"], [0.7777777777777778, \"#fb9f3a\"], [0.8888888888888888, \"#fdca26\"], [1.0, \"#f0f921\"]], \"type\": \"histogram2dcontour\"}], \"mesh3d\": [{\"colorbar\": {\"outlinewidth\": 0, \"ticks\": \"\"}, \"type\": \"mesh3d\"}], \"parcoords\": [{\"line\": {\"colorbar\": {\"outlinewidth\": 0, \"ticks\": \"\"}}, \"type\": \"parcoords\"}], \"pie\": [{\"automargin\": true, \"type\": \"pie\"}], \"scatter\": [{\"marker\": {\"colorbar\": {\"outlinewidth\": 0, \"ticks\": \"\"}}, \"type\": \"scatter\"}], \"scatter3d\": [{\"line\": {\"colorbar\": {\"outlinewidth\": 0, \"ticks\": \"\"}}, \"marker\": {\"colorbar\": {\"outlinewidth\": 0, \"ticks\": \"\"}}, \"type\": \"scatter3d\"}], \"scattercarpet\": [{\"marker\": {\"colorbar\": {\"outlinewidth\": 0, \"ticks\": \"\"}}, \"type\": \"scattercarpet\"}], \"scattergeo\": [{\"marker\": {\"colorbar\": {\"outlinewidth\": 0, \"ticks\": \"\"}}, \"type\": \"scattergeo\"}], \"scattergl\": [{\"marker\": {\"colorbar\": {\"outlinewidth\": 0, \"ticks\": \"\"}}, \"type\": \"scattergl\"}], \"scattermapbox\": [{\"marker\": {\"colorbar\": {\"outlinewidth\": 0, \"ticks\": \"\"}}, \"type\": \"scattermapbox\"}], \"scatterpolar\": [{\"marker\": {\"colorbar\": {\"outlinewidth\": 0, \"ticks\": \"\"}}, \"type\": \"scatterpolar\"}], \"scatterpolargl\": [{\"marker\": {\"colorbar\": {\"outlinewidth\": 0, \"ticks\": \"\"}}, \"type\": \"scatterpolargl\"}], \"scatterternary\": [{\"marker\": {\"colorbar\": {\"outlinewidth\": 0, \"ticks\": \"\"}}, \"type\": \"scatterternary\"}], \"surface\": [{\"colorbar\": {\"outlinewidth\": 0, \"ticks\": \"\"}, \"colorscale\": [[0.0, \"#0d0887\"], [0.1111111111111111, \"#46039f\"], [0.2222222222222222, \"#7201a8\"], [0.3333333333333333, \"#9c179e\"], [0.4444444444444444, \"#bd3786\"], [0.5555555555555556, \"#d8576b\"], [0.6666666666666666, \"#ed7953\"], [0.7777777777777778, \"#fb9f3a\"], [0.8888888888888888, \"#fdca26\"], [1.0, \"#f0f921\"]], \"type\": \"surface\"}], \"table\": [{\"cells\": {\"fill\": {\"color\": \"#EBF0F8\"}, \"line\": {\"color\": \"white\"}}, \"header\": {\"fill\": {\"color\": \"#C8D4E3\"}, \"line\": {\"color\": \"white\"}}, \"type\": \"table\"}]}, \"layout\": {\"annotationdefaults\": {\"arrowcolor\": \"#2a3f5f\", \"arrowhead\": 0, \"arrowwidth\": 1}, \"coloraxis\": {\"colorbar\": {\"outlinewidth\": 0, \"ticks\": \"\"}}, \"colorscale\": {\"diverging\": [[0, \"#8e0152\"], [0.1, \"#c51b7d\"], [0.2, \"#de77ae\"], [0.3, \"#f1b6da\"], [0.4, \"#fde0ef\"], [0.5, \"#f7f7f7\"], [0.6, \"#e6f5d0\"], [0.7, \"#b8e186\"], [0.8, \"#7fbc41\"], [0.9, \"#4d9221\"], [1, \"#276419\"]], \"sequential\": [[0.0, \"#0d0887\"], [0.1111111111111111, \"#46039f\"], [0.2222222222222222, \"#7201a8\"], [0.3333333333333333, \"#9c179e\"], [0.4444444444444444, \"#bd3786\"], [0.5555555555555556, \"#d8576b\"], [0.6666666666666666, \"#ed7953\"], [0.7777777777777778, \"#fb9f3a\"], [0.8888888888888888, \"#fdca26\"], [1.0, \"#f0f921\"]], \"sequentialminus\": [[0.0, \"#0d0887\"], [0.1111111111111111, \"#46039f\"], [0.2222222222222222, \"#7201a8\"], [0.3333333333333333, \"#9c179e\"], [0.4444444444444444, \"#bd3786\"], [0.5555555555555556, \"#d8576b\"], [0.6666666666666666, \"#ed7953\"], [0.7777777777777778, \"#fb9f3a\"], [0.8888888888888888, \"#fdca26\"], [1.0, \"#f0f921\"]]}, \"colorway\": [\"#636efa\", \"#EF553B\", \"#00cc96\", \"#ab63fa\", \"#FFA15A\", \"#19d3f3\", \"#FF6692\", \"#B6E880\", \"#FF97FF\", \"#FECB52\"], \"font\": {\"color\": \"#2a3f5f\"}, \"geo\": {\"bgcolor\": \"white\", \"lakecolor\": \"white\", \"landcolor\": \"#E5ECF6\", \"showlakes\": true, \"showland\": true, \"subunitcolor\": \"white\"}, \"hoverlabel\": {\"align\": \"left\"}, \"hovermode\": \"closest\", \"mapbox\": {\"style\": \"light\"}, \"paper_bgcolor\": \"white\", \"plot_bgcolor\": \"#E5ECF6\", \"polar\": {\"angularaxis\": {\"gridcolor\": \"white\", \"linecolor\": \"white\", \"ticks\": \"\"}, \"bgcolor\": \"#E5ECF6\", \"radialaxis\": {\"gridcolor\": \"white\", \"linecolor\": \"white\", \"ticks\": \"\"}}, \"scene\": {\"xaxis\": {\"backgroundcolor\": \"#E5ECF6\", \"gridcolor\": \"white\", \"gridwidth\": 2, \"linecolor\": \"white\", \"showbackground\": true, \"ticks\": \"\", \"zerolinecolor\": \"white\"}, \"yaxis\": {\"backgroundcolor\": \"#E5ECF6\", \"gridcolor\": \"white\", \"gridwidth\": 2, \"linecolor\": \"white\", \"showbackground\": true, \"ticks\": \"\", \"zerolinecolor\": \"white\"}, \"zaxis\": {\"backgroundcolor\": \"#E5ECF6\", \"gridcolor\": \"white\", \"gridwidth\": 2, \"linecolor\": \"white\", \"showbackground\": true, \"ticks\": \"\", \"zerolinecolor\": \"white\"}}, \"shapedefaults\": {\"line\": {\"color\": \"#2a3f5f\"}}, \"ternary\": {\"aaxis\": {\"gridcolor\": \"white\", \"linecolor\": \"white\", \"ticks\": \"\"}, \"baxis\": {\"gridcolor\": \"white\", \"linecolor\": \"white\", \"ticks\": \"\"}, \"bgcolor\": \"#E5ECF6\", \"caxis\": {\"gridcolor\": \"white\", \"linecolor\": \"white\", \"ticks\": \"\"}}, \"title\": {\"x\": 0.05}, \"xaxis\": {\"automargin\": true, \"gridcolor\": \"white\", \"linecolor\": \"white\", \"ticks\": \"\", \"title\": {\"standoff\": 15}, \"zerolinecolor\": \"white\", \"zerolinewidth\": 2}, \"yaxis\": {\"automargin\": true, \"gridcolor\": \"white\", \"linecolor\": \"white\", \"ticks\": \"\", \"title\": {\"standoff\": 15}, \"zerolinecolor\": \"white\", \"zerolinewidth\": 2}}}, \"title\": {\"font\": {\"color\": \"#4D5663\"}}, \"xaxis\": {\"gridcolor\": \"#E1E5ED\", \"showgrid\": true, \"tickfont\": {\"color\": \"#4D5663\"}, \"title\": {\"font\": {\"color\": \"#4D5663\"}, \"text\": \"\"}, \"zerolinecolor\": \"#E1E5ED\"}, \"yaxis\": {\"gridcolor\": \"#E1E5ED\", \"showgrid\": true, \"tickfont\": {\"color\": \"#4D5663\"}, \"title\": {\"font\": {\"color\": \"#4D5663\"}, \"text\": \"\"}, \"zerolinecolor\": \"#E1E5ED\"}},\n",
       "                        {\"showLink\": true, \"linkText\": \"Export to plot.ly\", \"plotlyServerURL\": \"https://plot.ly\", \"responsive\": true}\n",
       "                    ).then(function(){\n",
       "                            \n",
       "var gd = document.getElementById('f1337636-169f-4319-8315-9d59659e4d39');\n",
       "var x = new MutationObserver(function (mutations, observer) {{\n",
       "        var display = window.getComputedStyle(gd).display;\n",
       "        if (!display || display === 'none') {{\n",
       "            console.log([gd, 'removed!']);\n",
       "            Plotly.purge(gd);\n",
       "            observer.disconnect();\n",
       "        }}\n",
       "}});\n",
       "\n",
       "// Listen for the removal of the full notebook cells\n",
       "var notebookContainer = gd.closest('#notebook-container');\n",
       "if (notebookContainer) {{\n",
       "    x.observe(notebookContainer, {childList: true});\n",
       "}}\n",
       "\n",
       "// Listen for the clearing of the current output cell\n",
       "var outputEl = gd.closest('.output');\n",
       "if (outputEl) {{\n",
       "    x.observe(outputEl, {childList: true});\n",
       "}}\n",
       "\n",
       "                        })\n",
       "                };\n",
       "                });\n",
       "            </script>\n",
       "        </div>"
      ]
     },
     "metadata": {},
     "output_type": "display_data"
    }
   ],
   "source": [
    "df.iplot(kind='scatter',x='A',y='B',mode='markers',size=10)"
   ]
  },
  {
   "cell_type": "code",
   "execution_count": 16,
   "metadata": {},
   "outputs": [
    {
     "data": {
      "application/vnd.plotly.v1+json": {
       "config": {
        "linkText": "Export to plot.ly",
        "plotlyServerURL": "https://plot.ly",
        "showLink": true
       },
       "data": [
        {
         "marker": {
          "color": "rgba(255, 153, 51, 0.6)",
          "line": {
           "color": "rgba(255, 153, 51, 1.0)",
           "width": 1
          }
         },
         "name": "Values",
         "orientation": "v",
         "text": "",
         "type": "bar",
         "x": [
          "A",
          "B",
          "C"
         ],
         "y": [
          32,
          43,
          50
         ]
        }
       ],
       "layout": {
        "legend": {
         "bgcolor": "#F5F6F9",
         "font": {
          "color": "#4D5663"
         }
        },
        "paper_bgcolor": "#F5F6F9",
        "plot_bgcolor": "#F5F6F9",
        "template": {
         "data": {
          "bar": [
           {
            "error_x": {
             "color": "#2a3f5f"
            },
            "error_y": {
             "color": "#2a3f5f"
            },
            "marker": {
             "line": {
              "color": "#E5ECF6",
              "width": 0.5
             }
            },
            "type": "bar"
           }
          ],
          "barpolar": [
           {
            "marker": {
             "line": {
              "color": "#E5ECF6",
              "width": 0.5
             }
            },
            "type": "barpolar"
           }
          ],
          "carpet": [
           {
            "aaxis": {
             "endlinecolor": "#2a3f5f",
             "gridcolor": "white",
             "linecolor": "white",
             "minorgridcolor": "white",
             "startlinecolor": "#2a3f5f"
            },
            "baxis": {
             "endlinecolor": "#2a3f5f",
             "gridcolor": "white",
             "linecolor": "white",
             "minorgridcolor": "white",
             "startlinecolor": "#2a3f5f"
            },
            "type": "carpet"
           }
          ],
          "choropleth": [
           {
            "colorbar": {
             "outlinewidth": 0,
             "ticks": ""
            },
            "type": "choropleth"
           }
          ],
          "contour": [
           {
            "colorbar": {
             "outlinewidth": 0,
             "ticks": ""
            },
            "colorscale": [
             [
              0,
              "#0d0887"
             ],
             [
              0.1111111111111111,
              "#46039f"
             ],
             [
              0.2222222222222222,
              "#7201a8"
             ],
             [
              0.3333333333333333,
              "#9c179e"
             ],
             [
              0.4444444444444444,
              "#bd3786"
             ],
             [
              0.5555555555555556,
              "#d8576b"
             ],
             [
              0.6666666666666666,
              "#ed7953"
             ],
             [
              0.7777777777777778,
              "#fb9f3a"
             ],
             [
              0.8888888888888888,
              "#fdca26"
             ],
             [
              1,
              "#f0f921"
             ]
            ],
            "type": "contour"
           }
          ],
          "contourcarpet": [
           {
            "colorbar": {
             "outlinewidth": 0,
             "ticks": ""
            },
            "type": "contourcarpet"
           }
          ],
          "heatmap": [
           {
            "colorbar": {
             "outlinewidth": 0,
             "ticks": ""
            },
            "colorscale": [
             [
              0,
              "#0d0887"
             ],
             [
              0.1111111111111111,
              "#46039f"
             ],
             [
              0.2222222222222222,
              "#7201a8"
             ],
             [
              0.3333333333333333,
              "#9c179e"
             ],
             [
              0.4444444444444444,
              "#bd3786"
             ],
             [
              0.5555555555555556,
              "#d8576b"
             ],
             [
              0.6666666666666666,
              "#ed7953"
             ],
             [
              0.7777777777777778,
              "#fb9f3a"
             ],
             [
              0.8888888888888888,
              "#fdca26"
             ],
             [
              1,
              "#f0f921"
             ]
            ],
            "type": "heatmap"
           }
          ],
          "heatmapgl": [
           {
            "colorbar": {
             "outlinewidth": 0,
             "ticks": ""
            },
            "colorscale": [
             [
              0,
              "#0d0887"
             ],
             [
              0.1111111111111111,
              "#46039f"
             ],
             [
              0.2222222222222222,
              "#7201a8"
             ],
             [
              0.3333333333333333,
              "#9c179e"
             ],
             [
              0.4444444444444444,
              "#bd3786"
             ],
             [
              0.5555555555555556,
              "#d8576b"
             ],
             [
              0.6666666666666666,
              "#ed7953"
             ],
             [
              0.7777777777777778,
              "#fb9f3a"
             ],
             [
              0.8888888888888888,
              "#fdca26"
             ],
             [
              1,
              "#f0f921"
             ]
            ],
            "type": "heatmapgl"
           }
          ],
          "histogram": [
           {
            "marker": {
             "colorbar": {
              "outlinewidth": 0,
              "ticks": ""
             }
            },
            "type": "histogram"
           }
          ],
          "histogram2d": [
           {
            "colorbar": {
             "outlinewidth": 0,
             "ticks": ""
            },
            "colorscale": [
             [
              0,
              "#0d0887"
             ],
             [
              0.1111111111111111,
              "#46039f"
             ],
             [
              0.2222222222222222,
              "#7201a8"
             ],
             [
              0.3333333333333333,
              "#9c179e"
             ],
             [
              0.4444444444444444,
              "#bd3786"
             ],
             [
              0.5555555555555556,
              "#d8576b"
             ],
             [
              0.6666666666666666,
              "#ed7953"
             ],
             [
              0.7777777777777778,
              "#fb9f3a"
             ],
             [
              0.8888888888888888,
              "#fdca26"
             ],
             [
              1,
              "#f0f921"
             ]
            ],
            "type": "histogram2d"
           }
          ],
          "histogram2dcontour": [
           {
            "colorbar": {
             "outlinewidth": 0,
             "ticks": ""
            },
            "colorscale": [
             [
              0,
              "#0d0887"
             ],
             [
              0.1111111111111111,
              "#46039f"
             ],
             [
              0.2222222222222222,
              "#7201a8"
             ],
             [
              0.3333333333333333,
              "#9c179e"
             ],
             [
              0.4444444444444444,
              "#bd3786"
             ],
             [
              0.5555555555555556,
              "#d8576b"
             ],
             [
              0.6666666666666666,
              "#ed7953"
             ],
             [
              0.7777777777777778,
              "#fb9f3a"
             ],
             [
              0.8888888888888888,
              "#fdca26"
             ],
             [
              1,
              "#f0f921"
             ]
            ],
            "type": "histogram2dcontour"
           }
          ],
          "mesh3d": [
           {
            "colorbar": {
             "outlinewidth": 0,
             "ticks": ""
            },
            "type": "mesh3d"
           }
          ],
          "parcoords": [
           {
            "line": {
             "colorbar": {
              "outlinewidth": 0,
              "ticks": ""
             }
            },
            "type": "parcoords"
           }
          ],
          "pie": [
           {
            "automargin": true,
            "type": "pie"
           }
          ],
          "scatter": [
           {
            "marker": {
             "colorbar": {
              "outlinewidth": 0,
              "ticks": ""
             }
            },
            "type": "scatter"
           }
          ],
          "scatter3d": [
           {
            "line": {
             "colorbar": {
              "outlinewidth": 0,
              "ticks": ""
             }
            },
            "marker": {
             "colorbar": {
              "outlinewidth": 0,
              "ticks": ""
             }
            },
            "type": "scatter3d"
           }
          ],
          "scattercarpet": [
           {
            "marker": {
             "colorbar": {
              "outlinewidth": 0,
              "ticks": ""
             }
            },
            "type": "scattercarpet"
           }
          ],
          "scattergeo": [
           {
            "marker": {
             "colorbar": {
              "outlinewidth": 0,
              "ticks": ""
             }
            },
            "type": "scattergeo"
           }
          ],
          "scattergl": [
           {
            "marker": {
             "colorbar": {
              "outlinewidth": 0,
              "ticks": ""
             }
            },
            "type": "scattergl"
           }
          ],
          "scattermapbox": [
           {
            "marker": {
             "colorbar": {
              "outlinewidth": 0,
              "ticks": ""
             }
            },
            "type": "scattermapbox"
           }
          ],
          "scatterpolar": [
           {
            "marker": {
             "colorbar": {
              "outlinewidth": 0,
              "ticks": ""
             }
            },
            "type": "scatterpolar"
           }
          ],
          "scatterpolargl": [
           {
            "marker": {
             "colorbar": {
              "outlinewidth": 0,
              "ticks": ""
             }
            },
            "type": "scatterpolargl"
           }
          ],
          "scatterternary": [
           {
            "marker": {
             "colorbar": {
              "outlinewidth": 0,
              "ticks": ""
             }
            },
            "type": "scatterternary"
           }
          ],
          "surface": [
           {
            "colorbar": {
             "outlinewidth": 0,
             "ticks": ""
            },
            "colorscale": [
             [
              0,
              "#0d0887"
             ],
             [
              0.1111111111111111,
              "#46039f"
             ],
             [
              0.2222222222222222,
              "#7201a8"
             ],
             [
              0.3333333333333333,
              "#9c179e"
             ],
             [
              0.4444444444444444,
              "#bd3786"
             ],
             [
              0.5555555555555556,
              "#d8576b"
             ],
             [
              0.6666666666666666,
              "#ed7953"
             ],
             [
              0.7777777777777778,
              "#fb9f3a"
             ],
             [
              0.8888888888888888,
              "#fdca26"
             ],
             [
              1,
              "#f0f921"
             ]
            ],
            "type": "surface"
           }
          ],
          "table": [
           {
            "cells": {
             "fill": {
              "color": "#EBF0F8"
             },
             "line": {
              "color": "white"
             }
            },
            "header": {
             "fill": {
              "color": "#C8D4E3"
             },
             "line": {
              "color": "white"
             }
            },
            "type": "table"
           }
          ]
         },
         "layout": {
          "annotationdefaults": {
           "arrowcolor": "#2a3f5f",
           "arrowhead": 0,
           "arrowwidth": 1
          },
          "coloraxis": {
           "colorbar": {
            "outlinewidth": 0,
            "ticks": ""
           }
          },
          "colorscale": {
           "diverging": [
            [
             0,
             "#8e0152"
            ],
            [
             0.1,
             "#c51b7d"
            ],
            [
             0.2,
             "#de77ae"
            ],
            [
             0.3,
             "#f1b6da"
            ],
            [
             0.4,
             "#fde0ef"
            ],
            [
             0.5,
             "#f7f7f7"
            ],
            [
             0.6,
             "#e6f5d0"
            ],
            [
             0.7,
             "#b8e186"
            ],
            [
             0.8,
             "#7fbc41"
            ],
            [
             0.9,
             "#4d9221"
            ],
            [
             1,
             "#276419"
            ]
           ],
           "sequential": [
            [
             0,
             "#0d0887"
            ],
            [
             0.1111111111111111,
             "#46039f"
            ],
            [
             0.2222222222222222,
             "#7201a8"
            ],
            [
             0.3333333333333333,
             "#9c179e"
            ],
            [
             0.4444444444444444,
             "#bd3786"
            ],
            [
             0.5555555555555556,
             "#d8576b"
            ],
            [
             0.6666666666666666,
             "#ed7953"
            ],
            [
             0.7777777777777778,
             "#fb9f3a"
            ],
            [
             0.8888888888888888,
             "#fdca26"
            ],
            [
             1,
             "#f0f921"
            ]
           ],
           "sequentialminus": [
            [
             0,
             "#0d0887"
            ],
            [
             0.1111111111111111,
             "#46039f"
            ],
            [
             0.2222222222222222,
             "#7201a8"
            ],
            [
             0.3333333333333333,
             "#9c179e"
            ],
            [
             0.4444444444444444,
             "#bd3786"
            ],
            [
             0.5555555555555556,
             "#d8576b"
            ],
            [
             0.6666666666666666,
             "#ed7953"
            ],
            [
             0.7777777777777778,
             "#fb9f3a"
            ],
            [
             0.8888888888888888,
             "#fdca26"
            ],
            [
             1,
             "#f0f921"
            ]
           ]
          },
          "colorway": [
           "#636efa",
           "#EF553B",
           "#00cc96",
           "#ab63fa",
           "#FFA15A",
           "#19d3f3",
           "#FF6692",
           "#B6E880",
           "#FF97FF",
           "#FECB52"
          ],
          "font": {
           "color": "#2a3f5f"
          },
          "geo": {
           "bgcolor": "white",
           "lakecolor": "white",
           "landcolor": "#E5ECF6",
           "showlakes": true,
           "showland": true,
           "subunitcolor": "white"
          },
          "hoverlabel": {
           "align": "left"
          },
          "hovermode": "closest",
          "mapbox": {
           "style": "light"
          },
          "paper_bgcolor": "white",
          "plot_bgcolor": "#E5ECF6",
          "polar": {
           "angularaxis": {
            "gridcolor": "white",
            "linecolor": "white",
            "ticks": ""
           },
           "bgcolor": "#E5ECF6",
           "radialaxis": {
            "gridcolor": "white",
            "linecolor": "white",
            "ticks": ""
           }
          },
          "scene": {
           "xaxis": {
            "backgroundcolor": "#E5ECF6",
            "gridcolor": "white",
            "gridwidth": 2,
            "linecolor": "white",
            "showbackground": true,
            "ticks": "",
            "zerolinecolor": "white"
           },
           "yaxis": {
            "backgroundcolor": "#E5ECF6",
            "gridcolor": "white",
            "gridwidth": 2,
            "linecolor": "white",
            "showbackground": true,
            "ticks": "",
            "zerolinecolor": "white"
           },
           "zaxis": {
            "backgroundcolor": "#E5ECF6",
            "gridcolor": "white",
            "gridwidth": 2,
            "linecolor": "white",
            "showbackground": true,
            "ticks": "",
            "zerolinecolor": "white"
           }
          },
          "shapedefaults": {
           "line": {
            "color": "#2a3f5f"
           }
          },
          "ternary": {
           "aaxis": {
            "gridcolor": "white",
            "linecolor": "white",
            "ticks": ""
           },
           "baxis": {
            "gridcolor": "white",
            "linecolor": "white",
            "ticks": ""
           },
           "bgcolor": "#E5ECF6",
           "caxis": {
            "gridcolor": "white",
            "linecolor": "white",
            "ticks": ""
           }
          },
          "title": {
           "x": 0.05
          },
          "xaxis": {
           "automargin": true,
           "gridcolor": "white",
           "linecolor": "white",
           "ticks": "",
           "title": {
            "standoff": 15
           },
           "zerolinecolor": "white",
           "zerolinewidth": 2
          },
          "yaxis": {
           "automargin": true,
           "gridcolor": "white",
           "linecolor": "white",
           "ticks": "",
           "title": {
            "standoff": 15
           },
           "zerolinecolor": "white",
           "zerolinewidth": 2
          }
         }
        },
        "title": {
         "font": {
          "color": "#4D5663"
         }
        },
        "xaxis": {
         "gridcolor": "#E1E5ED",
         "showgrid": true,
         "tickfont": {
          "color": "#4D5663"
         },
         "title": {
          "font": {
           "color": "#4D5663"
          },
          "text": ""
         },
         "zerolinecolor": "#E1E5ED"
        },
        "yaxis": {
         "gridcolor": "#E1E5ED",
         "showgrid": true,
         "tickfont": {
          "color": "#4D5663"
         },
         "title": {
          "font": {
           "color": "#4D5663"
          },
          "text": ""
         },
         "zerolinecolor": "#E1E5ED"
        }
       }
      },
      "text/html": [
       "<div>\n",
       "        \n",
       "        \n",
       "            <div id=\"b82c470b-9c96-4aec-a413-efd622119b05\" class=\"plotly-graph-div\" style=\"height:525px; width:100%;\"></div>\n",
       "            <script type=\"text/javascript\">\n",
       "                require([\"plotly\"], function(Plotly) {\n",
       "                    window.PLOTLYENV=window.PLOTLYENV || {};\n",
       "                    window.PLOTLYENV.BASE_URL='https://plot.ly';\n",
       "                    \n",
       "                if (document.getElementById(\"b82c470b-9c96-4aec-a413-efd622119b05\")) {\n",
       "                    Plotly.newPlot(\n",
       "                        'b82c470b-9c96-4aec-a413-efd622119b05',\n",
       "                        [{\"marker\": {\"color\": \"rgba(255, 153, 51, 0.6)\", \"line\": {\"color\": \"rgba(255, 153, 51, 1.0)\", \"width\": 1}}, \"name\": \"Values\", \"orientation\": \"v\", \"text\": \"\", \"type\": \"bar\", \"x\": [\"A\", \"B\", \"C\"], \"y\": [32, 43, 50]}],\n",
       "                        {\"legend\": {\"bgcolor\": \"#F5F6F9\", \"font\": {\"color\": \"#4D5663\"}}, \"paper_bgcolor\": \"#F5F6F9\", \"plot_bgcolor\": \"#F5F6F9\", \"template\": {\"data\": {\"bar\": [{\"error_x\": {\"color\": \"#2a3f5f\"}, \"error_y\": {\"color\": \"#2a3f5f\"}, \"marker\": {\"line\": {\"color\": \"#E5ECF6\", \"width\": 0.5}}, \"type\": \"bar\"}], \"barpolar\": [{\"marker\": {\"line\": {\"color\": \"#E5ECF6\", \"width\": 0.5}}, \"type\": \"barpolar\"}], \"carpet\": [{\"aaxis\": {\"endlinecolor\": \"#2a3f5f\", \"gridcolor\": \"white\", \"linecolor\": \"white\", \"minorgridcolor\": \"white\", \"startlinecolor\": \"#2a3f5f\"}, \"baxis\": {\"endlinecolor\": \"#2a3f5f\", \"gridcolor\": \"white\", \"linecolor\": \"white\", \"minorgridcolor\": \"white\", \"startlinecolor\": \"#2a3f5f\"}, \"type\": \"carpet\"}], \"choropleth\": [{\"colorbar\": {\"outlinewidth\": 0, \"ticks\": \"\"}, \"type\": \"choropleth\"}], \"contour\": [{\"colorbar\": {\"outlinewidth\": 0, \"ticks\": \"\"}, \"colorscale\": [[0.0, \"#0d0887\"], [0.1111111111111111, \"#46039f\"], [0.2222222222222222, \"#7201a8\"], [0.3333333333333333, \"#9c179e\"], [0.4444444444444444, \"#bd3786\"], [0.5555555555555556, \"#d8576b\"], [0.6666666666666666, \"#ed7953\"], [0.7777777777777778, \"#fb9f3a\"], [0.8888888888888888, \"#fdca26\"], [1.0, \"#f0f921\"]], \"type\": \"contour\"}], \"contourcarpet\": [{\"colorbar\": {\"outlinewidth\": 0, \"ticks\": \"\"}, \"type\": \"contourcarpet\"}], \"heatmap\": [{\"colorbar\": {\"outlinewidth\": 0, \"ticks\": \"\"}, \"colorscale\": [[0.0, \"#0d0887\"], [0.1111111111111111, \"#46039f\"], [0.2222222222222222, \"#7201a8\"], [0.3333333333333333, \"#9c179e\"], [0.4444444444444444, \"#bd3786\"], [0.5555555555555556, \"#d8576b\"], [0.6666666666666666, \"#ed7953\"], [0.7777777777777778, \"#fb9f3a\"], [0.8888888888888888, \"#fdca26\"], [1.0, \"#f0f921\"]], \"type\": \"heatmap\"}], \"heatmapgl\": [{\"colorbar\": {\"outlinewidth\": 0, \"ticks\": \"\"}, \"colorscale\": [[0.0, \"#0d0887\"], [0.1111111111111111, \"#46039f\"], [0.2222222222222222, \"#7201a8\"], [0.3333333333333333, \"#9c179e\"], [0.4444444444444444, \"#bd3786\"], [0.5555555555555556, \"#d8576b\"], [0.6666666666666666, \"#ed7953\"], [0.7777777777777778, \"#fb9f3a\"], [0.8888888888888888, \"#fdca26\"], [1.0, \"#f0f921\"]], \"type\": \"heatmapgl\"}], \"histogram\": [{\"marker\": {\"colorbar\": {\"outlinewidth\": 0, \"ticks\": \"\"}}, \"type\": \"histogram\"}], \"histogram2d\": [{\"colorbar\": {\"outlinewidth\": 0, \"ticks\": \"\"}, \"colorscale\": [[0.0, \"#0d0887\"], [0.1111111111111111, \"#46039f\"], [0.2222222222222222, \"#7201a8\"], [0.3333333333333333, \"#9c179e\"], [0.4444444444444444, \"#bd3786\"], [0.5555555555555556, \"#d8576b\"], [0.6666666666666666, \"#ed7953\"], [0.7777777777777778, \"#fb9f3a\"], [0.8888888888888888, \"#fdca26\"], [1.0, \"#f0f921\"]], \"type\": \"histogram2d\"}], \"histogram2dcontour\": [{\"colorbar\": {\"outlinewidth\": 0, \"ticks\": \"\"}, \"colorscale\": [[0.0, \"#0d0887\"], [0.1111111111111111, \"#46039f\"], [0.2222222222222222, \"#7201a8\"], [0.3333333333333333, \"#9c179e\"], [0.4444444444444444, \"#bd3786\"], [0.5555555555555556, \"#d8576b\"], [0.6666666666666666, \"#ed7953\"], [0.7777777777777778, \"#fb9f3a\"], [0.8888888888888888, \"#fdca26\"], [1.0, \"#f0f921\"]], \"type\": \"histogram2dcontour\"}], \"mesh3d\": [{\"colorbar\": {\"outlinewidth\": 0, \"ticks\": \"\"}, \"type\": \"mesh3d\"}], \"parcoords\": [{\"line\": {\"colorbar\": {\"outlinewidth\": 0, \"ticks\": \"\"}}, \"type\": \"parcoords\"}], \"pie\": [{\"automargin\": true, \"type\": \"pie\"}], \"scatter\": [{\"marker\": {\"colorbar\": {\"outlinewidth\": 0, \"ticks\": \"\"}}, \"type\": \"scatter\"}], \"scatter3d\": [{\"line\": {\"colorbar\": {\"outlinewidth\": 0, \"ticks\": \"\"}}, \"marker\": {\"colorbar\": {\"outlinewidth\": 0, \"ticks\": \"\"}}, \"type\": \"scatter3d\"}], \"scattercarpet\": [{\"marker\": {\"colorbar\": {\"outlinewidth\": 0, \"ticks\": \"\"}}, \"type\": \"scattercarpet\"}], \"scattergeo\": [{\"marker\": {\"colorbar\": {\"outlinewidth\": 0, \"ticks\": \"\"}}, \"type\": \"scattergeo\"}], \"scattergl\": [{\"marker\": {\"colorbar\": {\"outlinewidth\": 0, \"ticks\": \"\"}}, \"type\": \"scattergl\"}], \"scattermapbox\": [{\"marker\": {\"colorbar\": {\"outlinewidth\": 0, \"ticks\": \"\"}}, \"type\": \"scattermapbox\"}], \"scatterpolar\": [{\"marker\": {\"colorbar\": {\"outlinewidth\": 0, \"ticks\": \"\"}}, \"type\": \"scatterpolar\"}], \"scatterpolargl\": [{\"marker\": {\"colorbar\": {\"outlinewidth\": 0, \"ticks\": \"\"}}, \"type\": \"scatterpolargl\"}], \"scatterternary\": [{\"marker\": {\"colorbar\": {\"outlinewidth\": 0, \"ticks\": \"\"}}, \"type\": \"scatterternary\"}], \"surface\": [{\"colorbar\": {\"outlinewidth\": 0, \"ticks\": \"\"}, \"colorscale\": [[0.0, \"#0d0887\"], [0.1111111111111111, \"#46039f\"], [0.2222222222222222, \"#7201a8\"], [0.3333333333333333, \"#9c179e\"], [0.4444444444444444, \"#bd3786\"], [0.5555555555555556, \"#d8576b\"], [0.6666666666666666, \"#ed7953\"], [0.7777777777777778, \"#fb9f3a\"], [0.8888888888888888, \"#fdca26\"], [1.0, \"#f0f921\"]], \"type\": \"surface\"}], \"table\": [{\"cells\": {\"fill\": {\"color\": \"#EBF0F8\"}, \"line\": {\"color\": \"white\"}}, \"header\": {\"fill\": {\"color\": \"#C8D4E3\"}, \"line\": {\"color\": \"white\"}}, \"type\": \"table\"}]}, \"layout\": {\"annotationdefaults\": {\"arrowcolor\": \"#2a3f5f\", \"arrowhead\": 0, \"arrowwidth\": 1}, \"coloraxis\": {\"colorbar\": {\"outlinewidth\": 0, \"ticks\": \"\"}}, \"colorscale\": {\"diverging\": [[0, \"#8e0152\"], [0.1, \"#c51b7d\"], [0.2, \"#de77ae\"], [0.3, \"#f1b6da\"], [0.4, \"#fde0ef\"], [0.5, \"#f7f7f7\"], [0.6, \"#e6f5d0\"], [0.7, \"#b8e186\"], [0.8, \"#7fbc41\"], [0.9, \"#4d9221\"], [1, \"#276419\"]], \"sequential\": [[0.0, \"#0d0887\"], [0.1111111111111111, \"#46039f\"], [0.2222222222222222, \"#7201a8\"], [0.3333333333333333, \"#9c179e\"], [0.4444444444444444, \"#bd3786\"], [0.5555555555555556, \"#d8576b\"], [0.6666666666666666, \"#ed7953\"], [0.7777777777777778, \"#fb9f3a\"], [0.8888888888888888, \"#fdca26\"], [1.0, \"#f0f921\"]], \"sequentialminus\": [[0.0, \"#0d0887\"], [0.1111111111111111, \"#46039f\"], [0.2222222222222222, \"#7201a8\"], [0.3333333333333333, \"#9c179e\"], [0.4444444444444444, \"#bd3786\"], [0.5555555555555556, \"#d8576b\"], [0.6666666666666666, \"#ed7953\"], [0.7777777777777778, \"#fb9f3a\"], [0.8888888888888888, \"#fdca26\"], [1.0, \"#f0f921\"]]}, \"colorway\": [\"#636efa\", \"#EF553B\", \"#00cc96\", \"#ab63fa\", \"#FFA15A\", \"#19d3f3\", \"#FF6692\", \"#B6E880\", \"#FF97FF\", \"#FECB52\"], \"font\": {\"color\": \"#2a3f5f\"}, \"geo\": {\"bgcolor\": \"white\", \"lakecolor\": \"white\", \"landcolor\": \"#E5ECF6\", \"showlakes\": true, \"showland\": true, \"subunitcolor\": \"white\"}, \"hoverlabel\": {\"align\": \"left\"}, \"hovermode\": \"closest\", \"mapbox\": {\"style\": \"light\"}, \"paper_bgcolor\": \"white\", \"plot_bgcolor\": \"#E5ECF6\", \"polar\": {\"angularaxis\": {\"gridcolor\": \"white\", \"linecolor\": \"white\", \"ticks\": \"\"}, \"bgcolor\": \"#E5ECF6\", \"radialaxis\": {\"gridcolor\": \"white\", \"linecolor\": \"white\", \"ticks\": \"\"}}, \"scene\": {\"xaxis\": {\"backgroundcolor\": \"#E5ECF6\", \"gridcolor\": \"white\", \"gridwidth\": 2, \"linecolor\": \"white\", \"showbackground\": true, \"ticks\": \"\", \"zerolinecolor\": \"white\"}, \"yaxis\": {\"backgroundcolor\": \"#E5ECF6\", \"gridcolor\": \"white\", \"gridwidth\": 2, \"linecolor\": \"white\", \"showbackground\": true, \"ticks\": \"\", \"zerolinecolor\": \"white\"}, \"zaxis\": {\"backgroundcolor\": \"#E5ECF6\", \"gridcolor\": \"white\", \"gridwidth\": 2, \"linecolor\": \"white\", \"showbackground\": true, \"ticks\": \"\", \"zerolinecolor\": \"white\"}}, \"shapedefaults\": {\"line\": {\"color\": \"#2a3f5f\"}}, \"ternary\": {\"aaxis\": {\"gridcolor\": \"white\", \"linecolor\": \"white\", \"ticks\": \"\"}, \"baxis\": {\"gridcolor\": \"white\", \"linecolor\": \"white\", \"ticks\": \"\"}, \"bgcolor\": \"#E5ECF6\", \"caxis\": {\"gridcolor\": \"white\", \"linecolor\": \"white\", \"ticks\": \"\"}}, \"title\": {\"x\": 0.05}, \"xaxis\": {\"automargin\": true, \"gridcolor\": \"white\", \"linecolor\": \"white\", \"ticks\": \"\", \"title\": {\"standoff\": 15}, \"zerolinecolor\": \"white\", \"zerolinewidth\": 2}, \"yaxis\": {\"automargin\": true, \"gridcolor\": \"white\", \"linecolor\": \"white\", \"ticks\": \"\", \"title\": {\"standoff\": 15}, \"zerolinecolor\": \"white\", \"zerolinewidth\": 2}}}, \"title\": {\"font\": {\"color\": \"#4D5663\"}}, \"xaxis\": {\"gridcolor\": \"#E1E5ED\", \"showgrid\": true, \"tickfont\": {\"color\": \"#4D5663\"}, \"title\": {\"font\": {\"color\": \"#4D5663\"}, \"text\": \"\"}, \"zerolinecolor\": \"#E1E5ED\"}, \"yaxis\": {\"gridcolor\": \"#E1E5ED\", \"showgrid\": true, \"tickfont\": {\"color\": \"#4D5663\"}, \"title\": {\"font\": {\"color\": \"#4D5663\"}, \"text\": \"\"}, \"zerolinecolor\": \"#E1E5ED\"}},\n",
       "                        {\"showLink\": true, \"linkText\": \"Export to plot.ly\", \"plotlyServerURL\": \"https://plot.ly\", \"responsive\": true}\n",
       "                    ).then(function(){\n",
       "                            \n",
       "var gd = document.getElementById('b82c470b-9c96-4aec-a413-efd622119b05');\n",
       "var x = new MutationObserver(function (mutations, observer) {{\n",
       "        var display = window.getComputedStyle(gd).display;\n",
       "        if (!display || display === 'none') {{\n",
       "            console.log([gd, 'removed!']);\n",
       "            Plotly.purge(gd);\n",
       "            observer.disconnect();\n",
       "        }}\n",
       "}});\n",
       "\n",
       "// Listen for the removal of the full notebook cells\n",
       "var notebookContainer = gd.closest('#notebook-container');\n",
       "if (notebookContainer) {{\n",
       "    x.observe(notebookContainer, {childList: true});\n",
       "}}\n",
       "\n",
       "// Listen for the clearing of the current output cell\n",
       "var outputEl = gd.closest('.output');\n",
       "if (outputEl) {{\n",
       "    x.observe(outputEl, {childList: true});\n",
       "}}\n",
       "\n",
       "                        })\n",
       "                };\n",
       "                });\n",
       "            </script>\n",
       "        </div>"
      ]
     },
     "metadata": {},
     "output_type": "display_data"
    }
   ],
   "source": [
    "df2.iplot(kind='bar',x='Category',y='Values')"
   ]
  },
  {
   "cell_type": "code",
   "execution_count": 17,
   "metadata": {},
   "outputs": [
    {
     "data": {
      "application/vnd.plotly.v1+json": {
       "config": {
        "linkText": "Export to plot.ly",
        "plotlyServerURL": "https://plot.ly",
        "showLink": true
       },
       "data": [
        {
         "marker": {
          "color": "rgba(255, 153, 51, 0.6)",
          "line": {
           "color": "rgba(255, 153, 51, 1.0)",
           "width": 1
          }
         },
         "name": "None",
         "orientation": "v",
         "text": "",
         "type": "bar",
         "x": [
          "A",
          "B",
          "C",
          "D"
         ],
         "y": [
          4.632830765137505,
          -0.83501676321456,
          6.101035444603983,
          1.691435732818222
         ]
        }
       ],
       "layout": {
        "legend": {
         "bgcolor": "#F5F6F9",
         "font": {
          "color": "#4D5663"
         }
        },
        "paper_bgcolor": "#F5F6F9",
        "plot_bgcolor": "#F5F6F9",
        "template": {
         "data": {
          "bar": [
           {
            "error_x": {
             "color": "#2a3f5f"
            },
            "error_y": {
             "color": "#2a3f5f"
            },
            "marker": {
             "line": {
              "color": "#E5ECF6",
              "width": 0.5
             }
            },
            "type": "bar"
           }
          ],
          "barpolar": [
           {
            "marker": {
             "line": {
              "color": "#E5ECF6",
              "width": 0.5
             }
            },
            "type": "barpolar"
           }
          ],
          "carpet": [
           {
            "aaxis": {
             "endlinecolor": "#2a3f5f",
             "gridcolor": "white",
             "linecolor": "white",
             "minorgridcolor": "white",
             "startlinecolor": "#2a3f5f"
            },
            "baxis": {
             "endlinecolor": "#2a3f5f",
             "gridcolor": "white",
             "linecolor": "white",
             "minorgridcolor": "white",
             "startlinecolor": "#2a3f5f"
            },
            "type": "carpet"
           }
          ],
          "choropleth": [
           {
            "colorbar": {
             "outlinewidth": 0,
             "ticks": ""
            },
            "type": "choropleth"
           }
          ],
          "contour": [
           {
            "colorbar": {
             "outlinewidth": 0,
             "ticks": ""
            },
            "colorscale": [
             [
              0,
              "#0d0887"
             ],
             [
              0.1111111111111111,
              "#46039f"
             ],
             [
              0.2222222222222222,
              "#7201a8"
             ],
             [
              0.3333333333333333,
              "#9c179e"
             ],
             [
              0.4444444444444444,
              "#bd3786"
             ],
             [
              0.5555555555555556,
              "#d8576b"
             ],
             [
              0.6666666666666666,
              "#ed7953"
             ],
             [
              0.7777777777777778,
              "#fb9f3a"
             ],
             [
              0.8888888888888888,
              "#fdca26"
             ],
             [
              1,
              "#f0f921"
             ]
            ],
            "type": "contour"
           }
          ],
          "contourcarpet": [
           {
            "colorbar": {
             "outlinewidth": 0,
             "ticks": ""
            },
            "type": "contourcarpet"
           }
          ],
          "heatmap": [
           {
            "colorbar": {
             "outlinewidth": 0,
             "ticks": ""
            },
            "colorscale": [
             [
              0,
              "#0d0887"
             ],
             [
              0.1111111111111111,
              "#46039f"
             ],
             [
              0.2222222222222222,
              "#7201a8"
             ],
             [
              0.3333333333333333,
              "#9c179e"
             ],
             [
              0.4444444444444444,
              "#bd3786"
             ],
             [
              0.5555555555555556,
              "#d8576b"
             ],
             [
              0.6666666666666666,
              "#ed7953"
             ],
             [
              0.7777777777777778,
              "#fb9f3a"
             ],
             [
              0.8888888888888888,
              "#fdca26"
             ],
             [
              1,
              "#f0f921"
             ]
            ],
            "type": "heatmap"
           }
          ],
          "heatmapgl": [
           {
            "colorbar": {
             "outlinewidth": 0,
             "ticks": ""
            },
            "colorscale": [
             [
              0,
              "#0d0887"
             ],
             [
              0.1111111111111111,
              "#46039f"
             ],
             [
              0.2222222222222222,
              "#7201a8"
             ],
             [
              0.3333333333333333,
              "#9c179e"
             ],
             [
              0.4444444444444444,
              "#bd3786"
             ],
             [
              0.5555555555555556,
              "#d8576b"
             ],
             [
              0.6666666666666666,
              "#ed7953"
             ],
             [
              0.7777777777777778,
              "#fb9f3a"
             ],
             [
              0.8888888888888888,
              "#fdca26"
             ],
             [
              1,
              "#f0f921"
             ]
            ],
            "type": "heatmapgl"
           }
          ],
          "histogram": [
           {
            "marker": {
             "colorbar": {
              "outlinewidth": 0,
              "ticks": ""
             }
            },
            "type": "histogram"
           }
          ],
          "histogram2d": [
           {
            "colorbar": {
             "outlinewidth": 0,
             "ticks": ""
            },
            "colorscale": [
             [
              0,
              "#0d0887"
             ],
             [
              0.1111111111111111,
              "#46039f"
             ],
             [
              0.2222222222222222,
              "#7201a8"
             ],
             [
              0.3333333333333333,
              "#9c179e"
             ],
             [
              0.4444444444444444,
              "#bd3786"
             ],
             [
              0.5555555555555556,
              "#d8576b"
             ],
             [
              0.6666666666666666,
              "#ed7953"
             ],
             [
              0.7777777777777778,
              "#fb9f3a"
             ],
             [
              0.8888888888888888,
              "#fdca26"
             ],
             [
              1,
              "#f0f921"
             ]
            ],
            "type": "histogram2d"
           }
          ],
          "histogram2dcontour": [
           {
            "colorbar": {
             "outlinewidth": 0,
             "ticks": ""
            },
            "colorscale": [
             [
              0,
              "#0d0887"
             ],
             [
              0.1111111111111111,
              "#46039f"
             ],
             [
              0.2222222222222222,
              "#7201a8"
             ],
             [
              0.3333333333333333,
              "#9c179e"
             ],
             [
              0.4444444444444444,
              "#bd3786"
             ],
             [
              0.5555555555555556,
              "#d8576b"
             ],
             [
              0.6666666666666666,
              "#ed7953"
             ],
             [
              0.7777777777777778,
              "#fb9f3a"
             ],
             [
              0.8888888888888888,
              "#fdca26"
             ],
             [
              1,
              "#f0f921"
             ]
            ],
            "type": "histogram2dcontour"
           }
          ],
          "mesh3d": [
           {
            "colorbar": {
             "outlinewidth": 0,
             "ticks": ""
            },
            "type": "mesh3d"
           }
          ],
          "parcoords": [
           {
            "line": {
             "colorbar": {
              "outlinewidth": 0,
              "ticks": ""
             }
            },
            "type": "parcoords"
           }
          ],
          "pie": [
           {
            "automargin": true,
            "type": "pie"
           }
          ],
          "scatter": [
           {
            "marker": {
             "colorbar": {
              "outlinewidth": 0,
              "ticks": ""
             }
            },
            "type": "scatter"
           }
          ],
          "scatter3d": [
           {
            "line": {
             "colorbar": {
              "outlinewidth": 0,
              "ticks": ""
             }
            },
            "marker": {
             "colorbar": {
              "outlinewidth": 0,
              "ticks": ""
             }
            },
            "type": "scatter3d"
           }
          ],
          "scattercarpet": [
           {
            "marker": {
             "colorbar": {
              "outlinewidth": 0,
              "ticks": ""
             }
            },
            "type": "scattercarpet"
           }
          ],
          "scattergeo": [
           {
            "marker": {
             "colorbar": {
              "outlinewidth": 0,
              "ticks": ""
             }
            },
            "type": "scattergeo"
           }
          ],
          "scattergl": [
           {
            "marker": {
             "colorbar": {
              "outlinewidth": 0,
              "ticks": ""
             }
            },
            "type": "scattergl"
           }
          ],
          "scattermapbox": [
           {
            "marker": {
             "colorbar": {
              "outlinewidth": 0,
              "ticks": ""
             }
            },
            "type": "scattermapbox"
           }
          ],
          "scatterpolar": [
           {
            "marker": {
             "colorbar": {
              "outlinewidth": 0,
              "ticks": ""
             }
            },
            "type": "scatterpolar"
           }
          ],
          "scatterpolargl": [
           {
            "marker": {
             "colorbar": {
              "outlinewidth": 0,
              "ticks": ""
             }
            },
            "type": "scatterpolargl"
           }
          ],
          "scatterternary": [
           {
            "marker": {
             "colorbar": {
              "outlinewidth": 0,
              "ticks": ""
             }
            },
            "type": "scatterternary"
           }
          ],
          "surface": [
           {
            "colorbar": {
             "outlinewidth": 0,
             "ticks": ""
            },
            "colorscale": [
             [
              0,
              "#0d0887"
             ],
             [
              0.1111111111111111,
              "#46039f"
             ],
             [
              0.2222222222222222,
              "#7201a8"
             ],
             [
              0.3333333333333333,
              "#9c179e"
             ],
             [
              0.4444444444444444,
              "#bd3786"
             ],
             [
              0.5555555555555556,
              "#d8576b"
             ],
             [
              0.6666666666666666,
              "#ed7953"
             ],
             [
              0.7777777777777778,
              "#fb9f3a"
             ],
             [
              0.8888888888888888,
              "#fdca26"
             ],
             [
              1,
              "#f0f921"
             ]
            ],
            "type": "surface"
           }
          ],
          "table": [
           {
            "cells": {
             "fill": {
              "color": "#EBF0F8"
             },
             "line": {
              "color": "white"
             }
            },
            "header": {
             "fill": {
              "color": "#C8D4E3"
             },
             "line": {
              "color": "white"
             }
            },
            "type": "table"
           }
          ]
         },
         "layout": {
          "annotationdefaults": {
           "arrowcolor": "#2a3f5f",
           "arrowhead": 0,
           "arrowwidth": 1
          },
          "coloraxis": {
           "colorbar": {
            "outlinewidth": 0,
            "ticks": ""
           }
          },
          "colorscale": {
           "diverging": [
            [
             0,
             "#8e0152"
            ],
            [
             0.1,
             "#c51b7d"
            ],
            [
             0.2,
             "#de77ae"
            ],
            [
             0.3,
             "#f1b6da"
            ],
            [
             0.4,
             "#fde0ef"
            ],
            [
             0.5,
             "#f7f7f7"
            ],
            [
             0.6,
             "#e6f5d0"
            ],
            [
             0.7,
             "#b8e186"
            ],
            [
             0.8,
             "#7fbc41"
            ],
            [
             0.9,
             "#4d9221"
            ],
            [
             1,
             "#276419"
            ]
           ],
           "sequential": [
            [
             0,
             "#0d0887"
            ],
            [
             0.1111111111111111,
             "#46039f"
            ],
            [
             0.2222222222222222,
             "#7201a8"
            ],
            [
             0.3333333333333333,
             "#9c179e"
            ],
            [
             0.4444444444444444,
             "#bd3786"
            ],
            [
             0.5555555555555556,
             "#d8576b"
            ],
            [
             0.6666666666666666,
             "#ed7953"
            ],
            [
             0.7777777777777778,
             "#fb9f3a"
            ],
            [
             0.8888888888888888,
             "#fdca26"
            ],
            [
             1,
             "#f0f921"
            ]
           ],
           "sequentialminus": [
            [
             0,
             "#0d0887"
            ],
            [
             0.1111111111111111,
             "#46039f"
            ],
            [
             0.2222222222222222,
             "#7201a8"
            ],
            [
             0.3333333333333333,
             "#9c179e"
            ],
            [
             0.4444444444444444,
             "#bd3786"
            ],
            [
             0.5555555555555556,
             "#d8576b"
            ],
            [
             0.6666666666666666,
             "#ed7953"
            ],
            [
             0.7777777777777778,
             "#fb9f3a"
            ],
            [
             0.8888888888888888,
             "#fdca26"
            ],
            [
             1,
             "#f0f921"
            ]
           ]
          },
          "colorway": [
           "#636efa",
           "#EF553B",
           "#00cc96",
           "#ab63fa",
           "#FFA15A",
           "#19d3f3",
           "#FF6692",
           "#B6E880",
           "#FF97FF",
           "#FECB52"
          ],
          "font": {
           "color": "#2a3f5f"
          },
          "geo": {
           "bgcolor": "white",
           "lakecolor": "white",
           "landcolor": "#E5ECF6",
           "showlakes": true,
           "showland": true,
           "subunitcolor": "white"
          },
          "hoverlabel": {
           "align": "left"
          },
          "hovermode": "closest",
          "mapbox": {
           "style": "light"
          },
          "paper_bgcolor": "white",
          "plot_bgcolor": "#E5ECF6",
          "polar": {
           "angularaxis": {
            "gridcolor": "white",
            "linecolor": "white",
            "ticks": ""
           },
           "bgcolor": "#E5ECF6",
           "radialaxis": {
            "gridcolor": "white",
            "linecolor": "white",
            "ticks": ""
           }
          },
          "scene": {
           "xaxis": {
            "backgroundcolor": "#E5ECF6",
            "gridcolor": "white",
            "gridwidth": 2,
            "linecolor": "white",
            "showbackground": true,
            "ticks": "",
            "zerolinecolor": "white"
           },
           "yaxis": {
            "backgroundcolor": "#E5ECF6",
            "gridcolor": "white",
            "gridwidth": 2,
            "linecolor": "white",
            "showbackground": true,
            "ticks": "",
            "zerolinecolor": "white"
           },
           "zaxis": {
            "backgroundcolor": "#E5ECF6",
            "gridcolor": "white",
            "gridwidth": 2,
            "linecolor": "white",
            "showbackground": true,
            "ticks": "",
            "zerolinecolor": "white"
           }
          },
          "shapedefaults": {
           "line": {
            "color": "#2a3f5f"
           }
          },
          "ternary": {
           "aaxis": {
            "gridcolor": "white",
            "linecolor": "white",
            "ticks": ""
           },
           "baxis": {
            "gridcolor": "white",
            "linecolor": "white",
            "ticks": ""
           },
           "bgcolor": "#E5ECF6",
           "caxis": {
            "gridcolor": "white",
            "linecolor": "white",
            "ticks": ""
           }
          },
          "title": {
           "x": 0.05
          },
          "xaxis": {
           "automargin": true,
           "gridcolor": "white",
           "linecolor": "white",
           "ticks": "",
           "title": {
            "standoff": 15
           },
           "zerolinecolor": "white",
           "zerolinewidth": 2
          },
          "yaxis": {
           "automargin": true,
           "gridcolor": "white",
           "linecolor": "white",
           "ticks": "",
           "title": {
            "standoff": 15
           },
           "zerolinecolor": "white",
           "zerolinewidth": 2
          }
         }
        },
        "title": {
         "font": {
          "color": "#4D5663"
         }
        },
        "xaxis": {
         "gridcolor": "#E1E5ED",
         "showgrid": true,
         "tickfont": {
          "color": "#4D5663"
         },
         "title": {
          "font": {
           "color": "#4D5663"
          },
          "text": ""
         },
         "zerolinecolor": "#E1E5ED"
        },
        "yaxis": {
         "gridcolor": "#E1E5ED",
         "showgrid": true,
         "tickfont": {
          "color": "#4D5663"
         },
         "title": {
          "font": {
           "color": "#4D5663"
          },
          "text": ""
         },
         "zerolinecolor": "#E1E5ED"
        }
       }
      },
      "text/html": [
       "<div>\n",
       "        \n",
       "        \n",
       "            <div id=\"75b93270-2ceb-4346-9304-76542f630eb4\" class=\"plotly-graph-div\" style=\"height:525px; width:100%;\"></div>\n",
       "            <script type=\"text/javascript\">\n",
       "                require([\"plotly\"], function(Plotly) {\n",
       "                    window.PLOTLYENV=window.PLOTLYENV || {};\n",
       "                    window.PLOTLYENV.BASE_URL='https://plot.ly';\n",
       "                    \n",
       "                if (document.getElementById(\"75b93270-2ceb-4346-9304-76542f630eb4\")) {\n",
       "                    Plotly.newPlot(\n",
       "                        '75b93270-2ceb-4346-9304-76542f630eb4',\n",
       "                        [{\"marker\": {\"color\": \"rgba(255, 153, 51, 0.6)\", \"line\": {\"color\": \"rgba(255, 153, 51, 1.0)\", \"width\": 1}}, \"name\": \"None\", \"orientation\": \"v\", \"text\": \"\", \"type\": \"bar\", \"x\": [\"A\", \"B\", \"C\", \"D\"], \"y\": [4.632830765137505, -0.83501676321456, 6.101035444603983, 1.691435732818222]}],\n",
       "                        {\"legend\": {\"bgcolor\": \"#F5F6F9\", \"font\": {\"color\": \"#4D5663\"}}, \"paper_bgcolor\": \"#F5F6F9\", \"plot_bgcolor\": \"#F5F6F9\", \"template\": {\"data\": {\"bar\": [{\"error_x\": {\"color\": \"#2a3f5f\"}, \"error_y\": {\"color\": \"#2a3f5f\"}, \"marker\": {\"line\": {\"color\": \"#E5ECF6\", \"width\": 0.5}}, \"type\": \"bar\"}], \"barpolar\": [{\"marker\": {\"line\": {\"color\": \"#E5ECF6\", \"width\": 0.5}}, \"type\": \"barpolar\"}], \"carpet\": [{\"aaxis\": {\"endlinecolor\": \"#2a3f5f\", \"gridcolor\": \"white\", \"linecolor\": \"white\", \"minorgridcolor\": \"white\", \"startlinecolor\": \"#2a3f5f\"}, \"baxis\": {\"endlinecolor\": \"#2a3f5f\", \"gridcolor\": \"white\", \"linecolor\": \"white\", \"minorgridcolor\": \"white\", \"startlinecolor\": \"#2a3f5f\"}, \"type\": \"carpet\"}], \"choropleth\": [{\"colorbar\": {\"outlinewidth\": 0, \"ticks\": \"\"}, \"type\": \"choropleth\"}], \"contour\": [{\"colorbar\": {\"outlinewidth\": 0, \"ticks\": \"\"}, \"colorscale\": [[0.0, \"#0d0887\"], [0.1111111111111111, \"#46039f\"], [0.2222222222222222, \"#7201a8\"], [0.3333333333333333, \"#9c179e\"], [0.4444444444444444, \"#bd3786\"], [0.5555555555555556, \"#d8576b\"], [0.6666666666666666, \"#ed7953\"], [0.7777777777777778, \"#fb9f3a\"], [0.8888888888888888, \"#fdca26\"], [1.0, \"#f0f921\"]], \"type\": \"contour\"}], \"contourcarpet\": [{\"colorbar\": {\"outlinewidth\": 0, \"ticks\": \"\"}, \"type\": \"contourcarpet\"}], \"heatmap\": [{\"colorbar\": {\"outlinewidth\": 0, \"ticks\": \"\"}, \"colorscale\": [[0.0, \"#0d0887\"], [0.1111111111111111, \"#46039f\"], [0.2222222222222222, \"#7201a8\"], [0.3333333333333333, \"#9c179e\"], [0.4444444444444444, \"#bd3786\"], [0.5555555555555556, \"#d8576b\"], [0.6666666666666666, \"#ed7953\"], [0.7777777777777778, \"#fb9f3a\"], [0.8888888888888888, \"#fdca26\"], [1.0, \"#f0f921\"]], \"type\": \"heatmap\"}], \"heatmapgl\": [{\"colorbar\": {\"outlinewidth\": 0, \"ticks\": \"\"}, \"colorscale\": [[0.0, \"#0d0887\"], [0.1111111111111111, \"#46039f\"], [0.2222222222222222, \"#7201a8\"], [0.3333333333333333, \"#9c179e\"], [0.4444444444444444, \"#bd3786\"], [0.5555555555555556, \"#d8576b\"], [0.6666666666666666, \"#ed7953\"], [0.7777777777777778, \"#fb9f3a\"], [0.8888888888888888, \"#fdca26\"], [1.0, \"#f0f921\"]], \"type\": \"heatmapgl\"}], \"histogram\": [{\"marker\": {\"colorbar\": {\"outlinewidth\": 0, \"ticks\": \"\"}}, \"type\": \"histogram\"}], \"histogram2d\": [{\"colorbar\": {\"outlinewidth\": 0, \"ticks\": \"\"}, \"colorscale\": [[0.0, \"#0d0887\"], [0.1111111111111111, \"#46039f\"], [0.2222222222222222, \"#7201a8\"], [0.3333333333333333, \"#9c179e\"], [0.4444444444444444, \"#bd3786\"], [0.5555555555555556, \"#d8576b\"], [0.6666666666666666, \"#ed7953\"], [0.7777777777777778, \"#fb9f3a\"], [0.8888888888888888, \"#fdca26\"], [1.0, \"#f0f921\"]], \"type\": \"histogram2d\"}], \"histogram2dcontour\": [{\"colorbar\": {\"outlinewidth\": 0, \"ticks\": \"\"}, \"colorscale\": [[0.0, \"#0d0887\"], [0.1111111111111111, \"#46039f\"], [0.2222222222222222, \"#7201a8\"], [0.3333333333333333, \"#9c179e\"], [0.4444444444444444, \"#bd3786\"], [0.5555555555555556, \"#d8576b\"], [0.6666666666666666, \"#ed7953\"], [0.7777777777777778, \"#fb9f3a\"], [0.8888888888888888, \"#fdca26\"], [1.0, \"#f0f921\"]], \"type\": \"histogram2dcontour\"}], \"mesh3d\": [{\"colorbar\": {\"outlinewidth\": 0, \"ticks\": \"\"}, \"type\": \"mesh3d\"}], \"parcoords\": [{\"line\": {\"colorbar\": {\"outlinewidth\": 0, \"ticks\": \"\"}}, \"type\": \"parcoords\"}], \"pie\": [{\"automargin\": true, \"type\": \"pie\"}], \"scatter\": [{\"marker\": {\"colorbar\": {\"outlinewidth\": 0, \"ticks\": \"\"}}, \"type\": \"scatter\"}], \"scatter3d\": [{\"line\": {\"colorbar\": {\"outlinewidth\": 0, \"ticks\": \"\"}}, \"marker\": {\"colorbar\": {\"outlinewidth\": 0, \"ticks\": \"\"}}, \"type\": \"scatter3d\"}], \"scattercarpet\": [{\"marker\": {\"colorbar\": {\"outlinewidth\": 0, \"ticks\": \"\"}}, \"type\": \"scattercarpet\"}], \"scattergeo\": [{\"marker\": {\"colorbar\": {\"outlinewidth\": 0, \"ticks\": \"\"}}, \"type\": \"scattergeo\"}], \"scattergl\": [{\"marker\": {\"colorbar\": {\"outlinewidth\": 0, \"ticks\": \"\"}}, \"type\": \"scattergl\"}], \"scattermapbox\": [{\"marker\": {\"colorbar\": {\"outlinewidth\": 0, \"ticks\": \"\"}}, \"type\": \"scattermapbox\"}], \"scatterpolar\": [{\"marker\": {\"colorbar\": {\"outlinewidth\": 0, \"ticks\": \"\"}}, \"type\": \"scatterpolar\"}], \"scatterpolargl\": [{\"marker\": {\"colorbar\": {\"outlinewidth\": 0, \"ticks\": \"\"}}, \"type\": \"scatterpolargl\"}], \"scatterternary\": [{\"marker\": {\"colorbar\": {\"outlinewidth\": 0, \"ticks\": \"\"}}, \"type\": \"scatterternary\"}], \"surface\": [{\"colorbar\": {\"outlinewidth\": 0, \"ticks\": \"\"}, \"colorscale\": [[0.0, \"#0d0887\"], [0.1111111111111111, \"#46039f\"], [0.2222222222222222, \"#7201a8\"], [0.3333333333333333, \"#9c179e\"], [0.4444444444444444, \"#bd3786\"], [0.5555555555555556, \"#d8576b\"], [0.6666666666666666, \"#ed7953\"], [0.7777777777777778, \"#fb9f3a\"], [0.8888888888888888, \"#fdca26\"], [1.0, \"#f0f921\"]], \"type\": \"surface\"}], \"table\": [{\"cells\": {\"fill\": {\"color\": \"#EBF0F8\"}, \"line\": {\"color\": \"white\"}}, \"header\": {\"fill\": {\"color\": \"#C8D4E3\"}, \"line\": {\"color\": \"white\"}}, \"type\": \"table\"}]}, \"layout\": {\"annotationdefaults\": {\"arrowcolor\": \"#2a3f5f\", \"arrowhead\": 0, \"arrowwidth\": 1}, \"coloraxis\": {\"colorbar\": {\"outlinewidth\": 0, \"ticks\": \"\"}}, \"colorscale\": {\"diverging\": [[0, \"#8e0152\"], [0.1, \"#c51b7d\"], [0.2, \"#de77ae\"], [0.3, \"#f1b6da\"], [0.4, \"#fde0ef\"], [0.5, \"#f7f7f7\"], [0.6, \"#e6f5d0\"], [0.7, \"#b8e186\"], [0.8, \"#7fbc41\"], [0.9, \"#4d9221\"], [1, \"#276419\"]], \"sequential\": [[0.0, \"#0d0887\"], [0.1111111111111111, \"#46039f\"], [0.2222222222222222, \"#7201a8\"], [0.3333333333333333, \"#9c179e\"], [0.4444444444444444, \"#bd3786\"], [0.5555555555555556, \"#d8576b\"], [0.6666666666666666, \"#ed7953\"], [0.7777777777777778, \"#fb9f3a\"], [0.8888888888888888, \"#fdca26\"], [1.0, \"#f0f921\"]], \"sequentialminus\": [[0.0, \"#0d0887\"], [0.1111111111111111, \"#46039f\"], [0.2222222222222222, \"#7201a8\"], [0.3333333333333333, \"#9c179e\"], [0.4444444444444444, \"#bd3786\"], [0.5555555555555556, \"#d8576b\"], [0.6666666666666666, \"#ed7953\"], [0.7777777777777778, \"#fb9f3a\"], [0.8888888888888888, \"#fdca26\"], [1.0, \"#f0f921\"]]}, \"colorway\": [\"#636efa\", \"#EF553B\", \"#00cc96\", \"#ab63fa\", \"#FFA15A\", \"#19d3f3\", \"#FF6692\", \"#B6E880\", \"#FF97FF\", \"#FECB52\"], \"font\": {\"color\": \"#2a3f5f\"}, \"geo\": {\"bgcolor\": \"white\", \"lakecolor\": \"white\", \"landcolor\": \"#E5ECF6\", \"showlakes\": true, \"showland\": true, \"subunitcolor\": \"white\"}, \"hoverlabel\": {\"align\": \"left\"}, \"hovermode\": \"closest\", \"mapbox\": {\"style\": \"light\"}, \"paper_bgcolor\": \"white\", \"plot_bgcolor\": \"#E5ECF6\", \"polar\": {\"angularaxis\": {\"gridcolor\": \"white\", \"linecolor\": \"white\", \"ticks\": \"\"}, \"bgcolor\": \"#E5ECF6\", \"radialaxis\": {\"gridcolor\": \"white\", \"linecolor\": \"white\", \"ticks\": \"\"}}, \"scene\": {\"xaxis\": {\"backgroundcolor\": \"#E5ECF6\", \"gridcolor\": \"white\", \"gridwidth\": 2, \"linecolor\": \"white\", \"showbackground\": true, \"ticks\": \"\", \"zerolinecolor\": \"white\"}, \"yaxis\": {\"backgroundcolor\": \"#E5ECF6\", \"gridcolor\": \"white\", \"gridwidth\": 2, \"linecolor\": \"white\", \"showbackground\": true, \"ticks\": \"\", \"zerolinecolor\": \"white\"}, \"zaxis\": {\"backgroundcolor\": \"#E5ECF6\", \"gridcolor\": \"white\", \"gridwidth\": 2, \"linecolor\": \"white\", \"showbackground\": true, \"ticks\": \"\", \"zerolinecolor\": \"white\"}}, \"shapedefaults\": {\"line\": {\"color\": \"#2a3f5f\"}}, \"ternary\": {\"aaxis\": {\"gridcolor\": \"white\", \"linecolor\": \"white\", \"ticks\": \"\"}, \"baxis\": {\"gridcolor\": \"white\", \"linecolor\": \"white\", \"ticks\": \"\"}, \"bgcolor\": \"#E5ECF6\", \"caxis\": {\"gridcolor\": \"white\", \"linecolor\": \"white\", \"ticks\": \"\"}}, \"title\": {\"x\": 0.05}, \"xaxis\": {\"automargin\": true, \"gridcolor\": \"white\", \"linecolor\": \"white\", \"ticks\": \"\", \"title\": {\"standoff\": 15}, \"zerolinecolor\": \"white\", \"zerolinewidth\": 2}, \"yaxis\": {\"automargin\": true, \"gridcolor\": \"white\", \"linecolor\": \"white\", \"ticks\": \"\", \"title\": {\"standoff\": 15}, \"zerolinecolor\": \"white\", \"zerolinewidth\": 2}}}, \"title\": {\"font\": {\"color\": \"#4D5663\"}}, \"xaxis\": {\"gridcolor\": \"#E1E5ED\", \"showgrid\": true, \"tickfont\": {\"color\": \"#4D5663\"}, \"title\": {\"font\": {\"color\": \"#4D5663\"}, \"text\": \"\"}, \"zerolinecolor\": \"#E1E5ED\"}, \"yaxis\": {\"gridcolor\": \"#E1E5ED\", \"showgrid\": true, \"tickfont\": {\"color\": \"#4D5663\"}, \"title\": {\"font\": {\"color\": \"#4D5663\"}, \"text\": \"\"}, \"zerolinecolor\": \"#E1E5ED\"}},\n",
       "                        {\"showLink\": true, \"linkText\": \"Export to plot.ly\", \"plotlyServerURL\": \"https://plot.ly\", \"responsive\": true}\n",
       "                    ).then(function(){\n",
       "                            \n",
       "var gd = document.getElementById('75b93270-2ceb-4346-9304-76542f630eb4');\n",
       "var x = new MutationObserver(function (mutations, observer) {{\n",
       "        var display = window.getComputedStyle(gd).display;\n",
       "        if (!display || display === 'none') {{\n",
       "            console.log([gd, 'removed!']);\n",
       "            Plotly.purge(gd);\n",
       "            observer.disconnect();\n",
       "        }}\n",
       "}});\n",
       "\n",
       "// Listen for the removal of the full notebook cells\n",
       "var notebookContainer = gd.closest('#notebook-container');\n",
       "if (notebookContainer) {{\n",
       "    x.observe(notebookContainer, {childList: true});\n",
       "}}\n",
       "\n",
       "// Listen for the clearing of the current output cell\n",
       "var outputEl = gd.closest('.output');\n",
       "if (outputEl) {{\n",
       "    x.observe(outputEl, {childList: true});\n",
       "}}\n",
       "\n",
       "                        })\n",
       "                };\n",
       "                });\n",
       "            </script>\n",
       "        </div>"
      ]
     },
     "metadata": {},
     "output_type": "display_data"
    }
   ],
   "source": [
    "df.sum().iplot(kind='bar')"
   ]
  },
  {
   "cell_type": "code",
   "execution_count": 18,
   "metadata": {},
   "outputs": [
    {
     "data": {
      "application/vnd.plotly.v1+json": {
       "config": {
        "linkText": "Export to plot.ly",
        "plotlyServerURL": "https://plot.ly",
        "showLink": true
       },
       "data": [
        {
         "boxpoints": false,
         "line": {
          "width": 1.3
         },
         "marker": {
          "color": "rgba(255, 153, 51, 1.0)"
         },
         "name": "A",
         "orientation": "v",
         "type": "box",
         "y": [
          -1.8375793829805152,
          -0.15949696869273136,
          1.1310371011634441,
          0.033424317827104935,
          -0.27266433823248903,
          -1.5266480612294526,
          0.6406900998232502,
          -1.2037810103452755,
          0.45766181096666353,
          -0.65756316944976,
          1.2254607006230938,
          -0.49670888312590306,
          0.9517977824412835,
          -0.4737685536624598,
          -0.18866034695016973,
          1.7707542889792907,
          0.6323242648780771,
          0.12204537313043434,
          -1.9034920234674675,
          -0.04442225969249496,
          0.15429995846266448,
          0.7932222997650096,
          2.539915784248557,
          -1.1930343034985709,
          -0.614857906207743,
          1.4806568174717332,
          -1.8648504458226827,
          -0.41509780444484906,
          -1.5902518624107531,
          -1.1668716248656292,
          0.7148812419826943,
          0.9205412994571905,
          -1.0552530177997501,
          -1.1144495047103273,
          -1.4148418771042273,
          -0.7978844421999658,
          -0.7196315490672652,
          -0.6581896684098428,
          -0.003017838744859791,
          1.000572700470973,
          0.03907023496823878,
          0.9445560069535803,
          -0.4370724628095535,
          -0.5308855796106563,
          0.40885528594580445,
          0.188730040054379,
          -0.7941436814811723,
          1.9071063059377538,
          -0.05371617887237018,
          -1.2180771449054735,
          -0.0027625945812005813,
          -0.7289781761912149,
          -1.5148040962595313,
          1.5310393005980325,
          1.2115849481386265,
          0.47883686689648225,
          -0.45499490210360916,
          -1.0189093313495297,
          -0.15728791717667132,
          -0.11127659476746542,
          0.8690846353904871,
          0.20354127289823257,
          -2.0630281790612797,
          1.3344770773409376,
          -1.6200000617491879,
          -0.23116693293656054,
          -0.6755590465420752,
          0.4685086761604976,
          0.49494635923821795,
          -0.005597955485651658,
          1.0885292455914743,
          -1.0407905089838017,
          -0.929490474183066,
          -1.015229473319679,
          1.8836505311940042,
          0.852998689782739,
          1.0753372020989056,
          1.4373344844109446,
          -0.03480585890954957,
          -0.37548221973787094,
          1.5645635392346884,
          1.758746465445413,
          -1.7330027977656584,
          -0.25500034465944543,
          -0.11760242138474251,
          1.9831290035306863,
          -1.6781345236672671,
          1.0916134309838674,
          -0.4986127299448885,
          0.4985659415525577,
          1.1762317481769409,
          -0.9905137465769372,
          -1.063065614167874,
          1.242282812838642,
          0.990357440665751,
          3.006402504672399,
          1.7946437084519817,
          1.2758239575605375,
          0.038206062830590415,
          -0.052200463798188414
         ]
        },
        {
         "boxpoints": false,
         "line": {
          "width": 1.3
         },
         "marker": {
          "color": "rgba(55, 128, 191, 1.0)"
         },
         "name": "B",
         "orientation": "v",
         "type": "box",
         "y": [
          1.7979066365959437,
          0.46285376386792,
          -1.186763222985012,
          -1.3069987790938424,
          0.2846992419759555,
          -0.46572268676860606,
          0.37506581218122054,
          0.04307716596099602,
          -0.10030470230806747,
          0.2253581478192807,
          1.5881375303218745,
          -0.7860510560549011,
          0.0709065210939935,
          1.3179919385263983,
          0.1911135355144382,
          -0.1659826156491933,
          0.1335520665302867,
          -1.3591338016683188,
          0.6810870536812119,
          -0.3210353527483331,
          -0.9898181449092167,
          -1.2243689025562479,
          0.9843652721650106,
          -1.2543373215912461,
          0.8715596268958955,
          1.3562385722623433,
          -0.2579451332063824,
          0.8699716121262567,
          1.248480225043317,
          -1.5952232935299056,
          -0.03397694249447452,
          -0.343267396460641,
          0.28802212629747814,
          -0.8593404698722109,
          -0.2530951725001365,
          -1.1386052562784248,
          0.38917661781477536,
          -0.9825733525869731,
          -0.31696837518324317,
          0.7990527808015294,
          1.5176967691503638,
          1.410126737765439,
          -0.2743896134901539,
          -0.6929350750237689,
          0.2936921575856845,
          0.8254128170753967,
          -0.38061138001210737,
          -1.029983050729118,
          0.5164862990891124,
          0.5294226142890159,
          1.3419954272688206,
          0.4908184159374298,
          0.49612404315739556,
          -1.5353261683128314,
          -0.23122135512542397,
          -0.969643060285253,
          -0.7905605694819513,
          0.6367390711248883,
          -1.1584050310341727,
          0.7132292476684078,
          0.5512209938581333,
          -1.2332536027280028,
          1.263445214176733,
          1.0355389031994173,
          -0.4385948782738462,
          1.2783266636003576,
          0.9694074826731098,
          -0.5354973913133867,
          0.3763906230930325,
          1.0822003941489435,
          0.7361046509510144,
          -0.4335373702666788,
          -0.17899964389897075,
          -0.3648809060196582,
          -0.32072220887824276,
          -0.02508944822472686,
          -0.5833657581143926,
          -0.3995712267987253,
          0.9009130860560229,
          -1.4986325461576935,
          -1.8715391056827866,
          2.8798459765859827,
          0.07355556328316204,
          -0.022392130905374747,
          -1.4390151669046745,
          -0.12588443717729894,
          -0.1749203096655581,
          0.5710963935160036,
          -0.8221985582564402,
          1.1613570625458303,
          0.7006283651400398,
          0.028200929375390538,
          -1.1587338283713418,
          0.18389562050698247,
          -0.9159351961730826,
          1.912535172503708,
          -1.8209107037327792,
          -2.2563632012174306,
          0.05798522639921089,
          -0.7234000317144638
         ]
        },
        {
         "boxpoints": false,
         "line": {
          "width": 1.3
         },
         "marker": {
          "color": "rgba(50, 171, 96, 1.0)"
         },
         "name": "C",
         "orientation": "v",
         "type": "box",
         "y": [
          -0.11195680488630352,
          0.19813513395996601,
          0.6243952583500618,
          3.4636216744699926,
          1.6025780971968129,
          -1.4842957023344758,
          1.5200032468496212,
          -0.2631744539556295,
          1.6500701251249659,
          -3.029823148650362,
          1.0265662580499642,
          -0.2567714743133042,
          2.457180119797221,
          0.5238088696860247,
          0.26209872027584513,
          0.6956634102215381,
          -0.6875276285625027,
          0.6392616577482672,
          1.3351393658985924,
          0.34141495490170315,
          -0.5659435780610622,
          -1.5608013996314807,
          0.48786006329180565,
          0.336081140259419,
          1.0175981710604358,
          -1.0135670113619677,
          0.3129251024807007,
          0.09328582639040285,
          -0.87220153866261,
          2.219797990891727,
          0.3655625592140774,
          0.8002282698773922,
          0.5158153974877858,
          -0.33700303233675205,
          -1.2940315214203613,
          1.1328240142383346,
          0.10094096472141936,
          1.7370875372990418,
          0.1839808055476812,
          1.2827729447774527,
          0.01818646549473812,
          -0.8766507338302455,
          0.11151420077033018,
          -1.226767964025608,
          0.5925924682575862,
          -0.661867073821238,
          -0.3727916276086114,
          -0.35054991247657,
          -0.725074404132708,
          -0.8056579783319012,
          -2.370764105329452,
          0.022591428355840264,
          0.1701455330688707,
          -1.2801069400543095,
          1.80983649905343,
          1.3215544377183117,
          -0.6475697652766453,
          -2.878377702333487,
          -0.3907665880809579,
          -0.9491649532134488,
          0.08817234504563345,
          0.410923543362477,
          0.2118958880439002,
          0.027784440467459877,
          -0.3580699215915449,
          -2.0625597051700364,
          -1.0760324793561697,
          0.8371078225097193,
          0.5682216990227285,
          0.06389082048082165,
          -0.9604774121864444,
          -1.5094374087850413,
          -0.9892302232683492,
          -0.08039240707564778,
          0.4338028851904076,
          -0.32565578060191,
          -1.3588064292335826,
          -0.6212581022909891,
          -0.14729134904037633,
          0.676065770331901,
          0.048383080662061546,
          1.1655116085226473,
          0.36441634440261894,
          0.13740405736192837,
          -0.2692124351999852,
          1.0333699470883486,
          -1.4292425177566495,
          1.3193573123226177,
          0.14325005584199305,
          -0.6451136154829559,
          1.5868146161808676,
          0.3139631548592902,
          -1.2599371618269581,
          0.6661701105361751,
          0.050813451678986335,
          -0.16529638984939754,
          1.7873956492526328,
          0.6855946366040738,
          -0.4169361655747808,
          1.1957640390301516
         ]
        },
        {
         "boxpoints": false,
         "line": {
          "width": 1.3
         },
         "marker": {
          "color": "rgba(128, 0, 128, 1.0)"
         },
         "name": "D",
         "orientation": "v",
         "type": "box",
         "y": [
          0.8776105999726939,
          -0.10918325673623544,
          0.43222002504828105,
          0.21168643105607898,
          -0.9548195681227061,
          -0.6582052405583847,
          -0.3438405764101884,
          0.024985400072480204,
          0.8845177708376631,
          1.825785856913161,
          -0.28356750209844556,
          0.2742762047578588,
          -0.6886177300532897,
          0.5455626463032112,
          0.5512032007015983,
          -0.08465280718060102,
          -1.5683868440841968,
          -2.109777683469117,
          2.405134896361823,
          0.9499776131789283,
          0.529550183658126,
          -1.7435741433932503,
          -0.9283743006001778,
          1.3966321748408201,
          0.8373142928074896,
          0.08189116770723855,
          0.5154221849354002,
          -0.03439821187574808,
          0.2869642638346971,
          -0.03845611395295513,
          2.2779916916551435,
          0.8367230528940887,
          -1.7602317632984699,
          -1.0902609470819251,
          0.370608475722315,
          0.23087291044609118,
          -0.9429003049634584,
          -0.461098739151424,
          3.2211304767698223,
          1.311354278181902,
          -1.6504354303851616,
          -0.6950894070767035,
          -0.38424297017119463,
          1.4667644026261295,
          -0.2183733939914209,
          -1.2735493192721279,
          -0.7759015930990381,
          0.8913003162757013,
          -0.1436722265327362,
          0.8363533428070496,
          0.39207836074386404,
          -0.15199663407635397,
          0.28787773000192673,
          -0.4801591093253376,
          -0.3034078886198265,
          1.7352664204007102,
          0.5930378637504586,
          2.4102024296351297,
          -0.3307829848947105,
          0.0886876517645023,
          1.277432516235606,
          0.9019558405223357,
          -0.7686226225707046,
          -1.0990782319705044,
          -1.2594527794158445,
          -0.19837010832596924,
          -0.5189316931204656,
          -0.8051186320505203,
          -2.3767339874302347,
          1.437999065479335,
          1.1017865847557078,
          -1.2797434001507912,
          -0.3995660222486687,
          -0.8090871880124815,
          -1.6292142376945211,
          0.9051799112583083,
          -1.0310477717438267,
          0.1461910289114032,
          0.15232455199932002,
          -0.12343962851039851,
          -0.24341614756844326,
          0.7196652201614023,
          -1.2080488799693634,
          -0.8418013066217972,
          -1.2231851046757791,
          1.0191435197448586,
          0.8445573153614979,
          -0.9013918480171765,
          0.6440958508132099,
          -0.5749211031387301,
          -0.44451902570747176,
          -0.14964556022134423,
          -0.2506450929917549,
          -1.489332270604689,
          0.8837149767609971,
          1.6631330486294185,
          0.01675864008521639,
          -0.08869869279391412,
          -0.3375904941282858,
          0.6560718655960883
         ]
        }
       ],
       "layout": {
        "legend": {
         "bgcolor": "#F5F6F9",
         "font": {
          "color": "#4D5663"
         }
        },
        "paper_bgcolor": "#F5F6F9",
        "plot_bgcolor": "#F5F6F9",
        "template": {
         "data": {
          "bar": [
           {
            "error_x": {
             "color": "#2a3f5f"
            },
            "error_y": {
             "color": "#2a3f5f"
            },
            "marker": {
             "line": {
              "color": "#E5ECF6",
              "width": 0.5
             }
            },
            "type": "bar"
           }
          ],
          "barpolar": [
           {
            "marker": {
             "line": {
              "color": "#E5ECF6",
              "width": 0.5
             }
            },
            "type": "barpolar"
           }
          ],
          "carpet": [
           {
            "aaxis": {
             "endlinecolor": "#2a3f5f",
             "gridcolor": "white",
             "linecolor": "white",
             "minorgridcolor": "white",
             "startlinecolor": "#2a3f5f"
            },
            "baxis": {
             "endlinecolor": "#2a3f5f",
             "gridcolor": "white",
             "linecolor": "white",
             "minorgridcolor": "white",
             "startlinecolor": "#2a3f5f"
            },
            "type": "carpet"
           }
          ],
          "choropleth": [
           {
            "colorbar": {
             "outlinewidth": 0,
             "ticks": ""
            },
            "type": "choropleth"
           }
          ],
          "contour": [
           {
            "colorbar": {
             "outlinewidth": 0,
             "ticks": ""
            },
            "colorscale": [
             [
              0,
              "#0d0887"
             ],
             [
              0.1111111111111111,
              "#46039f"
             ],
             [
              0.2222222222222222,
              "#7201a8"
             ],
             [
              0.3333333333333333,
              "#9c179e"
             ],
             [
              0.4444444444444444,
              "#bd3786"
             ],
             [
              0.5555555555555556,
              "#d8576b"
             ],
             [
              0.6666666666666666,
              "#ed7953"
             ],
             [
              0.7777777777777778,
              "#fb9f3a"
             ],
             [
              0.8888888888888888,
              "#fdca26"
             ],
             [
              1,
              "#f0f921"
             ]
            ],
            "type": "contour"
           }
          ],
          "contourcarpet": [
           {
            "colorbar": {
             "outlinewidth": 0,
             "ticks": ""
            },
            "type": "contourcarpet"
           }
          ],
          "heatmap": [
           {
            "colorbar": {
             "outlinewidth": 0,
             "ticks": ""
            },
            "colorscale": [
             [
              0,
              "#0d0887"
             ],
             [
              0.1111111111111111,
              "#46039f"
             ],
             [
              0.2222222222222222,
              "#7201a8"
             ],
             [
              0.3333333333333333,
              "#9c179e"
             ],
             [
              0.4444444444444444,
              "#bd3786"
             ],
             [
              0.5555555555555556,
              "#d8576b"
             ],
             [
              0.6666666666666666,
              "#ed7953"
             ],
             [
              0.7777777777777778,
              "#fb9f3a"
             ],
             [
              0.8888888888888888,
              "#fdca26"
             ],
             [
              1,
              "#f0f921"
             ]
            ],
            "type": "heatmap"
           }
          ],
          "heatmapgl": [
           {
            "colorbar": {
             "outlinewidth": 0,
             "ticks": ""
            },
            "colorscale": [
             [
              0,
              "#0d0887"
             ],
             [
              0.1111111111111111,
              "#46039f"
             ],
             [
              0.2222222222222222,
              "#7201a8"
             ],
             [
              0.3333333333333333,
              "#9c179e"
             ],
             [
              0.4444444444444444,
              "#bd3786"
             ],
             [
              0.5555555555555556,
              "#d8576b"
             ],
             [
              0.6666666666666666,
              "#ed7953"
             ],
             [
              0.7777777777777778,
              "#fb9f3a"
             ],
             [
              0.8888888888888888,
              "#fdca26"
             ],
             [
              1,
              "#f0f921"
             ]
            ],
            "type": "heatmapgl"
           }
          ],
          "histogram": [
           {
            "marker": {
             "colorbar": {
              "outlinewidth": 0,
              "ticks": ""
             }
            },
            "type": "histogram"
           }
          ],
          "histogram2d": [
           {
            "colorbar": {
             "outlinewidth": 0,
             "ticks": ""
            },
            "colorscale": [
             [
              0,
              "#0d0887"
             ],
             [
              0.1111111111111111,
              "#46039f"
             ],
             [
              0.2222222222222222,
              "#7201a8"
             ],
             [
              0.3333333333333333,
              "#9c179e"
             ],
             [
              0.4444444444444444,
              "#bd3786"
             ],
             [
              0.5555555555555556,
              "#d8576b"
             ],
             [
              0.6666666666666666,
              "#ed7953"
             ],
             [
              0.7777777777777778,
              "#fb9f3a"
             ],
             [
              0.8888888888888888,
              "#fdca26"
             ],
             [
              1,
              "#f0f921"
             ]
            ],
            "type": "histogram2d"
           }
          ],
          "histogram2dcontour": [
           {
            "colorbar": {
             "outlinewidth": 0,
             "ticks": ""
            },
            "colorscale": [
             [
              0,
              "#0d0887"
             ],
             [
              0.1111111111111111,
              "#46039f"
             ],
             [
              0.2222222222222222,
              "#7201a8"
             ],
             [
              0.3333333333333333,
              "#9c179e"
             ],
             [
              0.4444444444444444,
              "#bd3786"
             ],
             [
              0.5555555555555556,
              "#d8576b"
             ],
             [
              0.6666666666666666,
              "#ed7953"
             ],
             [
              0.7777777777777778,
              "#fb9f3a"
             ],
             [
              0.8888888888888888,
              "#fdca26"
             ],
             [
              1,
              "#f0f921"
             ]
            ],
            "type": "histogram2dcontour"
           }
          ],
          "mesh3d": [
           {
            "colorbar": {
             "outlinewidth": 0,
             "ticks": ""
            },
            "type": "mesh3d"
           }
          ],
          "parcoords": [
           {
            "line": {
             "colorbar": {
              "outlinewidth": 0,
              "ticks": ""
             }
            },
            "type": "parcoords"
           }
          ],
          "pie": [
           {
            "automargin": true,
            "type": "pie"
           }
          ],
          "scatter": [
           {
            "marker": {
             "colorbar": {
              "outlinewidth": 0,
              "ticks": ""
             }
            },
            "type": "scatter"
           }
          ],
          "scatter3d": [
           {
            "line": {
             "colorbar": {
              "outlinewidth": 0,
              "ticks": ""
             }
            },
            "marker": {
             "colorbar": {
              "outlinewidth": 0,
              "ticks": ""
             }
            },
            "type": "scatter3d"
           }
          ],
          "scattercarpet": [
           {
            "marker": {
             "colorbar": {
              "outlinewidth": 0,
              "ticks": ""
             }
            },
            "type": "scattercarpet"
           }
          ],
          "scattergeo": [
           {
            "marker": {
             "colorbar": {
              "outlinewidth": 0,
              "ticks": ""
             }
            },
            "type": "scattergeo"
           }
          ],
          "scattergl": [
           {
            "marker": {
             "colorbar": {
              "outlinewidth": 0,
              "ticks": ""
             }
            },
            "type": "scattergl"
           }
          ],
          "scattermapbox": [
           {
            "marker": {
             "colorbar": {
              "outlinewidth": 0,
              "ticks": ""
             }
            },
            "type": "scattermapbox"
           }
          ],
          "scatterpolar": [
           {
            "marker": {
             "colorbar": {
              "outlinewidth": 0,
              "ticks": ""
             }
            },
            "type": "scatterpolar"
           }
          ],
          "scatterpolargl": [
           {
            "marker": {
             "colorbar": {
              "outlinewidth": 0,
              "ticks": ""
             }
            },
            "type": "scatterpolargl"
           }
          ],
          "scatterternary": [
           {
            "marker": {
             "colorbar": {
              "outlinewidth": 0,
              "ticks": ""
             }
            },
            "type": "scatterternary"
           }
          ],
          "surface": [
           {
            "colorbar": {
             "outlinewidth": 0,
             "ticks": ""
            },
            "colorscale": [
             [
              0,
              "#0d0887"
             ],
             [
              0.1111111111111111,
              "#46039f"
             ],
             [
              0.2222222222222222,
              "#7201a8"
             ],
             [
              0.3333333333333333,
              "#9c179e"
             ],
             [
              0.4444444444444444,
              "#bd3786"
             ],
             [
              0.5555555555555556,
              "#d8576b"
             ],
             [
              0.6666666666666666,
              "#ed7953"
             ],
             [
              0.7777777777777778,
              "#fb9f3a"
             ],
             [
              0.8888888888888888,
              "#fdca26"
             ],
             [
              1,
              "#f0f921"
             ]
            ],
            "type": "surface"
           }
          ],
          "table": [
           {
            "cells": {
             "fill": {
              "color": "#EBF0F8"
             },
             "line": {
              "color": "white"
             }
            },
            "header": {
             "fill": {
              "color": "#C8D4E3"
             },
             "line": {
              "color": "white"
             }
            },
            "type": "table"
           }
          ]
         },
         "layout": {
          "annotationdefaults": {
           "arrowcolor": "#2a3f5f",
           "arrowhead": 0,
           "arrowwidth": 1
          },
          "coloraxis": {
           "colorbar": {
            "outlinewidth": 0,
            "ticks": ""
           }
          },
          "colorscale": {
           "diverging": [
            [
             0,
             "#8e0152"
            ],
            [
             0.1,
             "#c51b7d"
            ],
            [
             0.2,
             "#de77ae"
            ],
            [
             0.3,
             "#f1b6da"
            ],
            [
             0.4,
             "#fde0ef"
            ],
            [
             0.5,
             "#f7f7f7"
            ],
            [
             0.6,
             "#e6f5d0"
            ],
            [
             0.7,
             "#b8e186"
            ],
            [
             0.8,
             "#7fbc41"
            ],
            [
             0.9,
             "#4d9221"
            ],
            [
             1,
             "#276419"
            ]
           ],
           "sequential": [
            [
             0,
             "#0d0887"
            ],
            [
             0.1111111111111111,
             "#46039f"
            ],
            [
             0.2222222222222222,
             "#7201a8"
            ],
            [
             0.3333333333333333,
             "#9c179e"
            ],
            [
             0.4444444444444444,
             "#bd3786"
            ],
            [
             0.5555555555555556,
             "#d8576b"
            ],
            [
             0.6666666666666666,
             "#ed7953"
            ],
            [
             0.7777777777777778,
             "#fb9f3a"
            ],
            [
             0.8888888888888888,
             "#fdca26"
            ],
            [
             1,
             "#f0f921"
            ]
           ],
           "sequentialminus": [
            [
             0,
             "#0d0887"
            ],
            [
             0.1111111111111111,
             "#46039f"
            ],
            [
             0.2222222222222222,
             "#7201a8"
            ],
            [
             0.3333333333333333,
             "#9c179e"
            ],
            [
             0.4444444444444444,
             "#bd3786"
            ],
            [
             0.5555555555555556,
             "#d8576b"
            ],
            [
             0.6666666666666666,
             "#ed7953"
            ],
            [
             0.7777777777777778,
             "#fb9f3a"
            ],
            [
             0.8888888888888888,
             "#fdca26"
            ],
            [
             1,
             "#f0f921"
            ]
           ]
          },
          "colorway": [
           "#636efa",
           "#EF553B",
           "#00cc96",
           "#ab63fa",
           "#FFA15A",
           "#19d3f3",
           "#FF6692",
           "#B6E880",
           "#FF97FF",
           "#FECB52"
          ],
          "font": {
           "color": "#2a3f5f"
          },
          "geo": {
           "bgcolor": "white",
           "lakecolor": "white",
           "landcolor": "#E5ECF6",
           "showlakes": true,
           "showland": true,
           "subunitcolor": "white"
          },
          "hoverlabel": {
           "align": "left"
          },
          "hovermode": "closest",
          "mapbox": {
           "style": "light"
          },
          "paper_bgcolor": "white",
          "plot_bgcolor": "#E5ECF6",
          "polar": {
           "angularaxis": {
            "gridcolor": "white",
            "linecolor": "white",
            "ticks": ""
           },
           "bgcolor": "#E5ECF6",
           "radialaxis": {
            "gridcolor": "white",
            "linecolor": "white",
            "ticks": ""
           }
          },
          "scene": {
           "xaxis": {
            "backgroundcolor": "#E5ECF6",
            "gridcolor": "white",
            "gridwidth": 2,
            "linecolor": "white",
            "showbackground": true,
            "ticks": "",
            "zerolinecolor": "white"
           },
           "yaxis": {
            "backgroundcolor": "#E5ECF6",
            "gridcolor": "white",
            "gridwidth": 2,
            "linecolor": "white",
            "showbackground": true,
            "ticks": "",
            "zerolinecolor": "white"
           },
           "zaxis": {
            "backgroundcolor": "#E5ECF6",
            "gridcolor": "white",
            "gridwidth": 2,
            "linecolor": "white",
            "showbackground": true,
            "ticks": "",
            "zerolinecolor": "white"
           }
          },
          "shapedefaults": {
           "line": {
            "color": "#2a3f5f"
           }
          },
          "ternary": {
           "aaxis": {
            "gridcolor": "white",
            "linecolor": "white",
            "ticks": ""
           },
           "baxis": {
            "gridcolor": "white",
            "linecolor": "white",
            "ticks": ""
           },
           "bgcolor": "#E5ECF6",
           "caxis": {
            "gridcolor": "white",
            "linecolor": "white",
            "ticks": ""
           }
          },
          "title": {
           "x": 0.05
          },
          "xaxis": {
           "automargin": true,
           "gridcolor": "white",
           "linecolor": "white",
           "ticks": "",
           "title": {
            "standoff": 15
           },
           "zerolinecolor": "white",
           "zerolinewidth": 2
          },
          "yaxis": {
           "automargin": true,
           "gridcolor": "white",
           "linecolor": "white",
           "ticks": "",
           "title": {
            "standoff": 15
           },
           "zerolinecolor": "white",
           "zerolinewidth": 2
          }
         }
        },
        "title": {
         "font": {
          "color": "#4D5663"
         }
        },
        "xaxis": {
         "gridcolor": "#E1E5ED",
         "showgrid": true,
         "tickfont": {
          "color": "#4D5663"
         },
         "title": {
          "font": {
           "color": "#4D5663"
          },
          "text": ""
         },
         "zerolinecolor": "#E1E5ED"
        },
        "yaxis": {
         "gridcolor": "#E1E5ED",
         "showgrid": true,
         "tickfont": {
          "color": "#4D5663"
         },
         "title": {
          "font": {
           "color": "#4D5663"
          },
          "text": ""
         },
         "zerolinecolor": "#E1E5ED"
        }
       }
      },
      "text/html": [
       "<div>\n",
       "        \n",
       "        \n",
       "            <div id=\"e879d951-e5a3-45f9-8a1a-23f2fa390d53\" class=\"plotly-graph-div\" style=\"height:525px; width:100%;\"></div>\n",
       "            <script type=\"text/javascript\">\n",
       "                require([\"plotly\"], function(Plotly) {\n",
       "                    window.PLOTLYENV=window.PLOTLYENV || {};\n",
       "                    window.PLOTLYENV.BASE_URL='https://plot.ly';\n",
       "                    \n",
       "                if (document.getElementById(\"e879d951-e5a3-45f9-8a1a-23f2fa390d53\")) {\n",
       "                    Plotly.newPlot(\n",
       "                        'e879d951-e5a3-45f9-8a1a-23f2fa390d53',\n",
       "                        [{\"boxpoints\": false, \"line\": {\"width\": 1.3}, \"marker\": {\"color\": \"rgba(255, 153, 51, 1.0)\"}, \"name\": \"A\", \"orientation\": \"v\", \"type\": \"box\", \"y\": [-1.8375793829805152, -0.15949696869273136, 1.1310371011634441, 0.033424317827104935, -0.27266433823248903, -1.5266480612294526, 0.6406900998232502, -1.2037810103452755, 0.45766181096666353, -0.65756316944976, 1.2254607006230938, -0.49670888312590306, 0.9517977824412835, -0.4737685536624598, -0.18866034695016973, 1.7707542889792907, 0.6323242648780771, 0.12204537313043434, -1.9034920234674675, -0.04442225969249496, 0.15429995846266448, 0.7932222997650096, 2.539915784248557, -1.1930343034985709, -0.614857906207743, 1.4806568174717332, -1.8648504458226827, -0.41509780444484906, -1.5902518624107531, -1.1668716248656292, 0.7148812419826943, 0.9205412994571905, -1.0552530177997501, -1.1144495047103273, -1.4148418771042273, -0.7978844421999658, -0.7196315490672652, -0.6581896684098428, -0.003017838744859791, 1.000572700470973, 0.03907023496823878, 0.9445560069535803, -0.4370724628095535, -0.5308855796106563, 0.40885528594580445, 0.188730040054379, -0.7941436814811723, 1.9071063059377538, -0.05371617887237018, -1.2180771449054735, -0.0027625945812005813, -0.7289781761912149, -1.5148040962595313, 1.5310393005980325, 1.2115849481386265, 0.47883686689648225, -0.45499490210360916, -1.0189093313495297, -0.15728791717667132, -0.11127659476746542, 0.8690846353904871, 0.20354127289823257, -2.0630281790612797, 1.3344770773409376, -1.6200000617491879, -0.23116693293656054, -0.6755590465420752, 0.4685086761604976, 0.49494635923821795, -0.005597955485651658, 1.0885292455914743, -1.0407905089838017, -0.929490474183066, -1.015229473319679, 1.8836505311940042, 0.852998689782739, 1.0753372020989056, 1.4373344844109446, -0.03480585890954957, -0.37548221973787094, 1.5645635392346884, 1.758746465445413, -1.7330027977656584, -0.25500034465944543, -0.11760242138474251, 1.9831290035306863, -1.6781345236672671, 1.0916134309838674, -0.4986127299448885, 0.4985659415525577, 1.1762317481769409, -0.9905137465769372, -1.063065614167874, 1.242282812838642, 0.990357440665751, 3.006402504672399, 1.7946437084519817, 1.2758239575605375, 0.038206062830590415, -0.052200463798188414]}, {\"boxpoints\": false, \"line\": {\"width\": 1.3}, \"marker\": {\"color\": \"rgba(55, 128, 191, 1.0)\"}, \"name\": \"B\", \"orientation\": \"v\", \"type\": \"box\", \"y\": [1.7979066365959437, 0.46285376386792, -1.186763222985012, -1.3069987790938424, 0.2846992419759555, -0.46572268676860606, 0.37506581218122054, 0.04307716596099602, -0.10030470230806747, 0.2253581478192807, 1.5881375303218745, -0.7860510560549011, 0.0709065210939935, 1.3179919385263983, 0.1911135355144382, -0.1659826156491933, 0.1335520665302867, -1.3591338016683188, 0.6810870536812119, -0.3210353527483331, -0.9898181449092167, -1.2243689025562479, 0.9843652721650106, -1.2543373215912461, 0.8715596268958955, 1.3562385722623433, -0.2579451332063824, 0.8699716121262567, 1.248480225043317, -1.5952232935299056, -0.03397694249447452, -0.343267396460641, 0.28802212629747814, -0.8593404698722109, -0.2530951725001365, -1.1386052562784248, 0.38917661781477536, -0.9825733525869731, -0.31696837518324317, 0.7990527808015294, 1.5176967691503638, 1.410126737765439, -0.2743896134901539, -0.6929350750237689, 0.2936921575856845, 0.8254128170753967, -0.38061138001210737, -1.029983050729118, 0.5164862990891124, 0.5294226142890159, 1.3419954272688206, 0.4908184159374298, 0.49612404315739556, -1.5353261683128314, -0.23122135512542397, -0.969643060285253, -0.7905605694819513, 0.6367390711248883, -1.1584050310341727, 0.7132292476684078, 0.5512209938581333, -1.2332536027280028, 1.263445214176733, 1.0355389031994173, -0.4385948782738462, 1.2783266636003576, 0.9694074826731098, -0.5354973913133867, 0.3763906230930325, 1.0822003941489435, 0.7361046509510144, -0.4335373702666788, -0.17899964389897075, -0.3648809060196582, -0.32072220887824276, -0.02508944822472686, -0.5833657581143926, -0.3995712267987253, 0.9009130860560229, -1.4986325461576935, -1.8715391056827866, 2.8798459765859827, 0.07355556328316204, -0.022392130905374747, -1.4390151669046745, -0.12588443717729894, -0.1749203096655581, 0.5710963935160036, -0.8221985582564402, 1.1613570625458303, 0.7006283651400398, 0.028200929375390538, -1.1587338283713418, 0.18389562050698247, -0.9159351961730826, 1.912535172503708, -1.8209107037327792, -2.2563632012174306, 0.05798522639921089, -0.7234000317144638]}, {\"boxpoints\": false, \"line\": {\"width\": 1.3}, \"marker\": {\"color\": \"rgba(50, 171, 96, 1.0)\"}, \"name\": \"C\", \"orientation\": \"v\", \"type\": \"box\", \"y\": [-0.11195680488630352, 0.19813513395996601, 0.6243952583500618, 3.4636216744699926, 1.6025780971968129, -1.4842957023344758, 1.5200032468496212, -0.2631744539556295, 1.6500701251249659, -3.029823148650362, 1.0265662580499642, -0.2567714743133042, 2.457180119797221, 0.5238088696860247, 0.26209872027584513, 0.6956634102215381, -0.6875276285625027, 0.6392616577482672, 1.3351393658985924, 0.34141495490170315, -0.5659435780610622, -1.5608013996314807, 0.48786006329180565, 0.336081140259419, 1.0175981710604358, -1.0135670113619677, 0.3129251024807007, 0.09328582639040285, -0.87220153866261, 2.219797990891727, 0.3655625592140774, 0.8002282698773922, 0.5158153974877858, -0.33700303233675205, -1.2940315214203613, 1.1328240142383346, 0.10094096472141936, 1.7370875372990418, 0.1839808055476812, 1.2827729447774527, 0.01818646549473812, -0.8766507338302455, 0.11151420077033018, -1.226767964025608, 0.5925924682575862, -0.661867073821238, -0.3727916276086114, -0.35054991247657, -0.725074404132708, -0.8056579783319012, -2.370764105329452, 0.022591428355840264, 0.1701455330688707, -1.2801069400543095, 1.80983649905343, 1.3215544377183117, -0.6475697652766453, -2.878377702333487, -0.3907665880809579, -0.9491649532134488, 0.08817234504563345, 0.410923543362477, 0.2118958880439002, 0.027784440467459877, -0.3580699215915449, -2.0625597051700364, -1.0760324793561697, 0.8371078225097193, 0.5682216990227285, 0.06389082048082165, -0.9604774121864444, -1.5094374087850413, -0.9892302232683492, -0.08039240707564778, 0.4338028851904076, -0.32565578060191, -1.3588064292335826, -0.6212581022909891, -0.14729134904037633, 0.676065770331901, 0.048383080662061546, 1.1655116085226473, 0.36441634440261894, 0.13740405736192837, -0.2692124351999852, 1.0333699470883486, -1.4292425177566495, 1.3193573123226177, 0.14325005584199305, -0.6451136154829559, 1.5868146161808676, 0.3139631548592902, -1.2599371618269581, 0.6661701105361751, 0.050813451678986335, -0.16529638984939754, 1.7873956492526328, 0.6855946366040738, -0.4169361655747808, 1.1957640390301516]}, {\"boxpoints\": false, \"line\": {\"width\": 1.3}, \"marker\": {\"color\": \"rgba(128, 0, 128, 1.0)\"}, \"name\": \"D\", \"orientation\": \"v\", \"type\": \"box\", \"y\": [0.8776105999726939, -0.10918325673623544, 0.43222002504828105, 0.21168643105607898, -0.9548195681227061, -0.6582052405583847, -0.3438405764101884, 0.024985400072480204, 0.8845177708376631, 1.825785856913161, -0.28356750209844556, 0.2742762047578588, -0.6886177300532897, 0.5455626463032112, 0.5512032007015983, -0.08465280718060102, -1.5683868440841968, -2.109777683469117, 2.405134896361823, 0.9499776131789283, 0.529550183658126, -1.7435741433932503, -0.9283743006001778, 1.3966321748408201, 0.8373142928074896, 0.08189116770723855, 0.5154221849354002, -0.03439821187574808, 0.2869642638346971, -0.03845611395295513, 2.2779916916551435, 0.8367230528940887, -1.7602317632984699, -1.0902609470819251, 0.370608475722315, 0.23087291044609118, -0.9429003049634584, -0.461098739151424, 3.2211304767698223, 1.311354278181902, -1.6504354303851616, -0.6950894070767035, -0.38424297017119463, 1.4667644026261295, -0.2183733939914209, -1.2735493192721279, -0.7759015930990381, 0.8913003162757013, -0.1436722265327362, 0.8363533428070496, 0.39207836074386404, -0.15199663407635397, 0.28787773000192673, -0.4801591093253376, -0.3034078886198265, 1.7352664204007102, 0.5930378637504586, 2.4102024296351297, -0.3307829848947105, 0.0886876517645023, 1.277432516235606, 0.9019558405223357, -0.7686226225707046, -1.0990782319705044, -1.2594527794158445, -0.19837010832596924, -0.5189316931204656, -0.8051186320505203, -2.3767339874302347, 1.437999065479335, 1.1017865847557078, -1.2797434001507912, -0.3995660222486687, -0.8090871880124815, -1.6292142376945211, 0.9051799112583083, -1.0310477717438267, 0.1461910289114032, 0.15232455199932002, -0.12343962851039851, -0.24341614756844326, 0.7196652201614023, -1.2080488799693634, -0.8418013066217972, -1.2231851046757791, 1.0191435197448586, 0.8445573153614979, -0.9013918480171765, 0.6440958508132099, -0.5749211031387301, -0.44451902570747176, -0.14964556022134423, -0.2506450929917549, -1.489332270604689, 0.8837149767609971, 1.6631330486294185, 0.01675864008521639, -0.08869869279391412, -0.3375904941282858, 0.6560718655960883]}],\n",
       "                        {\"legend\": {\"bgcolor\": \"#F5F6F9\", \"font\": {\"color\": \"#4D5663\"}}, \"paper_bgcolor\": \"#F5F6F9\", \"plot_bgcolor\": \"#F5F6F9\", \"template\": {\"data\": {\"bar\": [{\"error_x\": {\"color\": \"#2a3f5f\"}, \"error_y\": {\"color\": \"#2a3f5f\"}, \"marker\": {\"line\": {\"color\": \"#E5ECF6\", \"width\": 0.5}}, \"type\": \"bar\"}], \"barpolar\": [{\"marker\": {\"line\": {\"color\": \"#E5ECF6\", \"width\": 0.5}}, \"type\": \"barpolar\"}], \"carpet\": [{\"aaxis\": {\"endlinecolor\": \"#2a3f5f\", \"gridcolor\": \"white\", \"linecolor\": \"white\", \"minorgridcolor\": \"white\", \"startlinecolor\": \"#2a3f5f\"}, \"baxis\": {\"endlinecolor\": \"#2a3f5f\", \"gridcolor\": \"white\", \"linecolor\": \"white\", \"minorgridcolor\": \"white\", \"startlinecolor\": \"#2a3f5f\"}, \"type\": \"carpet\"}], \"choropleth\": [{\"colorbar\": {\"outlinewidth\": 0, \"ticks\": \"\"}, \"type\": \"choropleth\"}], \"contour\": [{\"colorbar\": {\"outlinewidth\": 0, \"ticks\": \"\"}, \"colorscale\": [[0.0, \"#0d0887\"], [0.1111111111111111, \"#46039f\"], [0.2222222222222222, \"#7201a8\"], [0.3333333333333333, \"#9c179e\"], [0.4444444444444444, \"#bd3786\"], [0.5555555555555556, \"#d8576b\"], [0.6666666666666666, \"#ed7953\"], [0.7777777777777778, \"#fb9f3a\"], [0.8888888888888888, \"#fdca26\"], [1.0, \"#f0f921\"]], \"type\": \"contour\"}], \"contourcarpet\": [{\"colorbar\": {\"outlinewidth\": 0, \"ticks\": \"\"}, \"type\": \"contourcarpet\"}], \"heatmap\": [{\"colorbar\": {\"outlinewidth\": 0, \"ticks\": \"\"}, \"colorscale\": [[0.0, \"#0d0887\"], [0.1111111111111111, \"#46039f\"], [0.2222222222222222, \"#7201a8\"], [0.3333333333333333, \"#9c179e\"], [0.4444444444444444, \"#bd3786\"], [0.5555555555555556, \"#d8576b\"], [0.6666666666666666, \"#ed7953\"], [0.7777777777777778, \"#fb9f3a\"], [0.8888888888888888, \"#fdca26\"], [1.0, \"#f0f921\"]], \"type\": \"heatmap\"}], \"heatmapgl\": [{\"colorbar\": {\"outlinewidth\": 0, \"ticks\": \"\"}, \"colorscale\": [[0.0, \"#0d0887\"], [0.1111111111111111, \"#46039f\"], [0.2222222222222222, \"#7201a8\"], [0.3333333333333333, \"#9c179e\"], [0.4444444444444444, \"#bd3786\"], [0.5555555555555556, \"#d8576b\"], [0.6666666666666666, \"#ed7953\"], [0.7777777777777778, \"#fb9f3a\"], [0.8888888888888888, \"#fdca26\"], [1.0, \"#f0f921\"]], \"type\": \"heatmapgl\"}], \"histogram\": [{\"marker\": {\"colorbar\": {\"outlinewidth\": 0, \"ticks\": \"\"}}, \"type\": \"histogram\"}], \"histogram2d\": [{\"colorbar\": {\"outlinewidth\": 0, \"ticks\": \"\"}, \"colorscale\": [[0.0, \"#0d0887\"], [0.1111111111111111, \"#46039f\"], [0.2222222222222222, \"#7201a8\"], [0.3333333333333333, \"#9c179e\"], [0.4444444444444444, \"#bd3786\"], [0.5555555555555556, \"#d8576b\"], [0.6666666666666666, \"#ed7953\"], [0.7777777777777778, \"#fb9f3a\"], [0.8888888888888888, \"#fdca26\"], [1.0, \"#f0f921\"]], \"type\": \"histogram2d\"}], \"histogram2dcontour\": [{\"colorbar\": {\"outlinewidth\": 0, \"ticks\": \"\"}, \"colorscale\": [[0.0, \"#0d0887\"], [0.1111111111111111, \"#46039f\"], [0.2222222222222222, \"#7201a8\"], [0.3333333333333333, \"#9c179e\"], [0.4444444444444444, \"#bd3786\"], [0.5555555555555556, \"#d8576b\"], [0.6666666666666666, \"#ed7953\"], [0.7777777777777778, \"#fb9f3a\"], [0.8888888888888888, \"#fdca26\"], [1.0, \"#f0f921\"]], \"type\": \"histogram2dcontour\"}], \"mesh3d\": [{\"colorbar\": {\"outlinewidth\": 0, \"ticks\": \"\"}, \"type\": \"mesh3d\"}], \"parcoords\": [{\"line\": {\"colorbar\": {\"outlinewidth\": 0, \"ticks\": \"\"}}, \"type\": \"parcoords\"}], \"pie\": [{\"automargin\": true, \"type\": \"pie\"}], \"scatter\": [{\"marker\": {\"colorbar\": {\"outlinewidth\": 0, \"ticks\": \"\"}}, \"type\": \"scatter\"}], \"scatter3d\": [{\"line\": {\"colorbar\": {\"outlinewidth\": 0, \"ticks\": \"\"}}, \"marker\": {\"colorbar\": {\"outlinewidth\": 0, \"ticks\": \"\"}}, \"type\": \"scatter3d\"}], \"scattercarpet\": [{\"marker\": {\"colorbar\": {\"outlinewidth\": 0, \"ticks\": \"\"}}, \"type\": \"scattercarpet\"}], \"scattergeo\": [{\"marker\": {\"colorbar\": {\"outlinewidth\": 0, \"ticks\": \"\"}}, \"type\": \"scattergeo\"}], \"scattergl\": [{\"marker\": {\"colorbar\": {\"outlinewidth\": 0, \"ticks\": \"\"}}, \"type\": \"scattergl\"}], \"scattermapbox\": [{\"marker\": {\"colorbar\": {\"outlinewidth\": 0, \"ticks\": \"\"}}, \"type\": \"scattermapbox\"}], \"scatterpolar\": [{\"marker\": {\"colorbar\": {\"outlinewidth\": 0, \"ticks\": \"\"}}, \"type\": \"scatterpolar\"}], \"scatterpolargl\": [{\"marker\": {\"colorbar\": {\"outlinewidth\": 0, \"ticks\": \"\"}}, \"type\": \"scatterpolargl\"}], \"scatterternary\": [{\"marker\": {\"colorbar\": {\"outlinewidth\": 0, \"ticks\": \"\"}}, \"type\": \"scatterternary\"}], \"surface\": [{\"colorbar\": {\"outlinewidth\": 0, \"ticks\": \"\"}, \"colorscale\": [[0.0, \"#0d0887\"], [0.1111111111111111, \"#46039f\"], [0.2222222222222222, \"#7201a8\"], [0.3333333333333333, \"#9c179e\"], [0.4444444444444444, \"#bd3786\"], [0.5555555555555556, \"#d8576b\"], [0.6666666666666666, \"#ed7953\"], [0.7777777777777778, \"#fb9f3a\"], [0.8888888888888888, \"#fdca26\"], [1.0, \"#f0f921\"]], \"type\": \"surface\"}], \"table\": [{\"cells\": {\"fill\": {\"color\": \"#EBF0F8\"}, \"line\": {\"color\": \"white\"}}, \"header\": {\"fill\": {\"color\": \"#C8D4E3\"}, \"line\": {\"color\": \"white\"}}, \"type\": \"table\"}]}, \"layout\": {\"annotationdefaults\": {\"arrowcolor\": \"#2a3f5f\", \"arrowhead\": 0, \"arrowwidth\": 1}, \"coloraxis\": {\"colorbar\": {\"outlinewidth\": 0, \"ticks\": \"\"}}, \"colorscale\": {\"diverging\": [[0, \"#8e0152\"], [0.1, \"#c51b7d\"], [0.2, \"#de77ae\"], [0.3, \"#f1b6da\"], [0.4, \"#fde0ef\"], [0.5, \"#f7f7f7\"], [0.6, \"#e6f5d0\"], [0.7, \"#b8e186\"], [0.8, \"#7fbc41\"], [0.9, \"#4d9221\"], [1, \"#276419\"]], \"sequential\": [[0.0, \"#0d0887\"], [0.1111111111111111, \"#46039f\"], [0.2222222222222222, \"#7201a8\"], [0.3333333333333333, \"#9c179e\"], [0.4444444444444444, \"#bd3786\"], [0.5555555555555556, \"#d8576b\"], [0.6666666666666666, \"#ed7953\"], [0.7777777777777778, \"#fb9f3a\"], [0.8888888888888888, \"#fdca26\"], [1.0, \"#f0f921\"]], \"sequentialminus\": [[0.0, \"#0d0887\"], [0.1111111111111111, \"#46039f\"], [0.2222222222222222, \"#7201a8\"], [0.3333333333333333, \"#9c179e\"], [0.4444444444444444, \"#bd3786\"], [0.5555555555555556, \"#d8576b\"], [0.6666666666666666, \"#ed7953\"], [0.7777777777777778, \"#fb9f3a\"], [0.8888888888888888, \"#fdca26\"], [1.0, \"#f0f921\"]]}, \"colorway\": [\"#636efa\", \"#EF553B\", \"#00cc96\", \"#ab63fa\", \"#FFA15A\", \"#19d3f3\", \"#FF6692\", \"#B6E880\", \"#FF97FF\", \"#FECB52\"], \"font\": {\"color\": \"#2a3f5f\"}, \"geo\": {\"bgcolor\": \"white\", \"lakecolor\": \"white\", \"landcolor\": \"#E5ECF6\", \"showlakes\": true, \"showland\": true, \"subunitcolor\": \"white\"}, \"hoverlabel\": {\"align\": \"left\"}, \"hovermode\": \"closest\", \"mapbox\": {\"style\": \"light\"}, \"paper_bgcolor\": \"white\", \"plot_bgcolor\": \"#E5ECF6\", \"polar\": {\"angularaxis\": {\"gridcolor\": \"white\", \"linecolor\": \"white\", \"ticks\": \"\"}, \"bgcolor\": \"#E5ECF6\", \"radialaxis\": {\"gridcolor\": \"white\", \"linecolor\": \"white\", \"ticks\": \"\"}}, \"scene\": {\"xaxis\": {\"backgroundcolor\": \"#E5ECF6\", \"gridcolor\": \"white\", \"gridwidth\": 2, \"linecolor\": \"white\", \"showbackground\": true, \"ticks\": \"\", \"zerolinecolor\": \"white\"}, \"yaxis\": {\"backgroundcolor\": \"#E5ECF6\", \"gridcolor\": \"white\", \"gridwidth\": 2, \"linecolor\": \"white\", \"showbackground\": true, \"ticks\": \"\", \"zerolinecolor\": \"white\"}, \"zaxis\": {\"backgroundcolor\": \"#E5ECF6\", \"gridcolor\": \"white\", \"gridwidth\": 2, \"linecolor\": \"white\", \"showbackground\": true, \"ticks\": \"\", \"zerolinecolor\": \"white\"}}, \"shapedefaults\": {\"line\": {\"color\": \"#2a3f5f\"}}, \"ternary\": {\"aaxis\": {\"gridcolor\": \"white\", \"linecolor\": \"white\", \"ticks\": \"\"}, \"baxis\": {\"gridcolor\": \"white\", \"linecolor\": \"white\", \"ticks\": \"\"}, \"bgcolor\": \"#E5ECF6\", \"caxis\": {\"gridcolor\": \"white\", \"linecolor\": \"white\", \"ticks\": \"\"}}, \"title\": {\"x\": 0.05}, \"xaxis\": {\"automargin\": true, \"gridcolor\": \"white\", \"linecolor\": \"white\", \"ticks\": \"\", \"title\": {\"standoff\": 15}, \"zerolinecolor\": \"white\", \"zerolinewidth\": 2}, \"yaxis\": {\"automargin\": true, \"gridcolor\": \"white\", \"linecolor\": \"white\", \"ticks\": \"\", \"title\": {\"standoff\": 15}, \"zerolinecolor\": \"white\", \"zerolinewidth\": 2}}}, \"title\": {\"font\": {\"color\": \"#4D5663\"}}, \"xaxis\": {\"gridcolor\": \"#E1E5ED\", \"showgrid\": true, \"tickfont\": {\"color\": \"#4D5663\"}, \"title\": {\"font\": {\"color\": \"#4D5663\"}, \"text\": \"\"}, \"zerolinecolor\": \"#E1E5ED\"}, \"yaxis\": {\"gridcolor\": \"#E1E5ED\", \"showgrid\": true, \"tickfont\": {\"color\": \"#4D5663\"}, \"title\": {\"font\": {\"color\": \"#4D5663\"}, \"text\": \"\"}, \"zerolinecolor\": \"#E1E5ED\"}},\n",
       "                        {\"showLink\": true, \"linkText\": \"Export to plot.ly\", \"plotlyServerURL\": \"https://plot.ly\", \"responsive\": true}\n",
       "                    ).then(function(){\n",
       "                            \n",
       "var gd = document.getElementById('e879d951-e5a3-45f9-8a1a-23f2fa390d53');\n",
       "var x = new MutationObserver(function (mutations, observer) {{\n",
       "        var display = window.getComputedStyle(gd).display;\n",
       "        if (!display || display === 'none') {{\n",
       "            console.log([gd, 'removed!']);\n",
       "            Plotly.purge(gd);\n",
       "            observer.disconnect();\n",
       "        }}\n",
       "}});\n",
       "\n",
       "// Listen for the removal of the full notebook cells\n",
       "var notebookContainer = gd.closest('#notebook-container');\n",
       "if (notebookContainer) {{\n",
       "    x.observe(notebookContainer, {childList: true});\n",
       "}}\n",
       "\n",
       "// Listen for the clearing of the current output cell\n",
       "var outputEl = gd.closest('.output');\n",
       "if (outputEl) {{\n",
       "    x.observe(outputEl, {childList: true});\n",
       "}}\n",
       "\n",
       "                        })\n",
       "                };\n",
       "                });\n",
       "            </script>\n",
       "        </div>"
      ]
     },
     "metadata": {},
     "output_type": "display_data"
    }
   ],
   "source": [
    "df.iplot(kind='box')"
   ]
  },
  {
   "cell_type": "code",
   "execution_count": 22,
   "metadata": {},
   "outputs": [],
   "source": [
    "df3 = pd.DataFrame({'x':[1,2,3,4,5],'y':[10,20,30,20,10],'z':[5,4,3,2,1]})"
   ]
  },
  {
   "cell_type": "code",
   "execution_count": 24,
   "metadata": {},
   "outputs": [
    {
     "data": {
      "application/vnd.plotly.v1+json": {
       "config": {
        "linkText": "Export to plot.ly",
        "plotlyServerURL": "https://plot.ly",
        "showLink": true
       },
       "data": [
        {
         "colorscale": [
          [
           0,
           "rgb(165,0,38)"
          ],
          [
           0.1,
           "rgb(215,48,39)"
          ],
          [
           0.2,
           "rgb(244,109,67)"
          ],
          [
           0.3,
           "rgb(253,174,97)"
          ],
          [
           0.4,
           "rgb(254,224,144)"
          ],
          [
           0.5,
           "rgb(255,255,191)"
          ],
          [
           0.6,
           "rgb(224,243,248)"
          ],
          [
           0.7,
           "rgb(171,217,233)"
          ],
          [
           0.8,
           "rgb(116,173,209)"
          ],
          [
           0.9,
           "rgb(69,117,180)"
          ],
          [
           1,
           "rgb(49,54,149)"
          ]
         ],
         "type": "surface",
         "x": [
          0,
          1,
          2,
          3,
          4
         ],
         "y": [
          "x",
          "y",
          "z"
         ],
         "z": [
          [
           1,
           2,
           3,
           4,
           5
          ],
          [
           10,
           20,
           30,
           20,
           10
          ],
          [
           5,
           4,
           3,
           2,
           1
          ]
         ]
        }
       ],
       "layout": {
        "legend": {
         "bgcolor": "#F5F6F9",
         "font": {
          "color": "#4D5663"
         }
        },
        "paper_bgcolor": "#F5F6F9",
        "plot_bgcolor": "#F5F6F9",
        "template": {
         "data": {
          "bar": [
           {
            "error_x": {
             "color": "#2a3f5f"
            },
            "error_y": {
             "color": "#2a3f5f"
            },
            "marker": {
             "line": {
              "color": "#E5ECF6",
              "width": 0.5
             }
            },
            "type": "bar"
           }
          ],
          "barpolar": [
           {
            "marker": {
             "line": {
              "color": "#E5ECF6",
              "width": 0.5
             }
            },
            "type": "barpolar"
           }
          ],
          "carpet": [
           {
            "aaxis": {
             "endlinecolor": "#2a3f5f",
             "gridcolor": "white",
             "linecolor": "white",
             "minorgridcolor": "white",
             "startlinecolor": "#2a3f5f"
            },
            "baxis": {
             "endlinecolor": "#2a3f5f",
             "gridcolor": "white",
             "linecolor": "white",
             "minorgridcolor": "white",
             "startlinecolor": "#2a3f5f"
            },
            "type": "carpet"
           }
          ],
          "choropleth": [
           {
            "colorbar": {
             "outlinewidth": 0,
             "ticks": ""
            },
            "type": "choropleth"
           }
          ],
          "contour": [
           {
            "colorbar": {
             "outlinewidth": 0,
             "ticks": ""
            },
            "colorscale": [
             [
              0,
              "#0d0887"
             ],
             [
              0.1111111111111111,
              "#46039f"
             ],
             [
              0.2222222222222222,
              "#7201a8"
             ],
             [
              0.3333333333333333,
              "#9c179e"
             ],
             [
              0.4444444444444444,
              "#bd3786"
             ],
             [
              0.5555555555555556,
              "#d8576b"
             ],
             [
              0.6666666666666666,
              "#ed7953"
             ],
             [
              0.7777777777777778,
              "#fb9f3a"
             ],
             [
              0.8888888888888888,
              "#fdca26"
             ],
             [
              1,
              "#f0f921"
             ]
            ],
            "type": "contour"
           }
          ],
          "contourcarpet": [
           {
            "colorbar": {
             "outlinewidth": 0,
             "ticks": ""
            },
            "type": "contourcarpet"
           }
          ],
          "heatmap": [
           {
            "colorbar": {
             "outlinewidth": 0,
             "ticks": ""
            },
            "colorscale": [
             [
              0,
              "#0d0887"
             ],
             [
              0.1111111111111111,
              "#46039f"
             ],
             [
              0.2222222222222222,
              "#7201a8"
             ],
             [
              0.3333333333333333,
              "#9c179e"
             ],
             [
              0.4444444444444444,
              "#bd3786"
             ],
             [
              0.5555555555555556,
              "#d8576b"
             ],
             [
              0.6666666666666666,
              "#ed7953"
             ],
             [
              0.7777777777777778,
              "#fb9f3a"
             ],
             [
              0.8888888888888888,
              "#fdca26"
             ],
             [
              1,
              "#f0f921"
             ]
            ],
            "type": "heatmap"
           }
          ],
          "heatmapgl": [
           {
            "colorbar": {
             "outlinewidth": 0,
             "ticks": ""
            },
            "colorscale": [
             [
              0,
              "#0d0887"
             ],
             [
              0.1111111111111111,
              "#46039f"
             ],
             [
              0.2222222222222222,
              "#7201a8"
             ],
             [
              0.3333333333333333,
              "#9c179e"
             ],
             [
              0.4444444444444444,
              "#bd3786"
             ],
             [
              0.5555555555555556,
              "#d8576b"
             ],
             [
              0.6666666666666666,
              "#ed7953"
             ],
             [
              0.7777777777777778,
              "#fb9f3a"
             ],
             [
              0.8888888888888888,
              "#fdca26"
             ],
             [
              1,
              "#f0f921"
             ]
            ],
            "type": "heatmapgl"
           }
          ],
          "histogram": [
           {
            "marker": {
             "colorbar": {
              "outlinewidth": 0,
              "ticks": ""
             }
            },
            "type": "histogram"
           }
          ],
          "histogram2d": [
           {
            "colorbar": {
             "outlinewidth": 0,
             "ticks": ""
            },
            "colorscale": [
             [
              0,
              "#0d0887"
             ],
             [
              0.1111111111111111,
              "#46039f"
             ],
             [
              0.2222222222222222,
              "#7201a8"
             ],
             [
              0.3333333333333333,
              "#9c179e"
             ],
             [
              0.4444444444444444,
              "#bd3786"
             ],
             [
              0.5555555555555556,
              "#d8576b"
             ],
             [
              0.6666666666666666,
              "#ed7953"
             ],
             [
              0.7777777777777778,
              "#fb9f3a"
             ],
             [
              0.8888888888888888,
              "#fdca26"
             ],
             [
              1,
              "#f0f921"
             ]
            ],
            "type": "histogram2d"
           }
          ],
          "histogram2dcontour": [
           {
            "colorbar": {
             "outlinewidth": 0,
             "ticks": ""
            },
            "colorscale": [
             [
              0,
              "#0d0887"
             ],
             [
              0.1111111111111111,
              "#46039f"
             ],
             [
              0.2222222222222222,
              "#7201a8"
             ],
             [
              0.3333333333333333,
              "#9c179e"
             ],
             [
              0.4444444444444444,
              "#bd3786"
             ],
             [
              0.5555555555555556,
              "#d8576b"
             ],
             [
              0.6666666666666666,
              "#ed7953"
             ],
             [
              0.7777777777777778,
              "#fb9f3a"
             ],
             [
              0.8888888888888888,
              "#fdca26"
             ],
             [
              1,
              "#f0f921"
             ]
            ],
            "type": "histogram2dcontour"
           }
          ],
          "mesh3d": [
           {
            "colorbar": {
             "outlinewidth": 0,
             "ticks": ""
            },
            "type": "mesh3d"
           }
          ],
          "parcoords": [
           {
            "line": {
             "colorbar": {
              "outlinewidth": 0,
              "ticks": ""
             }
            },
            "type": "parcoords"
           }
          ],
          "pie": [
           {
            "automargin": true,
            "type": "pie"
           }
          ],
          "scatter": [
           {
            "marker": {
             "colorbar": {
              "outlinewidth": 0,
              "ticks": ""
             }
            },
            "type": "scatter"
           }
          ],
          "scatter3d": [
           {
            "line": {
             "colorbar": {
              "outlinewidth": 0,
              "ticks": ""
             }
            },
            "marker": {
             "colorbar": {
              "outlinewidth": 0,
              "ticks": ""
             }
            },
            "type": "scatter3d"
           }
          ],
          "scattercarpet": [
           {
            "marker": {
             "colorbar": {
              "outlinewidth": 0,
              "ticks": ""
             }
            },
            "type": "scattercarpet"
           }
          ],
          "scattergeo": [
           {
            "marker": {
             "colorbar": {
              "outlinewidth": 0,
              "ticks": ""
             }
            },
            "type": "scattergeo"
           }
          ],
          "scattergl": [
           {
            "marker": {
             "colorbar": {
              "outlinewidth": 0,
              "ticks": ""
             }
            },
            "type": "scattergl"
           }
          ],
          "scattermapbox": [
           {
            "marker": {
             "colorbar": {
              "outlinewidth": 0,
              "ticks": ""
             }
            },
            "type": "scattermapbox"
           }
          ],
          "scatterpolar": [
           {
            "marker": {
             "colorbar": {
              "outlinewidth": 0,
              "ticks": ""
             }
            },
            "type": "scatterpolar"
           }
          ],
          "scatterpolargl": [
           {
            "marker": {
             "colorbar": {
              "outlinewidth": 0,
              "ticks": ""
             }
            },
            "type": "scatterpolargl"
           }
          ],
          "scatterternary": [
           {
            "marker": {
             "colorbar": {
              "outlinewidth": 0,
              "ticks": ""
             }
            },
            "type": "scatterternary"
           }
          ],
          "surface": [
           {
            "colorbar": {
             "outlinewidth": 0,
             "ticks": ""
            },
            "colorscale": [
             [
              0,
              "#0d0887"
             ],
             [
              0.1111111111111111,
              "#46039f"
             ],
             [
              0.2222222222222222,
              "#7201a8"
             ],
             [
              0.3333333333333333,
              "#9c179e"
             ],
             [
              0.4444444444444444,
              "#bd3786"
             ],
             [
              0.5555555555555556,
              "#d8576b"
             ],
             [
              0.6666666666666666,
              "#ed7953"
             ],
             [
              0.7777777777777778,
              "#fb9f3a"
             ],
             [
              0.8888888888888888,
              "#fdca26"
             ],
             [
              1,
              "#f0f921"
             ]
            ],
            "type": "surface"
           }
          ],
          "table": [
           {
            "cells": {
             "fill": {
              "color": "#EBF0F8"
             },
             "line": {
              "color": "white"
             }
            },
            "header": {
             "fill": {
              "color": "#C8D4E3"
             },
             "line": {
              "color": "white"
             }
            },
            "type": "table"
           }
          ]
         },
         "layout": {
          "annotationdefaults": {
           "arrowcolor": "#2a3f5f",
           "arrowhead": 0,
           "arrowwidth": 1
          },
          "coloraxis": {
           "colorbar": {
            "outlinewidth": 0,
            "ticks": ""
           }
          },
          "colorscale": {
           "diverging": [
            [
             0,
             "#8e0152"
            ],
            [
             0.1,
             "#c51b7d"
            ],
            [
             0.2,
             "#de77ae"
            ],
            [
             0.3,
             "#f1b6da"
            ],
            [
             0.4,
             "#fde0ef"
            ],
            [
             0.5,
             "#f7f7f7"
            ],
            [
             0.6,
             "#e6f5d0"
            ],
            [
             0.7,
             "#b8e186"
            ],
            [
             0.8,
             "#7fbc41"
            ],
            [
             0.9,
             "#4d9221"
            ],
            [
             1,
             "#276419"
            ]
           ],
           "sequential": [
            [
             0,
             "#0d0887"
            ],
            [
             0.1111111111111111,
             "#46039f"
            ],
            [
             0.2222222222222222,
             "#7201a8"
            ],
            [
             0.3333333333333333,
             "#9c179e"
            ],
            [
             0.4444444444444444,
             "#bd3786"
            ],
            [
             0.5555555555555556,
             "#d8576b"
            ],
            [
             0.6666666666666666,
             "#ed7953"
            ],
            [
             0.7777777777777778,
             "#fb9f3a"
            ],
            [
             0.8888888888888888,
             "#fdca26"
            ],
            [
             1,
             "#f0f921"
            ]
           ],
           "sequentialminus": [
            [
             0,
             "#0d0887"
            ],
            [
             0.1111111111111111,
             "#46039f"
            ],
            [
             0.2222222222222222,
             "#7201a8"
            ],
            [
             0.3333333333333333,
             "#9c179e"
            ],
            [
             0.4444444444444444,
             "#bd3786"
            ],
            [
             0.5555555555555556,
             "#d8576b"
            ],
            [
             0.6666666666666666,
             "#ed7953"
            ],
            [
             0.7777777777777778,
             "#fb9f3a"
            ],
            [
             0.8888888888888888,
             "#fdca26"
            ],
            [
             1,
             "#f0f921"
            ]
           ]
          },
          "colorway": [
           "#636efa",
           "#EF553B",
           "#00cc96",
           "#ab63fa",
           "#FFA15A",
           "#19d3f3",
           "#FF6692",
           "#B6E880",
           "#FF97FF",
           "#FECB52"
          ],
          "font": {
           "color": "#2a3f5f"
          },
          "geo": {
           "bgcolor": "white",
           "lakecolor": "white",
           "landcolor": "#E5ECF6",
           "showlakes": true,
           "showland": true,
           "subunitcolor": "white"
          },
          "hoverlabel": {
           "align": "left"
          },
          "hovermode": "closest",
          "mapbox": {
           "style": "light"
          },
          "paper_bgcolor": "white",
          "plot_bgcolor": "#E5ECF6",
          "polar": {
           "angularaxis": {
            "gridcolor": "white",
            "linecolor": "white",
            "ticks": ""
           },
           "bgcolor": "#E5ECF6",
           "radialaxis": {
            "gridcolor": "white",
            "linecolor": "white",
            "ticks": ""
           }
          },
          "scene": {
           "xaxis": {
            "backgroundcolor": "#E5ECF6",
            "gridcolor": "white",
            "gridwidth": 2,
            "linecolor": "white",
            "showbackground": true,
            "ticks": "",
            "zerolinecolor": "white"
           },
           "yaxis": {
            "backgroundcolor": "#E5ECF6",
            "gridcolor": "white",
            "gridwidth": 2,
            "linecolor": "white",
            "showbackground": true,
            "ticks": "",
            "zerolinecolor": "white"
           },
           "zaxis": {
            "backgroundcolor": "#E5ECF6",
            "gridcolor": "white",
            "gridwidth": 2,
            "linecolor": "white",
            "showbackground": true,
            "ticks": "",
            "zerolinecolor": "white"
           }
          },
          "shapedefaults": {
           "line": {
            "color": "#2a3f5f"
           }
          },
          "ternary": {
           "aaxis": {
            "gridcolor": "white",
            "linecolor": "white",
            "ticks": ""
           },
           "baxis": {
            "gridcolor": "white",
            "linecolor": "white",
            "ticks": ""
           },
           "bgcolor": "#E5ECF6",
           "caxis": {
            "gridcolor": "white",
            "linecolor": "white",
            "ticks": ""
           }
          },
          "title": {
           "x": 0.05
          },
          "xaxis": {
           "automargin": true,
           "gridcolor": "white",
           "linecolor": "white",
           "ticks": "",
           "title": {
            "standoff": 15
           },
           "zerolinecolor": "white",
           "zerolinewidth": 2
          },
          "yaxis": {
           "automargin": true,
           "gridcolor": "white",
           "linecolor": "white",
           "ticks": "",
           "title": {
            "standoff": 15
           },
           "zerolinecolor": "white",
           "zerolinewidth": 2
          }
         }
        },
        "title": {
         "font": {
          "color": "#4D5663"
         }
        },
        "xaxis": {
         "gridcolor": "#E1E5ED",
         "showgrid": true,
         "tickfont": {
          "color": "#4D5663"
         },
         "title": {
          "font": {
           "color": "#4D5663"
          },
          "text": ""
         },
         "zerolinecolor": "#E1E5ED"
        },
        "yaxis": {
         "gridcolor": "#E1E5ED",
         "showgrid": true,
         "tickfont": {
          "color": "#4D5663"
         },
         "title": {
          "font": {
           "color": "#4D5663"
          },
          "text": ""
         },
         "zerolinecolor": "#E1E5ED"
        }
       }
      },
      "text/html": [
       "<div>\n",
       "        \n",
       "        \n",
       "            <div id=\"3643e003-648a-4f59-991b-14eed265d39b\" class=\"plotly-graph-div\" style=\"height:525px; width:100%;\"></div>\n",
       "            <script type=\"text/javascript\">\n",
       "                require([\"plotly\"], function(Plotly) {\n",
       "                    window.PLOTLYENV=window.PLOTLYENV || {};\n",
       "                    window.PLOTLYENV.BASE_URL='https://plot.ly';\n",
       "                    \n",
       "                if (document.getElementById(\"3643e003-648a-4f59-991b-14eed265d39b\")) {\n",
       "                    Plotly.newPlot(\n",
       "                        '3643e003-648a-4f59-991b-14eed265d39b',\n",
       "                        [{\"colorscale\": [[0.0, \"rgb(165,0,38)\"], [0.1, \"rgb(215,48,39)\"], [0.2, \"rgb(244,109,67)\"], [0.3, \"rgb(253,174,97)\"], [0.4, \"rgb(254,224,144)\"], [0.5, \"rgb(255,255,191)\"], [0.6, \"rgb(224,243,248)\"], [0.7, \"rgb(171,217,233)\"], [0.8, \"rgb(116,173,209)\"], [0.9, \"rgb(69,117,180)\"], [1.0, \"rgb(49,54,149)\"]], \"type\": \"surface\", \"x\": [0, 1, 2, 3, 4], \"y\": [\"x\", \"y\", \"z\"], \"z\": [[1, 2, 3, 4, 5], [10, 20, 30, 20, 10], [5, 4, 3, 2, 1]]}],\n",
       "                        {\"legend\": {\"bgcolor\": \"#F5F6F9\", \"font\": {\"color\": \"#4D5663\"}}, \"paper_bgcolor\": \"#F5F6F9\", \"plot_bgcolor\": \"#F5F6F9\", \"template\": {\"data\": {\"bar\": [{\"error_x\": {\"color\": \"#2a3f5f\"}, \"error_y\": {\"color\": \"#2a3f5f\"}, \"marker\": {\"line\": {\"color\": \"#E5ECF6\", \"width\": 0.5}}, \"type\": \"bar\"}], \"barpolar\": [{\"marker\": {\"line\": {\"color\": \"#E5ECF6\", \"width\": 0.5}}, \"type\": \"barpolar\"}], \"carpet\": [{\"aaxis\": {\"endlinecolor\": \"#2a3f5f\", \"gridcolor\": \"white\", \"linecolor\": \"white\", \"minorgridcolor\": \"white\", \"startlinecolor\": \"#2a3f5f\"}, \"baxis\": {\"endlinecolor\": \"#2a3f5f\", \"gridcolor\": \"white\", \"linecolor\": \"white\", \"minorgridcolor\": \"white\", \"startlinecolor\": \"#2a3f5f\"}, \"type\": \"carpet\"}], \"choropleth\": [{\"colorbar\": {\"outlinewidth\": 0, \"ticks\": \"\"}, \"type\": \"choropleth\"}], \"contour\": [{\"colorbar\": {\"outlinewidth\": 0, \"ticks\": \"\"}, \"colorscale\": [[0.0, \"#0d0887\"], [0.1111111111111111, \"#46039f\"], [0.2222222222222222, \"#7201a8\"], [0.3333333333333333, \"#9c179e\"], [0.4444444444444444, \"#bd3786\"], [0.5555555555555556, \"#d8576b\"], [0.6666666666666666, \"#ed7953\"], [0.7777777777777778, \"#fb9f3a\"], [0.8888888888888888, \"#fdca26\"], [1.0, \"#f0f921\"]], \"type\": \"contour\"}], \"contourcarpet\": [{\"colorbar\": {\"outlinewidth\": 0, \"ticks\": \"\"}, \"type\": \"contourcarpet\"}], \"heatmap\": [{\"colorbar\": {\"outlinewidth\": 0, \"ticks\": \"\"}, \"colorscale\": [[0.0, \"#0d0887\"], [0.1111111111111111, \"#46039f\"], [0.2222222222222222, \"#7201a8\"], [0.3333333333333333, \"#9c179e\"], [0.4444444444444444, \"#bd3786\"], [0.5555555555555556, \"#d8576b\"], [0.6666666666666666, \"#ed7953\"], [0.7777777777777778, \"#fb9f3a\"], [0.8888888888888888, \"#fdca26\"], [1.0, \"#f0f921\"]], \"type\": \"heatmap\"}], \"heatmapgl\": [{\"colorbar\": {\"outlinewidth\": 0, \"ticks\": \"\"}, \"colorscale\": [[0.0, \"#0d0887\"], [0.1111111111111111, \"#46039f\"], [0.2222222222222222, \"#7201a8\"], [0.3333333333333333, \"#9c179e\"], [0.4444444444444444, \"#bd3786\"], [0.5555555555555556, \"#d8576b\"], [0.6666666666666666, \"#ed7953\"], [0.7777777777777778, \"#fb9f3a\"], [0.8888888888888888, \"#fdca26\"], [1.0, \"#f0f921\"]], \"type\": \"heatmapgl\"}], \"histogram\": [{\"marker\": {\"colorbar\": {\"outlinewidth\": 0, \"ticks\": \"\"}}, \"type\": \"histogram\"}], \"histogram2d\": [{\"colorbar\": {\"outlinewidth\": 0, \"ticks\": \"\"}, \"colorscale\": [[0.0, \"#0d0887\"], [0.1111111111111111, \"#46039f\"], [0.2222222222222222, \"#7201a8\"], [0.3333333333333333, \"#9c179e\"], [0.4444444444444444, \"#bd3786\"], [0.5555555555555556, \"#d8576b\"], [0.6666666666666666, \"#ed7953\"], [0.7777777777777778, \"#fb9f3a\"], [0.8888888888888888, \"#fdca26\"], [1.0, \"#f0f921\"]], \"type\": \"histogram2d\"}], \"histogram2dcontour\": [{\"colorbar\": {\"outlinewidth\": 0, \"ticks\": \"\"}, \"colorscale\": [[0.0, \"#0d0887\"], [0.1111111111111111, \"#46039f\"], [0.2222222222222222, \"#7201a8\"], [0.3333333333333333, \"#9c179e\"], [0.4444444444444444, \"#bd3786\"], [0.5555555555555556, \"#d8576b\"], [0.6666666666666666, \"#ed7953\"], [0.7777777777777778, \"#fb9f3a\"], [0.8888888888888888, \"#fdca26\"], [1.0, \"#f0f921\"]], \"type\": \"histogram2dcontour\"}], \"mesh3d\": [{\"colorbar\": {\"outlinewidth\": 0, \"ticks\": \"\"}, \"type\": \"mesh3d\"}], \"parcoords\": [{\"line\": {\"colorbar\": {\"outlinewidth\": 0, \"ticks\": \"\"}}, \"type\": \"parcoords\"}], \"pie\": [{\"automargin\": true, \"type\": \"pie\"}], \"scatter\": [{\"marker\": {\"colorbar\": {\"outlinewidth\": 0, \"ticks\": \"\"}}, \"type\": \"scatter\"}], \"scatter3d\": [{\"line\": {\"colorbar\": {\"outlinewidth\": 0, \"ticks\": \"\"}}, \"marker\": {\"colorbar\": {\"outlinewidth\": 0, \"ticks\": \"\"}}, \"type\": \"scatter3d\"}], \"scattercarpet\": [{\"marker\": {\"colorbar\": {\"outlinewidth\": 0, \"ticks\": \"\"}}, \"type\": \"scattercarpet\"}], \"scattergeo\": [{\"marker\": {\"colorbar\": {\"outlinewidth\": 0, \"ticks\": \"\"}}, \"type\": \"scattergeo\"}], \"scattergl\": [{\"marker\": {\"colorbar\": {\"outlinewidth\": 0, \"ticks\": \"\"}}, \"type\": \"scattergl\"}], \"scattermapbox\": [{\"marker\": {\"colorbar\": {\"outlinewidth\": 0, \"ticks\": \"\"}}, \"type\": \"scattermapbox\"}], \"scatterpolar\": [{\"marker\": {\"colorbar\": {\"outlinewidth\": 0, \"ticks\": \"\"}}, \"type\": \"scatterpolar\"}], \"scatterpolargl\": [{\"marker\": {\"colorbar\": {\"outlinewidth\": 0, \"ticks\": \"\"}}, \"type\": \"scatterpolargl\"}], \"scatterternary\": [{\"marker\": {\"colorbar\": {\"outlinewidth\": 0, \"ticks\": \"\"}}, \"type\": \"scatterternary\"}], \"surface\": [{\"colorbar\": {\"outlinewidth\": 0, \"ticks\": \"\"}, \"colorscale\": [[0.0, \"#0d0887\"], [0.1111111111111111, \"#46039f\"], [0.2222222222222222, \"#7201a8\"], [0.3333333333333333, \"#9c179e\"], [0.4444444444444444, \"#bd3786\"], [0.5555555555555556, \"#d8576b\"], [0.6666666666666666, \"#ed7953\"], [0.7777777777777778, \"#fb9f3a\"], [0.8888888888888888, \"#fdca26\"], [1.0, \"#f0f921\"]], \"type\": \"surface\"}], \"table\": [{\"cells\": {\"fill\": {\"color\": \"#EBF0F8\"}, \"line\": {\"color\": \"white\"}}, \"header\": {\"fill\": {\"color\": \"#C8D4E3\"}, \"line\": {\"color\": \"white\"}}, \"type\": \"table\"}]}, \"layout\": {\"annotationdefaults\": {\"arrowcolor\": \"#2a3f5f\", \"arrowhead\": 0, \"arrowwidth\": 1}, \"coloraxis\": {\"colorbar\": {\"outlinewidth\": 0, \"ticks\": \"\"}}, \"colorscale\": {\"diverging\": [[0, \"#8e0152\"], [0.1, \"#c51b7d\"], [0.2, \"#de77ae\"], [0.3, \"#f1b6da\"], [0.4, \"#fde0ef\"], [0.5, \"#f7f7f7\"], [0.6, \"#e6f5d0\"], [0.7, \"#b8e186\"], [0.8, \"#7fbc41\"], [0.9, \"#4d9221\"], [1, \"#276419\"]], \"sequential\": [[0.0, \"#0d0887\"], [0.1111111111111111, \"#46039f\"], [0.2222222222222222, \"#7201a8\"], [0.3333333333333333, \"#9c179e\"], [0.4444444444444444, \"#bd3786\"], [0.5555555555555556, \"#d8576b\"], [0.6666666666666666, \"#ed7953\"], [0.7777777777777778, \"#fb9f3a\"], [0.8888888888888888, \"#fdca26\"], [1.0, \"#f0f921\"]], \"sequentialminus\": [[0.0, \"#0d0887\"], [0.1111111111111111, \"#46039f\"], [0.2222222222222222, \"#7201a8\"], [0.3333333333333333, \"#9c179e\"], [0.4444444444444444, \"#bd3786\"], [0.5555555555555556, \"#d8576b\"], [0.6666666666666666, \"#ed7953\"], [0.7777777777777778, \"#fb9f3a\"], [0.8888888888888888, \"#fdca26\"], [1.0, \"#f0f921\"]]}, \"colorway\": [\"#636efa\", \"#EF553B\", \"#00cc96\", \"#ab63fa\", \"#FFA15A\", \"#19d3f3\", \"#FF6692\", \"#B6E880\", \"#FF97FF\", \"#FECB52\"], \"font\": {\"color\": \"#2a3f5f\"}, \"geo\": {\"bgcolor\": \"white\", \"lakecolor\": \"white\", \"landcolor\": \"#E5ECF6\", \"showlakes\": true, \"showland\": true, \"subunitcolor\": \"white\"}, \"hoverlabel\": {\"align\": \"left\"}, \"hovermode\": \"closest\", \"mapbox\": {\"style\": \"light\"}, \"paper_bgcolor\": \"white\", \"plot_bgcolor\": \"#E5ECF6\", \"polar\": {\"angularaxis\": {\"gridcolor\": \"white\", \"linecolor\": \"white\", \"ticks\": \"\"}, \"bgcolor\": \"#E5ECF6\", \"radialaxis\": {\"gridcolor\": \"white\", \"linecolor\": \"white\", \"ticks\": \"\"}}, \"scene\": {\"xaxis\": {\"backgroundcolor\": \"#E5ECF6\", \"gridcolor\": \"white\", \"gridwidth\": 2, \"linecolor\": \"white\", \"showbackground\": true, \"ticks\": \"\", \"zerolinecolor\": \"white\"}, \"yaxis\": {\"backgroundcolor\": \"#E5ECF6\", \"gridcolor\": \"white\", \"gridwidth\": 2, \"linecolor\": \"white\", \"showbackground\": true, \"ticks\": \"\", \"zerolinecolor\": \"white\"}, \"zaxis\": {\"backgroundcolor\": \"#E5ECF6\", \"gridcolor\": \"white\", \"gridwidth\": 2, \"linecolor\": \"white\", \"showbackground\": true, \"ticks\": \"\", \"zerolinecolor\": \"white\"}}, \"shapedefaults\": {\"line\": {\"color\": \"#2a3f5f\"}}, \"ternary\": {\"aaxis\": {\"gridcolor\": \"white\", \"linecolor\": \"white\", \"ticks\": \"\"}, \"baxis\": {\"gridcolor\": \"white\", \"linecolor\": \"white\", \"ticks\": \"\"}, \"bgcolor\": \"#E5ECF6\", \"caxis\": {\"gridcolor\": \"white\", \"linecolor\": \"white\", \"ticks\": \"\"}}, \"title\": {\"x\": 0.05}, \"xaxis\": {\"automargin\": true, \"gridcolor\": \"white\", \"linecolor\": \"white\", \"ticks\": \"\", \"title\": {\"standoff\": 15}, \"zerolinecolor\": \"white\", \"zerolinewidth\": 2}, \"yaxis\": {\"automargin\": true, \"gridcolor\": \"white\", \"linecolor\": \"white\", \"ticks\": \"\", \"title\": {\"standoff\": 15}, \"zerolinecolor\": \"white\", \"zerolinewidth\": 2}}}, \"title\": {\"font\": {\"color\": \"#4D5663\"}}, \"xaxis\": {\"gridcolor\": \"#E1E5ED\", \"showgrid\": true, \"tickfont\": {\"color\": \"#4D5663\"}, \"title\": {\"font\": {\"color\": \"#4D5663\"}, \"text\": \"\"}, \"zerolinecolor\": \"#E1E5ED\"}, \"yaxis\": {\"gridcolor\": \"#E1E5ED\", \"showgrid\": true, \"tickfont\": {\"color\": \"#4D5663\"}, \"title\": {\"font\": {\"color\": \"#4D5663\"}, \"text\": \"\"}, \"zerolinecolor\": \"#E1E5ED\"}},\n",
       "                        {\"showLink\": true, \"linkText\": \"Export to plot.ly\", \"plotlyServerURL\": \"https://plot.ly\", \"responsive\": true}\n",
       "                    ).then(function(){\n",
       "                            \n",
       "var gd = document.getElementById('3643e003-648a-4f59-991b-14eed265d39b');\n",
       "var x = new MutationObserver(function (mutations, observer) {{\n",
       "        var display = window.getComputedStyle(gd).display;\n",
       "        if (!display || display === 'none') {{\n",
       "            console.log([gd, 'removed!']);\n",
       "            Plotly.purge(gd);\n",
       "            observer.disconnect();\n",
       "        }}\n",
       "}});\n",
       "\n",
       "// Listen for the removal of the full notebook cells\n",
       "var notebookContainer = gd.closest('#notebook-container');\n",
       "if (notebookContainer) {{\n",
       "    x.observe(notebookContainer, {childList: true});\n",
       "}}\n",
       "\n",
       "// Listen for the clearing of the current output cell\n",
       "var outputEl = gd.closest('.output');\n",
       "if (outputEl) {{\n",
       "    x.observe(outputEl, {childList: true});\n",
       "}}\n",
       "\n",
       "                        })\n",
       "                };\n",
       "                });\n",
       "            </script>\n",
       "        </div>"
      ]
     },
     "metadata": {},
     "output_type": "display_data"
    }
   ],
   "source": [
    "df3.iplot(kind='surface',colorscale='rdylbu')"
   ]
  },
  {
   "cell_type": "code",
   "execution_count": 28,
   "metadata": {},
   "outputs": [
    {
     "data": {
      "application/vnd.plotly.v1+json": {
       "config": {
        "linkText": "Export to plot.ly",
        "plotlyServerURL": "https://plot.ly",
        "showLink": true
       },
       "data": [
        {
         "histfunc": "count",
         "histnorm": "",
         "marker": {
          "color": "rgba(255, 153, 51, 1.0)",
          "line": {
           "color": "#4D5663",
           "width": 1.3
          }
         },
         "name": "A",
         "nbinsx": 50,
         "opacity": 0.8,
         "orientation": "v",
         "type": "histogram",
         "x": [
          -1.8375793829805152,
          -0.15949696869273136,
          1.1310371011634441,
          0.033424317827104935,
          -0.27266433823248903,
          -1.5266480612294526,
          0.6406900998232502,
          -1.2037810103452755,
          0.45766181096666353,
          -0.65756316944976,
          1.2254607006230938,
          -0.49670888312590306,
          0.9517977824412835,
          -0.4737685536624598,
          -0.18866034695016973,
          1.7707542889792907,
          0.6323242648780771,
          0.12204537313043434,
          -1.9034920234674675,
          -0.04442225969249496,
          0.15429995846266448,
          0.7932222997650096,
          2.539915784248557,
          -1.1930343034985709,
          -0.614857906207743,
          1.4806568174717332,
          -1.8648504458226827,
          -0.41509780444484906,
          -1.5902518624107531,
          -1.1668716248656292,
          0.7148812419826943,
          0.9205412994571905,
          -1.0552530177997501,
          -1.1144495047103273,
          -1.4148418771042273,
          -0.7978844421999658,
          -0.7196315490672652,
          -0.6581896684098428,
          -0.003017838744859791,
          1.000572700470973,
          0.03907023496823878,
          0.9445560069535803,
          -0.4370724628095535,
          -0.5308855796106563,
          0.40885528594580445,
          0.188730040054379,
          -0.7941436814811723,
          1.9071063059377538,
          -0.05371617887237018,
          -1.2180771449054735,
          -0.0027625945812005813,
          -0.7289781761912149,
          -1.5148040962595313,
          1.5310393005980325,
          1.2115849481386265,
          0.47883686689648225,
          -0.45499490210360916,
          -1.0189093313495297,
          -0.15728791717667132,
          -0.11127659476746542,
          0.8690846353904871,
          0.20354127289823257,
          -2.0630281790612797,
          1.3344770773409376,
          -1.6200000617491879,
          -0.23116693293656054,
          -0.6755590465420752,
          0.4685086761604976,
          0.49494635923821795,
          -0.005597955485651658,
          1.0885292455914743,
          -1.0407905089838017,
          -0.929490474183066,
          -1.015229473319679,
          1.8836505311940042,
          0.852998689782739,
          1.0753372020989056,
          1.4373344844109446,
          -0.03480585890954957,
          -0.37548221973787094,
          1.5645635392346884,
          1.758746465445413,
          -1.7330027977656584,
          -0.25500034465944543,
          -0.11760242138474251,
          1.9831290035306863,
          -1.6781345236672671,
          1.0916134309838674,
          -0.4986127299448885,
          0.4985659415525577,
          1.1762317481769409,
          -0.9905137465769372,
          -1.063065614167874,
          1.242282812838642,
          0.990357440665751,
          3.006402504672399,
          1.7946437084519817,
          1.2758239575605375,
          0.038206062830590415,
          -0.052200463798188414
         ]
        }
       ],
       "layout": {
        "barmode": "overlay",
        "legend": {
         "bgcolor": "#F5F6F9",
         "font": {
          "color": "#4D5663"
         }
        },
        "paper_bgcolor": "#F5F6F9",
        "plot_bgcolor": "#F5F6F9",
        "template": {
         "data": {
          "bar": [
           {
            "error_x": {
             "color": "#2a3f5f"
            },
            "error_y": {
             "color": "#2a3f5f"
            },
            "marker": {
             "line": {
              "color": "#E5ECF6",
              "width": 0.5
             }
            },
            "type": "bar"
           }
          ],
          "barpolar": [
           {
            "marker": {
             "line": {
              "color": "#E5ECF6",
              "width": 0.5
             }
            },
            "type": "barpolar"
           }
          ],
          "carpet": [
           {
            "aaxis": {
             "endlinecolor": "#2a3f5f",
             "gridcolor": "white",
             "linecolor": "white",
             "minorgridcolor": "white",
             "startlinecolor": "#2a3f5f"
            },
            "baxis": {
             "endlinecolor": "#2a3f5f",
             "gridcolor": "white",
             "linecolor": "white",
             "minorgridcolor": "white",
             "startlinecolor": "#2a3f5f"
            },
            "type": "carpet"
           }
          ],
          "choropleth": [
           {
            "colorbar": {
             "outlinewidth": 0,
             "ticks": ""
            },
            "type": "choropleth"
           }
          ],
          "contour": [
           {
            "colorbar": {
             "outlinewidth": 0,
             "ticks": ""
            },
            "colorscale": [
             [
              0,
              "#0d0887"
             ],
             [
              0.1111111111111111,
              "#46039f"
             ],
             [
              0.2222222222222222,
              "#7201a8"
             ],
             [
              0.3333333333333333,
              "#9c179e"
             ],
             [
              0.4444444444444444,
              "#bd3786"
             ],
             [
              0.5555555555555556,
              "#d8576b"
             ],
             [
              0.6666666666666666,
              "#ed7953"
             ],
             [
              0.7777777777777778,
              "#fb9f3a"
             ],
             [
              0.8888888888888888,
              "#fdca26"
             ],
             [
              1,
              "#f0f921"
             ]
            ],
            "type": "contour"
           }
          ],
          "contourcarpet": [
           {
            "colorbar": {
             "outlinewidth": 0,
             "ticks": ""
            },
            "type": "contourcarpet"
           }
          ],
          "heatmap": [
           {
            "colorbar": {
             "outlinewidth": 0,
             "ticks": ""
            },
            "colorscale": [
             [
              0,
              "#0d0887"
             ],
             [
              0.1111111111111111,
              "#46039f"
             ],
             [
              0.2222222222222222,
              "#7201a8"
             ],
             [
              0.3333333333333333,
              "#9c179e"
             ],
             [
              0.4444444444444444,
              "#bd3786"
             ],
             [
              0.5555555555555556,
              "#d8576b"
             ],
             [
              0.6666666666666666,
              "#ed7953"
             ],
             [
              0.7777777777777778,
              "#fb9f3a"
             ],
             [
              0.8888888888888888,
              "#fdca26"
             ],
             [
              1,
              "#f0f921"
             ]
            ],
            "type": "heatmap"
           }
          ],
          "heatmapgl": [
           {
            "colorbar": {
             "outlinewidth": 0,
             "ticks": ""
            },
            "colorscale": [
             [
              0,
              "#0d0887"
             ],
             [
              0.1111111111111111,
              "#46039f"
             ],
             [
              0.2222222222222222,
              "#7201a8"
             ],
             [
              0.3333333333333333,
              "#9c179e"
             ],
             [
              0.4444444444444444,
              "#bd3786"
             ],
             [
              0.5555555555555556,
              "#d8576b"
             ],
             [
              0.6666666666666666,
              "#ed7953"
             ],
             [
              0.7777777777777778,
              "#fb9f3a"
             ],
             [
              0.8888888888888888,
              "#fdca26"
             ],
             [
              1,
              "#f0f921"
             ]
            ],
            "type": "heatmapgl"
           }
          ],
          "histogram": [
           {
            "marker": {
             "colorbar": {
              "outlinewidth": 0,
              "ticks": ""
             }
            },
            "type": "histogram"
           }
          ],
          "histogram2d": [
           {
            "colorbar": {
             "outlinewidth": 0,
             "ticks": ""
            },
            "colorscale": [
             [
              0,
              "#0d0887"
             ],
             [
              0.1111111111111111,
              "#46039f"
             ],
             [
              0.2222222222222222,
              "#7201a8"
             ],
             [
              0.3333333333333333,
              "#9c179e"
             ],
             [
              0.4444444444444444,
              "#bd3786"
             ],
             [
              0.5555555555555556,
              "#d8576b"
             ],
             [
              0.6666666666666666,
              "#ed7953"
             ],
             [
              0.7777777777777778,
              "#fb9f3a"
             ],
             [
              0.8888888888888888,
              "#fdca26"
             ],
             [
              1,
              "#f0f921"
             ]
            ],
            "type": "histogram2d"
           }
          ],
          "histogram2dcontour": [
           {
            "colorbar": {
             "outlinewidth": 0,
             "ticks": ""
            },
            "colorscale": [
             [
              0,
              "#0d0887"
             ],
             [
              0.1111111111111111,
              "#46039f"
             ],
             [
              0.2222222222222222,
              "#7201a8"
             ],
             [
              0.3333333333333333,
              "#9c179e"
             ],
             [
              0.4444444444444444,
              "#bd3786"
             ],
             [
              0.5555555555555556,
              "#d8576b"
             ],
             [
              0.6666666666666666,
              "#ed7953"
             ],
             [
              0.7777777777777778,
              "#fb9f3a"
             ],
             [
              0.8888888888888888,
              "#fdca26"
             ],
             [
              1,
              "#f0f921"
             ]
            ],
            "type": "histogram2dcontour"
           }
          ],
          "mesh3d": [
           {
            "colorbar": {
             "outlinewidth": 0,
             "ticks": ""
            },
            "type": "mesh3d"
           }
          ],
          "parcoords": [
           {
            "line": {
             "colorbar": {
              "outlinewidth": 0,
              "ticks": ""
             }
            },
            "type": "parcoords"
           }
          ],
          "pie": [
           {
            "automargin": true,
            "type": "pie"
           }
          ],
          "scatter": [
           {
            "marker": {
             "colorbar": {
              "outlinewidth": 0,
              "ticks": ""
             }
            },
            "type": "scatter"
           }
          ],
          "scatter3d": [
           {
            "line": {
             "colorbar": {
              "outlinewidth": 0,
              "ticks": ""
             }
            },
            "marker": {
             "colorbar": {
              "outlinewidth": 0,
              "ticks": ""
             }
            },
            "type": "scatter3d"
           }
          ],
          "scattercarpet": [
           {
            "marker": {
             "colorbar": {
              "outlinewidth": 0,
              "ticks": ""
             }
            },
            "type": "scattercarpet"
           }
          ],
          "scattergeo": [
           {
            "marker": {
             "colorbar": {
              "outlinewidth": 0,
              "ticks": ""
             }
            },
            "type": "scattergeo"
           }
          ],
          "scattergl": [
           {
            "marker": {
             "colorbar": {
              "outlinewidth": 0,
              "ticks": ""
             }
            },
            "type": "scattergl"
           }
          ],
          "scattermapbox": [
           {
            "marker": {
             "colorbar": {
              "outlinewidth": 0,
              "ticks": ""
             }
            },
            "type": "scattermapbox"
           }
          ],
          "scatterpolar": [
           {
            "marker": {
             "colorbar": {
              "outlinewidth": 0,
              "ticks": ""
             }
            },
            "type": "scatterpolar"
           }
          ],
          "scatterpolargl": [
           {
            "marker": {
             "colorbar": {
              "outlinewidth": 0,
              "ticks": ""
             }
            },
            "type": "scatterpolargl"
           }
          ],
          "scatterternary": [
           {
            "marker": {
             "colorbar": {
              "outlinewidth": 0,
              "ticks": ""
             }
            },
            "type": "scatterternary"
           }
          ],
          "surface": [
           {
            "colorbar": {
             "outlinewidth": 0,
             "ticks": ""
            },
            "colorscale": [
             [
              0,
              "#0d0887"
             ],
             [
              0.1111111111111111,
              "#46039f"
             ],
             [
              0.2222222222222222,
              "#7201a8"
             ],
             [
              0.3333333333333333,
              "#9c179e"
             ],
             [
              0.4444444444444444,
              "#bd3786"
             ],
             [
              0.5555555555555556,
              "#d8576b"
             ],
             [
              0.6666666666666666,
              "#ed7953"
             ],
             [
              0.7777777777777778,
              "#fb9f3a"
             ],
             [
              0.8888888888888888,
              "#fdca26"
             ],
             [
              1,
              "#f0f921"
             ]
            ],
            "type": "surface"
           }
          ],
          "table": [
           {
            "cells": {
             "fill": {
              "color": "#EBF0F8"
             },
             "line": {
              "color": "white"
             }
            },
            "header": {
             "fill": {
              "color": "#C8D4E3"
             },
             "line": {
              "color": "white"
             }
            },
            "type": "table"
           }
          ]
         },
         "layout": {
          "annotationdefaults": {
           "arrowcolor": "#2a3f5f",
           "arrowhead": 0,
           "arrowwidth": 1
          },
          "coloraxis": {
           "colorbar": {
            "outlinewidth": 0,
            "ticks": ""
           }
          },
          "colorscale": {
           "diverging": [
            [
             0,
             "#8e0152"
            ],
            [
             0.1,
             "#c51b7d"
            ],
            [
             0.2,
             "#de77ae"
            ],
            [
             0.3,
             "#f1b6da"
            ],
            [
             0.4,
             "#fde0ef"
            ],
            [
             0.5,
             "#f7f7f7"
            ],
            [
             0.6,
             "#e6f5d0"
            ],
            [
             0.7,
             "#b8e186"
            ],
            [
             0.8,
             "#7fbc41"
            ],
            [
             0.9,
             "#4d9221"
            ],
            [
             1,
             "#276419"
            ]
           ],
           "sequential": [
            [
             0,
             "#0d0887"
            ],
            [
             0.1111111111111111,
             "#46039f"
            ],
            [
             0.2222222222222222,
             "#7201a8"
            ],
            [
             0.3333333333333333,
             "#9c179e"
            ],
            [
             0.4444444444444444,
             "#bd3786"
            ],
            [
             0.5555555555555556,
             "#d8576b"
            ],
            [
             0.6666666666666666,
             "#ed7953"
            ],
            [
             0.7777777777777778,
             "#fb9f3a"
            ],
            [
             0.8888888888888888,
             "#fdca26"
            ],
            [
             1,
             "#f0f921"
            ]
           ],
           "sequentialminus": [
            [
             0,
             "#0d0887"
            ],
            [
             0.1111111111111111,
             "#46039f"
            ],
            [
             0.2222222222222222,
             "#7201a8"
            ],
            [
             0.3333333333333333,
             "#9c179e"
            ],
            [
             0.4444444444444444,
             "#bd3786"
            ],
            [
             0.5555555555555556,
             "#d8576b"
            ],
            [
             0.6666666666666666,
             "#ed7953"
            ],
            [
             0.7777777777777778,
             "#fb9f3a"
            ],
            [
             0.8888888888888888,
             "#fdca26"
            ],
            [
             1,
             "#f0f921"
            ]
           ]
          },
          "colorway": [
           "#636efa",
           "#EF553B",
           "#00cc96",
           "#ab63fa",
           "#FFA15A",
           "#19d3f3",
           "#FF6692",
           "#B6E880",
           "#FF97FF",
           "#FECB52"
          ],
          "font": {
           "color": "#2a3f5f"
          },
          "geo": {
           "bgcolor": "white",
           "lakecolor": "white",
           "landcolor": "#E5ECF6",
           "showlakes": true,
           "showland": true,
           "subunitcolor": "white"
          },
          "hoverlabel": {
           "align": "left"
          },
          "hovermode": "closest",
          "mapbox": {
           "style": "light"
          },
          "paper_bgcolor": "white",
          "plot_bgcolor": "#E5ECF6",
          "polar": {
           "angularaxis": {
            "gridcolor": "white",
            "linecolor": "white",
            "ticks": ""
           },
           "bgcolor": "#E5ECF6",
           "radialaxis": {
            "gridcolor": "white",
            "linecolor": "white",
            "ticks": ""
           }
          },
          "scene": {
           "xaxis": {
            "backgroundcolor": "#E5ECF6",
            "gridcolor": "white",
            "gridwidth": 2,
            "linecolor": "white",
            "showbackground": true,
            "ticks": "",
            "zerolinecolor": "white"
           },
           "yaxis": {
            "backgroundcolor": "#E5ECF6",
            "gridcolor": "white",
            "gridwidth": 2,
            "linecolor": "white",
            "showbackground": true,
            "ticks": "",
            "zerolinecolor": "white"
           },
           "zaxis": {
            "backgroundcolor": "#E5ECF6",
            "gridcolor": "white",
            "gridwidth": 2,
            "linecolor": "white",
            "showbackground": true,
            "ticks": "",
            "zerolinecolor": "white"
           }
          },
          "shapedefaults": {
           "line": {
            "color": "#2a3f5f"
           }
          },
          "ternary": {
           "aaxis": {
            "gridcolor": "white",
            "linecolor": "white",
            "ticks": ""
           },
           "baxis": {
            "gridcolor": "white",
            "linecolor": "white",
            "ticks": ""
           },
           "bgcolor": "#E5ECF6",
           "caxis": {
            "gridcolor": "white",
            "linecolor": "white",
            "ticks": ""
           }
          },
          "title": {
           "x": 0.05
          },
          "xaxis": {
           "automargin": true,
           "gridcolor": "white",
           "linecolor": "white",
           "ticks": "",
           "title": {
            "standoff": 15
           },
           "zerolinecolor": "white",
           "zerolinewidth": 2
          },
          "yaxis": {
           "automargin": true,
           "gridcolor": "white",
           "linecolor": "white",
           "ticks": "",
           "title": {
            "standoff": 15
           },
           "zerolinecolor": "white",
           "zerolinewidth": 2
          }
         }
        },
        "title": {
         "font": {
          "color": "#4D5663"
         }
        },
        "xaxis": {
         "gridcolor": "#E1E5ED",
         "showgrid": true,
         "tickfont": {
          "color": "#4D5663"
         },
         "title": {
          "font": {
           "color": "#4D5663"
          },
          "text": ""
         },
         "zerolinecolor": "#E1E5ED"
        },
        "yaxis": {
         "gridcolor": "#E1E5ED",
         "showgrid": true,
         "tickfont": {
          "color": "#4D5663"
         },
         "title": {
          "font": {
           "color": "#4D5663"
          },
          "text": ""
         },
         "zerolinecolor": "#E1E5ED"
        }
       }
      },
      "text/html": [
       "<div>\n",
       "        \n",
       "        \n",
       "            <div id=\"363787d4-df39-4dc6-89c0-fedbe78a4bda\" class=\"plotly-graph-div\" style=\"height:525px; width:100%;\"></div>\n",
       "            <script type=\"text/javascript\">\n",
       "                require([\"plotly\"], function(Plotly) {\n",
       "                    window.PLOTLYENV=window.PLOTLYENV || {};\n",
       "                    window.PLOTLYENV.BASE_URL='https://plot.ly';\n",
       "                    \n",
       "                if (document.getElementById(\"363787d4-df39-4dc6-89c0-fedbe78a4bda\")) {\n",
       "                    Plotly.newPlot(\n",
       "                        '363787d4-df39-4dc6-89c0-fedbe78a4bda',\n",
       "                        [{\"histfunc\": \"count\", \"histnorm\": \"\", \"marker\": {\"color\": \"rgba(255, 153, 51, 1.0)\", \"line\": {\"color\": \"#4D5663\", \"width\": 1.3}}, \"name\": \"A\", \"nbinsx\": 50, \"opacity\": 0.8, \"orientation\": \"v\", \"type\": \"histogram\", \"x\": [-1.8375793829805152, -0.15949696869273136, 1.1310371011634441, 0.033424317827104935, -0.27266433823248903, -1.5266480612294526, 0.6406900998232502, -1.2037810103452755, 0.45766181096666353, -0.65756316944976, 1.2254607006230938, -0.49670888312590306, 0.9517977824412835, -0.4737685536624598, -0.18866034695016973, 1.7707542889792907, 0.6323242648780771, 0.12204537313043434, -1.9034920234674675, -0.04442225969249496, 0.15429995846266448, 0.7932222997650096, 2.539915784248557, -1.1930343034985709, -0.614857906207743, 1.4806568174717332, -1.8648504458226827, -0.41509780444484906, -1.5902518624107531, -1.1668716248656292, 0.7148812419826943, 0.9205412994571905, -1.0552530177997501, -1.1144495047103273, -1.4148418771042273, -0.7978844421999658, -0.7196315490672652, -0.6581896684098428, -0.003017838744859791, 1.000572700470973, 0.03907023496823878, 0.9445560069535803, -0.4370724628095535, -0.5308855796106563, 0.40885528594580445, 0.188730040054379, -0.7941436814811723, 1.9071063059377538, -0.05371617887237018, -1.2180771449054735, -0.0027625945812005813, -0.7289781761912149, -1.5148040962595313, 1.5310393005980325, 1.2115849481386265, 0.47883686689648225, -0.45499490210360916, -1.0189093313495297, -0.15728791717667132, -0.11127659476746542, 0.8690846353904871, 0.20354127289823257, -2.0630281790612797, 1.3344770773409376, -1.6200000617491879, -0.23116693293656054, -0.6755590465420752, 0.4685086761604976, 0.49494635923821795, -0.005597955485651658, 1.0885292455914743, -1.0407905089838017, -0.929490474183066, -1.015229473319679, 1.8836505311940042, 0.852998689782739, 1.0753372020989056, 1.4373344844109446, -0.03480585890954957, -0.37548221973787094, 1.5645635392346884, 1.758746465445413, -1.7330027977656584, -0.25500034465944543, -0.11760242138474251, 1.9831290035306863, -1.6781345236672671, 1.0916134309838674, -0.4986127299448885, 0.4985659415525577, 1.1762317481769409, -0.9905137465769372, -1.063065614167874, 1.242282812838642, 0.990357440665751, 3.006402504672399, 1.7946437084519817, 1.2758239575605375, 0.038206062830590415, -0.052200463798188414]}],\n",
       "                        {\"barmode\": \"overlay\", \"legend\": {\"bgcolor\": \"#F5F6F9\", \"font\": {\"color\": \"#4D5663\"}}, \"paper_bgcolor\": \"#F5F6F9\", \"plot_bgcolor\": \"#F5F6F9\", \"template\": {\"data\": {\"bar\": [{\"error_x\": {\"color\": \"#2a3f5f\"}, \"error_y\": {\"color\": \"#2a3f5f\"}, \"marker\": {\"line\": {\"color\": \"#E5ECF6\", \"width\": 0.5}}, \"type\": \"bar\"}], \"barpolar\": [{\"marker\": {\"line\": {\"color\": \"#E5ECF6\", \"width\": 0.5}}, \"type\": \"barpolar\"}], \"carpet\": [{\"aaxis\": {\"endlinecolor\": \"#2a3f5f\", \"gridcolor\": \"white\", \"linecolor\": \"white\", \"minorgridcolor\": \"white\", \"startlinecolor\": \"#2a3f5f\"}, \"baxis\": {\"endlinecolor\": \"#2a3f5f\", \"gridcolor\": \"white\", \"linecolor\": \"white\", \"minorgridcolor\": \"white\", \"startlinecolor\": \"#2a3f5f\"}, \"type\": \"carpet\"}], \"choropleth\": [{\"colorbar\": {\"outlinewidth\": 0, \"ticks\": \"\"}, \"type\": \"choropleth\"}], \"contour\": [{\"colorbar\": {\"outlinewidth\": 0, \"ticks\": \"\"}, \"colorscale\": [[0.0, \"#0d0887\"], [0.1111111111111111, \"#46039f\"], [0.2222222222222222, \"#7201a8\"], [0.3333333333333333, \"#9c179e\"], [0.4444444444444444, \"#bd3786\"], [0.5555555555555556, \"#d8576b\"], [0.6666666666666666, \"#ed7953\"], [0.7777777777777778, \"#fb9f3a\"], [0.8888888888888888, \"#fdca26\"], [1.0, \"#f0f921\"]], \"type\": \"contour\"}], \"contourcarpet\": [{\"colorbar\": {\"outlinewidth\": 0, \"ticks\": \"\"}, \"type\": \"contourcarpet\"}], \"heatmap\": [{\"colorbar\": {\"outlinewidth\": 0, \"ticks\": \"\"}, \"colorscale\": [[0.0, \"#0d0887\"], [0.1111111111111111, \"#46039f\"], [0.2222222222222222, \"#7201a8\"], [0.3333333333333333, \"#9c179e\"], [0.4444444444444444, \"#bd3786\"], [0.5555555555555556, \"#d8576b\"], [0.6666666666666666, \"#ed7953\"], [0.7777777777777778, \"#fb9f3a\"], [0.8888888888888888, \"#fdca26\"], [1.0, \"#f0f921\"]], \"type\": \"heatmap\"}], \"heatmapgl\": [{\"colorbar\": {\"outlinewidth\": 0, \"ticks\": \"\"}, \"colorscale\": [[0.0, \"#0d0887\"], [0.1111111111111111, \"#46039f\"], [0.2222222222222222, \"#7201a8\"], [0.3333333333333333, \"#9c179e\"], [0.4444444444444444, \"#bd3786\"], [0.5555555555555556, \"#d8576b\"], [0.6666666666666666, \"#ed7953\"], [0.7777777777777778, \"#fb9f3a\"], [0.8888888888888888, \"#fdca26\"], [1.0, \"#f0f921\"]], \"type\": \"heatmapgl\"}], \"histogram\": [{\"marker\": {\"colorbar\": {\"outlinewidth\": 0, \"ticks\": \"\"}}, \"type\": \"histogram\"}], \"histogram2d\": [{\"colorbar\": {\"outlinewidth\": 0, \"ticks\": \"\"}, \"colorscale\": [[0.0, \"#0d0887\"], [0.1111111111111111, \"#46039f\"], [0.2222222222222222, \"#7201a8\"], [0.3333333333333333, \"#9c179e\"], [0.4444444444444444, \"#bd3786\"], [0.5555555555555556, \"#d8576b\"], [0.6666666666666666, \"#ed7953\"], [0.7777777777777778, \"#fb9f3a\"], [0.8888888888888888, \"#fdca26\"], [1.0, \"#f0f921\"]], \"type\": \"histogram2d\"}], \"histogram2dcontour\": [{\"colorbar\": {\"outlinewidth\": 0, \"ticks\": \"\"}, \"colorscale\": [[0.0, \"#0d0887\"], [0.1111111111111111, \"#46039f\"], [0.2222222222222222, \"#7201a8\"], [0.3333333333333333, \"#9c179e\"], [0.4444444444444444, \"#bd3786\"], [0.5555555555555556, \"#d8576b\"], [0.6666666666666666, \"#ed7953\"], [0.7777777777777778, \"#fb9f3a\"], [0.8888888888888888, \"#fdca26\"], [1.0, \"#f0f921\"]], \"type\": \"histogram2dcontour\"}], \"mesh3d\": [{\"colorbar\": {\"outlinewidth\": 0, \"ticks\": \"\"}, \"type\": \"mesh3d\"}], \"parcoords\": [{\"line\": {\"colorbar\": {\"outlinewidth\": 0, \"ticks\": \"\"}}, \"type\": \"parcoords\"}], \"pie\": [{\"automargin\": true, \"type\": \"pie\"}], \"scatter\": [{\"marker\": {\"colorbar\": {\"outlinewidth\": 0, \"ticks\": \"\"}}, \"type\": \"scatter\"}], \"scatter3d\": [{\"line\": {\"colorbar\": {\"outlinewidth\": 0, \"ticks\": \"\"}}, \"marker\": {\"colorbar\": {\"outlinewidth\": 0, \"ticks\": \"\"}}, \"type\": \"scatter3d\"}], \"scattercarpet\": [{\"marker\": {\"colorbar\": {\"outlinewidth\": 0, \"ticks\": \"\"}}, \"type\": \"scattercarpet\"}], \"scattergeo\": [{\"marker\": {\"colorbar\": {\"outlinewidth\": 0, \"ticks\": \"\"}}, \"type\": \"scattergeo\"}], \"scattergl\": [{\"marker\": {\"colorbar\": {\"outlinewidth\": 0, \"ticks\": \"\"}}, \"type\": \"scattergl\"}], \"scattermapbox\": [{\"marker\": {\"colorbar\": {\"outlinewidth\": 0, \"ticks\": \"\"}}, \"type\": \"scattermapbox\"}], \"scatterpolar\": [{\"marker\": {\"colorbar\": {\"outlinewidth\": 0, \"ticks\": \"\"}}, \"type\": \"scatterpolar\"}], \"scatterpolargl\": [{\"marker\": {\"colorbar\": {\"outlinewidth\": 0, \"ticks\": \"\"}}, \"type\": \"scatterpolargl\"}], \"scatterternary\": [{\"marker\": {\"colorbar\": {\"outlinewidth\": 0, \"ticks\": \"\"}}, \"type\": \"scatterternary\"}], \"surface\": [{\"colorbar\": {\"outlinewidth\": 0, \"ticks\": \"\"}, \"colorscale\": [[0.0, \"#0d0887\"], [0.1111111111111111, \"#46039f\"], [0.2222222222222222, \"#7201a8\"], [0.3333333333333333, \"#9c179e\"], [0.4444444444444444, \"#bd3786\"], [0.5555555555555556, \"#d8576b\"], [0.6666666666666666, \"#ed7953\"], [0.7777777777777778, \"#fb9f3a\"], [0.8888888888888888, \"#fdca26\"], [1.0, \"#f0f921\"]], \"type\": \"surface\"}], \"table\": [{\"cells\": {\"fill\": {\"color\": \"#EBF0F8\"}, \"line\": {\"color\": \"white\"}}, \"header\": {\"fill\": {\"color\": \"#C8D4E3\"}, \"line\": {\"color\": \"white\"}}, \"type\": \"table\"}]}, \"layout\": {\"annotationdefaults\": {\"arrowcolor\": \"#2a3f5f\", \"arrowhead\": 0, \"arrowwidth\": 1}, \"coloraxis\": {\"colorbar\": {\"outlinewidth\": 0, \"ticks\": \"\"}}, \"colorscale\": {\"diverging\": [[0, \"#8e0152\"], [0.1, \"#c51b7d\"], [0.2, \"#de77ae\"], [0.3, \"#f1b6da\"], [0.4, \"#fde0ef\"], [0.5, \"#f7f7f7\"], [0.6, \"#e6f5d0\"], [0.7, \"#b8e186\"], [0.8, \"#7fbc41\"], [0.9, \"#4d9221\"], [1, \"#276419\"]], \"sequential\": [[0.0, \"#0d0887\"], [0.1111111111111111, \"#46039f\"], [0.2222222222222222, \"#7201a8\"], [0.3333333333333333, \"#9c179e\"], [0.4444444444444444, \"#bd3786\"], [0.5555555555555556, \"#d8576b\"], [0.6666666666666666, \"#ed7953\"], [0.7777777777777778, \"#fb9f3a\"], [0.8888888888888888, \"#fdca26\"], [1.0, \"#f0f921\"]], \"sequentialminus\": [[0.0, \"#0d0887\"], [0.1111111111111111, \"#46039f\"], [0.2222222222222222, \"#7201a8\"], [0.3333333333333333, \"#9c179e\"], [0.4444444444444444, \"#bd3786\"], [0.5555555555555556, \"#d8576b\"], [0.6666666666666666, \"#ed7953\"], [0.7777777777777778, \"#fb9f3a\"], [0.8888888888888888, \"#fdca26\"], [1.0, \"#f0f921\"]]}, \"colorway\": [\"#636efa\", \"#EF553B\", \"#00cc96\", \"#ab63fa\", \"#FFA15A\", \"#19d3f3\", \"#FF6692\", \"#B6E880\", \"#FF97FF\", \"#FECB52\"], \"font\": {\"color\": \"#2a3f5f\"}, \"geo\": {\"bgcolor\": \"white\", \"lakecolor\": \"white\", \"landcolor\": \"#E5ECF6\", \"showlakes\": true, \"showland\": true, \"subunitcolor\": \"white\"}, \"hoverlabel\": {\"align\": \"left\"}, \"hovermode\": \"closest\", \"mapbox\": {\"style\": \"light\"}, \"paper_bgcolor\": \"white\", \"plot_bgcolor\": \"#E5ECF6\", \"polar\": {\"angularaxis\": {\"gridcolor\": \"white\", \"linecolor\": \"white\", \"ticks\": \"\"}, \"bgcolor\": \"#E5ECF6\", \"radialaxis\": {\"gridcolor\": \"white\", \"linecolor\": \"white\", \"ticks\": \"\"}}, \"scene\": {\"xaxis\": {\"backgroundcolor\": \"#E5ECF6\", \"gridcolor\": \"white\", \"gridwidth\": 2, \"linecolor\": \"white\", \"showbackground\": true, \"ticks\": \"\", \"zerolinecolor\": \"white\"}, \"yaxis\": {\"backgroundcolor\": \"#E5ECF6\", \"gridcolor\": \"white\", \"gridwidth\": 2, \"linecolor\": \"white\", \"showbackground\": true, \"ticks\": \"\", \"zerolinecolor\": \"white\"}, \"zaxis\": {\"backgroundcolor\": \"#E5ECF6\", \"gridcolor\": \"white\", \"gridwidth\": 2, \"linecolor\": \"white\", \"showbackground\": true, \"ticks\": \"\", \"zerolinecolor\": \"white\"}}, \"shapedefaults\": {\"line\": {\"color\": \"#2a3f5f\"}}, \"ternary\": {\"aaxis\": {\"gridcolor\": \"white\", \"linecolor\": \"white\", \"ticks\": \"\"}, \"baxis\": {\"gridcolor\": \"white\", \"linecolor\": \"white\", \"ticks\": \"\"}, \"bgcolor\": \"#E5ECF6\", \"caxis\": {\"gridcolor\": \"white\", \"linecolor\": \"white\", \"ticks\": \"\"}}, \"title\": {\"x\": 0.05}, \"xaxis\": {\"automargin\": true, \"gridcolor\": \"white\", \"linecolor\": \"white\", \"ticks\": \"\", \"title\": {\"standoff\": 15}, \"zerolinecolor\": \"white\", \"zerolinewidth\": 2}, \"yaxis\": {\"automargin\": true, \"gridcolor\": \"white\", \"linecolor\": \"white\", \"ticks\": \"\", \"title\": {\"standoff\": 15}, \"zerolinecolor\": \"white\", \"zerolinewidth\": 2}}}, \"title\": {\"font\": {\"color\": \"#4D5663\"}}, \"xaxis\": {\"gridcolor\": \"#E1E5ED\", \"showgrid\": true, \"tickfont\": {\"color\": \"#4D5663\"}, \"title\": {\"font\": {\"color\": \"#4D5663\"}, \"text\": \"\"}, \"zerolinecolor\": \"#E1E5ED\"}, \"yaxis\": {\"gridcolor\": \"#E1E5ED\", \"showgrid\": true, \"tickfont\": {\"color\": \"#4D5663\"}, \"title\": {\"font\": {\"color\": \"#4D5663\"}, \"text\": \"\"}, \"zerolinecolor\": \"#E1E5ED\"}},\n",
       "                        {\"showLink\": true, \"linkText\": \"Export to plot.ly\", \"plotlyServerURL\": \"https://plot.ly\", \"responsive\": true}\n",
       "                    ).then(function(){\n",
       "                            \n",
       "var gd = document.getElementById('363787d4-df39-4dc6-89c0-fedbe78a4bda');\n",
       "var x = new MutationObserver(function (mutations, observer) {{\n",
       "        var display = window.getComputedStyle(gd).display;\n",
       "        if (!display || display === 'none') {{\n",
       "            console.log([gd, 'removed!']);\n",
       "            Plotly.purge(gd);\n",
       "            observer.disconnect();\n",
       "        }}\n",
       "}});\n",
       "\n",
       "// Listen for the removal of the full notebook cells\n",
       "var notebookContainer = gd.closest('#notebook-container');\n",
       "if (notebookContainer) {{\n",
       "    x.observe(notebookContainer, {childList: true});\n",
       "}}\n",
       "\n",
       "// Listen for the clearing of the current output cell\n",
       "var outputEl = gd.closest('.output');\n",
       "if (outputEl) {{\n",
       "    x.observe(outputEl, {childList: true});\n",
       "}}\n",
       "\n",
       "                        })\n",
       "                };\n",
       "                });\n",
       "            </script>\n",
       "        </div>"
      ]
     },
     "metadata": {},
     "output_type": "display_data"
    }
   ],
   "source": [
    "df['A'].iplot(kind='hist',bins=50)"
   ]
  },
  {
   "cell_type": "code",
   "execution_count": 29,
   "metadata": {},
   "outputs": [
    {
     "data": {
      "application/vnd.plotly.v1+json": {
       "config": {
        "linkText": "Export to plot.ly",
        "plotlyServerURL": "https://plot.ly",
        "showLink": true
       },
       "data": [
        {
         "histfunc": "count",
         "histnorm": "",
         "marker": {
          "color": "rgba(255, 153, 51, 1.0)",
          "line": {
           "color": "#4D5663",
           "width": 1.3
          }
         },
         "name": "A",
         "nbinsx": 50,
         "opacity": 0.8,
         "orientation": "v",
         "type": "histogram",
         "x": [
          -1.8375793829805152,
          -0.15949696869273136,
          1.1310371011634441,
          0.033424317827104935,
          -0.27266433823248903,
          -1.5266480612294526,
          0.6406900998232502,
          -1.2037810103452755,
          0.45766181096666353,
          -0.65756316944976,
          1.2254607006230938,
          -0.49670888312590306,
          0.9517977824412835,
          -0.4737685536624598,
          -0.18866034695016973,
          1.7707542889792907,
          0.6323242648780771,
          0.12204537313043434,
          -1.9034920234674675,
          -0.04442225969249496,
          0.15429995846266448,
          0.7932222997650096,
          2.539915784248557,
          -1.1930343034985709,
          -0.614857906207743,
          1.4806568174717332,
          -1.8648504458226827,
          -0.41509780444484906,
          -1.5902518624107531,
          -1.1668716248656292,
          0.7148812419826943,
          0.9205412994571905,
          -1.0552530177997501,
          -1.1144495047103273,
          -1.4148418771042273,
          -0.7978844421999658,
          -0.7196315490672652,
          -0.6581896684098428,
          -0.003017838744859791,
          1.000572700470973,
          0.03907023496823878,
          0.9445560069535803,
          -0.4370724628095535,
          -0.5308855796106563,
          0.40885528594580445,
          0.188730040054379,
          -0.7941436814811723,
          1.9071063059377538,
          -0.05371617887237018,
          -1.2180771449054735,
          -0.0027625945812005813,
          -0.7289781761912149,
          -1.5148040962595313,
          1.5310393005980325,
          1.2115849481386265,
          0.47883686689648225,
          -0.45499490210360916,
          -1.0189093313495297,
          -0.15728791717667132,
          -0.11127659476746542,
          0.8690846353904871,
          0.20354127289823257,
          -2.0630281790612797,
          1.3344770773409376,
          -1.6200000617491879,
          -0.23116693293656054,
          -0.6755590465420752,
          0.4685086761604976,
          0.49494635923821795,
          -0.005597955485651658,
          1.0885292455914743,
          -1.0407905089838017,
          -0.929490474183066,
          -1.015229473319679,
          1.8836505311940042,
          0.852998689782739,
          1.0753372020989056,
          1.4373344844109446,
          -0.03480585890954957,
          -0.37548221973787094,
          1.5645635392346884,
          1.758746465445413,
          -1.7330027977656584,
          -0.25500034465944543,
          -0.11760242138474251,
          1.9831290035306863,
          -1.6781345236672671,
          1.0916134309838674,
          -0.4986127299448885,
          0.4985659415525577,
          1.1762317481769409,
          -0.9905137465769372,
          -1.063065614167874,
          1.242282812838642,
          0.990357440665751,
          3.006402504672399,
          1.7946437084519817,
          1.2758239575605375,
          0.038206062830590415,
          -0.052200463798188414
         ]
        },
        {
         "histfunc": "count",
         "histnorm": "",
         "marker": {
          "color": "rgba(55, 128, 191, 1.0)",
          "line": {
           "color": "#4D5663",
           "width": 1.3
          }
         },
         "name": "B",
         "nbinsx": 50,
         "opacity": 0.8,
         "orientation": "v",
         "type": "histogram",
         "x": [
          1.7979066365959437,
          0.46285376386792,
          -1.186763222985012,
          -1.3069987790938424,
          0.2846992419759555,
          -0.46572268676860606,
          0.37506581218122054,
          0.04307716596099602,
          -0.10030470230806747,
          0.2253581478192807,
          1.5881375303218745,
          -0.7860510560549011,
          0.0709065210939935,
          1.3179919385263983,
          0.1911135355144382,
          -0.1659826156491933,
          0.1335520665302867,
          -1.3591338016683188,
          0.6810870536812119,
          -0.3210353527483331,
          -0.9898181449092167,
          -1.2243689025562479,
          0.9843652721650106,
          -1.2543373215912461,
          0.8715596268958955,
          1.3562385722623433,
          -0.2579451332063824,
          0.8699716121262567,
          1.248480225043317,
          -1.5952232935299056,
          -0.03397694249447452,
          -0.343267396460641,
          0.28802212629747814,
          -0.8593404698722109,
          -0.2530951725001365,
          -1.1386052562784248,
          0.38917661781477536,
          -0.9825733525869731,
          -0.31696837518324317,
          0.7990527808015294,
          1.5176967691503638,
          1.410126737765439,
          -0.2743896134901539,
          -0.6929350750237689,
          0.2936921575856845,
          0.8254128170753967,
          -0.38061138001210737,
          -1.029983050729118,
          0.5164862990891124,
          0.5294226142890159,
          1.3419954272688206,
          0.4908184159374298,
          0.49612404315739556,
          -1.5353261683128314,
          -0.23122135512542397,
          -0.969643060285253,
          -0.7905605694819513,
          0.6367390711248883,
          -1.1584050310341727,
          0.7132292476684078,
          0.5512209938581333,
          -1.2332536027280028,
          1.263445214176733,
          1.0355389031994173,
          -0.4385948782738462,
          1.2783266636003576,
          0.9694074826731098,
          -0.5354973913133867,
          0.3763906230930325,
          1.0822003941489435,
          0.7361046509510144,
          -0.4335373702666788,
          -0.17899964389897075,
          -0.3648809060196582,
          -0.32072220887824276,
          -0.02508944822472686,
          -0.5833657581143926,
          -0.3995712267987253,
          0.9009130860560229,
          -1.4986325461576935,
          -1.8715391056827866,
          2.8798459765859827,
          0.07355556328316204,
          -0.022392130905374747,
          -1.4390151669046745,
          -0.12588443717729894,
          -0.1749203096655581,
          0.5710963935160036,
          -0.8221985582564402,
          1.1613570625458303,
          0.7006283651400398,
          0.028200929375390538,
          -1.1587338283713418,
          0.18389562050698247,
          -0.9159351961730826,
          1.912535172503708,
          -1.8209107037327792,
          -2.2563632012174306,
          0.05798522639921089,
          -0.7234000317144638
         ]
        },
        {
         "histfunc": "count",
         "histnorm": "",
         "marker": {
          "color": "rgba(50, 171, 96, 1.0)",
          "line": {
           "color": "#4D5663",
           "width": 1.3
          }
         },
         "name": "C",
         "nbinsx": 50,
         "opacity": 0.8,
         "orientation": "v",
         "type": "histogram",
         "x": [
          -0.11195680488630352,
          0.19813513395996601,
          0.6243952583500618,
          3.4636216744699926,
          1.6025780971968129,
          -1.4842957023344758,
          1.5200032468496212,
          -0.2631744539556295,
          1.6500701251249659,
          -3.029823148650362,
          1.0265662580499642,
          -0.2567714743133042,
          2.457180119797221,
          0.5238088696860247,
          0.26209872027584513,
          0.6956634102215381,
          -0.6875276285625027,
          0.6392616577482672,
          1.3351393658985924,
          0.34141495490170315,
          -0.5659435780610622,
          -1.5608013996314807,
          0.48786006329180565,
          0.336081140259419,
          1.0175981710604358,
          -1.0135670113619677,
          0.3129251024807007,
          0.09328582639040285,
          -0.87220153866261,
          2.219797990891727,
          0.3655625592140774,
          0.8002282698773922,
          0.5158153974877858,
          -0.33700303233675205,
          -1.2940315214203613,
          1.1328240142383346,
          0.10094096472141936,
          1.7370875372990418,
          0.1839808055476812,
          1.2827729447774527,
          0.01818646549473812,
          -0.8766507338302455,
          0.11151420077033018,
          -1.226767964025608,
          0.5925924682575862,
          -0.661867073821238,
          -0.3727916276086114,
          -0.35054991247657,
          -0.725074404132708,
          -0.8056579783319012,
          -2.370764105329452,
          0.022591428355840264,
          0.1701455330688707,
          -1.2801069400543095,
          1.80983649905343,
          1.3215544377183117,
          -0.6475697652766453,
          -2.878377702333487,
          -0.3907665880809579,
          -0.9491649532134488,
          0.08817234504563345,
          0.410923543362477,
          0.2118958880439002,
          0.027784440467459877,
          -0.3580699215915449,
          -2.0625597051700364,
          -1.0760324793561697,
          0.8371078225097193,
          0.5682216990227285,
          0.06389082048082165,
          -0.9604774121864444,
          -1.5094374087850413,
          -0.9892302232683492,
          -0.08039240707564778,
          0.4338028851904076,
          -0.32565578060191,
          -1.3588064292335826,
          -0.6212581022909891,
          -0.14729134904037633,
          0.676065770331901,
          0.048383080662061546,
          1.1655116085226473,
          0.36441634440261894,
          0.13740405736192837,
          -0.2692124351999852,
          1.0333699470883486,
          -1.4292425177566495,
          1.3193573123226177,
          0.14325005584199305,
          -0.6451136154829559,
          1.5868146161808676,
          0.3139631548592902,
          -1.2599371618269581,
          0.6661701105361751,
          0.050813451678986335,
          -0.16529638984939754,
          1.7873956492526328,
          0.6855946366040738,
          -0.4169361655747808,
          1.1957640390301516
         ]
        },
        {
         "histfunc": "count",
         "histnorm": "",
         "marker": {
          "color": "rgba(128, 0, 128, 1.0)",
          "line": {
           "color": "#4D5663",
           "width": 1.3
          }
         },
         "name": "D",
         "nbinsx": 50,
         "opacity": 0.8,
         "orientation": "v",
         "type": "histogram",
         "x": [
          0.8776105999726939,
          -0.10918325673623544,
          0.43222002504828105,
          0.21168643105607898,
          -0.9548195681227061,
          -0.6582052405583847,
          -0.3438405764101884,
          0.024985400072480204,
          0.8845177708376631,
          1.825785856913161,
          -0.28356750209844556,
          0.2742762047578588,
          -0.6886177300532897,
          0.5455626463032112,
          0.5512032007015983,
          -0.08465280718060102,
          -1.5683868440841968,
          -2.109777683469117,
          2.405134896361823,
          0.9499776131789283,
          0.529550183658126,
          -1.7435741433932503,
          -0.9283743006001778,
          1.3966321748408201,
          0.8373142928074896,
          0.08189116770723855,
          0.5154221849354002,
          -0.03439821187574808,
          0.2869642638346971,
          -0.03845611395295513,
          2.2779916916551435,
          0.8367230528940887,
          -1.7602317632984699,
          -1.0902609470819251,
          0.370608475722315,
          0.23087291044609118,
          -0.9429003049634584,
          -0.461098739151424,
          3.2211304767698223,
          1.311354278181902,
          -1.6504354303851616,
          -0.6950894070767035,
          -0.38424297017119463,
          1.4667644026261295,
          -0.2183733939914209,
          -1.2735493192721279,
          -0.7759015930990381,
          0.8913003162757013,
          -0.1436722265327362,
          0.8363533428070496,
          0.39207836074386404,
          -0.15199663407635397,
          0.28787773000192673,
          -0.4801591093253376,
          -0.3034078886198265,
          1.7352664204007102,
          0.5930378637504586,
          2.4102024296351297,
          -0.3307829848947105,
          0.0886876517645023,
          1.277432516235606,
          0.9019558405223357,
          -0.7686226225707046,
          -1.0990782319705044,
          -1.2594527794158445,
          -0.19837010832596924,
          -0.5189316931204656,
          -0.8051186320505203,
          -2.3767339874302347,
          1.437999065479335,
          1.1017865847557078,
          -1.2797434001507912,
          -0.3995660222486687,
          -0.8090871880124815,
          -1.6292142376945211,
          0.9051799112583083,
          -1.0310477717438267,
          0.1461910289114032,
          0.15232455199932002,
          -0.12343962851039851,
          -0.24341614756844326,
          0.7196652201614023,
          -1.2080488799693634,
          -0.8418013066217972,
          -1.2231851046757791,
          1.0191435197448586,
          0.8445573153614979,
          -0.9013918480171765,
          0.6440958508132099,
          -0.5749211031387301,
          -0.44451902570747176,
          -0.14964556022134423,
          -0.2506450929917549,
          -1.489332270604689,
          0.8837149767609971,
          1.6631330486294185,
          0.01675864008521639,
          -0.08869869279391412,
          -0.3375904941282858,
          0.6560718655960883
         ]
        }
       ],
       "layout": {
        "barmode": "overlay",
        "legend": {
         "bgcolor": "#F5F6F9",
         "font": {
          "color": "#4D5663"
         }
        },
        "paper_bgcolor": "#F5F6F9",
        "plot_bgcolor": "#F5F6F9",
        "template": {
         "data": {
          "bar": [
           {
            "error_x": {
             "color": "#2a3f5f"
            },
            "error_y": {
             "color": "#2a3f5f"
            },
            "marker": {
             "line": {
              "color": "#E5ECF6",
              "width": 0.5
             }
            },
            "type": "bar"
           }
          ],
          "barpolar": [
           {
            "marker": {
             "line": {
              "color": "#E5ECF6",
              "width": 0.5
             }
            },
            "type": "barpolar"
           }
          ],
          "carpet": [
           {
            "aaxis": {
             "endlinecolor": "#2a3f5f",
             "gridcolor": "white",
             "linecolor": "white",
             "minorgridcolor": "white",
             "startlinecolor": "#2a3f5f"
            },
            "baxis": {
             "endlinecolor": "#2a3f5f",
             "gridcolor": "white",
             "linecolor": "white",
             "minorgridcolor": "white",
             "startlinecolor": "#2a3f5f"
            },
            "type": "carpet"
           }
          ],
          "choropleth": [
           {
            "colorbar": {
             "outlinewidth": 0,
             "ticks": ""
            },
            "type": "choropleth"
           }
          ],
          "contour": [
           {
            "colorbar": {
             "outlinewidth": 0,
             "ticks": ""
            },
            "colorscale": [
             [
              0,
              "#0d0887"
             ],
             [
              0.1111111111111111,
              "#46039f"
             ],
             [
              0.2222222222222222,
              "#7201a8"
             ],
             [
              0.3333333333333333,
              "#9c179e"
             ],
             [
              0.4444444444444444,
              "#bd3786"
             ],
             [
              0.5555555555555556,
              "#d8576b"
             ],
             [
              0.6666666666666666,
              "#ed7953"
             ],
             [
              0.7777777777777778,
              "#fb9f3a"
             ],
             [
              0.8888888888888888,
              "#fdca26"
             ],
             [
              1,
              "#f0f921"
             ]
            ],
            "type": "contour"
           }
          ],
          "contourcarpet": [
           {
            "colorbar": {
             "outlinewidth": 0,
             "ticks": ""
            },
            "type": "contourcarpet"
           }
          ],
          "heatmap": [
           {
            "colorbar": {
             "outlinewidth": 0,
             "ticks": ""
            },
            "colorscale": [
             [
              0,
              "#0d0887"
             ],
             [
              0.1111111111111111,
              "#46039f"
             ],
             [
              0.2222222222222222,
              "#7201a8"
             ],
             [
              0.3333333333333333,
              "#9c179e"
             ],
             [
              0.4444444444444444,
              "#bd3786"
             ],
             [
              0.5555555555555556,
              "#d8576b"
             ],
             [
              0.6666666666666666,
              "#ed7953"
             ],
             [
              0.7777777777777778,
              "#fb9f3a"
             ],
             [
              0.8888888888888888,
              "#fdca26"
             ],
             [
              1,
              "#f0f921"
             ]
            ],
            "type": "heatmap"
           }
          ],
          "heatmapgl": [
           {
            "colorbar": {
             "outlinewidth": 0,
             "ticks": ""
            },
            "colorscale": [
             [
              0,
              "#0d0887"
             ],
             [
              0.1111111111111111,
              "#46039f"
             ],
             [
              0.2222222222222222,
              "#7201a8"
             ],
             [
              0.3333333333333333,
              "#9c179e"
             ],
             [
              0.4444444444444444,
              "#bd3786"
             ],
             [
              0.5555555555555556,
              "#d8576b"
             ],
             [
              0.6666666666666666,
              "#ed7953"
             ],
             [
              0.7777777777777778,
              "#fb9f3a"
             ],
             [
              0.8888888888888888,
              "#fdca26"
             ],
             [
              1,
              "#f0f921"
             ]
            ],
            "type": "heatmapgl"
           }
          ],
          "histogram": [
           {
            "marker": {
             "colorbar": {
              "outlinewidth": 0,
              "ticks": ""
             }
            },
            "type": "histogram"
           }
          ],
          "histogram2d": [
           {
            "colorbar": {
             "outlinewidth": 0,
             "ticks": ""
            },
            "colorscale": [
             [
              0,
              "#0d0887"
             ],
             [
              0.1111111111111111,
              "#46039f"
             ],
             [
              0.2222222222222222,
              "#7201a8"
             ],
             [
              0.3333333333333333,
              "#9c179e"
             ],
             [
              0.4444444444444444,
              "#bd3786"
             ],
             [
              0.5555555555555556,
              "#d8576b"
             ],
             [
              0.6666666666666666,
              "#ed7953"
             ],
             [
              0.7777777777777778,
              "#fb9f3a"
             ],
             [
              0.8888888888888888,
              "#fdca26"
             ],
             [
              1,
              "#f0f921"
             ]
            ],
            "type": "histogram2d"
           }
          ],
          "histogram2dcontour": [
           {
            "colorbar": {
             "outlinewidth": 0,
             "ticks": ""
            },
            "colorscale": [
             [
              0,
              "#0d0887"
             ],
             [
              0.1111111111111111,
              "#46039f"
             ],
             [
              0.2222222222222222,
              "#7201a8"
             ],
             [
              0.3333333333333333,
              "#9c179e"
             ],
             [
              0.4444444444444444,
              "#bd3786"
             ],
             [
              0.5555555555555556,
              "#d8576b"
             ],
             [
              0.6666666666666666,
              "#ed7953"
             ],
             [
              0.7777777777777778,
              "#fb9f3a"
             ],
             [
              0.8888888888888888,
              "#fdca26"
             ],
             [
              1,
              "#f0f921"
             ]
            ],
            "type": "histogram2dcontour"
           }
          ],
          "mesh3d": [
           {
            "colorbar": {
             "outlinewidth": 0,
             "ticks": ""
            },
            "type": "mesh3d"
           }
          ],
          "parcoords": [
           {
            "line": {
             "colorbar": {
              "outlinewidth": 0,
              "ticks": ""
             }
            },
            "type": "parcoords"
           }
          ],
          "pie": [
           {
            "automargin": true,
            "type": "pie"
           }
          ],
          "scatter": [
           {
            "marker": {
             "colorbar": {
              "outlinewidth": 0,
              "ticks": ""
             }
            },
            "type": "scatter"
           }
          ],
          "scatter3d": [
           {
            "line": {
             "colorbar": {
              "outlinewidth": 0,
              "ticks": ""
             }
            },
            "marker": {
             "colorbar": {
              "outlinewidth": 0,
              "ticks": ""
             }
            },
            "type": "scatter3d"
           }
          ],
          "scattercarpet": [
           {
            "marker": {
             "colorbar": {
              "outlinewidth": 0,
              "ticks": ""
             }
            },
            "type": "scattercarpet"
           }
          ],
          "scattergeo": [
           {
            "marker": {
             "colorbar": {
              "outlinewidth": 0,
              "ticks": ""
             }
            },
            "type": "scattergeo"
           }
          ],
          "scattergl": [
           {
            "marker": {
             "colorbar": {
              "outlinewidth": 0,
              "ticks": ""
             }
            },
            "type": "scattergl"
           }
          ],
          "scattermapbox": [
           {
            "marker": {
             "colorbar": {
              "outlinewidth": 0,
              "ticks": ""
             }
            },
            "type": "scattermapbox"
           }
          ],
          "scatterpolar": [
           {
            "marker": {
             "colorbar": {
              "outlinewidth": 0,
              "ticks": ""
             }
            },
            "type": "scatterpolar"
           }
          ],
          "scatterpolargl": [
           {
            "marker": {
             "colorbar": {
              "outlinewidth": 0,
              "ticks": ""
             }
            },
            "type": "scatterpolargl"
           }
          ],
          "scatterternary": [
           {
            "marker": {
             "colorbar": {
              "outlinewidth": 0,
              "ticks": ""
             }
            },
            "type": "scatterternary"
           }
          ],
          "surface": [
           {
            "colorbar": {
             "outlinewidth": 0,
             "ticks": ""
            },
            "colorscale": [
             [
              0,
              "#0d0887"
             ],
             [
              0.1111111111111111,
              "#46039f"
             ],
             [
              0.2222222222222222,
              "#7201a8"
             ],
             [
              0.3333333333333333,
              "#9c179e"
             ],
             [
              0.4444444444444444,
              "#bd3786"
             ],
             [
              0.5555555555555556,
              "#d8576b"
             ],
             [
              0.6666666666666666,
              "#ed7953"
             ],
             [
              0.7777777777777778,
              "#fb9f3a"
             ],
             [
              0.8888888888888888,
              "#fdca26"
             ],
             [
              1,
              "#f0f921"
             ]
            ],
            "type": "surface"
           }
          ],
          "table": [
           {
            "cells": {
             "fill": {
              "color": "#EBF0F8"
             },
             "line": {
              "color": "white"
             }
            },
            "header": {
             "fill": {
              "color": "#C8D4E3"
             },
             "line": {
              "color": "white"
             }
            },
            "type": "table"
           }
          ]
         },
         "layout": {
          "annotationdefaults": {
           "arrowcolor": "#2a3f5f",
           "arrowhead": 0,
           "arrowwidth": 1
          },
          "coloraxis": {
           "colorbar": {
            "outlinewidth": 0,
            "ticks": ""
           }
          },
          "colorscale": {
           "diverging": [
            [
             0,
             "#8e0152"
            ],
            [
             0.1,
             "#c51b7d"
            ],
            [
             0.2,
             "#de77ae"
            ],
            [
             0.3,
             "#f1b6da"
            ],
            [
             0.4,
             "#fde0ef"
            ],
            [
             0.5,
             "#f7f7f7"
            ],
            [
             0.6,
             "#e6f5d0"
            ],
            [
             0.7,
             "#b8e186"
            ],
            [
             0.8,
             "#7fbc41"
            ],
            [
             0.9,
             "#4d9221"
            ],
            [
             1,
             "#276419"
            ]
           ],
           "sequential": [
            [
             0,
             "#0d0887"
            ],
            [
             0.1111111111111111,
             "#46039f"
            ],
            [
             0.2222222222222222,
             "#7201a8"
            ],
            [
             0.3333333333333333,
             "#9c179e"
            ],
            [
             0.4444444444444444,
             "#bd3786"
            ],
            [
             0.5555555555555556,
             "#d8576b"
            ],
            [
             0.6666666666666666,
             "#ed7953"
            ],
            [
             0.7777777777777778,
             "#fb9f3a"
            ],
            [
             0.8888888888888888,
             "#fdca26"
            ],
            [
             1,
             "#f0f921"
            ]
           ],
           "sequentialminus": [
            [
             0,
             "#0d0887"
            ],
            [
             0.1111111111111111,
             "#46039f"
            ],
            [
             0.2222222222222222,
             "#7201a8"
            ],
            [
             0.3333333333333333,
             "#9c179e"
            ],
            [
             0.4444444444444444,
             "#bd3786"
            ],
            [
             0.5555555555555556,
             "#d8576b"
            ],
            [
             0.6666666666666666,
             "#ed7953"
            ],
            [
             0.7777777777777778,
             "#fb9f3a"
            ],
            [
             0.8888888888888888,
             "#fdca26"
            ],
            [
             1,
             "#f0f921"
            ]
           ]
          },
          "colorway": [
           "#636efa",
           "#EF553B",
           "#00cc96",
           "#ab63fa",
           "#FFA15A",
           "#19d3f3",
           "#FF6692",
           "#B6E880",
           "#FF97FF",
           "#FECB52"
          ],
          "font": {
           "color": "#2a3f5f"
          },
          "geo": {
           "bgcolor": "white",
           "lakecolor": "white",
           "landcolor": "#E5ECF6",
           "showlakes": true,
           "showland": true,
           "subunitcolor": "white"
          },
          "hoverlabel": {
           "align": "left"
          },
          "hovermode": "closest",
          "mapbox": {
           "style": "light"
          },
          "paper_bgcolor": "white",
          "plot_bgcolor": "#E5ECF6",
          "polar": {
           "angularaxis": {
            "gridcolor": "white",
            "linecolor": "white",
            "ticks": ""
           },
           "bgcolor": "#E5ECF6",
           "radialaxis": {
            "gridcolor": "white",
            "linecolor": "white",
            "ticks": ""
           }
          },
          "scene": {
           "xaxis": {
            "backgroundcolor": "#E5ECF6",
            "gridcolor": "white",
            "gridwidth": 2,
            "linecolor": "white",
            "showbackground": true,
            "ticks": "",
            "zerolinecolor": "white"
           },
           "yaxis": {
            "backgroundcolor": "#E5ECF6",
            "gridcolor": "white",
            "gridwidth": 2,
            "linecolor": "white",
            "showbackground": true,
            "ticks": "",
            "zerolinecolor": "white"
           },
           "zaxis": {
            "backgroundcolor": "#E5ECF6",
            "gridcolor": "white",
            "gridwidth": 2,
            "linecolor": "white",
            "showbackground": true,
            "ticks": "",
            "zerolinecolor": "white"
           }
          },
          "shapedefaults": {
           "line": {
            "color": "#2a3f5f"
           }
          },
          "ternary": {
           "aaxis": {
            "gridcolor": "white",
            "linecolor": "white",
            "ticks": ""
           },
           "baxis": {
            "gridcolor": "white",
            "linecolor": "white",
            "ticks": ""
           },
           "bgcolor": "#E5ECF6",
           "caxis": {
            "gridcolor": "white",
            "linecolor": "white",
            "ticks": ""
           }
          },
          "title": {
           "x": 0.05
          },
          "xaxis": {
           "automargin": true,
           "gridcolor": "white",
           "linecolor": "white",
           "ticks": "",
           "title": {
            "standoff": 15
           },
           "zerolinecolor": "white",
           "zerolinewidth": 2
          },
          "yaxis": {
           "automargin": true,
           "gridcolor": "white",
           "linecolor": "white",
           "ticks": "",
           "title": {
            "standoff": 15
           },
           "zerolinecolor": "white",
           "zerolinewidth": 2
          }
         }
        },
        "title": {
         "font": {
          "color": "#4D5663"
         }
        },
        "xaxis": {
         "gridcolor": "#E1E5ED",
         "showgrid": true,
         "tickfont": {
          "color": "#4D5663"
         },
         "title": {
          "font": {
           "color": "#4D5663"
          },
          "text": ""
         },
         "zerolinecolor": "#E1E5ED"
        },
        "yaxis": {
         "gridcolor": "#E1E5ED",
         "showgrid": true,
         "tickfont": {
          "color": "#4D5663"
         },
         "title": {
          "font": {
           "color": "#4D5663"
          },
          "text": ""
         },
         "zerolinecolor": "#E1E5ED"
        }
       }
      },
      "text/html": [
       "<div>\n",
       "        \n",
       "        \n",
       "            <div id=\"81e0b9e4-995d-4119-aac2-097c6aed1cc9\" class=\"plotly-graph-div\" style=\"height:525px; width:100%;\"></div>\n",
       "            <script type=\"text/javascript\">\n",
       "                require([\"plotly\"], function(Plotly) {\n",
       "                    window.PLOTLYENV=window.PLOTLYENV || {};\n",
       "                    window.PLOTLYENV.BASE_URL='https://plot.ly';\n",
       "                    \n",
       "                if (document.getElementById(\"81e0b9e4-995d-4119-aac2-097c6aed1cc9\")) {\n",
       "                    Plotly.newPlot(\n",
       "                        '81e0b9e4-995d-4119-aac2-097c6aed1cc9',\n",
       "                        [{\"histfunc\": \"count\", \"histnorm\": \"\", \"marker\": {\"color\": \"rgba(255, 153, 51, 1.0)\", \"line\": {\"color\": \"#4D5663\", \"width\": 1.3}}, \"name\": \"A\", \"nbinsx\": 50, \"opacity\": 0.8, \"orientation\": \"v\", \"type\": \"histogram\", \"x\": [-1.8375793829805152, -0.15949696869273136, 1.1310371011634441, 0.033424317827104935, -0.27266433823248903, -1.5266480612294526, 0.6406900998232502, -1.2037810103452755, 0.45766181096666353, -0.65756316944976, 1.2254607006230938, -0.49670888312590306, 0.9517977824412835, -0.4737685536624598, -0.18866034695016973, 1.7707542889792907, 0.6323242648780771, 0.12204537313043434, -1.9034920234674675, -0.04442225969249496, 0.15429995846266448, 0.7932222997650096, 2.539915784248557, -1.1930343034985709, -0.614857906207743, 1.4806568174717332, -1.8648504458226827, -0.41509780444484906, -1.5902518624107531, -1.1668716248656292, 0.7148812419826943, 0.9205412994571905, -1.0552530177997501, -1.1144495047103273, -1.4148418771042273, -0.7978844421999658, -0.7196315490672652, -0.6581896684098428, -0.003017838744859791, 1.000572700470973, 0.03907023496823878, 0.9445560069535803, -0.4370724628095535, -0.5308855796106563, 0.40885528594580445, 0.188730040054379, -0.7941436814811723, 1.9071063059377538, -0.05371617887237018, -1.2180771449054735, -0.0027625945812005813, -0.7289781761912149, -1.5148040962595313, 1.5310393005980325, 1.2115849481386265, 0.47883686689648225, -0.45499490210360916, -1.0189093313495297, -0.15728791717667132, -0.11127659476746542, 0.8690846353904871, 0.20354127289823257, -2.0630281790612797, 1.3344770773409376, -1.6200000617491879, -0.23116693293656054, -0.6755590465420752, 0.4685086761604976, 0.49494635923821795, -0.005597955485651658, 1.0885292455914743, -1.0407905089838017, -0.929490474183066, -1.015229473319679, 1.8836505311940042, 0.852998689782739, 1.0753372020989056, 1.4373344844109446, -0.03480585890954957, -0.37548221973787094, 1.5645635392346884, 1.758746465445413, -1.7330027977656584, -0.25500034465944543, -0.11760242138474251, 1.9831290035306863, -1.6781345236672671, 1.0916134309838674, -0.4986127299448885, 0.4985659415525577, 1.1762317481769409, -0.9905137465769372, -1.063065614167874, 1.242282812838642, 0.990357440665751, 3.006402504672399, 1.7946437084519817, 1.2758239575605375, 0.038206062830590415, -0.052200463798188414]}, {\"histfunc\": \"count\", \"histnorm\": \"\", \"marker\": {\"color\": \"rgba(55, 128, 191, 1.0)\", \"line\": {\"color\": \"#4D5663\", \"width\": 1.3}}, \"name\": \"B\", \"nbinsx\": 50, \"opacity\": 0.8, \"orientation\": \"v\", \"type\": \"histogram\", \"x\": [1.7979066365959437, 0.46285376386792, -1.186763222985012, -1.3069987790938424, 0.2846992419759555, -0.46572268676860606, 0.37506581218122054, 0.04307716596099602, -0.10030470230806747, 0.2253581478192807, 1.5881375303218745, -0.7860510560549011, 0.0709065210939935, 1.3179919385263983, 0.1911135355144382, -0.1659826156491933, 0.1335520665302867, -1.3591338016683188, 0.6810870536812119, -0.3210353527483331, -0.9898181449092167, -1.2243689025562479, 0.9843652721650106, -1.2543373215912461, 0.8715596268958955, 1.3562385722623433, -0.2579451332063824, 0.8699716121262567, 1.248480225043317, -1.5952232935299056, -0.03397694249447452, -0.343267396460641, 0.28802212629747814, -0.8593404698722109, -0.2530951725001365, -1.1386052562784248, 0.38917661781477536, -0.9825733525869731, -0.31696837518324317, 0.7990527808015294, 1.5176967691503638, 1.410126737765439, -0.2743896134901539, -0.6929350750237689, 0.2936921575856845, 0.8254128170753967, -0.38061138001210737, -1.029983050729118, 0.5164862990891124, 0.5294226142890159, 1.3419954272688206, 0.4908184159374298, 0.49612404315739556, -1.5353261683128314, -0.23122135512542397, -0.969643060285253, -0.7905605694819513, 0.6367390711248883, -1.1584050310341727, 0.7132292476684078, 0.5512209938581333, -1.2332536027280028, 1.263445214176733, 1.0355389031994173, -0.4385948782738462, 1.2783266636003576, 0.9694074826731098, -0.5354973913133867, 0.3763906230930325, 1.0822003941489435, 0.7361046509510144, -0.4335373702666788, -0.17899964389897075, -0.3648809060196582, -0.32072220887824276, -0.02508944822472686, -0.5833657581143926, -0.3995712267987253, 0.9009130860560229, -1.4986325461576935, -1.8715391056827866, 2.8798459765859827, 0.07355556328316204, -0.022392130905374747, -1.4390151669046745, -0.12588443717729894, -0.1749203096655581, 0.5710963935160036, -0.8221985582564402, 1.1613570625458303, 0.7006283651400398, 0.028200929375390538, -1.1587338283713418, 0.18389562050698247, -0.9159351961730826, 1.912535172503708, -1.8209107037327792, -2.2563632012174306, 0.05798522639921089, -0.7234000317144638]}, {\"histfunc\": \"count\", \"histnorm\": \"\", \"marker\": {\"color\": \"rgba(50, 171, 96, 1.0)\", \"line\": {\"color\": \"#4D5663\", \"width\": 1.3}}, \"name\": \"C\", \"nbinsx\": 50, \"opacity\": 0.8, \"orientation\": \"v\", \"type\": \"histogram\", \"x\": [-0.11195680488630352, 0.19813513395996601, 0.6243952583500618, 3.4636216744699926, 1.6025780971968129, -1.4842957023344758, 1.5200032468496212, -0.2631744539556295, 1.6500701251249659, -3.029823148650362, 1.0265662580499642, -0.2567714743133042, 2.457180119797221, 0.5238088696860247, 0.26209872027584513, 0.6956634102215381, -0.6875276285625027, 0.6392616577482672, 1.3351393658985924, 0.34141495490170315, -0.5659435780610622, -1.5608013996314807, 0.48786006329180565, 0.336081140259419, 1.0175981710604358, -1.0135670113619677, 0.3129251024807007, 0.09328582639040285, -0.87220153866261, 2.219797990891727, 0.3655625592140774, 0.8002282698773922, 0.5158153974877858, -0.33700303233675205, -1.2940315214203613, 1.1328240142383346, 0.10094096472141936, 1.7370875372990418, 0.1839808055476812, 1.2827729447774527, 0.01818646549473812, -0.8766507338302455, 0.11151420077033018, -1.226767964025608, 0.5925924682575862, -0.661867073821238, -0.3727916276086114, -0.35054991247657, -0.725074404132708, -0.8056579783319012, -2.370764105329452, 0.022591428355840264, 0.1701455330688707, -1.2801069400543095, 1.80983649905343, 1.3215544377183117, -0.6475697652766453, -2.878377702333487, -0.3907665880809579, -0.9491649532134488, 0.08817234504563345, 0.410923543362477, 0.2118958880439002, 0.027784440467459877, -0.3580699215915449, -2.0625597051700364, -1.0760324793561697, 0.8371078225097193, 0.5682216990227285, 0.06389082048082165, -0.9604774121864444, -1.5094374087850413, -0.9892302232683492, -0.08039240707564778, 0.4338028851904076, -0.32565578060191, -1.3588064292335826, -0.6212581022909891, -0.14729134904037633, 0.676065770331901, 0.048383080662061546, 1.1655116085226473, 0.36441634440261894, 0.13740405736192837, -0.2692124351999852, 1.0333699470883486, -1.4292425177566495, 1.3193573123226177, 0.14325005584199305, -0.6451136154829559, 1.5868146161808676, 0.3139631548592902, -1.2599371618269581, 0.6661701105361751, 0.050813451678986335, -0.16529638984939754, 1.7873956492526328, 0.6855946366040738, -0.4169361655747808, 1.1957640390301516]}, {\"histfunc\": \"count\", \"histnorm\": \"\", \"marker\": {\"color\": \"rgba(128, 0, 128, 1.0)\", \"line\": {\"color\": \"#4D5663\", \"width\": 1.3}}, \"name\": \"D\", \"nbinsx\": 50, \"opacity\": 0.8, \"orientation\": \"v\", \"type\": \"histogram\", \"x\": [0.8776105999726939, -0.10918325673623544, 0.43222002504828105, 0.21168643105607898, -0.9548195681227061, -0.6582052405583847, -0.3438405764101884, 0.024985400072480204, 0.8845177708376631, 1.825785856913161, -0.28356750209844556, 0.2742762047578588, -0.6886177300532897, 0.5455626463032112, 0.5512032007015983, -0.08465280718060102, -1.5683868440841968, -2.109777683469117, 2.405134896361823, 0.9499776131789283, 0.529550183658126, -1.7435741433932503, -0.9283743006001778, 1.3966321748408201, 0.8373142928074896, 0.08189116770723855, 0.5154221849354002, -0.03439821187574808, 0.2869642638346971, -0.03845611395295513, 2.2779916916551435, 0.8367230528940887, -1.7602317632984699, -1.0902609470819251, 0.370608475722315, 0.23087291044609118, -0.9429003049634584, -0.461098739151424, 3.2211304767698223, 1.311354278181902, -1.6504354303851616, -0.6950894070767035, -0.38424297017119463, 1.4667644026261295, -0.2183733939914209, -1.2735493192721279, -0.7759015930990381, 0.8913003162757013, -0.1436722265327362, 0.8363533428070496, 0.39207836074386404, -0.15199663407635397, 0.28787773000192673, -0.4801591093253376, -0.3034078886198265, 1.7352664204007102, 0.5930378637504586, 2.4102024296351297, -0.3307829848947105, 0.0886876517645023, 1.277432516235606, 0.9019558405223357, -0.7686226225707046, -1.0990782319705044, -1.2594527794158445, -0.19837010832596924, -0.5189316931204656, -0.8051186320505203, -2.3767339874302347, 1.437999065479335, 1.1017865847557078, -1.2797434001507912, -0.3995660222486687, -0.8090871880124815, -1.6292142376945211, 0.9051799112583083, -1.0310477717438267, 0.1461910289114032, 0.15232455199932002, -0.12343962851039851, -0.24341614756844326, 0.7196652201614023, -1.2080488799693634, -0.8418013066217972, -1.2231851046757791, 1.0191435197448586, 0.8445573153614979, -0.9013918480171765, 0.6440958508132099, -0.5749211031387301, -0.44451902570747176, -0.14964556022134423, -0.2506450929917549, -1.489332270604689, 0.8837149767609971, 1.6631330486294185, 0.01675864008521639, -0.08869869279391412, -0.3375904941282858, 0.6560718655960883]}],\n",
       "                        {\"barmode\": \"overlay\", \"legend\": {\"bgcolor\": \"#F5F6F9\", \"font\": {\"color\": \"#4D5663\"}}, \"paper_bgcolor\": \"#F5F6F9\", \"plot_bgcolor\": \"#F5F6F9\", \"template\": {\"data\": {\"bar\": [{\"error_x\": {\"color\": \"#2a3f5f\"}, \"error_y\": {\"color\": \"#2a3f5f\"}, \"marker\": {\"line\": {\"color\": \"#E5ECF6\", \"width\": 0.5}}, \"type\": \"bar\"}], \"barpolar\": [{\"marker\": {\"line\": {\"color\": \"#E5ECF6\", \"width\": 0.5}}, \"type\": \"barpolar\"}], \"carpet\": [{\"aaxis\": {\"endlinecolor\": \"#2a3f5f\", \"gridcolor\": \"white\", \"linecolor\": \"white\", \"minorgridcolor\": \"white\", \"startlinecolor\": \"#2a3f5f\"}, \"baxis\": {\"endlinecolor\": \"#2a3f5f\", \"gridcolor\": \"white\", \"linecolor\": \"white\", \"minorgridcolor\": \"white\", \"startlinecolor\": \"#2a3f5f\"}, \"type\": \"carpet\"}], \"choropleth\": [{\"colorbar\": {\"outlinewidth\": 0, \"ticks\": \"\"}, \"type\": \"choropleth\"}], \"contour\": [{\"colorbar\": {\"outlinewidth\": 0, \"ticks\": \"\"}, \"colorscale\": [[0.0, \"#0d0887\"], [0.1111111111111111, \"#46039f\"], [0.2222222222222222, \"#7201a8\"], [0.3333333333333333, \"#9c179e\"], [0.4444444444444444, \"#bd3786\"], [0.5555555555555556, \"#d8576b\"], [0.6666666666666666, \"#ed7953\"], [0.7777777777777778, \"#fb9f3a\"], [0.8888888888888888, \"#fdca26\"], [1.0, \"#f0f921\"]], \"type\": \"contour\"}], \"contourcarpet\": [{\"colorbar\": {\"outlinewidth\": 0, \"ticks\": \"\"}, \"type\": \"contourcarpet\"}], \"heatmap\": [{\"colorbar\": {\"outlinewidth\": 0, \"ticks\": \"\"}, \"colorscale\": [[0.0, \"#0d0887\"], [0.1111111111111111, \"#46039f\"], [0.2222222222222222, \"#7201a8\"], [0.3333333333333333, \"#9c179e\"], [0.4444444444444444, \"#bd3786\"], [0.5555555555555556, \"#d8576b\"], [0.6666666666666666, \"#ed7953\"], [0.7777777777777778, \"#fb9f3a\"], [0.8888888888888888, \"#fdca26\"], [1.0, \"#f0f921\"]], \"type\": \"heatmap\"}], \"heatmapgl\": [{\"colorbar\": {\"outlinewidth\": 0, \"ticks\": \"\"}, \"colorscale\": [[0.0, \"#0d0887\"], [0.1111111111111111, \"#46039f\"], [0.2222222222222222, \"#7201a8\"], [0.3333333333333333, \"#9c179e\"], [0.4444444444444444, \"#bd3786\"], [0.5555555555555556, \"#d8576b\"], [0.6666666666666666, \"#ed7953\"], [0.7777777777777778, \"#fb9f3a\"], [0.8888888888888888, \"#fdca26\"], [1.0, \"#f0f921\"]], \"type\": \"heatmapgl\"}], \"histogram\": [{\"marker\": {\"colorbar\": {\"outlinewidth\": 0, \"ticks\": \"\"}}, \"type\": \"histogram\"}], \"histogram2d\": [{\"colorbar\": {\"outlinewidth\": 0, \"ticks\": \"\"}, \"colorscale\": [[0.0, \"#0d0887\"], [0.1111111111111111, \"#46039f\"], [0.2222222222222222, \"#7201a8\"], [0.3333333333333333, \"#9c179e\"], [0.4444444444444444, \"#bd3786\"], [0.5555555555555556, \"#d8576b\"], [0.6666666666666666, \"#ed7953\"], [0.7777777777777778, \"#fb9f3a\"], [0.8888888888888888, \"#fdca26\"], [1.0, \"#f0f921\"]], \"type\": \"histogram2d\"}], \"histogram2dcontour\": [{\"colorbar\": {\"outlinewidth\": 0, \"ticks\": \"\"}, \"colorscale\": [[0.0, \"#0d0887\"], [0.1111111111111111, \"#46039f\"], [0.2222222222222222, \"#7201a8\"], [0.3333333333333333, \"#9c179e\"], [0.4444444444444444, \"#bd3786\"], [0.5555555555555556, \"#d8576b\"], [0.6666666666666666, \"#ed7953\"], [0.7777777777777778, \"#fb9f3a\"], [0.8888888888888888, \"#fdca26\"], [1.0, \"#f0f921\"]], \"type\": \"histogram2dcontour\"}], \"mesh3d\": [{\"colorbar\": {\"outlinewidth\": 0, \"ticks\": \"\"}, \"type\": \"mesh3d\"}], \"parcoords\": [{\"line\": {\"colorbar\": {\"outlinewidth\": 0, \"ticks\": \"\"}}, \"type\": \"parcoords\"}], \"pie\": [{\"automargin\": true, \"type\": \"pie\"}], \"scatter\": [{\"marker\": {\"colorbar\": {\"outlinewidth\": 0, \"ticks\": \"\"}}, \"type\": \"scatter\"}], \"scatter3d\": [{\"line\": {\"colorbar\": {\"outlinewidth\": 0, \"ticks\": \"\"}}, \"marker\": {\"colorbar\": {\"outlinewidth\": 0, \"ticks\": \"\"}}, \"type\": \"scatter3d\"}], \"scattercarpet\": [{\"marker\": {\"colorbar\": {\"outlinewidth\": 0, \"ticks\": \"\"}}, \"type\": \"scattercarpet\"}], \"scattergeo\": [{\"marker\": {\"colorbar\": {\"outlinewidth\": 0, \"ticks\": \"\"}}, \"type\": \"scattergeo\"}], \"scattergl\": [{\"marker\": {\"colorbar\": {\"outlinewidth\": 0, \"ticks\": \"\"}}, \"type\": \"scattergl\"}], \"scattermapbox\": [{\"marker\": {\"colorbar\": {\"outlinewidth\": 0, \"ticks\": \"\"}}, \"type\": \"scattermapbox\"}], \"scatterpolar\": [{\"marker\": {\"colorbar\": {\"outlinewidth\": 0, \"ticks\": \"\"}}, \"type\": \"scatterpolar\"}], \"scatterpolargl\": [{\"marker\": {\"colorbar\": {\"outlinewidth\": 0, \"ticks\": \"\"}}, \"type\": \"scatterpolargl\"}], \"scatterternary\": [{\"marker\": {\"colorbar\": {\"outlinewidth\": 0, \"ticks\": \"\"}}, \"type\": \"scatterternary\"}], \"surface\": [{\"colorbar\": {\"outlinewidth\": 0, \"ticks\": \"\"}, \"colorscale\": [[0.0, \"#0d0887\"], [0.1111111111111111, \"#46039f\"], [0.2222222222222222, \"#7201a8\"], [0.3333333333333333, \"#9c179e\"], [0.4444444444444444, \"#bd3786\"], [0.5555555555555556, \"#d8576b\"], [0.6666666666666666, \"#ed7953\"], [0.7777777777777778, \"#fb9f3a\"], [0.8888888888888888, \"#fdca26\"], [1.0, \"#f0f921\"]], \"type\": \"surface\"}], \"table\": [{\"cells\": {\"fill\": {\"color\": \"#EBF0F8\"}, \"line\": {\"color\": \"white\"}}, \"header\": {\"fill\": {\"color\": \"#C8D4E3\"}, \"line\": {\"color\": \"white\"}}, \"type\": \"table\"}]}, \"layout\": {\"annotationdefaults\": {\"arrowcolor\": \"#2a3f5f\", \"arrowhead\": 0, \"arrowwidth\": 1}, \"coloraxis\": {\"colorbar\": {\"outlinewidth\": 0, \"ticks\": \"\"}}, \"colorscale\": {\"diverging\": [[0, \"#8e0152\"], [0.1, \"#c51b7d\"], [0.2, \"#de77ae\"], [0.3, \"#f1b6da\"], [0.4, \"#fde0ef\"], [0.5, \"#f7f7f7\"], [0.6, \"#e6f5d0\"], [0.7, \"#b8e186\"], [0.8, \"#7fbc41\"], [0.9, \"#4d9221\"], [1, \"#276419\"]], \"sequential\": [[0.0, \"#0d0887\"], [0.1111111111111111, \"#46039f\"], [0.2222222222222222, \"#7201a8\"], [0.3333333333333333, \"#9c179e\"], [0.4444444444444444, \"#bd3786\"], [0.5555555555555556, \"#d8576b\"], [0.6666666666666666, \"#ed7953\"], [0.7777777777777778, \"#fb9f3a\"], [0.8888888888888888, \"#fdca26\"], [1.0, \"#f0f921\"]], \"sequentialminus\": [[0.0, \"#0d0887\"], [0.1111111111111111, \"#46039f\"], [0.2222222222222222, \"#7201a8\"], [0.3333333333333333, \"#9c179e\"], [0.4444444444444444, \"#bd3786\"], [0.5555555555555556, \"#d8576b\"], [0.6666666666666666, \"#ed7953\"], [0.7777777777777778, \"#fb9f3a\"], [0.8888888888888888, \"#fdca26\"], [1.0, \"#f0f921\"]]}, \"colorway\": [\"#636efa\", \"#EF553B\", \"#00cc96\", \"#ab63fa\", \"#FFA15A\", \"#19d3f3\", \"#FF6692\", \"#B6E880\", \"#FF97FF\", \"#FECB52\"], \"font\": {\"color\": \"#2a3f5f\"}, \"geo\": {\"bgcolor\": \"white\", \"lakecolor\": \"white\", \"landcolor\": \"#E5ECF6\", \"showlakes\": true, \"showland\": true, \"subunitcolor\": \"white\"}, \"hoverlabel\": {\"align\": \"left\"}, \"hovermode\": \"closest\", \"mapbox\": {\"style\": \"light\"}, \"paper_bgcolor\": \"white\", \"plot_bgcolor\": \"#E5ECF6\", \"polar\": {\"angularaxis\": {\"gridcolor\": \"white\", \"linecolor\": \"white\", \"ticks\": \"\"}, \"bgcolor\": \"#E5ECF6\", \"radialaxis\": {\"gridcolor\": \"white\", \"linecolor\": \"white\", \"ticks\": \"\"}}, \"scene\": {\"xaxis\": {\"backgroundcolor\": \"#E5ECF6\", \"gridcolor\": \"white\", \"gridwidth\": 2, \"linecolor\": \"white\", \"showbackground\": true, \"ticks\": \"\", \"zerolinecolor\": \"white\"}, \"yaxis\": {\"backgroundcolor\": \"#E5ECF6\", \"gridcolor\": \"white\", \"gridwidth\": 2, \"linecolor\": \"white\", \"showbackground\": true, \"ticks\": \"\", \"zerolinecolor\": \"white\"}, \"zaxis\": {\"backgroundcolor\": \"#E5ECF6\", \"gridcolor\": \"white\", \"gridwidth\": 2, \"linecolor\": \"white\", \"showbackground\": true, \"ticks\": \"\", \"zerolinecolor\": \"white\"}}, \"shapedefaults\": {\"line\": {\"color\": \"#2a3f5f\"}}, \"ternary\": {\"aaxis\": {\"gridcolor\": \"white\", \"linecolor\": \"white\", \"ticks\": \"\"}, \"baxis\": {\"gridcolor\": \"white\", \"linecolor\": \"white\", \"ticks\": \"\"}, \"bgcolor\": \"#E5ECF6\", \"caxis\": {\"gridcolor\": \"white\", \"linecolor\": \"white\", \"ticks\": \"\"}}, \"title\": {\"x\": 0.05}, \"xaxis\": {\"automargin\": true, \"gridcolor\": \"white\", \"linecolor\": \"white\", \"ticks\": \"\", \"title\": {\"standoff\": 15}, \"zerolinecolor\": \"white\", \"zerolinewidth\": 2}, \"yaxis\": {\"automargin\": true, \"gridcolor\": \"white\", \"linecolor\": \"white\", \"ticks\": \"\", \"title\": {\"standoff\": 15}, \"zerolinecolor\": \"white\", \"zerolinewidth\": 2}}}, \"title\": {\"font\": {\"color\": \"#4D5663\"}}, \"xaxis\": {\"gridcolor\": \"#E1E5ED\", \"showgrid\": true, \"tickfont\": {\"color\": \"#4D5663\"}, \"title\": {\"font\": {\"color\": \"#4D5663\"}, \"text\": \"\"}, \"zerolinecolor\": \"#E1E5ED\"}, \"yaxis\": {\"gridcolor\": \"#E1E5ED\", \"showgrid\": true, \"tickfont\": {\"color\": \"#4D5663\"}, \"title\": {\"font\": {\"color\": \"#4D5663\"}, \"text\": \"\"}, \"zerolinecolor\": \"#E1E5ED\"}},\n",
       "                        {\"showLink\": true, \"linkText\": \"Export to plot.ly\", \"plotlyServerURL\": \"https://plot.ly\", \"responsive\": true}\n",
       "                    ).then(function(){\n",
       "                            \n",
       "var gd = document.getElementById('81e0b9e4-995d-4119-aac2-097c6aed1cc9');\n",
       "var x = new MutationObserver(function (mutations, observer) {{\n",
       "        var display = window.getComputedStyle(gd).display;\n",
       "        if (!display || display === 'none') {{\n",
       "            console.log([gd, 'removed!']);\n",
       "            Plotly.purge(gd);\n",
       "            observer.disconnect();\n",
       "        }}\n",
       "}});\n",
       "\n",
       "// Listen for the removal of the full notebook cells\n",
       "var notebookContainer = gd.closest('#notebook-container');\n",
       "if (notebookContainer) {{\n",
       "    x.observe(notebookContainer, {childList: true});\n",
       "}}\n",
       "\n",
       "// Listen for the clearing of the current output cell\n",
       "var outputEl = gd.closest('.output');\n",
       "if (outputEl) {{\n",
       "    x.observe(outputEl, {childList: true});\n",
       "}}\n",
       "\n",
       "                        })\n",
       "                };\n",
       "                });\n",
       "            </script>\n",
       "        </div>"
      ]
     },
     "metadata": {},
     "output_type": "display_data"
    }
   ],
   "source": [
    "df.iplot(kind='hist',bins=50)"
   ]
  },
  {
   "cell_type": "code",
   "execution_count": 32,
   "metadata": {},
   "outputs": [
    {
     "data": {
      "application/vnd.plotly.v1+json": {
       "config": {
        "linkText": "Export to plot.ly",
        "plotlyServerURL": "https://plot.ly",
        "showLink": true
       },
       "data": [
        {
         "line": {
          "color": "rgba(255, 153, 51, 1.0)",
          "dash": "solid",
          "shape": "linear",
          "width": 1.3
         },
         "mode": "lines",
         "name": "A",
         "text": "",
         "type": "scatter",
         "x": [
          0,
          1,
          2,
          3,
          4,
          5,
          6,
          7,
          8,
          9,
          10,
          11,
          12,
          13,
          14,
          15,
          16,
          17,
          18,
          19,
          20,
          21,
          22,
          23,
          24,
          25,
          26,
          27,
          28,
          29,
          30,
          31,
          32,
          33,
          34,
          35,
          36,
          37,
          38,
          39,
          40,
          41,
          42,
          43,
          44,
          45,
          46,
          47,
          48,
          49,
          50,
          51,
          52,
          53,
          54,
          55,
          56,
          57,
          58,
          59,
          60,
          61,
          62,
          63,
          64,
          65,
          66,
          67,
          68,
          69,
          70,
          71,
          72,
          73,
          74,
          75,
          76,
          77,
          78,
          79,
          80,
          81,
          82,
          83,
          84,
          85,
          86,
          87,
          88,
          89,
          90,
          91,
          92,
          93,
          94,
          95,
          96,
          97,
          98,
          99
         ],
         "y": [
          -1.8375793829805152,
          -0.15949696869273136,
          1.1310371011634441,
          0.033424317827104935,
          -0.27266433823248903,
          -1.5266480612294526,
          0.6406900998232502,
          -1.2037810103452755,
          0.45766181096666353,
          -0.65756316944976,
          1.2254607006230938,
          -0.49670888312590306,
          0.9517977824412835,
          -0.4737685536624598,
          -0.18866034695016973,
          1.7707542889792907,
          0.6323242648780771,
          0.12204537313043434,
          -1.9034920234674675,
          -0.04442225969249496,
          0.15429995846266448,
          0.7932222997650096,
          2.539915784248557,
          -1.1930343034985709,
          -0.614857906207743,
          1.4806568174717332,
          -1.8648504458226827,
          -0.41509780444484906,
          -1.5902518624107531,
          -1.1668716248656292,
          0.7148812419826943,
          0.9205412994571905,
          -1.0552530177997501,
          -1.1144495047103273,
          -1.4148418771042273,
          -0.7978844421999658,
          -0.7196315490672652,
          -0.6581896684098428,
          -0.003017838744859791,
          1.000572700470973,
          0.03907023496823878,
          0.9445560069535803,
          -0.4370724628095535,
          -0.5308855796106563,
          0.40885528594580445,
          0.188730040054379,
          -0.7941436814811723,
          1.9071063059377538,
          -0.05371617887237018,
          -1.2180771449054735,
          -0.0027625945812005813,
          -0.7289781761912149,
          -1.5148040962595313,
          1.5310393005980325,
          1.2115849481386265,
          0.47883686689648225,
          -0.45499490210360916,
          -1.0189093313495297,
          -0.15728791717667132,
          -0.11127659476746542,
          0.8690846353904871,
          0.20354127289823257,
          -2.0630281790612797,
          1.3344770773409376,
          -1.6200000617491879,
          -0.23116693293656054,
          -0.6755590465420752,
          0.4685086761604976,
          0.49494635923821795,
          -0.005597955485651658,
          1.0885292455914743,
          -1.0407905089838017,
          -0.929490474183066,
          -1.015229473319679,
          1.8836505311940042,
          0.852998689782739,
          1.0753372020989056,
          1.4373344844109446,
          -0.03480585890954957,
          -0.37548221973787094,
          1.5645635392346884,
          1.758746465445413,
          -1.7330027977656584,
          -0.25500034465944543,
          -0.11760242138474251,
          1.9831290035306863,
          -1.6781345236672671,
          1.0916134309838674,
          -0.4986127299448885,
          0.4985659415525577,
          1.1762317481769409,
          -0.9905137465769372,
          -1.063065614167874,
          1.242282812838642,
          0.990357440665751,
          3.006402504672399,
          1.7946437084519817,
          1.2758239575605375,
          0.038206062830590415,
          -0.052200463798188414
         ]
        },
        {
         "line": {
          "color": "rgba(55, 128, 191, 1.0)",
          "dash": "solid",
          "shape": "linear",
          "width": 1.3
         },
         "mode": "lines",
         "name": "B",
         "text": "",
         "type": "scatter",
         "x": [
          0,
          1,
          2,
          3,
          4,
          5,
          6,
          7,
          8,
          9,
          10,
          11,
          12,
          13,
          14,
          15,
          16,
          17,
          18,
          19,
          20,
          21,
          22,
          23,
          24,
          25,
          26,
          27,
          28,
          29,
          30,
          31,
          32,
          33,
          34,
          35,
          36,
          37,
          38,
          39,
          40,
          41,
          42,
          43,
          44,
          45,
          46,
          47,
          48,
          49,
          50,
          51,
          52,
          53,
          54,
          55,
          56,
          57,
          58,
          59,
          60,
          61,
          62,
          63,
          64,
          65,
          66,
          67,
          68,
          69,
          70,
          71,
          72,
          73,
          74,
          75,
          76,
          77,
          78,
          79,
          80,
          81,
          82,
          83,
          84,
          85,
          86,
          87,
          88,
          89,
          90,
          91,
          92,
          93,
          94,
          95,
          96,
          97,
          98,
          99
         ],
         "y": [
          1.7979066365959437,
          0.46285376386792,
          -1.186763222985012,
          -1.3069987790938424,
          0.2846992419759555,
          -0.46572268676860606,
          0.37506581218122054,
          0.04307716596099602,
          -0.10030470230806747,
          0.2253581478192807,
          1.5881375303218745,
          -0.7860510560549011,
          0.0709065210939935,
          1.3179919385263983,
          0.1911135355144382,
          -0.1659826156491933,
          0.1335520665302867,
          -1.3591338016683188,
          0.6810870536812119,
          -0.3210353527483331,
          -0.9898181449092167,
          -1.2243689025562479,
          0.9843652721650106,
          -1.2543373215912461,
          0.8715596268958955,
          1.3562385722623433,
          -0.2579451332063824,
          0.8699716121262567,
          1.248480225043317,
          -1.5952232935299056,
          -0.03397694249447452,
          -0.343267396460641,
          0.28802212629747814,
          -0.8593404698722109,
          -0.2530951725001365,
          -1.1386052562784248,
          0.38917661781477536,
          -0.9825733525869731,
          -0.31696837518324317,
          0.7990527808015294,
          1.5176967691503638,
          1.410126737765439,
          -0.2743896134901539,
          -0.6929350750237689,
          0.2936921575856845,
          0.8254128170753967,
          -0.38061138001210737,
          -1.029983050729118,
          0.5164862990891124,
          0.5294226142890159,
          1.3419954272688206,
          0.4908184159374298,
          0.49612404315739556,
          -1.5353261683128314,
          -0.23122135512542397,
          -0.969643060285253,
          -0.7905605694819513,
          0.6367390711248883,
          -1.1584050310341727,
          0.7132292476684078,
          0.5512209938581333,
          -1.2332536027280028,
          1.263445214176733,
          1.0355389031994173,
          -0.4385948782738462,
          1.2783266636003576,
          0.9694074826731098,
          -0.5354973913133867,
          0.3763906230930325,
          1.0822003941489435,
          0.7361046509510144,
          -0.4335373702666788,
          -0.17899964389897075,
          -0.3648809060196582,
          -0.32072220887824276,
          -0.02508944822472686,
          -0.5833657581143926,
          -0.3995712267987253,
          0.9009130860560229,
          -1.4986325461576935,
          -1.8715391056827866,
          2.8798459765859827,
          0.07355556328316204,
          -0.022392130905374747,
          -1.4390151669046745,
          -0.12588443717729894,
          -0.1749203096655581,
          0.5710963935160036,
          -0.8221985582564402,
          1.1613570625458303,
          0.7006283651400398,
          0.028200929375390538,
          -1.1587338283713418,
          0.18389562050698247,
          -0.9159351961730826,
          1.912535172503708,
          -1.8209107037327792,
          -2.2563632012174306,
          0.05798522639921089,
          -0.7234000317144638
         ]
        },
        {
         "connectgaps": false,
         "fill": "tozeroy",
         "line": {
          "color": "green",
          "dash": "solid",
          "shape": "linear",
          "width": 0.5
         },
         "mode": "lines",
         "name": "Spread",
         "showlegend": false,
         "type": "scatter",
         "x": [
          0,
          1,
          2,
          3,
          4,
          5,
          6,
          7,
          8,
          9,
          10,
          11,
          12,
          13,
          14,
          15,
          16,
          17,
          18,
          19,
          20,
          21,
          22,
          23,
          24,
          25,
          26,
          27,
          28,
          29,
          30,
          31,
          32,
          33,
          34,
          35,
          36,
          37,
          38,
          39,
          40,
          41,
          42,
          43,
          44,
          45,
          46,
          47,
          48,
          49,
          50,
          51,
          52,
          53,
          54,
          55,
          56,
          57,
          58,
          59,
          60,
          61,
          62,
          63,
          64,
          65,
          66,
          67,
          68,
          69,
          70,
          71,
          72,
          73,
          74,
          75,
          76,
          77,
          78,
          79,
          80,
          81,
          82,
          83,
          84,
          85,
          86,
          87,
          88,
          89,
          90,
          91,
          92,
          93,
          94,
          95,
          96,
          97,
          98,
          99
         ],
         "xaxis": "x2",
         "y": [
          "",
          "",
          2.317800324148456,
          1.3404230969209474,
          "",
          "",
          0.26562428764202967,
          "",
          0.557966513274731,
          "",
          "",
          0.28934217292899805,
          0.88089126134729,
          "",
          "",
          1.936736904628484,
          0.4987721983477904,
          1.481179174798753,
          "",
          0.27661309305583814,
          1.1441181033718812,
          2.0175912023212574,
          1.5555505120835464,
          0.06130301809267524,
          "",
          0.12441824520938982,
          "",
          "",
          "",
          0.4283516686642763,
          0.7488581844771688,
          1.2638086959178316,
          "",
          "",
          "",
          0.340720814078459,
          "",
          0.32438368417713026,
          0.3139505364383834,
          0.2015199196694436,
          "",
          "",
          "",
          0.16204949541311264,
          0.11516312836011994,
          "",
          "",
          2.937089356666872,
          "",
          "",
          "",
          "",
          "",
          3.066365468910864,
          1.4428063032640503,
          1.4484799271817352,
          0.33556566737834215,
          "",
          1.0011171138575015,
          "",
          0.3178636415323538,
          1.4367948756262354,
          "",
          0.29893817414152024,
          "",
          "",
          "",
          1.0040060674738842,
          0.11855573614518544,
          "",
          0.35242459464045994,
          "",
          "",
          "",
          2.204372740072247,
          0.8780881380074658,
          1.658702960213298,
          1.8369057112096698,
          "",
          1.1231503264198226,
          3.436102644917475,
          "",
          "",
          "",
          1.321412745519932,
          2.1090134407079852,
          "",
          0.5205170374678638,
          0.3235858283115517,
          "",
          0.4756033830369011,
          "",
          0.09566821420346772,
          1.0583871923316597,
          1.9062926368388338,
          1.093867332168691,
          3.615554412184761,
          3.532187158777968,
          "",
          0.6711995679162753
         ],
         "yaxis": "y2"
        },
        {
         "connectgaps": false,
         "fill": "tozeroy",
         "line": {
          "color": "red",
          "dash": "solid",
          "shape": "linear",
          "width": 0.5
         },
         "mode": "lines",
         "name": "Spread",
         "showlegend": false,
         "type": "scatter",
         "x": [
          0,
          1,
          2,
          3,
          4,
          5,
          6,
          7,
          8,
          9,
          10,
          11,
          12,
          13,
          14,
          15,
          16,
          17,
          18,
          19,
          20,
          21,
          22,
          23,
          24,
          25,
          26,
          27,
          28,
          29,
          30,
          31,
          32,
          33,
          34,
          35,
          36,
          37,
          38,
          39,
          40,
          41,
          42,
          43,
          44,
          45,
          46,
          47,
          48,
          49,
          50,
          51,
          52,
          53,
          54,
          55,
          56,
          57,
          58,
          59,
          60,
          61,
          62,
          63,
          64,
          65,
          66,
          67,
          68,
          69,
          70,
          71,
          72,
          73,
          74,
          75,
          76,
          77,
          78,
          79,
          80,
          81,
          82,
          83,
          84,
          85,
          86,
          87,
          88,
          89,
          90,
          91,
          92,
          93,
          94,
          95,
          96,
          97,
          98,
          99
         ],
         "xaxis": "x2",
         "y": [
          -3.635486019576459,
          -0.6223507325606513,
          "",
          "",
          -0.5573635802084445,
          -1.0609253744608464,
          "",
          -1.2468581763062716,
          "",
          -0.8829213172690407,
          -0.3626768296987808,
          "",
          "",
          -1.7917604921888581,
          -0.3797738824646079,
          "",
          "",
          "",
          -2.584579077148679,
          "",
          "",
          "",
          "",
          "",
          -1.4864175331036384,
          "",
          -1.6069053126163002,
          -1.2850694165711058,
          -2.83873208745407,
          "",
          "",
          "",
          -1.3432751440972281,
          -0.2551090348381164,
          -1.1617467046040908,
          "",
          -1.1088081668820406,
          "",
          "",
          "",
          -1.478626534182125,
          -0.4655707308118586,
          -0.16268284931939958,
          "",
          "",
          -0.6366827770210177,
          -0.41353230146906494,
          "",
          -0.5702024779614825,
          -1.7474997591944894,
          -1.3447580218500212,
          -1.2197965921286447,
          -2.0109281394169267,
          "",
          "",
          "",
          "",
          -1.655648402474418,
          "",
          -0.8245058424358732,
          "",
          "",
          -3.326473393238013,
          "",
          -1.1814051834753416,
          -1.509493596536918,
          -1.6449665292151852,
          "",
          "",
          -1.087798349634595,
          "",
          -0.6072531387171228,
          -0.7504908302840952,
          -0.6503485673000207,
          "",
          "",
          "",
          "",
          -0.9357189449655725,
          "",
          "",
          -1.1210995111405697,
          -1.8065583610488205,
          -0.23260821375407068,
          "",
          "",
          -1.503214214001709,
          "",
          "",
          -0.6627911209932726,
          "",
          -1.0187146759523278,
          "",
          "",
          "",
          "",
          "",
          "",
          -0.019779163568620473,
          ""
         ],
         "yaxis": "y2"
        }
       ],
       "layout": {
        "hovermode": "x",
        "legend": {
         "bgcolor": "#F5F6F9",
         "font": {
          "color": "#4D5663"
         }
        },
        "paper_bgcolor": "#F5F6F9",
        "plot_bgcolor": "#F5F6F9",
        "template": {
         "data": {
          "bar": [
           {
            "error_x": {
             "color": "#2a3f5f"
            },
            "error_y": {
             "color": "#2a3f5f"
            },
            "marker": {
             "line": {
              "color": "#E5ECF6",
              "width": 0.5
             }
            },
            "type": "bar"
           }
          ],
          "barpolar": [
           {
            "marker": {
             "line": {
              "color": "#E5ECF6",
              "width": 0.5
             }
            },
            "type": "barpolar"
           }
          ],
          "carpet": [
           {
            "aaxis": {
             "endlinecolor": "#2a3f5f",
             "gridcolor": "white",
             "linecolor": "white",
             "minorgridcolor": "white",
             "startlinecolor": "#2a3f5f"
            },
            "baxis": {
             "endlinecolor": "#2a3f5f",
             "gridcolor": "white",
             "linecolor": "white",
             "minorgridcolor": "white",
             "startlinecolor": "#2a3f5f"
            },
            "type": "carpet"
           }
          ],
          "choropleth": [
           {
            "colorbar": {
             "outlinewidth": 0,
             "ticks": ""
            },
            "type": "choropleth"
           }
          ],
          "contour": [
           {
            "colorbar": {
             "outlinewidth": 0,
             "ticks": ""
            },
            "colorscale": [
             [
              0,
              "#0d0887"
             ],
             [
              0.1111111111111111,
              "#46039f"
             ],
             [
              0.2222222222222222,
              "#7201a8"
             ],
             [
              0.3333333333333333,
              "#9c179e"
             ],
             [
              0.4444444444444444,
              "#bd3786"
             ],
             [
              0.5555555555555556,
              "#d8576b"
             ],
             [
              0.6666666666666666,
              "#ed7953"
             ],
             [
              0.7777777777777778,
              "#fb9f3a"
             ],
             [
              0.8888888888888888,
              "#fdca26"
             ],
             [
              1,
              "#f0f921"
             ]
            ],
            "type": "contour"
           }
          ],
          "contourcarpet": [
           {
            "colorbar": {
             "outlinewidth": 0,
             "ticks": ""
            },
            "type": "contourcarpet"
           }
          ],
          "heatmap": [
           {
            "colorbar": {
             "outlinewidth": 0,
             "ticks": ""
            },
            "colorscale": [
             [
              0,
              "#0d0887"
             ],
             [
              0.1111111111111111,
              "#46039f"
             ],
             [
              0.2222222222222222,
              "#7201a8"
             ],
             [
              0.3333333333333333,
              "#9c179e"
             ],
             [
              0.4444444444444444,
              "#bd3786"
             ],
             [
              0.5555555555555556,
              "#d8576b"
             ],
             [
              0.6666666666666666,
              "#ed7953"
             ],
             [
              0.7777777777777778,
              "#fb9f3a"
             ],
             [
              0.8888888888888888,
              "#fdca26"
             ],
             [
              1,
              "#f0f921"
             ]
            ],
            "type": "heatmap"
           }
          ],
          "heatmapgl": [
           {
            "colorbar": {
             "outlinewidth": 0,
             "ticks": ""
            },
            "colorscale": [
             [
              0,
              "#0d0887"
             ],
             [
              0.1111111111111111,
              "#46039f"
             ],
             [
              0.2222222222222222,
              "#7201a8"
             ],
             [
              0.3333333333333333,
              "#9c179e"
             ],
             [
              0.4444444444444444,
              "#bd3786"
             ],
             [
              0.5555555555555556,
              "#d8576b"
             ],
             [
              0.6666666666666666,
              "#ed7953"
             ],
             [
              0.7777777777777778,
              "#fb9f3a"
             ],
             [
              0.8888888888888888,
              "#fdca26"
             ],
             [
              1,
              "#f0f921"
             ]
            ],
            "type": "heatmapgl"
           }
          ],
          "histogram": [
           {
            "marker": {
             "colorbar": {
              "outlinewidth": 0,
              "ticks": ""
             }
            },
            "type": "histogram"
           }
          ],
          "histogram2d": [
           {
            "colorbar": {
             "outlinewidth": 0,
             "ticks": ""
            },
            "colorscale": [
             [
              0,
              "#0d0887"
             ],
             [
              0.1111111111111111,
              "#46039f"
             ],
             [
              0.2222222222222222,
              "#7201a8"
             ],
             [
              0.3333333333333333,
              "#9c179e"
             ],
             [
              0.4444444444444444,
              "#bd3786"
             ],
             [
              0.5555555555555556,
              "#d8576b"
             ],
             [
              0.6666666666666666,
              "#ed7953"
             ],
             [
              0.7777777777777778,
              "#fb9f3a"
             ],
             [
              0.8888888888888888,
              "#fdca26"
             ],
             [
              1,
              "#f0f921"
             ]
            ],
            "type": "histogram2d"
           }
          ],
          "histogram2dcontour": [
           {
            "colorbar": {
             "outlinewidth": 0,
             "ticks": ""
            },
            "colorscale": [
             [
              0,
              "#0d0887"
             ],
             [
              0.1111111111111111,
              "#46039f"
             ],
             [
              0.2222222222222222,
              "#7201a8"
             ],
             [
              0.3333333333333333,
              "#9c179e"
             ],
             [
              0.4444444444444444,
              "#bd3786"
             ],
             [
              0.5555555555555556,
              "#d8576b"
             ],
             [
              0.6666666666666666,
              "#ed7953"
             ],
             [
              0.7777777777777778,
              "#fb9f3a"
             ],
             [
              0.8888888888888888,
              "#fdca26"
             ],
             [
              1,
              "#f0f921"
             ]
            ],
            "type": "histogram2dcontour"
           }
          ],
          "mesh3d": [
           {
            "colorbar": {
             "outlinewidth": 0,
             "ticks": ""
            },
            "type": "mesh3d"
           }
          ],
          "parcoords": [
           {
            "line": {
             "colorbar": {
              "outlinewidth": 0,
              "ticks": ""
             }
            },
            "type": "parcoords"
           }
          ],
          "pie": [
           {
            "automargin": true,
            "type": "pie"
           }
          ],
          "scatter": [
           {
            "marker": {
             "colorbar": {
              "outlinewidth": 0,
              "ticks": ""
             }
            },
            "type": "scatter"
           }
          ],
          "scatter3d": [
           {
            "line": {
             "colorbar": {
              "outlinewidth": 0,
              "ticks": ""
             }
            },
            "marker": {
             "colorbar": {
              "outlinewidth": 0,
              "ticks": ""
             }
            },
            "type": "scatter3d"
           }
          ],
          "scattercarpet": [
           {
            "marker": {
             "colorbar": {
              "outlinewidth": 0,
              "ticks": ""
             }
            },
            "type": "scattercarpet"
           }
          ],
          "scattergeo": [
           {
            "marker": {
             "colorbar": {
              "outlinewidth": 0,
              "ticks": ""
             }
            },
            "type": "scattergeo"
           }
          ],
          "scattergl": [
           {
            "marker": {
             "colorbar": {
              "outlinewidth": 0,
              "ticks": ""
             }
            },
            "type": "scattergl"
           }
          ],
          "scattermapbox": [
           {
            "marker": {
             "colorbar": {
              "outlinewidth": 0,
              "ticks": ""
             }
            },
            "type": "scattermapbox"
           }
          ],
          "scatterpolar": [
           {
            "marker": {
             "colorbar": {
              "outlinewidth": 0,
              "ticks": ""
             }
            },
            "type": "scatterpolar"
           }
          ],
          "scatterpolargl": [
           {
            "marker": {
             "colorbar": {
              "outlinewidth": 0,
              "ticks": ""
             }
            },
            "type": "scatterpolargl"
           }
          ],
          "scatterternary": [
           {
            "marker": {
             "colorbar": {
              "outlinewidth": 0,
              "ticks": ""
             }
            },
            "type": "scatterternary"
           }
          ],
          "surface": [
           {
            "colorbar": {
             "outlinewidth": 0,
             "ticks": ""
            },
            "colorscale": [
             [
              0,
              "#0d0887"
             ],
             [
              0.1111111111111111,
              "#46039f"
             ],
             [
              0.2222222222222222,
              "#7201a8"
             ],
             [
              0.3333333333333333,
              "#9c179e"
             ],
             [
              0.4444444444444444,
              "#bd3786"
             ],
             [
              0.5555555555555556,
              "#d8576b"
             ],
             [
              0.6666666666666666,
              "#ed7953"
             ],
             [
              0.7777777777777778,
              "#fb9f3a"
             ],
             [
              0.8888888888888888,
              "#fdca26"
             ],
             [
              1,
              "#f0f921"
             ]
            ],
            "type": "surface"
           }
          ],
          "table": [
           {
            "cells": {
             "fill": {
              "color": "#EBF0F8"
             },
             "line": {
              "color": "white"
             }
            },
            "header": {
             "fill": {
              "color": "#C8D4E3"
             },
             "line": {
              "color": "white"
             }
            },
            "type": "table"
           }
          ]
         },
         "layout": {
          "annotationdefaults": {
           "arrowcolor": "#2a3f5f",
           "arrowhead": 0,
           "arrowwidth": 1
          },
          "coloraxis": {
           "colorbar": {
            "outlinewidth": 0,
            "ticks": ""
           }
          },
          "colorscale": {
           "diverging": [
            [
             0,
             "#8e0152"
            ],
            [
             0.1,
             "#c51b7d"
            ],
            [
             0.2,
             "#de77ae"
            ],
            [
             0.3,
             "#f1b6da"
            ],
            [
             0.4,
             "#fde0ef"
            ],
            [
             0.5,
             "#f7f7f7"
            ],
            [
             0.6,
             "#e6f5d0"
            ],
            [
             0.7,
             "#b8e186"
            ],
            [
             0.8,
             "#7fbc41"
            ],
            [
             0.9,
             "#4d9221"
            ],
            [
             1,
             "#276419"
            ]
           ],
           "sequential": [
            [
             0,
             "#0d0887"
            ],
            [
             0.1111111111111111,
             "#46039f"
            ],
            [
             0.2222222222222222,
             "#7201a8"
            ],
            [
             0.3333333333333333,
             "#9c179e"
            ],
            [
             0.4444444444444444,
             "#bd3786"
            ],
            [
             0.5555555555555556,
             "#d8576b"
            ],
            [
             0.6666666666666666,
             "#ed7953"
            ],
            [
             0.7777777777777778,
             "#fb9f3a"
            ],
            [
             0.8888888888888888,
             "#fdca26"
            ],
            [
             1,
             "#f0f921"
            ]
           ],
           "sequentialminus": [
            [
             0,
             "#0d0887"
            ],
            [
             0.1111111111111111,
             "#46039f"
            ],
            [
             0.2222222222222222,
             "#7201a8"
            ],
            [
             0.3333333333333333,
             "#9c179e"
            ],
            [
             0.4444444444444444,
             "#bd3786"
            ],
            [
             0.5555555555555556,
             "#d8576b"
            ],
            [
             0.6666666666666666,
             "#ed7953"
            ],
            [
             0.7777777777777778,
             "#fb9f3a"
            ],
            [
             0.8888888888888888,
             "#fdca26"
            ],
            [
             1,
             "#f0f921"
            ]
           ]
          },
          "colorway": [
           "#636efa",
           "#EF553B",
           "#00cc96",
           "#ab63fa",
           "#FFA15A",
           "#19d3f3",
           "#FF6692",
           "#B6E880",
           "#FF97FF",
           "#FECB52"
          ],
          "font": {
           "color": "#2a3f5f"
          },
          "geo": {
           "bgcolor": "white",
           "lakecolor": "white",
           "landcolor": "#E5ECF6",
           "showlakes": true,
           "showland": true,
           "subunitcolor": "white"
          },
          "hoverlabel": {
           "align": "left"
          },
          "hovermode": "closest",
          "mapbox": {
           "style": "light"
          },
          "paper_bgcolor": "white",
          "plot_bgcolor": "#E5ECF6",
          "polar": {
           "angularaxis": {
            "gridcolor": "white",
            "linecolor": "white",
            "ticks": ""
           },
           "bgcolor": "#E5ECF6",
           "radialaxis": {
            "gridcolor": "white",
            "linecolor": "white",
            "ticks": ""
           }
          },
          "scene": {
           "xaxis": {
            "backgroundcolor": "#E5ECF6",
            "gridcolor": "white",
            "gridwidth": 2,
            "linecolor": "white",
            "showbackground": true,
            "ticks": "",
            "zerolinecolor": "white"
           },
           "yaxis": {
            "backgroundcolor": "#E5ECF6",
            "gridcolor": "white",
            "gridwidth": 2,
            "linecolor": "white",
            "showbackground": true,
            "ticks": "",
            "zerolinecolor": "white"
           },
           "zaxis": {
            "backgroundcolor": "#E5ECF6",
            "gridcolor": "white",
            "gridwidth": 2,
            "linecolor": "white",
            "showbackground": true,
            "ticks": "",
            "zerolinecolor": "white"
           }
          },
          "shapedefaults": {
           "line": {
            "color": "#2a3f5f"
           }
          },
          "ternary": {
           "aaxis": {
            "gridcolor": "white",
            "linecolor": "white",
            "ticks": ""
           },
           "baxis": {
            "gridcolor": "white",
            "linecolor": "white",
            "ticks": ""
           },
           "bgcolor": "#E5ECF6",
           "caxis": {
            "gridcolor": "white",
            "linecolor": "white",
            "ticks": ""
           }
          },
          "title": {
           "x": 0.05
          },
          "xaxis": {
           "automargin": true,
           "gridcolor": "white",
           "linecolor": "white",
           "ticks": "",
           "title": {
            "standoff": 15
           },
           "zerolinecolor": "white",
           "zerolinewidth": 2
          },
          "yaxis": {
           "automargin": true,
           "gridcolor": "white",
           "linecolor": "white",
           "ticks": "",
           "title": {
            "standoff": 15
           },
           "zerolinecolor": "white",
           "zerolinewidth": 2
          }
         }
        },
        "title": {
         "font": {
          "color": "#4D5663"
         }
        },
        "xaxis": {
         "gridcolor": "#E1E5ED",
         "showgrid": true,
         "tickfont": {
          "color": "#4D5663"
         },
         "title": {
          "font": {
           "color": "#4D5663"
          },
          "text": ""
         },
         "zerolinecolor": "#E1E5ED"
        },
        "xaxis2": {
         "anchor": "y2",
         "gridcolor": "#E1E5ED",
         "showgrid": true,
         "showticklabels": false,
         "tickfont": {
          "color": "#4D5663"
         },
         "title": {
          "font": {
           "color": "#4D5663"
          },
          "text": ""
         },
         "zerolinecolor": "#E1E5ED"
        },
        "yaxis": {
         "domain": [
          0.3,
          1
         ],
         "gridcolor": "#E1E5ED",
         "showgrid": true,
         "tickfont": {
          "color": "#4D5663"
         },
         "title": {
          "font": {
           "color": "#4D5663"
          },
          "text": ""
         },
         "zerolinecolor": "#E1E5ED"
        },
        "yaxis2": {
         "domain": [
          0,
          0.25
         ],
         "gridcolor": "#E1E5ED",
         "showgrid": true,
         "tickfont": {
          "color": "#4D5663"
         },
         "title": {
          "font": {
           "color": "#4D5663"
          },
          "text": "Spread"
         },
         "zerolinecolor": "#E1E5ED"
        }
       }
      },
      "text/html": [
       "<div>\n",
       "        \n",
       "        \n",
       "            <div id=\"8e8bb75d-1fe7-42dd-8e86-7ee36055e792\" class=\"plotly-graph-div\" style=\"height:525px; width:100%;\"></div>\n",
       "            <script type=\"text/javascript\">\n",
       "                require([\"plotly\"], function(Plotly) {\n",
       "                    window.PLOTLYENV=window.PLOTLYENV || {};\n",
       "                    window.PLOTLYENV.BASE_URL='https://plot.ly';\n",
       "                    \n",
       "                if (document.getElementById(\"8e8bb75d-1fe7-42dd-8e86-7ee36055e792\")) {\n",
       "                    Plotly.newPlot(\n",
       "                        '8e8bb75d-1fe7-42dd-8e86-7ee36055e792',\n",
       "                        [{\"line\": {\"color\": \"rgba(255, 153, 51, 1.0)\", \"dash\": \"solid\", \"shape\": \"linear\", \"width\": 1.3}, \"mode\": \"lines\", \"name\": \"A\", \"text\": \"\", \"type\": \"scatter\", \"x\": [0, 1, 2, 3, 4, 5, 6, 7, 8, 9, 10, 11, 12, 13, 14, 15, 16, 17, 18, 19, 20, 21, 22, 23, 24, 25, 26, 27, 28, 29, 30, 31, 32, 33, 34, 35, 36, 37, 38, 39, 40, 41, 42, 43, 44, 45, 46, 47, 48, 49, 50, 51, 52, 53, 54, 55, 56, 57, 58, 59, 60, 61, 62, 63, 64, 65, 66, 67, 68, 69, 70, 71, 72, 73, 74, 75, 76, 77, 78, 79, 80, 81, 82, 83, 84, 85, 86, 87, 88, 89, 90, 91, 92, 93, 94, 95, 96, 97, 98, 99], \"y\": [-1.8375793829805152, -0.15949696869273136, 1.1310371011634441, 0.033424317827104935, -0.27266433823248903, -1.5266480612294526, 0.6406900998232502, -1.2037810103452755, 0.45766181096666353, -0.65756316944976, 1.2254607006230938, -0.49670888312590306, 0.9517977824412835, -0.4737685536624598, -0.18866034695016973, 1.7707542889792907, 0.6323242648780771, 0.12204537313043434, -1.9034920234674675, -0.04442225969249496, 0.15429995846266448, 0.7932222997650096, 2.539915784248557, -1.1930343034985709, -0.614857906207743, 1.4806568174717332, -1.8648504458226827, -0.41509780444484906, -1.5902518624107531, -1.1668716248656292, 0.7148812419826943, 0.9205412994571905, -1.0552530177997501, -1.1144495047103273, -1.4148418771042273, -0.7978844421999658, -0.7196315490672652, -0.6581896684098428, -0.003017838744859791, 1.000572700470973, 0.03907023496823878, 0.9445560069535803, -0.4370724628095535, -0.5308855796106563, 0.40885528594580445, 0.188730040054379, -0.7941436814811723, 1.9071063059377538, -0.05371617887237018, -1.2180771449054735, -0.0027625945812005813, -0.7289781761912149, -1.5148040962595313, 1.5310393005980325, 1.2115849481386265, 0.47883686689648225, -0.45499490210360916, -1.0189093313495297, -0.15728791717667132, -0.11127659476746542, 0.8690846353904871, 0.20354127289823257, -2.0630281790612797, 1.3344770773409376, -1.6200000617491879, -0.23116693293656054, -0.6755590465420752, 0.4685086761604976, 0.49494635923821795, -0.005597955485651658, 1.0885292455914743, -1.0407905089838017, -0.929490474183066, -1.015229473319679, 1.8836505311940042, 0.852998689782739, 1.0753372020989056, 1.4373344844109446, -0.03480585890954957, -0.37548221973787094, 1.5645635392346884, 1.758746465445413, -1.7330027977656584, -0.25500034465944543, -0.11760242138474251, 1.9831290035306863, -1.6781345236672671, 1.0916134309838674, -0.4986127299448885, 0.4985659415525577, 1.1762317481769409, -0.9905137465769372, -1.063065614167874, 1.242282812838642, 0.990357440665751, 3.006402504672399, 1.7946437084519817, 1.2758239575605375, 0.038206062830590415, -0.052200463798188414]}, {\"line\": {\"color\": \"rgba(55, 128, 191, 1.0)\", \"dash\": \"solid\", \"shape\": \"linear\", \"width\": 1.3}, \"mode\": \"lines\", \"name\": \"B\", \"text\": \"\", \"type\": \"scatter\", \"x\": [0, 1, 2, 3, 4, 5, 6, 7, 8, 9, 10, 11, 12, 13, 14, 15, 16, 17, 18, 19, 20, 21, 22, 23, 24, 25, 26, 27, 28, 29, 30, 31, 32, 33, 34, 35, 36, 37, 38, 39, 40, 41, 42, 43, 44, 45, 46, 47, 48, 49, 50, 51, 52, 53, 54, 55, 56, 57, 58, 59, 60, 61, 62, 63, 64, 65, 66, 67, 68, 69, 70, 71, 72, 73, 74, 75, 76, 77, 78, 79, 80, 81, 82, 83, 84, 85, 86, 87, 88, 89, 90, 91, 92, 93, 94, 95, 96, 97, 98, 99], \"y\": [1.7979066365959437, 0.46285376386792, -1.186763222985012, -1.3069987790938424, 0.2846992419759555, -0.46572268676860606, 0.37506581218122054, 0.04307716596099602, -0.10030470230806747, 0.2253581478192807, 1.5881375303218745, -0.7860510560549011, 0.0709065210939935, 1.3179919385263983, 0.1911135355144382, -0.1659826156491933, 0.1335520665302867, -1.3591338016683188, 0.6810870536812119, -0.3210353527483331, -0.9898181449092167, -1.2243689025562479, 0.9843652721650106, -1.2543373215912461, 0.8715596268958955, 1.3562385722623433, -0.2579451332063824, 0.8699716121262567, 1.248480225043317, -1.5952232935299056, -0.03397694249447452, -0.343267396460641, 0.28802212629747814, -0.8593404698722109, -0.2530951725001365, -1.1386052562784248, 0.38917661781477536, -0.9825733525869731, -0.31696837518324317, 0.7990527808015294, 1.5176967691503638, 1.410126737765439, -0.2743896134901539, -0.6929350750237689, 0.2936921575856845, 0.8254128170753967, -0.38061138001210737, -1.029983050729118, 0.5164862990891124, 0.5294226142890159, 1.3419954272688206, 0.4908184159374298, 0.49612404315739556, -1.5353261683128314, -0.23122135512542397, -0.969643060285253, -0.7905605694819513, 0.6367390711248883, -1.1584050310341727, 0.7132292476684078, 0.5512209938581333, -1.2332536027280028, 1.263445214176733, 1.0355389031994173, -0.4385948782738462, 1.2783266636003576, 0.9694074826731098, -0.5354973913133867, 0.3763906230930325, 1.0822003941489435, 0.7361046509510144, -0.4335373702666788, -0.17899964389897075, -0.3648809060196582, -0.32072220887824276, -0.02508944822472686, -0.5833657581143926, -0.3995712267987253, 0.9009130860560229, -1.4986325461576935, -1.8715391056827866, 2.8798459765859827, 0.07355556328316204, -0.022392130905374747, -1.4390151669046745, -0.12588443717729894, -0.1749203096655581, 0.5710963935160036, -0.8221985582564402, 1.1613570625458303, 0.7006283651400398, 0.028200929375390538, -1.1587338283713418, 0.18389562050698247, -0.9159351961730826, 1.912535172503708, -1.8209107037327792, -2.2563632012174306, 0.05798522639921089, -0.7234000317144638]}, {\"connectgaps\": false, \"fill\": \"tozeroy\", \"line\": {\"color\": \"green\", \"dash\": \"solid\", \"shape\": \"linear\", \"width\": 0.5}, \"mode\": \"lines\", \"name\": \"Spread\", \"showlegend\": false, \"type\": \"scatter\", \"x\": [0, 1, 2, 3, 4, 5, 6, 7, 8, 9, 10, 11, 12, 13, 14, 15, 16, 17, 18, 19, 20, 21, 22, 23, 24, 25, 26, 27, 28, 29, 30, 31, 32, 33, 34, 35, 36, 37, 38, 39, 40, 41, 42, 43, 44, 45, 46, 47, 48, 49, 50, 51, 52, 53, 54, 55, 56, 57, 58, 59, 60, 61, 62, 63, 64, 65, 66, 67, 68, 69, 70, 71, 72, 73, 74, 75, 76, 77, 78, 79, 80, 81, 82, 83, 84, 85, 86, 87, 88, 89, 90, 91, 92, 93, 94, 95, 96, 97, 98, 99], \"xaxis\": \"x2\", \"y\": [\"\", \"\", 2.317800324148456, 1.3404230969209474, \"\", \"\", 0.26562428764202967, \"\", 0.557966513274731, \"\", \"\", 0.28934217292899805, 0.88089126134729, \"\", \"\", 1.936736904628484, 0.4987721983477904, 1.481179174798753, \"\", 0.27661309305583814, 1.1441181033718812, 2.0175912023212574, 1.5555505120835464, 0.06130301809267524, \"\", 0.12441824520938982, \"\", \"\", \"\", 0.4283516686642763, 0.7488581844771688, 1.2638086959178316, \"\", \"\", \"\", 0.340720814078459, \"\", 0.32438368417713026, 0.3139505364383834, 0.2015199196694436, \"\", \"\", \"\", 0.16204949541311264, 0.11516312836011994, \"\", \"\", 2.937089356666872, \"\", \"\", \"\", \"\", \"\", 3.066365468910864, 1.4428063032640503, 1.4484799271817352, 0.33556566737834215, \"\", 1.0011171138575015, \"\", 0.3178636415323538, 1.4367948756262354, \"\", 0.29893817414152024, \"\", \"\", \"\", 1.0040060674738842, 0.11855573614518544, \"\", 0.35242459464045994, \"\", \"\", \"\", 2.204372740072247, 0.8780881380074658, 1.658702960213298, 1.8369057112096698, \"\", 1.1231503264198226, 3.436102644917475, \"\", \"\", \"\", 1.321412745519932, 2.1090134407079852, \"\", 0.5205170374678638, 0.3235858283115517, \"\", 0.4756033830369011, \"\", 0.09566821420346772, 1.0583871923316597, 1.9062926368388338, 1.093867332168691, 3.615554412184761, 3.532187158777968, \"\", 0.6711995679162753], \"yaxis\": \"y2\"}, {\"connectgaps\": false, \"fill\": \"tozeroy\", \"line\": {\"color\": \"red\", \"dash\": \"solid\", \"shape\": \"linear\", \"width\": 0.5}, \"mode\": \"lines\", \"name\": \"Spread\", \"showlegend\": false, \"type\": \"scatter\", \"x\": [0, 1, 2, 3, 4, 5, 6, 7, 8, 9, 10, 11, 12, 13, 14, 15, 16, 17, 18, 19, 20, 21, 22, 23, 24, 25, 26, 27, 28, 29, 30, 31, 32, 33, 34, 35, 36, 37, 38, 39, 40, 41, 42, 43, 44, 45, 46, 47, 48, 49, 50, 51, 52, 53, 54, 55, 56, 57, 58, 59, 60, 61, 62, 63, 64, 65, 66, 67, 68, 69, 70, 71, 72, 73, 74, 75, 76, 77, 78, 79, 80, 81, 82, 83, 84, 85, 86, 87, 88, 89, 90, 91, 92, 93, 94, 95, 96, 97, 98, 99], \"xaxis\": \"x2\", \"y\": [-3.635486019576459, -0.6223507325606513, \"\", \"\", -0.5573635802084445, -1.0609253744608464, \"\", -1.2468581763062716, \"\", -0.8829213172690407, -0.3626768296987808, \"\", \"\", -1.7917604921888581, -0.3797738824646079, \"\", \"\", \"\", -2.584579077148679, \"\", \"\", \"\", \"\", \"\", -1.4864175331036384, \"\", -1.6069053126163002, -1.2850694165711058, -2.83873208745407, \"\", \"\", \"\", -1.3432751440972281, -0.2551090348381164, -1.1617467046040908, \"\", -1.1088081668820406, \"\", \"\", \"\", -1.478626534182125, -0.4655707308118586, -0.16268284931939958, \"\", \"\", -0.6366827770210177, -0.41353230146906494, \"\", -0.5702024779614825, -1.7474997591944894, -1.3447580218500212, -1.2197965921286447, -2.0109281394169267, \"\", \"\", \"\", \"\", -1.655648402474418, \"\", -0.8245058424358732, \"\", \"\", -3.326473393238013, \"\", -1.1814051834753416, -1.509493596536918, -1.6449665292151852, \"\", \"\", -1.087798349634595, \"\", -0.6072531387171228, -0.7504908302840952, -0.6503485673000207, \"\", \"\", \"\", \"\", -0.9357189449655725, \"\", \"\", -1.1210995111405697, -1.8065583610488205, -0.23260821375407068, \"\", \"\", -1.503214214001709, \"\", \"\", -0.6627911209932726, \"\", -1.0187146759523278, \"\", \"\", \"\", \"\", \"\", \"\", -0.019779163568620473, \"\"], \"yaxis\": \"y2\"}],\n",
       "                        {\"hovermode\": \"x\", \"legend\": {\"bgcolor\": \"#F5F6F9\", \"font\": {\"color\": \"#4D5663\"}}, \"paper_bgcolor\": \"#F5F6F9\", \"plot_bgcolor\": \"#F5F6F9\", \"template\": {\"data\": {\"bar\": [{\"error_x\": {\"color\": \"#2a3f5f\"}, \"error_y\": {\"color\": \"#2a3f5f\"}, \"marker\": {\"line\": {\"color\": \"#E5ECF6\", \"width\": 0.5}}, \"type\": \"bar\"}], \"barpolar\": [{\"marker\": {\"line\": {\"color\": \"#E5ECF6\", \"width\": 0.5}}, \"type\": \"barpolar\"}], \"carpet\": [{\"aaxis\": {\"endlinecolor\": \"#2a3f5f\", \"gridcolor\": \"white\", \"linecolor\": \"white\", \"minorgridcolor\": \"white\", \"startlinecolor\": \"#2a3f5f\"}, \"baxis\": {\"endlinecolor\": \"#2a3f5f\", \"gridcolor\": \"white\", \"linecolor\": \"white\", \"minorgridcolor\": \"white\", \"startlinecolor\": \"#2a3f5f\"}, \"type\": \"carpet\"}], \"choropleth\": [{\"colorbar\": {\"outlinewidth\": 0, \"ticks\": \"\"}, \"type\": \"choropleth\"}], \"contour\": [{\"colorbar\": {\"outlinewidth\": 0, \"ticks\": \"\"}, \"colorscale\": [[0.0, \"#0d0887\"], [0.1111111111111111, \"#46039f\"], [0.2222222222222222, \"#7201a8\"], [0.3333333333333333, \"#9c179e\"], [0.4444444444444444, \"#bd3786\"], [0.5555555555555556, \"#d8576b\"], [0.6666666666666666, \"#ed7953\"], [0.7777777777777778, \"#fb9f3a\"], [0.8888888888888888, \"#fdca26\"], [1.0, \"#f0f921\"]], \"type\": \"contour\"}], \"contourcarpet\": [{\"colorbar\": {\"outlinewidth\": 0, \"ticks\": \"\"}, \"type\": \"contourcarpet\"}], \"heatmap\": [{\"colorbar\": {\"outlinewidth\": 0, \"ticks\": \"\"}, \"colorscale\": [[0.0, \"#0d0887\"], [0.1111111111111111, \"#46039f\"], [0.2222222222222222, \"#7201a8\"], [0.3333333333333333, \"#9c179e\"], [0.4444444444444444, \"#bd3786\"], [0.5555555555555556, \"#d8576b\"], [0.6666666666666666, \"#ed7953\"], [0.7777777777777778, \"#fb9f3a\"], [0.8888888888888888, \"#fdca26\"], [1.0, \"#f0f921\"]], \"type\": \"heatmap\"}], \"heatmapgl\": [{\"colorbar\": {\"outlinewidth\": 0, \"ticks\": \"\"}, \"colorscale\": [[0.0, \"#0d0887\"], [0.1111111111111111, \"#46039f\"], [0.2222222222222222, \"#7201a8\"], [0.3333333333333333, \"#9c179e\"], [0.4444444444444444, \"#bd3786\"], [0.5555555555555556, \"#d8576b\"], [0.6666666666666666, \"#ed7953\"], [0.7777777777777778, \"#fb9f3a\"], [0.8888888888888888, \"#fdca26\"], [1.0, \"#f0f921\"]], \"type\": \"heatmapgl\"}], \"histogram\": [{\"marker\": {\"colorbar\": {\"outlinewidth\": 0, \"ticks\": \"\"}}, \"type\": \"histogram\"}], \"histogram2d\": [{\"colorbar\": {\"outlinewidth\": 0, \"ticks\": \"\"}, \"colorscale\": [[0.0, \"#0d0887\"], [0.1111111111111111, \"#46039f\"], [0.2222222222222222, \"#7201a8\"], [0.3333333333333333, \"#9c179e\"], [0.4444444444444444, \"#bd3786\"], [0.5555555555555556, \"#d8576b\"], [0.6666666666666666, \"#ed7953\"], [0.7777777777777778, \"#fb9f3a\"], [0.8888888888888888, \"#fdca26\"], [1.0, \"#f0f921\"]], \"type\": \"histogram2d\"}], \"histogram2dcontour\": [{\"colorbar\": {\"outlinewidth\": 0, \"ticks\": \"\"}, \"colorscale\": [[0.0, \"#0d0887\"], [0.1111111111111111, \"#46039f\"], [0.2222222222222222, \"#7201a8\"], [0.3333333333333333, \"#9c179e\"], [0.4444444444444444, \"#bd3786\"], [0.5555555555555556, \"#d8576b\"], [0.6666666666666666, \"#ed7953\"], [0.7777777777777778, \"#fb9f3a\"], [0.8888888888888888, \"#fdca26\"], [1.0, \"#f0f921\"]], \"type\": \"histogram2dcontour\"}], \"mesh3d\": [{\"colorbar\": {\"outlinewidth\": 0, \"ticks\": \"\"}, \"type\": \"mesh3d\"}], \"parcoords\": [{\"line\": {\"colorbar\": {\"outlinewidth\": 0, \"ticks\": \"\"}}, \"type\": \"parcoords\"}], \"pie\": [{\"automargin\": true, \"type\": \"pie\"}], \"scatter\": [{\"marker\": {\"colorbar\": {\"outlinewidth\": 0, \"ticks\": \"\"}}, \"type\": \"scatter\"}], \"scatter3d\": [{\"line\": {\"colorbar\": {\"outlinewidth\": 0, \"ticks\": \"\"}}, \"marker\": {\"colorbar\": {\"outlinewidth\": 0, \"ticks\": \"\"}}, \"type\": \"scatter3d\"}], \"scattercarpet\": [{\"marker\": {\"colorbar\": {\"outlinewidth\": 0, \"ticks\": \"\"}}, \"type\": \"scattercarpet\"}], \"scattergeo\": [{\"marker\": {\"colorbar\": {\"outlinewidth\": 0, \"ticks\": \"\"}}, \"type\": \"scattergeo\"}], \"scattergl\": [{\"marker\": {\"colorbar\": {\"outlinewidth\": 0, \"ticks\": \"\"}}, \"type\": \"scattergl\"}], \"scattermapbox\": [{\"marker\": {\"colorbar\": {\"outlinewidth\": 0, \"ticks\": \"\"}}, \"type\": \"scattermapbox\"}], \"scatterpolar\": [{\"marker\": {\"colorbar\": {\"outlinewidth\": 0, \"ticks\": \"\"}}, \"type\": \"scatterpolar\"}], \"scatterpolargl\": [{\"marker\": {\"colorbar\": {\"outlinewidth\": 0, \"ticks\": \"\"}}, \"type\": \"scatterpolargl\"}], \"scatterternary\": [{\"marker\": {\"colorbar\": {\"outlinewidth\": 0, \"ticks\": \"\"}}, \"type\": \"scatterternary\"}], \"surface\": [{\"colorbar\": {\"outlinewidth\": 0, \"ticks\": \"\"}, \"colorscale\": [[0.0, \"#0d0887\"], [0.1111111111111111, \"#46039f\"], [0.2222222222222222, \"#7201a8\"], [0.3333333333333333, \"#9c179e\"], [0.4444444444444444, \"#bd3786\"], [0.5555555555555556, \"#d8576b\"], [0.6666666666666666, \"#ed7953\"], [0.7777777777777778, \"#fb9f3a\"], [0.8888888888888888, \"#fdca26\"], [1.0, \"#f0f921\"]], \"type\": \"surface\"}], \"table\": [{\"cells\": {\"fill\": {\"color\": \"#EBF0F8\"}, \"line\": {\"color\": \"white\"}}, \"header\": {\"fill\": {\"color\": \"#C8D4E3\"}, \"line\": {\"color\": \"white\"}}, \"type\": \"table\"}]}, \"layout\": {\"annotationdefaults\": {\"arrowcolor\": \"#2a3f5f\", \"arrowhead\": 0, \"arrowwidth\": 1}, \"coloraxis\": {\"colorbar\": {\"outlinewidth\": 0, \"ticks\": \"\"}}, \"colorscale\": {\"diverging\": [[0, \"#8e0152\"], [0.1, \"#c51b7d\"], [0.2, \"#de77ae\"], [0.3, \"#f1b6da\"], [0.4, \"#fde0ef\"], [0.5, \"#f7f7f7\"], [0.6, \"#e6f5d0\"], [0.7, \"#b8e186\"], [0.8, \"#7fbc41\"], [0.9, \"#4d9221\"], [1, \"#276419\"]], \"sequential\": [[0.0, \"#0d0887\"], [0.1111111111111111, \"#46039f\"], [0.2222222222222222, \"#7201a8\"], [0.3333333333333333, \"#9c179e\"], [0.4444444444444444, \"#bd3786\"], [0.5555555555555556, \"#d8576b\"], [0.6666666666666666, \"#ed7953\"], [0.7777777777777778, \"#fb9f3a\"], [0.8888888888888888, \"#fdca26\"], [1.0, \"#f0f921\"]], \"sequentialminus\": [[0.0, \"#0d0887\"], [0.1111111111111111, \"#46039f\"], [0.2222222222222222, \"#7201a8\"], [0.3333333333333333, \"#9c179e\"], [0.4444444444444444, \"#bd3786\"], [0.5555555555555556, \"#d8576b\"], [0.6666666666666666, \"#ed7953\"], [0.7777777777777778, \"#fb9f3a\"], [0.8888888888888888, \"#fdca26\"], [1.0, \"#f0f921\"]]}, \"colorway\": [\"#636efa\", \"#EF553B\", \"#00cc96\", \"#ab63fa\", \"#FFA15A\", \"#19d3f3\", \"#FF6692\", \"#B6E880\", \"#FF97FF\", \"#FECB52\"], \"font\": {\"color\": \"#2a3f5f\"}, \"geo\": {\"bgcolor\": \"white\", \"lakecolor\": \"white\", \"landcolor\": \"#E5ECF6\", \"showlakes\": true, \"showland\": true, \"subunitcolor\": \"white\"}, \"hoverlabel\": {\"align\": \"left\"}, \"hovermode\": \"closest\", \"mapbox\": {\"style\": \"light\"}, \"paper_bgcolor\": \"white\", \"plot_bgcolor\": \"#E5ECF6\", \"polar\": {\"angularaxis\": {\"gridcolor\": \"white\", \"linecolor\": \"white\", \"ticks\": \"\"}, \"bgcolor\": \"#E5ECF6\", \"radialaxis\": {\"gridcolor\": \"white\", \"linecolor\": \"white\", \"ticks\": \"\"}}, \"scene\": {\"xaxis\": {\"backgroundcolor\": \"#E5ECF6\", \"gridcolor\": \"white\", \"gridwidth\": 2, \"linecolor\": \"white\", \"showbackground\": true, \"ticks\": \"\", \"zerolinecolor\": \"white\"}, \"yaxis\": {\"backgroundcolor\": \"#E5ECF6\", \"gridcolor\": \"white\", \"gridwidth\": 2, \"linecolor\": \"white\", \"showbackground\": true, \"ticks\": \"\", \"zerolinecolor\": \"white\"}, \"zaxis\": {\"backgroundcolor\": \"#E5ECF6\", \"gridcolor\": \"white\", \"gridwidth\": 2, \"linecolor\": \"white\", \"showbackground\": true, \"ticks\": \"\", \"zerolinecolor\": \"white\"}}, \"shapedefaults\": {\"line\": {\"color\": \"#2a3f5f\"}}, \"ternary\": {\"aaxis\": {\"gridcolor\": \"white\", \"linecolor\": \"white\", \"ticks\": \"\"}, \"baxis\": {\"gridcolor\": \"white\", \"linecolor\": \"white\", \"ticks\": \"\"}, \"bgcolor\": \"#E5ECF6\", \"caxis\": {\"gridcolor\": \"white\", \"linecolor\": \"white\", \"ticks\": \"\"}}, \"title\": {\"x\": 0.05}, \"xaxis\": {\"automargin\": true, \"gridcolor\": \"white\", \"linecolor\": \"white\", \"ticks\": \"\", \"title\": {\"standoff\": 15}, \"zerolinecolor\": \"white\", \"zerolinewidth\": 2}, \"yaxis\": {\"automargin\": true, \"gridcolor\": \"white\", \"linecolor\": \"white\", \"ticks\": \"\", \"title\": {\"standoff\": 15}, \"zerolinecolor\": \"white\", \"zerolinewidth\": 2}}}, \"title\": {\"font\": {\"color\": \"#4D5663\"}}, \"xaxis\": {\"gridcolor\": \"#E1E5ED\", \"showgrid\": true, \"tickfont\": {\"color\": \"#4D5663\"}, \"title\": {\"font\": {\"color\": \"#4D5663\"}, \"text\": \"\"}, \"zerolinecolor\": \"#E1E5ED\"}, \"xaxis2\": {\"anchor\": \"y2\", \"gridcolor\": \"#E1E5ED\", \"showgrid\": true, \"showticklabels\": false, \"tickfont\": {\"color\": \"#4D5663\"}, \"title\": {\"font\": {\"color\": \"#4D5663\"}, \"text\": \"\"}, \"zerolinecolor\": \"#E1E5ED\"}, \"yaxis\": {\"domain\": [0.3, 1], \"gridcolor\": \"#E1E5ED\", \"showgrid\": true, \"tickfont\": {\"color\": \"#4D5663\"}, \"title\": {\"font\": {\"color\": \"#4D5663\"}, \"text\": \"\"}, \"zerolinecolor\": \"#E1E5ED\"}, \"yaxis2\": {\"domain\": [0, 0.25], \"gridcolor\": \"#E1E5ED\", \"showgrid\": true, \"tickfont\": {\"color\": \"#4D5663\"}, \"title\": {\"font\": {\"color\": \"#4D5663\"}, \"text\": \"Spread\"}, \"zerolinecolor\": \"#E1E5ED\"}},\n",
       "                        {\"showLink\": true, \"linkText\": \"Export to plot.ly\", \"plotlyServerURL\": \"https://plot.ly\", \"responsive\": true}\n",
       "                    ).then(function(){\n",
       "                            \n",
       "var gd = document.getElementById('8e8bb75d-1fe7-42dd-8e86-7ee36055e792');\n",
       "var x = new MutationObserver(function (mutations, observer) {{\n",
       "        var display = window.getComputedStyle(gd).display;\n",
       "        if (!display || display === 'none') {{\n",
       "            console.log([gd, 'removed!']);\n",
       "            Plotly.purge(gd);\n",
       "            observer.disconnect();\n",
       "        }}\n",
       "}});\n",
       "\n",
       "// Listen for the removal of the full notebook cells\n",
       "var notebookContainer = gd.closest('#notebook-container');\n",
       "if (notebookContainer) {{\n",
       "    x.observe(notebookContainer, {childList: true});\n",
       "}}\n",
       "\n",
       "// Listen for the clearing of the current output cell\n",
       "var outputEl = gd.closest('.output');\n",
       "if (outputEl) {{\n",
       "    x.observe(outputEl, {childList: true});\n",
       "}}\n",
       "\n",
       "                        })\n",
       "                };\n",
       "                });\n",
       "            </script>\n",
       "        </div>"
      ]
     },
     "metadata": {},
     "output_type": "display_data"
    }
   ],
   "source": [
    "df[['A','B']].iplot(kind='spread')"
   ]
  },
  {
   "cell_type": "code",
   "execution_count": 33,
   "metadata": {},
   "outputs": [
    {
     "data": {
      "application/vnd.plotly.v1+json": {
       "config": {
        "linkText": "Export to plot.ly",
        "plotlyServerURL": "https://plot.ly",
        "showLink": true
       },
       "data": [
        {
         "line": {
          "color": "rgba(255, 153, 51, 1.0)",
          "dash": "solid",
          "shape": "linear",
          "width": 1.3
         },
         "mode": "lines",
         "name": "A",
         "text": "",
         "type": "scatter",
         "x": [
          0,
          1,
          2,
          3,
          4,
          5,
          6,
          7,
          8,
          9,
          10,
          11,
          12,
          13,
          14,
          15,
          16,
          17,
          18,
          19,
          20,
          21,
          22,
          23,
          24,
          25,
          26,
          27,
          28,
          29,
          30,
          31,
          32,
          33,
          34,
          35,
          36,
          37,
          38,
          39,
          40,
          41,
          42,
          43,
          44,
          45,
          46,
          47,
          48,
          49,
          50,
          51,
          52,
          53,
          54,
          55,
          56,
          57,
          58,
          59,
          60,
          61,
          62,
          63,
          64,
          65,
          66,
          67,
          68,
          69,
          70,
          71,
          72,
          73,
          74,
          75,
          76,
          77,
          78,
          79,
          80,
          81,
          82,
          83,
          84,
          85,
          86,
          87,
          88,
          89,
          90,
          91,
          92,
          93,
          94,
          95,
          96,
          97,
          98,
          99
         ],
         "y": [
          -1.8375793829805152,
          -0.15949696869273136,
          1.1310371011634441,
          0.033424317827104935,
          -0.27266433823248903,
          -1.5266480612294526,
          0.6406900998232502,
          -1.2037810103452755,
          0.45766181096666353,
          -0.65756316944976,
          1.2254607006230938,
          -0.49670888312590306,
          0.9517977824412835,
          -0.4737685536624598,
          -0.18866034695016973,
          1.7707542889792907,
          0.6323242648780771,
          0.12204537313043434,
          -1.9034920234674675,
          -0.04442225969249496,
          0.15429995846266448,
          0.7932222997650096,
          2.539915784248557,
          -1.1930343034985709,
          -0.614857906207743,
          1.4806568174717332,
          -1.8648504458226827,
          -0.41509780444484906,
          -1.5902518624107531,
          -1.1668716248656292,
          0.7148812419826943,
          0.9205412994571905,
          -1.0552530177997501,
          -1.1144495047103273,
          -1.4148418771042273,
          -0.7978844421999658,
          -0.7196315490672652,
          -0.6581896684098428,
          -0.003017838744859791,
          1.000572700470973,
          0.03907023496823878,
          0.9445560069535803,
          -0.4370724628095535,
          -0.5308855796106563,
          0.40885528594580445,
          0.188730040054379,
          -0.7941436814811723,
          1.9071063059377538,
          -0.05371617887237018,
          -1.2180771449054735,
          -0.0027625945812005813,
          -0.7289781761912149,
          -1.5148040962595313,
          1.5310393005980325,
          1.2115849481386265,
          0.47883686689648225,
          -0.45499490210360916,
          -1.0189093313495297,
          -0.15728791717667132,
          -0.11127659476746542,
          0.8690846353904871,
          0.20354127289823257,
          -2.0630281790612797,
          1.3344770773409376,
          -1.6200000617491879,
          -0.23116693293656054,
          -0.6755590465420752,
          0.4685086761604976,
          0.49494635923821795,
          -0.005597955485651658,
          1.0885292455914743,
          -1.0407905089838017,
          -0.929490474183066,
          -1.015229473319679,
          1.8836505311940042,
          0.852998689782739,
          1.0753372020989056,
          1.4373344844109446,
          -0.03480585890954957,
          -0.37548221973787094,
          1.5645635392346884,
          1.758746465445413,
          -1.7330027977656584,
          -0.25500034465944543,
          -0.11760242138474251,
          1.9831290035306863,
          -1.6781345236672671,
          1.0916134309838674,
          -0.4986127299448885,
          0.4985659415525577,
          1.1762317481769409,
          -0.9905137465769372,
          -1.063065614167874,
          1.242282812838642,
          0.990357440665751,
          3.006402504672399,
          1.7946437084519817,
          1.2758239575605375,
          0.038206062830590415,
          -0.052200463798188414
         ]
        },
        {
         "line": {
          "color": "rgba(55, 128, 191, 1.0)",
          "dash": "solid",
          "shape": "linear",
          "width": 1.3
         },
         "mode": "lines",
         "name": "B",
         "text": "",
         "type": "scatter",
         "x": [
          0,
          1,
          2,
          3,
          4,
          5,
          6,
          7,
          8,
          9,
          10,
          11,
          12,
          13,
          14,
          15,
          16,
          17,
          18,
          19,
          20,
          21,
          22,
          23,
          24,
          25,
          26,
          27,
          28,
          29,
          30,
          31,
          32,
          33,
          34,
          35,
          36,
          37,
          38,
          39,
          40,
          41,
          42,
          43,
          44,
          45,
          46,
          47,
          48,
          49,
          50,
          51,
          52,
          53,
          54,
          55,
          56,
          57,
          58,
          59,
          60,
          61,
          62,
          63,
          64,
          65,
          66,
          67,
          68,
          69,
          70,
          71,
          72,
          73,
          74,
          75,
          76,
          77,
          78,
          79,
          80,
          81,
          82,
          83,
          84,
          85,
          86,
          87,
          88,
          89,
          90,
          91,
          92,
          93,
          94,
          95,
          96,
          97,
          98,
          99
         ],
         "y": [
          1.7979066365959437,
          0.46285376386792,
          -1.186763222985012,
          -1.3069987790938424,
          0.2846992419759555,
          -0.46572268676860606,
          0.37506581218122054,
          0.04307716596099602,
          -0.10030470230806747,
          0.2253581478192807,
          1.5881375303218745,
          -0.7860510560549011,
          0.0709065210939935,
          1.3179919385263983,
          0.1911135355144382,
          -0.1659826156491933,
          0.1335520665302867,
          -1.3591338016683188,
          0.6810870536812119,
          -0.3210353527483331,
          -0.9898181449092167,
          -1.2243689025562479,
          0.9843652721650106,
          -1.2543373215912461,
          0.8715596268958955,
          1.3562385722623433,
          -0.2579451332063824,
          0.8699716121262567,
          1.248480225043317,
          -1.5952232935299056,
          -0.03397694249447452,
          -0.343267396460641,
          0.28802212629747814,
          -0.8593404698722109,
          -0.2530951725001365,
          -1.1386052562784248,
          0.38917661781477536,
          -0.9825733525869731,
          -0.31696837518324317,
          0.7990527808015294,
          1.5176967691503638,
          1.410126737765439,
          -0.2743896134901539,
          -0.6929350750237689,
          0.2936921575856845,
          0.8254128170753967,
          -0.38061138001210737,
          -1.029983050729118,
          0.5164862990891124,
          0.5294226142890159,
          1.3419954272688206,
          0.4908184159374298,
          0.49612404315739556,
          -1.5353261683128314,
          -0.23122135512542397,
          -0.969643060285253,
          -0.7905605694819513,
          0.6367390711248883,
          -1.1584050310341727,
          0.7132292476684078,
          0.5512209938581333,
          -1.2332536027280028,
          1.263445214176733,
          1.0355389031994173,
          -0.4385948782738462,
          1.2783266636003576,
          0.9694074826731098,
          -0.5354973913133867,
          0.3763906230930325,
          1.0822003941489435,
          0.7361046509510144,
          -0.4335373702666788,
          -0.17899964389897075,
          -0.3648809060196582,
          -0.32072220887824276,
          -0.02508944822472686,
          -0.5833657581143926,
          -0.3995712267987253,
          0.9009130860560229,
          -1.4986325461576935,
          -1.8715391056827866,
          2.8798459765859827,
          0.07355556328316204,
          -0.022392130905374747,
          -1.4390151669046745,
          -0.12588443717729894,
          -0.1749203096655581,
          0.5710963935160036,
          -0.8221985582564402,
          1.1613570625458303,
          0.7006283651400398,
          0.028200929375390538,
          -1.1587338283713418,
          0.18389562050698247,
          -0.9159351961730826,
          1.912535172503708,
          -1.8209107037327792,
          -2.2563632012174306,
          0.05798522639921089,
          -0.7234000317144638
         ]
        },
        {
         "line": {
          "color": "rgba(50, 171, 96, 1.0)",
          "dash": "solid",
          "shape": "linear",
          "width": 1.3
         },
         "mode": "lines",
         "name": "C",
         "text": "",
         "type": "scatter",
         "x": [
          0,
          1,
          2,
          3,
          4,
          5,
          6,
          7,
          8,
          9,
          10,
          11,
          12,
          13,
          14,
          15,
          16,
          17,
          18,
          19,
          20,
          21,
          22,
          23,
          24,
          25,
          26,
          27,
          28,
          29,
          30,
          31,
          32,
          33,
          34,
          35,
          36,
          37,
          38,
          39,
          40,
          41,
          42,
          43,
          44,
          45,
          46,
          47,
          48,
          49,
          50,
          51,
          52,
          53,
          54,
          55,
          56,
          57,
          58,
          59,
          60,
          61,
          62,
          63,
          64,
          65,
          66,
          67,
          68,
          69,
          70,
          71,
          72,
          73,
          74,
          75,
          76,
          77,
          78,
          79,
          80,
          81,
          82,
          83,
          84,
          85,
          86,
          87,
          88,
          89,
          90,
          91,
          92,
          93,
          94,
          95,
          96,
          97,
          98,
          99
         ],
         "y": [
          -0.11195680488630352,
          0.19813513395996601,
          0.6243952583500618,
          3.4636216744699926,
          1.6025780971968129,
          -1.4842957023344758,
          1.5200032468496212,
          -0.2631744539556295,
          1.6500701251249659,
          -3.029823148650362,
          1.0265662580499642,
          -0.2567714743133042,
          2.457180119797221,
          0.5238088696860247,
          0.26209872027584513,
          0.6956634102215381,
          -0.6875276285625027,
          0.6392616577482672,
          1.3351393658985924,
          0.34141495490170315,
          -0.5659435780610622,
          -1.5608013996314807,
          0.48786006329180565,
          0.336081140259419,
          1.0175981710604358,
          -1.0135670113619677,
          0.3129251024807007,
          0.09328582639040285,
          -0.87220153866261,
          2.219797990891727,
          0.3655625592140774,
          0.8002282698773922,
          0.5158153974877858,
          -0.33700303233675205,
          -1.2940315214203613,
          1.1328240142383346,
          0.10094096472141936,
          1.7370875372990418,
          0.1839808055476812,
          1.2827729447774527,
          0.01818646549473812,
          -0.8766507338302455,
          0.11151420077033018,
          -1.226767964025608,
          0.5925924682575862,
          -0.661867073821238,
          -0.3727916276086114,
          -0.35054991247657,
          -0.725074404132708,
          -0.8056579783319012,
          -2.370764105329452,
          0.022591428355840264,
          0.1701455330688707,
          -1.2801069400543095,
          1.80983649905343,
          1.3215544377183117,
          -0.6475697652766453,
          -2.878377702333487,
          -0.3907665880809579,
          -0.9491649532134488,
          0.08817234504563345,
          0.410923543362477,
          0.2118958880439002,
          0.027784440467459877,
          -0.3580699215915449,
          -2.0625597051700364,
          -1.0760324793561697,
          0.8371078225097193,
          0.5682216990227285,
          0.06389082048082165,
          -0.9604774121864444,
          -1.5094374087850413,
          -0.9892302232683492,
          -0.08039240707564778,
          0.4338028851904076,
          -0.32565578060191,
          -1.3588064292335826,
          -0.6212581022909891,
          -0.14729134904037633,
          0.676065770331901,
          0.048383080662061546,
          1.1655116085226473,
          0.36441634440261894,
          0.13740405736192837,
          -0.2692124351999852,
          1.0333699470883486,
          -1.4292425177566495,
          1.3193573123226177,
          0.14325005584199305,
          -0.6451136154829559,
          1.5868146161808676,
          0.3139631548592902,
          -1.2599371618269581,
          0.6661701105361751,
          0.050813451678986335,
          -0.16529638984939754,
          1.7873956492526328,
          0.6855946366040738,
          -0.4169361655747808,
          1.1957640390301516
         ]
        },
        {
         "line": {
          "color": "rgba(128, 0, 128, 1.0)",
          "dash": "solid",
          "shape": "linear",
          "width": 1.3
         },
         "mode": "lines",
         "name": "D",
         "text": "",
         "type": "scatter",
         "x": [
          0,
          1,
          2,
          3,
          4,
          5,
          6,
          7,
          8,
          9,
          10,
          11,
          12,
          13,
          14,
          15,
          16,
          17,
          18,
          19,
          20,
          21,
          22,
          23,
          24,
          25,
          26,
          27,
          28,
          29,
          30,
          31,
          32,
          33,
          34,
          35,
          36,
          37,
          38,
          39,
          40,
          41,
          42,
          43,
          44,
          45,
          46,
          47,
          48,
          49,
          50,
          51,
          52,
          53,
          54,
          55,
          56,
          57,
          58,
          59,
          60,
          61,
          62,
          63,
          64,
          65,
          66,
          67,
          68,
          69,
          70,
          71,
          72,
          73,
          74,
          75,
          76,
          77,
          78,
          79,
          80,
          81,
          82,
          83,
          84,
          85,
          86,
          87,
          88,
          89,
          90,
          91,
          92,
          93,
          94,
          95,
          96,
          97,
          98,
          99
         ],
         "y": [
          0.8776105999726939,
          -0.10918325673623544,
          0.43222002504828105,
          0.21168643105607898,
          -0.9548195681227061,
          -0.6582052405583847,
          -0.3438405764101884,
          0.024985400072480204,
          0.8845177708376631,
          1.825785856913161,
          -0.28356750209844556,
          0.2742762047578588,
          -0.6886177300532897,
          0.5455626463032112,
          0.5512032007015983,
          -0.08465280718060102,
          -1.5683868440841968,
          -2.109777683469117,
          2.405134896361823,
          0.9499776131789283,
          0.529550183658126,
          -1.7435741433932503,
          -0.9283743006001778,
          1.3966321748408201,
          0.8373142928074896,
          0.08189116770723855,
          0.5154221849354002,
          -0.03439821187574808,
          0.2869642638346971,
          -0.03845611395295513,
          2.2779916916551435,
          0.8367230528940887,
          -1.7602317632984699,
          -1.0902609470819251,
          0.370608475722315,
          0.23087291044609118,
          -0.9429003049634584,
          -0.461098739151424,
          3.2211304767698223,
          1.311354278181902,
          -1.6504354303851616,
          -0.6950894070767035,
          -0.38424297017119463,
          1.4667644026261295,
          -0.2183733939914209,
          -1.2735493192721279,
          -0.7759015930990381,
          0.8913003162757013,
          -0.1436722265327362,
          0.8363533428070496,
          0.39207836074386404,
          -0.15199663407635397,
          0.28787773000192673,
          -0.4801591093253376,
          -0.3034078886198265,
          1.7352664204007102,
          0.5930378637504586,
          2.4102024296351297,
          -0.3307829848947105,
          0.0886876517645023,
          1.277432516235606,
          0.9019558405223357,
          -0.7686226225707046,
          -1.0990782319705044,
          -1.2594527794158445,
          -0.19837010832596924,
          -0.5189316931204656,
          -0.8051186320505203,
          -2.3767339874302347,
          1.437999065479335,
          1.1017865847557078,
          -1.2797434001507912,
          -0.3995660222486687,
          -0.8090871880124815,
          -1.6292142376945211,
          0.9051799112583083,
          -1.0310477717438267,
          0.1461910289114032,
          0.15232455199932002,
          -0.12343962851039851,
          -0.24341614756844326,
          0.7196652201614023,
          -1.2080488799693634,
          -0.8418013066217972,
          -1.2231851046757791,
          1.0191435197448586,
          0.8445573153614979,
          -0.9013918480171765,
          0.6440958508132099,
          -0.5749211031387301,
          -0.44451902570747176,
          -0.14964556022134423,
          -0.2506450929917549,
          -1.489332270604689,
          0.8837149767609971,
          1.6631330486294185,
          0.01675864008521639,
          -0.08869869279391412,
          -0.3375904941282858,
          0.6560718655960883
         ]
        },
        {
         "connectgaps": false,
         "fill": "tozeroy",
         "line": {
          "color": "green",
          "dash": "solid",
          "shape": "linear",
          "width": 0.5
         },
         "mode": "lines",
         "name": "Spread",
         "showlegend": false,
         "type": "scatter",
         "x": [
          0,
          1,
          2,
          3,
          4,
          5,
          6,
          7,
          8,
          9,
          10,
          11,
          12,
          13,
          14,
          15,
          16,
          17,
          18,
          19,
          20,
          21,
          22,
          23,
          24,
          25,
          26,
          27,
          28,
          29,
          30,
          31,
          32,
          33,
          34,
          35,
          36,
          37,
          38,
          39,
          40,
          41,
          42,
          43,
          44,
          45,
          46,
          47,
          48,
          49,
          50,
          51,
          52,
          53,
          54,
          55,
          56,
          57,
          58,
          59,
          60,
          61,
          62,
          63,
          64,
          65,
          66,
          67,
          68,
          69,
          70,
          71,
          72,
          73,
          74,
          75,
          76,
          77,
          78,
          79,
          80,
          81,
          82,
          83,
          84,
          85,
          86,
          87,
          88,
          89,
          90,
          91,
          92,
          93,
          94,
          95,
          96,
          97,
          98,
          99
         ],
         "xaxis": "x2",
         "y": [
          "",
          "",
          2.317800324148456,
          1.3404230969209474,
          "",
          "",
          0.26562428764202967,
          "",
          0.557966513274731,
          "",
          "",
          0.28934217292899805,
          0.88089126134729,
          "",
          "",
          1.936736904628484,
          0.4987721983477904,
          1.481179174798753,
          "",
          0.27661309305583814,
          1.1441181033718812,
          2.0175912023212574,
          1.5555505120835464,
          0.06130301809267524,
          "",
          0.12441824520938982,
          "",
          "",
          "",
          0.4283516686642763,
          0.7488581844771688,
          1.2638086959178316,
          "",
          "",
          "",
          0.340720814078459,
          "",
          0.32438368417713026,
          0.3139505364383834,
          0.2015199196694436,
          "",
          "",
          "",
          0.16204949541311264,
          0.11516312836011994,
          "",
          "",
          2.937089356666872,
          "",
          "",
          "",
          "",
          "",
          3.066365468910864,
          1.4428063032640503,
          1.4484799271817352,
          0.33556566737834215,
          "",
          1.0011171138575015,
          "",
          0.3178636415323538,
          1.4367948756262354,
          "",
          0.29893817414152024,
          "",
          "",
          "",
          1.0040060674738842,
          0.11855573614518544,
          "",
          0.35242459464045994,
          "",
          "",
          "",
          2.204372740072247,
          0.8780881380074658,
          1.658702960213298,
          1.8369057112096698,
          "",
          1.1231503264198226,
          3.436102644917475,
          "",
          "",
          "",
          1.321412745519932,
          2.1090134407079852,
          "",
          0.5205170374678638,
          0.3235858283115517,
          "",
          0.4756033830369011,
          "",
          0.09566821420346772,
          1.0583871923316597,
          1.9062926368388338,
          1.093867332168691,
          3.615554412184761,
          3.532187158777968,
          "",
          0.6711995679162753
         ],
         "yaxis": "y2"
        },
        {
         "connectgaps": false,
         "fill": "tozeroy",
         "line": {
          "color": "red",
          "dash": "solid",
          "shape": "linear",
          "width": 0.5
         },
         "mode": "lines",
         "name": "Spread",
         "showlegend": false,
         "type": "scatter",
         "x": [
          0,
          1,
          2,
          3,
          4,
          5,
          6,
          7,
          8,
          9,
          10,
          11,
          12,
          13,
          14,
          15,
          16,
          17,
          18,
          19,
          20,
          21,
          22,
          23,
          24,
          25,
          26,
          27,
          28,
          29,
          30,
          31,
          32,
          33,
          34,
          35,
          36,
          37,
          38,
          39,
          40,
          41,
          42,
          43,
          44,
          45,
          46,
          47,
          48,
          49,
          50,
          51,
          52,
          53,
          54,
          55,
          56,
          57,
          58,
          59,
          60,
          61,
          62,
          63,
          64,
          65,
          66,
          67,
          68,
          69,
          70,
          71,
          72,
          73,
          74,
          75,
          76,
          77,
          78,
          79,
          80,
          81,
          82,
          83,
          84,
          85,
          86,
          87,
          88,
          89,
          90,
          91,
          92,
          93,
          94,
          95,
          96,
          97,
          98,
          99
         ],
         "xaxis": "x2",
         "y": [
          -3.635486019576459,
          -0.6223507325606513,
          "",
          "",
          -0.5573635802084445,
          -1.0609253744608464,
          "",
          -1.2468581763062716,
          "",
          -0.8829213172690407,
          -0.3626768296987808,
          "",
          "",
          -1.7917604921888581,
          -0.3797738824646079,
          "",
          "",
          "",
          -2.584579077148679,
          "",
          "",
          "",
          "",
          "",
          -1.4864175331036384,
          "",
          -1.6069053126163002,
          -1.2850694165711058,
          -2.83873208745407,
          "",
          "",
          "",
          -1.3432751440972281,
          -0.2551090348381164,
          -1.1617467046040908,
          "",
          -1.1088081668820406,
          "",
          "",
          "",
          -1.478626534182125,
          -0.4655707308118586,
          -0.16268284931939958,
          "",
          "",
          -0.6366827770210177,
          -0.41353230146906494,
          "",
          -0.5702024779614825,
          -1.7474997591944894,
          -1.3447580218500212,
          -1.2197965921286447,
          -2.0109281394169267,
          "",
          "",
          "",
          "",
          -1.655648402474418,
          "",
          -0.8245058424358732,
          "",
          "",
          -3.326473393238013,
          "",
          -1.1814051834753416,
          -1.509493596536918,
          -1.6449665292151852,
          "",
          "",
          -1.087798349634595,
          "",
          -0.6072531387171228,
          -0.7504908302840952,
          -0.6503485673000207,
          "",
          "",
          "",
          "",
          -0.9357189449655725,
          "",
          "",
          -1.1210995111405697,
          -1.8065583610488205,
          -0.23260821375407068,
          "",
          "",
          -1.503214214001709,
          "",
          "",
          -0.6627911209932726,
          "",
          -1.0187146759523278,
          "",
          "",
          "",
          "",
          "",
          "",
          -0.019779163568620473,
          ""
         ],
         "yaxis": "y2"
        }
       ],
       "layout": {
        "hovermode": "x",
        "legend": {
         "bgcolor": "#F5F6F9",
         "font": {
          "color": "#4D5663"
         }
        },
        "paper_bgcolor": "#F5F6F9",
        "plot_bgcolor": "#F5F6F9",
        "template": {
         "data": {
          "bar": [
           {
            "error_x": {
             "color": "#2a3f5f"
            },
            "error_y": {
             "color": "#2a3f5f"
            },
            "marker": {
             "line": {
              "color": "#E5ECF6",
              "width": 0.5
             }
            },
            "type": "bar"
           }
          ],
          "barpolar": [
           {
            "marker": {
             "line": {
              "color": "#E5ECF6",
              "width": 0.5
             }
            },
            "type": "barpolar"
           }
          ],
          "carpet": [
           {
            "aaxis": {
             "endlinecolor": "#2a3f5f",
             "gridcolor": "white",
             "linecolor": "white",
             "minorgridcolor": "white",
             "startlinecolor": "#2a3f5f"
            },
            "baxis": {
             "endlinecolor": "#2a3f5f",
             "gridcolor": "white",
             "linecolor": "white",
             "minorgridcolor": "white",
             "startlinecolor": "#2a3f5f"
            },
            "type": "carpet"
           }
          ],
          "choropleth": [
           {
            "colorbar": {
             "outlinewidth": 0,
             "ticks": ""
            },
            "type": "choropleth"
           }
          ],
          "contour": [
           {
            "colorbar": {
             "outlinewidth": 0,
             "ticks": ""
            },
            "colorscale": [
             [
              0,
              "#0d0887"
             ],
             [
              0.1111111111111111,
              "#46039f"
             ],
             [
              0.2222222222222222,
              "#7201a8"
             ],
             [
              0.3333333333333333,
              "#9c179e"
             ],
             [
              0.4444444444444444,
              "#bd3786"
             ],
             [
              0.5555555555555556,
              "#d8576b"
             ],
             [
              0.6666666666666666,
              "#ed7953"
             ],
             [
              0.7777777777777778,
              "#fb9f3a"
             ],
             [
              0.8888888888888888,
              "#fdca26"
             ],
             [
              1,
              "#f0f921"
             ]
            ],
            "type": "contour"
           }
          ],
          "contourcarpet": [
           {
            "colorbar": {
             "outlinewidth": 0,
             "ticks": ""
            },
            "type": "contourcarpet"
           }
          ],
          "heatmap": [
           {
            "colorbar": {
             "outlinewidth": 0,
             "ticks": ""
            },
            "colorscale": [
             [
              0,
              "#0d0887"
             ],
             [
              0.1111111111111111,
              "#46039f"
             ],
             [
              0.2222222222222222,
              "#7201a8"
             ],
             [
              0.3333333333333333,
              "#9c179e"
             ],
             [
              0.4444444444444444,
              "#bd3786"
             ],
             [
              0.5555555555555556,
              "#d8576b"
             ],
             [
              0.6666666666666666,
              "#ed7953"
             ],
             [
              0.7777777777777778,
              "#fb9f3a"
             ],
             [
              0.8888888888888888,
              "#fdca26"
             ],
             [
              1,
              "#f0f921"
             ]
            ],
            "type": "heatmap"
           }
          ],
          "heatmapgl": [
           {
            "colorbar": {
             "outlinewidth": 0,
             "ticks": ""
            },
            "colorscale": [
             [
              0,
              "#0d0887"
             ],
             [
              0.1111111111111111,
              "#46039f"
             ],
             [
              0.2222222222222222,
              "#7201a8"
             ],
             [
              0.3333333333333333,
              "#9c179e"
             ],
             [
              0.4444444444444444,
              "#bd3786"
             ],
             [
              0.5555555555555556,
              "#d8576b"
             ],
             [
              0.6666666666666666,
              "#ed7953"
             ],
             [
              0.7777777777777778,
              "#fb9f3a"
             ],
             [
              0.8888888888888888,
              "#fdca26"
             ],
             [
              1,
              "#f0f921"
             ]
            ],
            "type": "heatmapgl"
           }
          ],
          "histogram": [
           {
            "marker": {
             "colorbar": {
              "outlinewidth": 0,
              "ticks": ""
             }
            },
            "type": "histogram"
           }
          ],
          "histogram2d": [
           {
            "colorbar": {
             "outlinewidth": 0,
             "ticks": ""
            },
            "colorscale": [
             [
              0,
              "#0d0887"
             ],
             [
              0.1111111111111111,
              "#46039f"
             ],
             [
              0.2222222222222222,
              "#7201a8"
             ],
             [
              0.3333333333333333,
              "#9c179e"
             ],
             [
              0.4444444444444444,
              "#bd3786"
             ],
             [
              0.5555555555555556,
              "#d8576b"
             ],
             [
              0.6666666666666666,
              "#ed7953"
             ],
             [
              0.7777777777777778,
              "#fb9f3a"
             ],
             [
              0.8888888888888888,
              "#fdca26"
             ],
             [
              1,
              "#f0f921"
             ]
            ],
            "type": "histogram2d"
           }
          ],
          "histogram2dcontour": [
           {
            "colorbar": {
             "outlinewidth": 0,
             "ticks": ""
            },
            "colorscale": [
             [
              0,
              "#0d0887"
             ],
             [
              0.1111111111111111,
              "#46039f"
             ],
             [
              0.2222222222222222,
              "#7201a8"
             ],
             [
              0.3333333333333333,
              "#9c179e"
             ],
             [
              0.4444444444444444,
              "#bd3786"
             ],
             [
              0.5555555555555556,
              "#d8576b"
             ],
             [
              0.6666666666666666,
              "#ed7953"
             ],
             [
              0.7777777777777778,
              "#fb9f3a"
             ],
             [
              0.8888888888888888,
              "#fdca26"
             ],
             [
              1,
              "#f0f921"
             ]
            ],
            "type": "histogram2dcontour"
           }
          ],
          "mesh3d": [
           {
            "colorbar": {
             "outlinewidth": 0,
             "ticks": ""
            },
            "type": "mesh3d"
           }
          ],
          "parcoords": [
           {
            "line": {
             "colorbar": {
              "outlinewidth": 0,
              "ticks": ""
             }
            },
            "type": "parcoords"
           }
          ],
          "pie": [
           {
            "automargin": true,
            "type": "pie"
           }
          ],
          "scatter": [
           {
            "marker": {
             "colorbar": {
              "outlinewidth": 0,
              "ticks": ""
             }
            },
            "type": "scatter"
           }
          ],
          "scatter3d": [
           {
            "line": {
             "colorbar": {
              "outlinewidth": 0,
              "ticks": ""
             }
            },
            "marker": {
             "colorbar": {
              "outlinewidth": 0,
              "ticks": ""
             }
            },
            "type": "scatter3d"
           }
          ],
          "scattercarpet": [
           {
            "marker": {
             "colorbar": {
              "outlinewidth": 0,
              "ticks": ""
             }
            },
            "type": "scattercarpet"
           }
          ],
          "scattergeo": [
           {
            "marker": {
             "colorbar": {
              "outlinewidth": 0,
              "ticks": ""
             }
            },
            "type": "scattergeo"
           }
          ],
          "scattergl": [
           {
            "marker": {
             "colorbar": {
              "outlinewidth": 0,
              "ticks": ""
             }
            },
            "type": "scattergl"
           }
          ],
          "scattermapbox": [
           {
            "marker": {
             "colorbar": {
              "outlinewidth": 0,
              "ticks": ""
             }
            },
            "type": "scattermapbox"
           }
          ],
          "scatterpolar": [
           {
            "marker": {
             "colorbar": {
              "outlinewidth": 0,
              "ticks": ""
             }
            },
            "type": "scatterpolar"
           }
          ],
          "scatterpolargl": [
           {
            "marker": {
             "colorbar": {
              "outlinewidth": 0,
              "ticks": ""
             }
            },
            "type": "scatterpolargl"
           }
          ],
          "scatterternary": [
           {
            "marker": {
             "colorbar": {
              "outlinewidth": 0,
              "ticks": ""
             }
            },
            "type": "scatterternary"
           }
          ],
          "surface": [
           {
            "colorbar": {
             "outlinewidth": 0,
             "ticks": ""
            },
            "colorscale": [
             [
              0,
              "#0d0887"
             ],
             [
              0.1111111111111111,
              "#46039f"
             ],
             [
              0.2222222222222222,
              "#7201a8"
             ],
             [
              0.3333333333333333,
              "#9c179e"
             ],
             [
              0.4444444444444444,
              "#bd3786"
             ],
             [
              0.5555555555555556,
              "#d8576b"
             ],
             [
              0.6666666666666666,
              "#ed7953"
             ],
             [
              0.7777777777777778,
              "#fb9f3a"
             ],
             [
              0.8888888888888888,
              "#fdca26"
             ],
             [
              1,
              "#f0f921"
             ]
            ],
            "type": "surface"
           }
          ],
          "table": [
           {
            "cells": {
             "fill": {
              "color": "#EBF0F8"
             },
             "line": {
              "color": "white"
             }
            },
            "header": {
             "fill": {
              "color": "#C8D4E3"
             },
             "line": {
              "color": "white"
             }
            },
            "type": "table"
           }
          ]
         },
         "layout": {
          "annotationdefaults": {
           "arrowcolor": "#2a3f5f",
           "arrowhead": 0,
           "arrowwidth": 1
          },
          "coloraxis": {
           "colorbar": {
            "outlinewidth": 0,
            "ticks": ""
           }
          },
          "colorscale": {
           "diverging": [
            [
             0,
             "#8e0152"
            ],
            [
             0.1,
             "#c51b7d"
            ],
            [
             0.2,
             "#de77ae"
            ],
            [
             0.3,
             "#f1b6da"
            ],
            [
             0.4,
             "#fde0ef"
            ],
            [
             0.5,
             "#f7f7f7"
            ],
            [
             0.6,
             "#e6f5d0"
            ],
            [
             0.7,
             "#b8e186"
            ],
            [
             0.8,
             "#7fbc41"
            ],
            [
             0.9,
             "#4d9221"
            ],
            [
             1,
             "#276419"
            ]
           ],
           "sequential": [
            [
             0,
             "#0d0887"
            ],
            [
             0.1111111111111111,
             "#46039f"
            ],
            [
             0.2222222222222222,
             "#7201a8"
            ],
            [
             0.3333333333333333,
             "#9c179e"
            ],
            [
             0.4444444444444444,
             "#bd3786"
            ],
            [
             0.5555555555555556,
             "#d8576b"
            ],
            [
             0.6666666666666666,
             "#ed7953"
            ],
            [
             0.7777777777777778,
             "#fb9f3a"
            ],
            [
             0.8888888888888888,
             "#fdca26"
            ],
            [
             1,
             "#f0f921"
            ]
           ],
           "sequentialminus": [
            [
             0,
             "#0d0887"
            ],
            [
             0.1111111111111111,
             "#46039f"
            ],
            [
             0.2222222222222222,
             "#7201a8"
            ],
            [
             0.3333333333333333,
             "#9c179e"
            ],
            [
             0.4444444444444444,
             "#bd3786"
            ],
            [
             0.5555555555555556,
             "#d8576b"
            ],
            [
             0.6666666666666666,
             "#ed7953"
            ],
            [
             0.7777777777777778,
             "#fb9f3a"
            ],
            [
             0.8888888888888888,
             "#fdca26"
            ],
            [
             1,
             "#f0f921"
            ]
           ]
          },
          "colorway": [
           "#636efa",
           "#EF553B",
           "#00cc96",
           "#ab63fa",
           "#FFA15A",
           "#19d3f3",
           "#FF6692",
           "#B6E880",
           "#FF97FF",
           "#FECB52"
          ],
          "font": {
           "color": "#2a3f5f"
          },
          "geo": {
           "bgcolor": "white",
           "lakecolor": "white",
           "landcolor": "#E5ECF6",
           "showlakes": true,
           "showland": true,
           "subunitcolor": "white"
          },
          "hoverlabel": {
           "align": "left"
          },
          "hovermode": "closest",
          "mapbox": {
           "style": "light"
          },
          "paper_bgcolor": "white",
          "plot_bgcolor": "#E5ECF6",
          "polar": {
           "angularaxis": {
            "gridcolor": "white",
            "linecolor": "white",
            "ticks": ""
           },
           "bgcolor": "#E5ECF6",
           "radialaxis": {
            "gridcolor": "white",
            "linecolor": "white",
            "ticks": ""
           }
          },
          "scene": {
           "xaxis": {
            "backgroundcolor": "#E5ECF6",
            "gridcolor": "white",
            "gridwidth": 2,
            "linecolor": "white",
            "showbackground": true,
            "ticks": "",
            "zerolinecolor": "white"
           },
           "yaxis": {
            "backgroundcolor": "#E5ECF6",
            "gridcolor": "white",
            "gridwidth": 2,
            "linecolor": "white",
            "showbackground": true,
            "ticks": "",
            "zerolinecolor": "white"
           },
           "zaxis": {
            "backgroundcolor": "#E5ECF6",
            "gridcolor": "white",
            "gridwidth": 2,
            "linecolor": "white",
            "showbackground": true,
            "ticks": "",
            "zerolinecolor": "white"
           }
          },
          "shapedefaults": {
           "line": {
            "color": "#2a3f5f"
           }
          },
          "ternary": {
           "aaxis": {
            "gridcolor": "white",
            "linecolor": "white",
            "ticks": ""
           },
           "baxis": {
            "gridcolor": "white",
            "linecolor": "white",
            "ticks": ""
           },
           "bgcolor": "#E5ECF6",
           "caxis": {
            "gridcolor": "white",
            "linecolor": "white",
            "ticks": ""
           }
          },
          "title": {
           "x": 0.05
          },
          "xaxis": {
           "automargin": true,
           "gridcolor": "white",
           "linecolor": "white",
           "ticks": "",
           "title": {
            "standoff": 15
           },
           "zerolinecolor": "white",
           "zerolinewidth": 2
          },
          "yaxis": {
           "automargin": true,
           "gridcolor": "white",
           "linecolor": "white",
           "ticks": "",
           "title": {
            "standoff": 15
           },
           "zerolinecolor": "white",
           "zerolinewidth": 2
          }
         }
        },
        "title": {
         "font": {
          "color": "#4D5663"
         }
        },
        "xaxis": {
         "gridcolor": "#E1E5ED",
         "showgrid": true,
         "tickfont": {
          "color": "#4D5663"
         },
         "title": {
          "font": {
           "color": "#4D5663"
          },
          "text": ""
         },
         "zerolinecolor": "#E1E5ED"
        },
        "xaxis2": {
         "anchor": "y2",
         "gridcolor": "#E1E5ED",
         "showgrid": true,
         "showticklabels": false,
         "tickfont": {
          "color": "#4D5663"
         },
         "title": {
          "font": {
           "color": "#4D5663"
          },
          "text": ""
         },
         "zerolinecolor": "#E1E5ED"
        },
        "yaxis": {
         "domain": [
          0.3,
          1
         ],
         "gridcolor": "#E1E5ED",
         "showgrid": true,
         "tickfont": {
          "color": "#4D5663"
         },
         "title": {
          "font": {
           "color": "#4D5663"
          },
          "text": ""
         },
         "zerolinecolor": "#E1E5ED"
        },
        "yaxis2": {
         "domain": [
          0,
          0.25
         ],
         "gridcolor": "#E1E5ED",
         "showgrid": true,
         "tickfont": {
          "color": "#4D5663"
         },
         "title": {
          "font": {
           "color": "#4D5663"
          },
          "text": "Spread"
         },
         "zerolinecolor": "#E1E5ED"
        }
       }
      },
      "text/html": [
       "<div>\n",
       "        \n",
       "        \n",
       "            <div id=\"186eb42f-273b-4c06-a08b-75df5243e1cf\" class=\"plotly-graph-div\" style=\"height:525px; width:100%;\"></div>\n",
       "            <script type=\"text/javascript\">\n",
       "                require([\"plotly\"], function(Plotly) {\n",
       "                    window.PLOTLYENV=window.PLOTLYENV || {};\n",
       "                    window.PLOTLYENV.BASE_URL='https://plot.ly';\n",
       "                    \n",
       "                if (document.getElementById(\"186eb42f-273b-4c06-a08b-75df5243e1cf\")) {\n",
       "                    Plotly.newPlot(\n",
       "                        '186eb42f-273b-4c06-a08b-75df5243e1cf',\n",
       "                        [{\"line\": {\"color\": \"rgba(255, 153, 51, 1.0)\", \"dash\": \"solid\", \"shape\": \"linear\", \"width\": 1.3}, \"mode\": \"lines\", \"name\": \"A\", \"text\": \"\", \"type\": \"scatter\", \"x\": [0, 1, 2, 3, 4, 5, 6, 7, 8, 9, 10, 11, 12, 13, 14, 15, 16, 17, 18, 19, 20, 21, 22, 23, 24, 25, 26, 27, 28, 29, 30, 31, 32, 33, 34, 35, 36, 37, 38, 39, 40, 41, 42, 43, 44, 45, 46, 47, 48, 49, 50, 51, 52, 53, 54, 55, 56, 57, 58, 59, 60, 61, 62, 63, 64, 65, 66, 67, 68, 69, 70, 71, 72, 73, 74, 75, 76, 77, 78, 79, 80, 81, 82, 83, 84, 85, 86, 87, 88, 89, 90, 91, 92, 93, 94, 95, 96, 97, 98, 99], \"y\": [-1.8375793829805152, -0.15949696869273136, 1.1310371011634441, 0.033424317827104935, -0.27266433823248903, -1.5266480612294526, 0.6406900998232502, -1.2037810103452755, 0.45766181096666353, -0.65756316944976, 1.2254607006230938, -0.49670888312590306, 0.9517977824412835, -0.4737685536624598, -0.18866034695016973, 1.7707542889792907, 0.6323242648780771, 0.12204537313043434, -1.9034920234674675, -0.04442225969249496, 0.15429995846266448, 0.7932222997650096, 2.539915784248557, -1.1930343034985709, -0.614857906207743, 1.4806568174717332, -1.8648504458226827, -0.41509780444484906, -1.5902518624107531, -1.1668716248656292, 0.7148812419826943, 0.9205412994571905, -1.0552530177997501, -1.1144495047103273, -1.4148418771042273, -0.7978844421999658, -0.7196315490672652, -0.6581896684098428, -0.003017838744859791, 1.000572700470973, 0.03907023496823878, 0.9445560069535803, -0.4370724628095535, -0.5308855796106563, 0.40885528594580445, 0.188730040054379, -0.7941436814811723, 1.9071063059377538, -0.05371617887237018, -1.2180771449054735, -0.0027625945812005813, -0.7289781761912149, -1.5148040962595313, 1.5310393005980325, 1.2115849481386265, 0.47883686689648225, -0.45499490210360916, -1.0189093313495297, -0.15728791717667132, -0.11127659476746542, 0.8690846353904871, 0.20354127289823257, -2.0630281790612797, 1.3344770773409376, -1.6200000617491879, -0.23116693293656054, -0.6755590465420752, 0.4685086761604976, 0.49494635923821795, -0.005597955485651658, 1.0885292455914743, -1.0407905089838017, -0.929490474183066, -1.015229473319679, 1.8836505311940042, 0.852998689782739, 1.0753372020989056, 1.4373344844109446, -0.03480585890954957, -0.37548221973787094, 1.5645635392346884, 1.758746465445413, -1.7330027977656584, -0.25500034465944543, -0.11760242138474251, 1.9831290035306863, -1.6781345236672671, 1.0916134309838674, -0.4986127299448885, 0.4985659415525577, 1.1762317481769409, -0.9905137465769372, -1.063065614167874, 1.242282812838642, 0.990357440665751, 3.006402504672399, 1.7946437084519817, 1.2758239575605375, 0.038206062830590415, -0.052200463798188414]}, {\"line\": {\"color\": \"rgba(55, 128, 191, 1.0)\", \"dash\": \"solid\", \"shape\": \"linear\", \"width\": 1.3}, \"mode\": \"lines\", \"name\": \"B\", \"text\": \"\", \"type\": \"scatter\", \"x\": [0, 1, 2, 3, 4, 5, 6, 7, 8, 9, 10, 11, 12, 13, 14, 15, 16, 17, 18, 19, 20, 21, 22, 23, 24, 25, 26, 27, 28, 29, 30, 31, 32, 33, 34, 35, 36, 37, 38, 39, 40, 41, 42, 43, 44, 45, 46, 47, 48, 49, 50, 51, 52, 53, 54, 55, 56, 57, 58, 59, 60, 61, 62, 63, 64, 65, 66, 67, 68, 69, 70, 71, 72, 73, 74, 75, 76, 77, 78, 79, 80, 81, 82, 83, 84, 85, 86, 87, 88, 89, 90, 91, 92, 93, 94, 95, 96, 97, 98, 99], \"y\": [1.7979066365959437, 0.46285376386792, -1.186763222985012, -1.3069987790938424, 0.2846992419759555, -0.46572268676860606, 0.37506581218122054, 0.04307716596099602, -0.10030470230806747, 0.2253581478192807, 1.5881375303218745, -0.7860510560549011, 0.0709065210939935, 1.3179919385263983, 0.1911135355144382, -0.1659826156491933, 0.1335520665302867, -1.3591338016683188, 0.6810870536812119, -0.3210353527483331, -0.9898181449092167, -1.2243689025562479, 0.9843652721650106, -1.2543373215912461, 0.8715596268958955, 1.3562385722623433, -0.2579451332063824, 0.8699716121262567, 1.248480225043317, -1.5952232935299056, -0.03397694249447452, -0.343267396460641, 0.28802212629747814, -0.8593404698722109, -0.2530951725001365, -1.1386052562784248, 0.38917661781477536, -0.9825733525869731, -0.31696837518324317, 0.7990527808015294, 1.5176967691503638, 1.410126737765439, -0.2743896134901539, -0.6929350750237689, 0.2936921575856845, 0.8254128170753967, -0.38061138001210737, -1.029983050729118, 0.5164862990891124, 0.5294226142890159, 1.3419954272688206, 0.4908184159374298, 0.49612404315739556, -1.5353261683128314, -0.23122135512542397, -0.969643060285253, -0.7905605694819513, 0.6367390711248883, -1.1584050310341727, 0.7132292476684078, 0.5512209938581333, -1.2332536027280028, 1.263445214176733, 1.0355389031994173, -0.4385948782738462, 1.2783266636003576, 0.9694074826731098, -0.5354973913133867, 0.3763906230930325, 1.0822003941489435, 0.7361046509510144, -0.4335373702666788, -0.17899964389897075, -0.3648809060196582, -0.32072220887824276, -0.02508944822472686, -0.5833657581143926, -0.3995712267987253, 0.9009130860560229, -1.4986325461576935, -1.8715391056827866, 2.8798459765859827, 0.07355556328316204, -0.022392130905374747, -1.4390151669046745, -0.12588443717729894, -0.1749203096655581, 0.5710963935160036, -0.8221985582564402, 1.1613570625458303, 0.7006283651400398, 0.028200929375390538, -1.1587338283713418, 0.18389562050698247, -0.9159351961730826, 1.912535172503708, -1.8209107037327792, -2.2563632012174306, 0.05798522639921089, -0.7234000317144638]}, {\"line\": {\"color\": \"rgba(50, 171, 96, 1.0)\", \"dash\": \"solid\", \"shape\": \"linear\", \"width\": 1.3}, \"mode\": \"lines\", \"name\": \"C\", \"text\": \"\", \"type\": \"scatter\", \"x\": [0, 1, 2, 3, 4, 5, 6, 7, 8, 9, 10, 11, 12, 13, 14, 15, 16, 17, 18, 19, 20, 21, 22, 23, 24, 25, 26, 27, 28, 29, 30, 31, 32, 33, 34, 35, 36, 37, 38, 39, 40, 41, 42, 43, 44, 45, 46, 47, 48, 49, 50, 51, 52, 53, 54, 55, 56, 57, 58, 59, 60, 61, 62, 63, 64, 65, 66, 67, 68, 69, 70, 71, 72, 73, 74, 75, 76, 77, 78, 79, 80, 81, 82, 83, 84, 85, 86, 87, 88, 89, 90, 91, 92, 93, 94, 95, 96, 97, 98, 99], \"y\": [-0.11195680488630352, 0.19813513395996601, 0.6243952583500618, 3.4636216744699926, 1.6025780971968129, -1.4842957023344758, 1.5200032468496212, -0.2631744539556295, 1.6500701251249659, -3.029823148650362, 1.0265662580499642, -0.2567714743133042, 2.457180119797221, 0.5238088696860247, 0.26209872027584513, 0.6956634102215381, -0.6875276285625027, 0.6392616577482672, 1.3351393658985924, 0.34141495490170315, -0.5659435780610622, -1.5608013996314807, 0.48786006329180565, 0.336081140259419, 1.0175981710604358, -1.0135670113619677, 0.3129251024807007, 0.09328582639040285, -0.87220153866261, 2.219797990891727, 0.3655625592140774, 0.8002282698773922, 0.5158153974877858, -0.33700303233675205, -1.2940315214203613, 1.1328240142383346, 0.10094096472141936, 1.7370875372990418, 0.1839808055476812, 1.2827729447774527, 0.01818646549473812, -0.8766507338302455, 0.11151420077033018, -1.226767964025608, 0.5925924682575862, -0.661867073821238, -0.3727916276086114, -0.35054991247657, -0.725074404132708, -0.8056579783319012, -2.370764105329452, 0.022591428355840264, 0.1701455330688707, -1.2801069400543095, 1.80983649905343, 1.3215544377183117, -0.6475697652766453, -2.878377702333487, -0.3907665880809579, -0.9491649532134488, 0.08817234504563345, 0.410923543362477, 0.2118958880439002, 0.027784440467459877, -0.3580699215915449, -2.0625597051700364, -1.0760324793561697, 0.8371078225097193, 0.5682216990227285, 0.06389082048082165, -0.9604774121864444, -1.5094374087850413, -0.9892302232683492, -0.08039240707564778, 0.4338028851904076, -0.32565578060191, -1.3588064292335826, -0.6212581022909891, -0.14729134904037633, 0.676065770331901, 0.048383080662061546, 1.1655116085226473, 0.36441634440261894, 0.13740405736192837, -0.2692124351999852, 1.0333699470883486, -1.4292425177566495, 1.3193573123226177, 0.14325005584199305, -0.6451136154829559, 1.5868146161808676, 0.3139631548592902, -1.2599371618269581, 0.6661701105361751, 0.050813451678986335, -0.16529638984939754, 1.7873956492526328, 0.6855946366040738, -0.4169361655747808, 1.1957640390301516]}, {\"line\": {\"color\": \"rgba(128, 0, 128, 1.0)\", \"dash\": \"solid\", \"shape\": \"linear\", \"width\": 1.3}, \"mode\": \"lines\", \"name\": \"D\", \"text\": \"\", \"type\": \"scatter\", \"x\": [0, 1, 2, 3, 4, 5, 6, 7, 8, 9, 10, 11, 12, 13, 14, 15, 16, 17, 18, 19, 20, 21, 22, 23, 24, 25, 26, 27, 28, 29, 30, 31, 32, 33, 34, 35, 36, 37, 38, 39, 40, 41, 42, 43, 44, 45, 46, 47, 48, 49, 50, 51, 52, 53, 54, 55, 56, 57, 58, 59, 60, 61, 62, 63, 64, 65, 66, 67, 68, 69, 70, 71, 72, 73, 74, 75, 76, 77, 78, 79, 80, 81, 82, 83, 84, 85, 86, 87, 88, 89, 90, 91, 92, 93, 94, 95, 96, 97, 98, 99], \"y\": [0.8776105999726939, -0.10918325673623544, 0.43222002504828105, 0.21168643105607898, -0.9548195681227061, -0.6582052405583847, -0.3438405764101884, 0.024985400072480204, 0.8845177708376631, 1.825785856913161, -0.28356750209844556, 0.2742762047578588, -0.6886177300532897, 0.5455626463032112, 0.5512032007015983, -0.08465280718060102, -1.5683868440841968, -2.109777683469117, 2.405134896361823, 0.9499776131789283, 0.529550183658126, -1.7435741433932503, -0.9283743006001778, 1.3966321748408201, 0.8373142928074896, 0.08189116770723855, 0.5154221849354002, -0.03439821187574808, 0.2869642638346971, -0.03845611395295513, 2.2779916916551435, 0.8367230528940887, -1.7602317632984699, -1.0902609470819251, 0.370608475722315, 0.23087291044609118, -0.9429003049634584, -0.461098739151424, 3.2211304767698223, 1.311354278181902, -1.6504354303851616, -0.6950894070767035, -0.38424297017119463, 1.4667644026261295, -0.2183733939914209, -1.2735493192721279, -0.7759015930990381, 0.8913003162757013, -0.1436722265327362, 0.8363533428070496, 0.39207836074386404, -0.15199663407635397, 0.28787773000192673, -0.4801591093253376, -0.3034078886198265, 1.7352664204007102, 0.5930378637504586, 2.4102024296351297, -0.3307829848947105, 0.0886876517645023, 1.277432516235606, 0.9019558405223357, -0.7686226225707046, -1.0990782319705044, -1.2594527794158445, -0.19837010832596924, -0.5189316931204656, -0.8051186320505203, -2.3767339874302347, 1.437999065479335, 1.1017865847557078, -1.2797434001507912, -0.3995660222486687, -0.8090871880124815, -1.6292142376945211, 0.9051799112583083, -1.0310477717438267, 0.1461910289114032, 0.15232455199932002, -0.12343962851039851, -0.24341614756844326, 0.7196652201614023, -1.2080488799693634, -0.8418013066217972, -1.2231851046757791, 1.0191435197448586, 0.8445573153614979, -0.9013918480171765, 0.6440958508132099, -0.5749211031387301, -0.44451902570747176, -0.14964556022134423, -0.2506450929917549, -1.489332270604689, 0.8837149767609971, 1.6631330486294185, 0.01675864008521639, -0.08869869279391412, -0.3375904941282858, 0.6560718655960883]}, {\"connectgaps\": false, \"fill\": \"tozeroy\", \"line\": {\"color\": \"green\", \"dash\": \"solid\", \"shape\": \"linear\", \"width\": 0.5}, \"mode\": \"lines\", \"name\": \"Spread\", \"showlegend\": false, \"type\": \"scatter\", \"x\": [0, 1, 2, 3, 4, 5, 6, 7, 8, 9, 10, 11, 12, 13, 14, 15, 16, 17, 18, 19, 20, 21, 22, 23, 24, 25, 26, 27, 28, 29, 30, 31, 32, 33, 34, 35, 36, 37, 38, 39, 40, 41, 42, 43, 44, 45, 46, 47, 48, 49, 50, 51, 52, 53, 54, 55, 56, 57, 58, 59, 60, 61, 62, 63, 64, 65, 66, 67, 68, 69, 70, 71, 72, 73, 74, 75, 76, 77, 78, 79, 80, 81, 82, 83, 84, 85, 86, 87, 88, 89, 90, 91, 92, 93, 94, 95, 96, 97, 98, 99], \"xaxis\": \"x2\", \"y\": [\"\", \"\", 2.317800324148456, 1.3404230969209474, \"\", \"\", 0.26562428764202967, \"\", 0.557966513274731, \"\", \"\", 0.28934217292899805, 0.88089126134729, \"\", \"\", 1.936736904628484, 0.4987721983477904, 1.481179174798753, \"\", 0.27661309305583814, 1.1441181033718812, 2.0175912023212574, 1.5555505120835464, 0.06130301809267524, \"\", 0.12441824520938982, \"\", \"\", \"\", 0.4283516686642763, 0.7488581844771688, 1.2638086959178316, \"\", \"\", \"\", 0.340720814078459, \"\", 0.32438368417713026, 0.3139505364383834, 0.2015199196694436, \"\", \"\", \"\", 0.16204949541311264, 0.11516312836011994, \"\", \"\", 2.937089356666872, \"\", \"\", \"\", \"\", \"\", 3.066365468910864, 1.4428063032640503, 1.4484799271817352, 0.33556566737834215, \"\", 1.0011171138575015, \"\", 0.3178636415323538, 1.4367948756262354, \"\", 0.29893817414152024, \"\", \"\", \"\", 1.0040060674738842, 0.11855573614518544, \"\", 0.35242459464045994, \"\", \"\", \"\", 2.204372740072247, 0.8780881380074658, 1.658702960213298, 1.8369057112096698, \"\", 1.1231503264198226, 3.436102644917475, \"\", \"\", \"\", 1.321412745519932, 2.1090134407079852, \"\", 0.5205170374678638, 0.3235858283115517, \"\", 0.4756033830369011, \"\", 0.09566821420346772, 1.0583871923316597, 1.9062926368388338, 1.093867332168691, 3.615554412184761, 3.532187158777968, \"\", 0.6711995679162753], \"yaxis\": \"y2\"}, {\"connectgaps\": false, \"fill\": \"tozeroy\", \"line\": {\"color\": \"red\", \"dash\": \"solid\", \"shape\": \"linear\", \"width\": 0.5}, \"mode\": \"lines\", \"name\": \"Spread\", \"showlegend\": false, \"type\": \"scatter\", \"x\": [0, 1, 2, 3, 4, 5, 6, 7, 8, 9, 10, 11, 12, 13, 14, 15, 16, 17, 18, 19, 20, 21, 22, 23, 24, 25, 26, 27, 28, 29, 30, 31, 32, 33, 34, 35, 36, 37, 38, 39, 40, 41, 42, 43, 44, 45, 46, 47, 48, 49, 50, 51, 52, 53, 54, 55, 56, 57, 58, 59, 60, 61, 62, 63, 64, 65, 66, 67, 68, 69, 70, 71, 72, 73, 74, 75, 76, 77, 78, 79, 80, 81, 82, 83, 84, 85, 86, 87, 88, 89, 90, 91, 92, 93, 94, 95, 96, 97, 98, 99], \"xaxis\": \"x2\", \"y\": [-3.635486019576459, -0.6223507325606513, \"\", \"\", -0.5573635802084445, -1.0609253744608464, \"\", -1.2468581763062716, \"\", -0.8829213172690407, -0.3626768296987808, \"\", \"\", -1.7917604921888581, -0.3797738824646079, \"\", \"\", \"\", -2.584579077148679, \"\", \"\", \"\", \"\", \"\", -1.4864175331036384, \"\", -1.6069053126163002, -1.2850694165711058, -2.83873208745407, \"\", \"\", \"\", -1.3432751440972281, -0.2551090348381164, -1.1617467046040908, \"\", -1.1088081668820406, \"\", \"\", \"\", -1.478626534182125, -0.4655707308118586, -0.16268284931939958, \"\", \"\", -0.6366827770210177, -0.41353230146906494, \"\", -0.5702024779614825, -1.7474997591944894, -1.3447580218500212, -1.2197965921286447, -2.0109281394169267, \"\", \"\", \"\", \"\", -1.655648402474418, \"\", -0.8245058424358732, \"\", \"\", -3.326473393238013, \"\", -1.1814051834753416, -1.509493596536918, -1.6449665292151852, \"\", \"\", -1.087798349634595, \"\", -0.6072531387171228, -0.7504908302840952, -0.6503485673000207, \"\", \"\", \"\", \"\", -0.9357189449655725, \"\", \"\", -1.1210995111405697, -1.8065583610488205, -0.23260821375407068, \"\", \"\", -1.503214214001709, \"\", \"\", -0.6627911209932726, \"\", -1.0187146759523278, \"\", \"\", \"\", \"\", \"\", \"\", -0.019779163568620473, \"\"], \"yaxis\": \"y2\"}],\n",
       "                        {\"hovermode\": \"x\", \"legend\": {\"bgcolor\": \"#F5F6F9\", \"font\": {\"color\": \"#4D5663\"}}, \"paper_bgcolor\": \"#F5F6F9\", \"plot_bgcolor\": \"#F5F6F9\", \"template\": {\"data\": {\"bar\": [{\"error_x\": {\"color\": \"#2a3f5f\"}, \"error_y\": {\"color\": \"#2a3f5f\"}, \"marker\": {\"line\": {\"color\": \"#E5ECF6\", \"width\": 0.5}}, \"type\": \"bar\"}], \"barpolar\": [{\"marker\": {\"line\": {\"color\": \"#E5ECF6\", \"width\": 0.5}}, \"type\": \"barpolar\"}], \"carpet\": [{\"aaxis\": {\"endlinecolor\": \"#2a3f5f\", \"gridcolor\": \"white\", \"linecolor\": \"white\", \"minorgridcolor\": \"white\", \"startlinecolor\": \"#2a3f5f\"}, \"baxis\": {\"endlinecolor\": \"#2a3f5f\", \"gridcolor\": \"white\", \"linecolor\": \"white\", \"minorgridcolor\": \"white\", \"startlinecolor\": \"#2a3f5f\"}, \"type\": \"carpet\"}], \"choropleth\": [{\"colorbar\": {\"outlinewidth\": 0, \"ticks\": \"\"}, \"type\": \"choropleth\"}], \"contour\": [{\"colorbar\": {\"outlinewidth\": 0, \"ticks\": \"\"}, \"colorscale\": [[0.0, \"#0d0887\"], [0.1111111111111111, \"#46039f\"], [0.2222222222222222, \"#7201a8\"], [0.3333333333333333, \"#9c179e\"], [0.4444444444444444, \"#bd3786\"], [0.5555555555555556, \"#d8576b\"], [0.6666666666666666, \"#ed7953\"], [0.7777777777777778, \"#fb9f3a\"], [0.8888888888888888, \"#fdca26\"], [1.0, \"#f0f921\"]], \"type\": \"contour\"}], \"contourcarpet\": [{\"colorbar\": {\"outlinewidth\": 0, \"ticks\": \"\"}, \"type\": \"contourcarpet\"}], \"heatmap\": [{\"colorbar\": {\"outlinewidth\": 0, \"ticks\": \"\"}, \"colorscale\": [[0.0, \"#0d0887\"], [0.1111111111111111, \"#46039f\"], [0.2222222222222222, \"#7201a8\"], [0.3333333333333333, \"#9c179e\"], [0.4444444444444444, \"#bd3786\"], [0.5555555555555556, \"#d8576b\"], [0.6666666666666666, \"#ed7953\"], [0.7777777777777778, \"#fb9f3a\"], [0.8888888888888888, \"#fdca26\"], [1.0, \"#f0f921\"]], \"type\": \"heatmap\"}], \"heatmapgl\": [{\"colorbar\": {\"outlinewidth\": 0, \"ticks\": \"\"}, \"colorscale\": [[0.0, \"#0d0887\"], [0.1111111111111111, \"#46039f\"], [0.2222222222222222, \"#7201a8\"], [0.3333333333333333, \"#9c179e\"], [0.4444444444444444, \"#bd3786\"], [0.5555555555555556, \"#d8576b\"], [0.6666666666666666, \"#ed7953\"], [0.7777777777777778, \"#fb9f3a\"], [0.8888888888888888, \"#fdca26\"], [1.0, \"#f0f921\"]], \"type\": \"heatmapgl\"}], \"histogram\": [{\"marker\": {\"colorbar\": {\"outlinewidth\": 0, \"ticks\": \"\"}}, \"type\": \"histogram\"}], \"histogram2d\": [{\"colorbar\": {\"outlinewidth\": 0, \"ticks\": \"\"}, \"colorscale\": [[0.0, \"#0d0887\"], [0.1111111111111111, \"#46039f\"], [0.2222222222222222, \"#7201a8\"], [0.3333333333333333, \"#9c179e\"], [0.4444444444444444, \"#bd3786\"], [0.5555555555555556, \"#d8576b\"], [0.6666666666666666, \"#ed7953\"], [0.7777777777777778, \"#fb9f3a\"], [0.8888888888888888, \"#fdca26\"], [1.0, \"#f0f921\"]], \"type\": \"histogram2d\"}], \"histogram2dcontour\": [{\"colorbar\": {\"outlinewidth\": 0, \"ticks\": \"\"}, \"colorscale\": [[0.0, \"#0d0887\"], [0.1111111111111111, \"#46039f\"], [0.2222222222222222, \"#7201a8\"], [0.3333333333333333, \"#9c179e\"], [0.4444444444444444, \"#bd3786\"], [0.5555555555555556, \"#d8576b\"], [0.6666666666666666, \"#ed7953\"], [0.7777777777777778, \"#fb9f3a\"], [0.8888888888888888, \"#fdca26\"], [1.0, \"#f0f921\"]], \"type\": \"histogram2dcontour\"}], \"mesh3d\": [{\"colorbar\": {\"outlinewidth\": 0, \"ticks\": \"\"}, \"type\": \"mesh3d\"}], \"parcoords\": [{\"line\": {\"colorbar\": {\"outlinewidth\": 0, \"ticks\": \"\"}}, \"type\": \"parcoords\"}], \"pie\": [{\"automargin\": true, \"type\": \"pie\"}], \"scatter\": [{\"marker\": {\"colorbar\": {\"outlinewidth\": 0, \"ticks\": \"\"}}, \"type\": \"scatter\"}], \"scatter3d\": [{\"line\": {\"colorbar\": {\"outlinewidth\": 0, \"ticks\": \"\"}}, \"marker\": {\"colorbar\": {\"outlinewidth\": 0, \"ticks\": \"\"}}, \"type\": \"scatter3d\"}], \"scattercarpet\": [{\"marker\": {\"colorbar\": {\"outlinewidth\": 0, \"ticks\": \"\"}}, \"type\": \"scattercarpet\"}], \"scattergeo\": [{\"marker\": {\"colorbar\": {\"outlinewidth\": 0, \"ticks\": \"\"}}, \"type\": \"scattergeo\"}], \"scattergl\": [{\"marker\": {\"colorbar\": {\"outlinewidth\": 0, \"ticks\": \"\"}}, \"type\": \"scattergl\"}], \"scattermapbox\": [{\"marker\": {\"colorbar\": {\"outlinewidth\": 0, \"ticks\": \"\"}}, \"type\": \"scattermapbox\"}], \"scatterpolar\": [{\"marker\": {\"colorbar\": {\"outlinewidth\": 0, \"ticks\": \"\"}}, \"type\": \"scatterpolar\"}], \"scatterpolargl\": [{\"marker\": {\"colorbar\": {\"outlinewidth\": 0, \"ticks\": \"\"}}, \"type\": \"scatterpolargl\"}], \"scatterternary\": [{\"marker\": {\"colorbar\": {\"outlinewidth\": 0, \"ticks\": \"\"}}, \"type\": \"scatterternary\"}], \"surface\": [{\"colorbar\": {\"outlinewidth\": 0, \"ticks\": \"\"}, \"colorscale\": [[0.0, \"#0d0887\"], [0.1111111111111111, \"#46039f\"], [0.2222222222222222, \"#7201a8\"], [0.3333333333333333, \"#9c179e\"], [0.4444444444444444, \"#bd3786\"], [0.5555555555555556, \"#d8576b\"], [0.6666666666666666, \"#ed7953\"], [0.7777777777777778, \"#fb9f3a\"], [0.8888888888888888, \"#fdca26\"], [1.0, \"#f0f921\"]], \"type\": \"surface\"}], \"table\": [{\"cells\": {\"fill\": {\"color\": \"#EBF0F8\"}, \"line\": {\"color\": \"white\"}}, \"header\": {\"fill\": {\"color\": \"#C8D4E3\"}, \"line\": {\"color\": \"white\"}}, \"type\": \"table\"}]}, \"layout\": {\"annotationdefaults\": {\"arrowcolor\": \"#2a3f5f\", \"arrowhead\": 0, \"arrowwidth\": 1}, \"coloraxis\": {\"colorbar\": {\"outlinewidth\": 0, \"ticks\": \"\"}}, \"colorscale\": {\"diverging\": [[0, \"#8e0152\"], [0.1, \"#c51b7d\"], [0.2, \"#de77ae\"], [0.3, \"#f1b6da\"], [0.4, \"#fde0ef\"], [0.5, \"#f7f7f7\"], [0.6, \"#e6f5d0\"], [0.7, \"#b8e186\"], [0.8, \"#7fbc41\"], [0.9, \"#4d9221\"], [1, \"#276419\"]], \"sequential\": [[0.0, \"#0d0887\"], [0.1111111111111111, \"#46039f\"], [0.2222222222222222, \"#7201a8\"], [0.3333333333333333, \"#9c179e\"], [0.4444444444444444, \"#bd3786\"], [0.5555555555555556, \"#d8576b\"], [0.6666666666666666, \"#ed7953\"], [0.7777777777777778, \"#fb9f3a\"], [0.8888888888888888, \"#fdca26\"], [1.0, \"#f0f921\"]], \"sequentialminus\": [[0.0, \"#0d0887\"], [0.1111111111111111, \"#46039f\"], [0.2222222222222222, \"#7201a8\"], [0.3333333333333333, \"#9c179e\"], [0.4444444444444444, \"#bd3786\"], [0.5555555555555556, \"#d8576b\"], [0.6666666666666666, \"#ed7953\"], [0.7777777777777778, \"#fb9f3a\"], [0.8888888888888888, \"#fdca26\"], [1.0, \"#f0f921\"]]}, \"colorway\": [\"#636efa\", \"#EF553B\", \"#00cc96\", \"#ab63fa\", \"#FFA15A\", \"#19d3f3\", \"#FF6692\", \"#B6E880\", \"#FF97FF\", \"#FECB52\"], \"font\": {\"color\": \"#2a3f5f\"}, \"geo\": {\"bgcolor\": \"white\", \"lakecolor\": \"white\", \"landcolor\": \"#E5ECF6\", \"showlakes\": true, \"showland\": true, \"subunitcolor\": \"white\"}, \"hoverlabel\": {\"align\": \"left\"}, \"hovermode\": \"closest\", \"mapbox\": {\"style\": \"light\"}, \"paper_bgcolor\": \"white\", \"plot_bgcolor\": \"#E5ECF6\", \"polar\": {\"angularaxis\": {\"gridcolor\": \"white\", \"linecolor\": \"white\", \"ticks\": \"\"}, \"bgcolor\": \"#E5ECF6\", \"radialaxis\": {\"gridcolor\": \"white\", \"linecolor\": \"white\", \"ticks\": \"\"}}, \"scene\": {\"xaxis\": {\"backgroundcolor\": \"#E5ECF6\", \"gridcolor\": \"white\", \"gridwidth\": 2, \"linecolor\": \"white\", \"showbackground\": true, \"ticks\": \"\", \"zerolinecolor\": \"white\"}, \"yaxis\": {\"backgroundcolor\": \"#E5ECF6\", \"gridcolor\": \"white\", \"gridwidth\": 2, \"linecolor\": \"white\", \"showbackground\": true, \"ticks\": \"\", \"zerolinecolor\": \"white\"}, \"zaxis\": {\"backgroundcolor\": \"#E5ECF6\", \"gridcolor\": \"white\", \"gridwidth\": 2, \"linecolor\": \"white\", \"showbackground\": true, \"ticks\": \"\", \"zerolinecolor\": \"white\"}}, \"shapedefaults\": {\"line\": {\"color\": \"#2a3f5f\"}}, \"ternary\": {\"aaxis\": {\"gridcolor\": \"white\", \"linecolor\": \"white\", \"ticks\": \"\"}, \"baxis\": {\"gridcolor\": \"white\", \"linecolor\": \"white\", \"ticks\": \"\"}, \"bgcolor\": \"#E5ECF6\", \"caxis\": {\"gridcolor\": \"white\", \"linecolor\": \"white\", \"ticks\": \"\"}}, \"title\": {\"x\": 0.05}, \"xaxis\": {\"automargin\": true, \"gridcolor\": \"white\", \"linecolor\": \"white\", \"ticks\": \"\", \"title\": {\"standoff\": 15}, \"zerolinecolor\": \"white\", \"zerolinewidth\": 2}, \"yaxis\": {\"automargin\": true, \"gridcolor\": \"white\", \"linecolor\": \"white\", \"ticks\": \"\", \"title\": {\"standoff\": 15}, \"zerolinecolor\": \"white\", \"zerolinewidth\": 2}}}, \"title\": {\"font\": {\"color\": \"#4D5663\"}}, \"xaxis\": {\"gridcolor\": \"#E1E5ED\", \"showgrid\": true, \"tickfont\": {\"color\": \"#4D5663\"}, \"title\": {\"font\": {\"color\": \"#4D5663\"}, \"text\": \"\"}, \"zerolinecolor\": \"#E1E5ED\"}, \"xaxis2\": {\"anchor\": \"y2\", \"gridcolor\": \"#E1E5ED\", \"showgrid\": true, \"showticklabels\": false, \"tickfont\": {\"color\": \"#4D5663\"}, \"title\": {\"font\": {\"color\": \"#4D5663\"}, \"text\": \"\"}, \"zerolinecolor\": \"#E1E5ED\"}, \"yaxis\": {\"domain\": [0.3, 1], \"gridcolor\": \"#E1E5ED\", \"showgrid\": true, \"tickfont\": {\"color\": \"#4D5663\"}, \"title\": {\"font\": {\"color\": \"#4D5663\"}, \"text\": \"\"}, \"zerolinecolor\": \"#E1E5ED\"}, \"yaxis2\": {\"domain\": [0, 0.25], \"gridcolor\": \"#E1E5ED\", \"showgrid\": true, \"tickfont\": {\"color\": \"#4D5663\"}, \"title\": {\"font\": {\"color\": \"#4D5663\"}, \"text\": \"Spread\"}, \"zerolinecolor\": \"#E1E5ED\"}},\n",
       "                        {\"showLink\": true, \"linkText\": \"Export to plot.ly\", \"plotlyServerURL\": \"https://plot.ly\", \"responsive\": true}\n",
       "                    ).then(function(){\n",
       "                            \n",
       "var gd = document.getElementById('186eb42f-273b-4c06-a08b-75df5243e1cf');\n",
       "var x = new MutationObserver(function (mutations, observer) {{\n",
       "        var display = window.getComputedStyle(gd).display;\n",
       "        if (!display || display === 'none') {{\n",
       "            console.log([gd, 'removed!']);\n",
       "            Plotly.purge(gd);\n",
       "            observer.disconnect();\n",
       "        }}\n",
       "}});\n",
       "\n",
       "// Listen for the removal of the full notebook cells\n",
       "var notebookContainer = gd.closest('#notebook-container');\n",
       "if (notebookContainer) {{\n",
       "    x.observe(notebookContainer, {childList: true});\n",
       "}}\n",
       "\n",
       "// Listen for the clearing of the current output cell\n",
       "var outputEl = gd.closest('.output');\n",
       "if (outputEl) {{\n",
       "    x.observe(outputEl, {childList: true});\n",
       "}}\n",
       "\n",
       "                        })\n",
       "                };\n",
       "                });\n",
       "            </script>\n",
       "        </div>"
      ]
     },
     "metadata": {},
     "output_type": "display_data"
    }
   ],
   "source": [
    "df.iplot(kind='spread')"
   ]
  },
  {
   "cell_type": "code",
   "execution_count": 35,
   "metadata": {},
   "outputs": [
    {
     "data": {
      "application/vnd.plotly.v1+json": {
       "config": {
        "linkText": "Export to plot.ly",
        "plotlyServerURL": "https://plot.ly",
        "showLink": true
       },
       "data": [
        {
         "marker": {
          "color": [
           "rgb(255, 153, 51)",
           "rgb(55, 128, 191)",
           "rgb(50, 171, 96)",
           "rgb(128, 0, 128)",
           "rgb(219, 64, 82)",
           "rgb(0, 128, 128)",
           "rgb(255, 255, 51)",
           "rgb(128, 128, 0)",
           "rgb(251, 128, 114)",
           "rgb(128, 177, 211)"
          ],
          "line": {
           "width": 1.3
          },
          "size": [
           56,
           61,
           68,
           112,
           83,
           35,
           82,
           54,
           84,
           12,
           74,
           54,
           96,
           66,
           62,
           69,
           48,
           68,
           79,
           63,
           49,
           34,
           66,
           63,
           74,
           43,
           63,
           60,
           45,
           92,
           64,
           70,
           66,
           53,
           38,
           76,
           60,
           85,
           61,
           78,
           58,
           45,
           60,
           39,
           67,
           48,
           52,
           53,
           47,
           46,
           22,
           59,
           61,
           38,
           86,
           79,
           48,
           14,
           52,
           44,
           60,
           64,
           61,
           59,
           53,
           26,
           42,
           71,
           67,
           59,
           43,
           35,
           43,
           57,
           65,
           53,
           37,
           49,
           56,
           69,
           59,
           76,
           64,
           60,
           54,
           74,
           36,
           78,
           60,
           48,
           83,
           63,
           39,
           68,
           59,
           56,
           86,
           69,
           52,
           77
          ],
          "symbol": "circle"
         },
         "mode": "markers",
         "text": "",
         "type": "scatter",
         "x": [
          -1.8375793829805152,
          -0.15949696869273136,
          1.1310371011634441,
          0.033424317827104935,
          -0.27266433823248903,
          -1.5266480612294526,
          0.6406900998232502,
          -1.2037810103452755,
          0.45766181096666353,
          -0.65756316944976,
          1.2254607006230938,
          -0.49670888312590306,
          0.9517977824412835,
          -0.4737685536624598,
          -0.18866034695016973,
          1.7707542889792907,
          0.6323242648780771,
          0.12204537313043434,
          -1.9034920234674675,
          -0.04442225969249496,
          0.15429995846266448,
          0.7932222997650096,
          2.539915784248557,
          -1.1930343034985709,
          -0.614857906207743,
          1.4806568174717332,
          -1.8648504458226827,
          -0.41509780444484906,
          -1.5902518624107531,
          -1.1668716248656292,
          0.7148812419826943,
          0.9205412994571905,
          -1.0552530177997501,
          -1.1144495047103273,
          -1.4148418771042273,
          -0.7978844421999658,
          -0.7196315490672652,
          -0.6581896684098428,
          -0.003017838744859791,
          1.000572700470973,
          0.03907023496823878,
          0.9445560069535803,
          -0.4370724628095535,
          -0.5308855796106563,
          0.40885528594580445,
          0.188730040054379,
          -0.7941436814811723,
          1.9071063059377538,
          -0.05371617887237018,
          -1.2180771449054735,
          -0.0027625945812005813,
          -0.7289781761912149,
          -1.5148040962595313,
          1.5310393005980325,
          1.2115849481386265,
          0.47883686689648225,
          -0.45499490210360916,
          -1.0189093313495297,
          -0.15728791717667132,
          -0.11127659476746542,
          0.8690846353904871,
          0.20354127289823257,
          -2.0630281790612797,
          1.3344770773409376,
          -1.6200000617491879,
          -0.23116693293656054,
          -0.6755590465420752,
          0.4685086761604976,
          0.49494635923821795,
          -0.005597955485651658,
          1.0885292455914743,
          -1.0407905089838017,
          -0.929490474183066,
          -1.015229473319679,
          1.8836505311940042,
          0.852998689782739,
          1.0753372020989056,
          1.4373344844109446,
          -0.03480585890954957,
          -0.37548221973787094,
          1.5645635392346884,
          1.758746465445413,
          -1.7330027977656584,
          -0.25500034465944543,
          -0.11760242138474251,
          1.9831290035306863,
          -1.6781345236672671,
          1.0916134309838674,
          -0.4986127299448885,
          0.4985659415525577,
          1.1762317481769409,
          -0.9905137465769372,
          -1.063065614167874,
          1.242282812838642,
          0.990357440665751,
          3.006402504672399,
          1.7946437084519817,
          1.2758239575605375,
          0.038206062830590415,
          -0.052200463798188414
         ],
         "y": [
          1.7979066365959437,
          0.46285376386792,
          -1.186763222985012,
          -1.3069987790938424,
          0.2846992419759555,
          -0.46572268676860606,
          0.37506581218122054,
          0.04307716596099602,
          -0.10030470230806747,
          0.2253581478192807,
          1.5881375303218745,
          -0.7860510560549011,
          0.0709065210939935,
          1.3179919385263983,
          0.1911135355144382,
          -0.1659826156491933,
          0.1335520665302867,
          -1.3591338016683188,
          0.6810870536812119,
          -0.3210353527483331,
          -0.9898181449092167,
          -1.2243689025562479,
          0.9843652721650106,
          -1.2543373215912461,
          0.8715596268958955,
          1.3562385722623433,
          -0.2579451332063824,
          0.8699716121262567,
          1.248480225043317,
          -1.5952232935299056,
          -0.03397694249447452,
          -0.343267396460641,
          0.28802212629747814,
          -0.8593404698722109,
          -0.2530951725001365,
          -1.1386052562784248,
          0.38917661781477536,
          -0.9825733525869731,
          -0.31696837518324317,
          0.7990527808015294,
          1.5176967691503638,
          1.410126737765439,
          -0.2743896134901539,
          -0.6929350750237689,
          0.2936921575856845,
          0.8254128170753967,
          -0.38061138001210737,
          -1.029983050729118,
          0.5164862990891124,
          0.5294226142890159,
          1.3419954272688206,
          0.4908184159374298,
          0.49612404315739556,
          -1.5353261683128314,
          -0.23122135512542397,
          -0.969643060285253,
          -0.7905605694819513,
          0.6367390711248883,
          -1.1584050310341727,
          0.7132292476684078,
          0.5512209938581333,
          -1.2332536027280028,
          1.263445214176733,
          1.0355389031994173,
          -0.4385948782738462,
          1.2783266636003576,
          0.9694074826731098,
          -0.5354973913133867,
          0.3763906230930325,
          1.0822003941489435,
          0.7361046509510144,
          -0.4335373702666788,
          -0.17899964389897075,
          -0.3648809060196582,
          -0.32072220887824276,
          -0.02508944822472686,
          -0.5833657581143926,
          -0.3995712267987253,
          0.9009130860560229,
          -1.4986325461576935,
          -1.8715391056827866,
          2.8798459765859827,
          0.07355556328316204,
          -0.022392130905374747,
          -1.4390151669046745,
          -0.12588443717729894,
          -0.1749203096655581,
          0.5710963935160036,
          -0.8221985582564402,
          1.1613570625458303,
          0.7006283651400398,
          0.028200929375390538,
          -1.1587338283713418,
          0.18389562050698247,
          -0.9159351961730826,
          1.912535172503708,
          -1.8209107037327792,
          -2.2563632012174306,
          0.05798522639921089,
          -0.7234000317144638
         ]
        }
       ],
       "layout": {
        "legend": {
         "bgcolor": "#F5F6F9",
         "font": {
          "color": "#4D5663"
         }
        },
        "paper_bgcolor": "#F5F6F9",
        "plot_bgcolor": "#F5F6F9",
        "template": {
         "data": {
          "bar": [
           {
            "error_x": {
             "color": "#2a3f5f"
            },
            "error_y": {
             "color": "#2a3f5f"
            },
            "marker": {
             "line": {
              "color": "#E5ECF6",
              "width": 0.5
             }
            },
            "type": "bar"
           }
          ],
          "barpolar": [
           {
            "marker": {
             "line": {
              "color": "#E5ECF6",
              "width": 0.5
             }
            },
            "type": "barpolar"
           }
          ],
          "carpet": [
           {
            "aaxis": {
             "endlinecolor": "#2a3f5f",
             "gridcolor": "white",
             "linecolor": "white",
             "minorgridcolor": "white",
             "startlinecolor": "#2a3f5f"
            },
            "baxis": {
             "endlinecolor": "#2a3f5f",
             "gridcolor": "white",
             "linecolor": "white",
             "minorgridcolor": "white",
             "startlinecolor": "#2a3f5f"
            },
            "type": "carpet"
           }
          ],
          "choropleth": [
           {
            "colorbar": {
             "outlinewidth": 0,
             "ticks": ""
            },
            "type": "choropleth"
           }
          ],
          "contour": [
           {
            "colorbar": {
             "outlinewidth": 0,
             "ticks": ""
            },
            "colorscale": [
             [
              0,
              "#0d0887"
             ],
             [
              0.1111111111111111,
              "#46039f"
             ],
             [
              0.2222222222222222,
              "#7201a8"
             ],
             [
              0.3333333333333333,
              "#9c179e"
             ],
             [
              0.4444444444444444,
              "#bd3786"
             ],
             [
              0.5555555555555556,
              "#d8576b"
             ],
             [
              0.6666666666666666,
              "#ed7953"
             ],
             [
              0.7777777777777778,
              "#fb9f3a"
             ],
             [
              0.8888888888888888,
              "#fdca26"
             ],
             [
              1,
              "#f0f921"
             ]
            ],
            "type": "contour"
           }
          ],
          "contourcarpet": [
           {
            "colorbar": {
             "outlinewidth": 0,
             "ticks": ""
            },
            "type": "contourcarpet"
           }
          ],
          "heatmap": [
           {
            "colorbar": {
             "outlinewidth": 0,
             "ticks": ""
            },
            "colorscale": [
             [
              0,
              "#0d0887"
             ],
             [
              0.1111111111111111,
              "#46039f"
             ],
             [
              0.2222222222222222,
              "#7201a8"
             ],
             [
              0.3333333333333333,
              "#9c179e"
             ],
             [
              0.4444444444444444,
              "#bd3786"
             ],
             [
              0.5555555555555556,
              "#d8576b"
             ],
             [
              0.6666666666666666,
              "#ed7953"
             ],
             [
              0.7777777777777778,
              "#fb9f3a"
             ],
             [
              0.8888888888888888,
              "#fdca26"
             ],
             [
              1,
              "#f0f921"
             ]
            ],
            "type": "heatmap"
           }
          ],
          "heatmapgl": [
           {
            "colorbar": {
             "outlinewidth": 0,
             "ticks": ""
            },
            "colorscale": [
             [
              0,
              "#0d0887"
             ],
             [
              0.1111111111111111,
              "#46039f"
             ],
             [
              0.2222222222222222,
              "#7201a8"
             ],
             [
              0.3333333333333333,
              "#9c179e"
             ],
             [
              0.4444444444444444,
              "#bd3786"
             ],
             [
              0.5555555555555556,
              "#d8576b"
             ],
             [
              0.6666666666666666,
              "#ed7953"
             ],
             [
              0.7777777777777778,
              "#fb9f3a"
             ],
             [
              0.8888888888888888,
              "#fdca26"
             ],
             [
              1,
              "#f0f921"
             ]
            ],
            "type": "heatmapgl"
           }
          ],
          "histogram": [
           {
            "marker": {
             "colorbar": {
              "outlinewidth": 0,
              "ticks": ""
             }
            },
            "type": "histogram"
           }
          ],
          "histogram2d": [
           {
            "colorbar": {
             "outlinewidth": 0,
             "ticks": ""
            },
            "colorscale": [
             [
              0,
              "#0d0887"
             ],
             [
              0.1111111111111111,
              "#46039f"
             ],
             [
              0.2222222222222222,
              "#7201a8"
             ],
             [
              0.3333333333333333,
              "#9c179e"
             ],
             [
              0.4444444444444444,
              "#bd3786"
             ],
             [
              0.5555555555555556,
              "#d8576b"
             ],
             [
              0.6666666666666666,
              "#ed7953"
             ],
             [
              0.7777777777777778,
              "#fb9f3a"
             ],
             [
              0.8888888888888888,
              "#fdca26"
             ],
             [
              1,
              "#f0f921"
             ]
            ],
            "type": "histogram2d"
           }
          ],
          "histogram2dcontour": [
           {
            "colorbar": {
             "outlinewidth": 0,
             "ticks": ""
            },
            "colorscale": [
             [
              0,
              "#0d0887"
             ],
             [
              0.1111111111111111,
              "#46039f"
             ],
             [
              0.2222222222222222,
              "#7201a8"
             ],
             [
              0.3333333333333333,
              "#9c179e"
             ],
             [
              0.4444444444444444,
              "#bd3786"
             ],
             [
              0.5555555555555556,
              "#d8576b"
             ],
             [
              0.6666666666666666,
              "#ed7953"
             ],
             [
              0.7777777777777778,
              "#fb9f3a"
             ],
             [
              0.8888888888888888,
              "#fdca26"
             ],
             [
              1,
              "#f0f921"
             ]
            ],
            "type": "histogram2dcontour"
           }
          ],
          "mesh3d": [
           {
            "colorbar": {
             "outlinewidth": 0,
             "ticks": ""
            },
            "type": "mesh3d"
           }
          ],
          "parcoords": [
           {
            "line": {
             "colorbar": {
              "outlinewidth": 0,
              "ticks": ""
             }
            },
            "type": "parcoords"
           }
          ],
          "pie": [
           {
            "automargin": true,
            "type": "pie"
           }
          ],
          "scatter": [
           {
            "marker": {
             "colorbar": {
              "outlinewidth": 0,
              "ticks": ""
             }
            },
            "type": "scatter"
           }
          ],
          "scatter3d": [
           {
            "line": {
             "colorbar": {
              "outlinewidth": 0,
              "ticks": ""
             }
            },
            "marker": {
             "colorbar": {
              "outlinewidth": 0,
              "ticks": ""
             }
            },
            "type": "scatter3d"
           }
          ],
          "scattercarpet": [
           {
            "marker": {
             "colorbar": {
              "outlinewidth": 0,
              "ticks": ""
             }
            },
            "type": "scattercarpet"
           }
          ],
          "scattergeo": [
           {
            "marker": {
             "colorbar": {
              "outlinewidth": 0,
              "ticks": ""
             }
            },
            "type": "scattergeo"
           }
          ],
          "scattergl": [
           {
            "marker": {
             "colorbar": {
              "outlinewidth": 0,
              "ticks": ""
             }
            },
            "type": "scattergl"
           }
          ],
          "scattermapbox": [
           {
            "marker": {
             "colorbar": {
              "outlinewidth": 0,
              "ticks": ""
             }
            },
            "type": "scattermapbox"
           }
          ],
          "scatterpolar": [
           {
            "marker": {
             "colorbar": {
              "outlinewidth": 0,
              "ticks": ""
             }
            },
            "type": "scatterpolar"
           }
          ],
          "scatterpolargl": [
           {
            "marker": {
             "colorbar": {
              "outlinewidth": 0,
              "ticks": ""
             }
            },
            "type": "scatterpolargl"
           }
          ],
          "scatterternary": [
           {
            "marker": {
             "colorbar": {
              "outlinewidth": 0,
              "ticks": ""
             }
            },
            "type": "scatterternary"
           }
          ],
          "surface": [
           {
            "colorbar": {
             "outlinewidth": 0,
             "ticks": ""
            },
            "colorscale": [
             [
              0,
              "#0d0887"
             ],
             [
              0.1111111111111111,
              "#46039f"
             ],
             [
              0.2222222222222222,
              "#7201a8"
             ],
             [
              0.3333333333333333,
              "#9c179e"
             ],
             [
              0.4444444444444444,
              "#bd3786"
             ],
             [
              0.5555555555555556,
              "#d8576b"
             ],
             [
              0.6666666666666666,
              "#ed7953"
             ],
             [
              0.7777777777777778,
              "#fb9f3a"
             ],
             [
              0.8888888888888888,
              "#fdca26"
             ],
             [
              1,
              "#f0f921"
             ]
            ],
            "type": "surface"
           }
          ],
          "table": [
           {
            "cells": {
             "fill": {
              "color": "#EBF0F8"
             },
             "line": {
              "color": "white"
             }
            },
            "header": {
             "fill": {
              "color": "#C8D4E3"
             },
             "line": {
              "color": "white"
             }
            },
            "type": "table"
           }
          ]
         },
         "layout": {
          "annotationdefaults": {
           "arrowcolor": "#2a3f5f",
           "arrowhead": 0,
           "arrowwidth": 1
          },
          "coloraxis": {
           "colorbar": {
            "outlinewidth": 0,
            "ticks": ""
           }
          },
          "colorscale": {
           "diverging": [
            [
             0,
             "#8e0152"
            ],
            [
             0.1,
             "#c51b7d"
            ],
            [
             0.2,
             "#de77ae"
            ],
            [
             0.3,
             "#f1b6da"
            ],
            [
             0.4,
             "#fde0ef"
            ],
            [
             0.5,
             "#f7f7f7"
            ],
            [
             0.6,
             "#e6f5d0"
            ],
            [
             0.7,
             "#b8e186"
            ],
            [
             0.8,
             "#7fbc41"
            ],
            [
             0.9,
             "#4d9221"
            ],
            [
             1,
             "#276419"
            ]
           ],
           "sequential": [
            [
             0,
             "#0d0887"
            ],
            [
             0.1111111111111111,
             "#46039f"
            ],
            [
             0.2222222222222222,
             "#7201a8"
            ],
            [
             0.3333333333333333,
             "#9c179e"
            ],
            [
             0.4444444444444444,
             "#bd3786"
            ],
            [
             0.5555555555555556,
             "#d8576b"
            ],
            [
             0.6666666666666666,
             "#ed7953"
            ],
            [
             0.7777777777777778,
             "#fb9f3a"
            ],
            [
             0.8888888888888888,
             "#fdca26"
            ],
            [
             1,
             "#f0f921"
            ]
           ],
           "sequentialminus": [
            [
             0,
             "#0d0887"
            ],
            [
             0.1111111111111111,
             "#46039f"
            ],
            [
             0.2222222222222222,
             "#7201a8"
            ],
            [
             0.3333333333333333,
             "#9c179e"
            ],
            [
             0.4444444444444444,
             "#bd3786"
            ],
            [
             0.5555555555555556,
             "#d8576b"
            ],
            [
             0.6666666666666666,
             "#ed7953"
            ],
            [
             0.7777777777777778,
             "#fb9f3a"
            ],
            [
             0.8888888888888888,
             "#fdca26"
            ],
            [
             1,
             "#f0f921"
            ]
           ]
          },
          "colorway": [
           "#636efa",
           "#EF553B",
           "#00cc96",
           "#ab63fa",
           "#FFA15A",
           "#19d3f3",
           "#FF6692",
           "#B6E880",
           "#FF97FF",
           "#FECB52"
          ],
          "font": {
           "color": "#2a3f5f"
          },
          "geo": {
           "bgcolor": "white",
           "lakecolor": "white",
           "landcolor": "#E5ECF6",
           "showlakes": true,
           "showland": true,
           "subunitcolor": "white"
          },
          "hoverlabel": {
           "align": "left"
          },
          "hovermode": "closest",
          "mapbox": {
           "style": "light"
          },
          "paper_bgcolor": "white",
          "plot_bgcolor": "#E5ECF6",
          "polar": {
           "angularaxis": {
            "gridcolor": "white",
            "linecolor": "white",
            "ticks": ""
           },
           "bgcolor": "#E5ECF6",
           "radialaxis": {
            "gridcolor": "white",
            "linecolor": "white",
            "ticks": ""
           }
          },
          "scene": {
           "xaxis": {
            "backgroundcolor": "#E5ECF6",
            "gridcolor": "white",
            "gridwidth": 2,
            "linecolor": "white",
            "showbackground": true,
            "ticks": "",
            "zerolinecolor": "white"
           },
           "yaxis": {
            "backgroundcolor": "#E5ECF6",
            "gridcolor": "white",
            "gridwidth": 2,
            "linecolor": "white",
            "showbackground": true,
            "ticks": "",
            "zerolinecolor": "white"
           },
           "zaxis": {
            "backgroundcolor": "#E5ECF6",
            "gridcolor": "white",
            "gridwidth": 2,
            "linecolor": "white",
            "showbackground": true,
            "ticks": "",
            "zerolinecolor": "white"
           }
          },
          "shapedefaults": {
           "line": {
            "color": "#2a3f5f"
           }
          },
          "ternary": {
           "aaxis": {
            "gridcolor": "white",
            "linecolor": "white",
            "ticks": ""
           },
           "baxis": {
            "gridcolor": "white",
            "linecolor": "white",
            "ticks": ""
           },
           "bgcolor": "#E5ECF6",
           "caxis": {
            "gridcolor": "white",
            "linecolor": "white",
            "ticks": ""
           }
          },
          "title": {
           "x": 0.05
          },
          "xaxis": {
           "automargin": true,
           "gridcolor": "white",
           "linecolor": "white",
           "ticks": "",
           "title": {
            "standoff": 15
           },
           "zerolinecolor": "white",
           "zerolinewidth": 2
          },
          "yaxis": {
           "automargin": true,
           "gridcolor": "white",
           "linecolor": "white",
           "ticks": "",
           "title": {
            "standoff": 15
           },
           "zerolinecolor": "white",
           "zerolinewidth": 2
          }
         }
        },
        "title": {
         "font": {
          "color": "#4D5663"
         }
        },
        "xaxis": {
         "gridcolor": "#E1E5ED",
         "showgrid": true,
         "tickfont": {
          "color": "#4D5663"
         },
         "title": {
          "font": {
           "color": "#4D5663"
          },
          "text": ""
         },
         "zerolinecolor": "#E1E5ED"
        },
        "yaxis": {
         "gridcolor": "#E1E5ED",
         "showgrid": true,
         "tickfont": {
          "color": "#4D5663"
         },
         "title": {
          "font": {
           "color": "#4D5663"
          },
          "text": ""
         },
         "zerolinecolor": "#E1E5ED"
        }
       }
      },
      "text/html": [
       "<div>\n",
       "        \n",
       "        \n",
       "            <div id=\"4cd459c1-64fa-4b7c-8bbc-45f4e367c97f\" class=\"plotly-graph-div\" style=\"height:525px; width:100%;\"></div>\n",
       "            <script type=\"text/javascript\">\n",
       "                require([\"plotly\"], function(Plotly) {\n",
       "                    window.PLOTLYENV=window.PLOTLYENV || {};\n",
       "                    window.PLOTLYENV.BASE_URL='https://plot.ly';\n",
       "                    \n",
       "                if (document.getElementById(\"4cd459c1-64fa-4b7c-8bbc-45f4e367c97f\")) {\n",
       "                    Plotly.newPlot(\n",
       "                        '4cd459c1-64fa-4b7c-8bbc-45f4e367c97f',\n",
       "                        [{\"marker\": {\"color\": [\"rgb(255, 153, 51)\", \"rgb(55, 128, 191)\", \"rgb(50, 171, 96)\", \"rgb(128, 0, 128)\", \"rgb(219, 64, 82)\", \"rgb(0, 128, 128)\", \"rgb(255, 255, 51)\", \"rgb(128, 128, 0)\", \"rgb(251, 128, 114)\", \"rgb(128, 177, 211)\"], \"line\": {\"width\": 1.3}, \"size\": [56, 61, 68, 112, 83, 35, 82, 54, 84, 12, 74, 54, 96, 66, 62, 69, 48, 68, 79, 63, 49, 34, 66, 63, 74, 43, 63, 60, 45, 92, 64, 70, 66, 53, 38, 76, 60, 85, 61, 78, 58, 45, 60, 39, 67, 48, 52, 53, 47, 46, 22, 59, 61, 38, 86, 79, 48, 14, 52, 44, 60, 64, 61, 59, 53, 26, 42, 71, 67, 59, 43, 35, 43, 57, 65, 53, 37, 49, 56, 69, 59, 76, 64, 60, 54, 74, 36, 78, 60, 48, 83, 63, 39, 68, 59, 56, 86, 69, 52, 77], \"symbol\": \"circle\"}, \"mode\": \"markers\", \"text\": \"\", \"type\": \"scatter\", \"x\": [-1.8375793829805152, -0.15949696869273136, 1.1310371011634441, 0.033424317827104935, -0.27266433823248903, -1.5266480612294526, 0.6406900998232502, -1.2037810103452755, 0.45766181096666353, -0.65756316944976, 1.2254607006230938, -0.49670888312590306, 0.9517977824412835, -0.4737685536624598, -0.18866034695016973, 1.7707542889792907, 0.6323242648780771, 0.12204537313043434, -1.9034920234674675, -0.04442225969249496, 0.15429995846266448, 0.7932222997650096, 2.539915784248557, -1.1930343034985709, -0.614857906207743, 1.4806568174717332, -1.8648504458226827, -0.41509780444484906, -1.5902518624107531, -1.1668716248656292, 0.7148812419826943, 0.9205412994571905, -1.0552530177997501, -1.1144495047103273, -1.4148418771042273, -0.7978844421999658, -0.7196315490672652, -0.6581896684098428, -0.003017838744859791, 1.000572700470973, 0.03907023496823878, 0.9445560069535803, -0.4370724628095535, -0.5308855796106563, 0.40885528594580445, 0.188730040054379, -0.7941436814811723, 1.9071063059377538, -0.05371617887237018, -1.2180771449054735, -0.0027625945812005813, -0.7289781761912149, -1.5148040962595313, 1.5310393005980325, 1.2115849481386265, 0.47883686689648225, -0.45499490210360916, -1.0189093313495297, -0.15728791717667132, -0.11127659476746542, 0.8690846353904871, 0.20354127289823257, -2.0630281790612797, 1.3344770773409376, -1.6200000617491879, -0.23116693293656054, -0.6755590465420752, 0.4685086761604976, 0.49494635923821795, -0.005597955485651658, 1.0885292455914743, -1.0407905089838017, -0.929490474183066, -1.015229473319679, 1.8836505311940042, 0.852998689782739, 1.0753372020989056, 1.4373344844109446, -0.03480585890954957, -0.37548221973787094, 1.5645635392346884, 1.758746465445413, -1.7330027977656584, -0.25500034465944543, -0.11760242138474251, 1.9831290035306863, -1.6781345236672671, 1.0916134309838674, -0.4986127299448885, 0.4985659415525577, 1.1762317481769409, -0.9905137465769372, -1.063065614167874, 1.242282812838642, 0.990357440665751, 3.006402504672399, 1.7946437084519817, 1.2758239575605375, 0.038206062830590415, -0.052200463798188414], \"y\": [1.7979066365959437, 0.46285376386792, -1.186763222985012, -1.3069987790938424, 0.2846992419759555, -0.46572268676860606, 0.37506581218122054, 0.04307716596099602, -0.10030470230806747, 0.2253581478192807, 1.5881375303218745, -0.7860510560549011, 0.0709065210939935, 1.3179919385263983, 0.1911135355144382, -0.1659826156491933, 0.1335520665302867, -1.3591338016683188, 0.6810870536812119, -0.3210353527483331, -0.9898181449092167, -1.2243689025562479, 0.9843652721650106, -1.2543373215912461, 0.8715596268958955, 1.3562385722623433, -0.2579451332063824, 0.8699716121262567, 1.248480225043317, -1.5952232935299056, -0.03397694249447452, -0.343267396460641, 0.28802212629747814, -0.8593404698722109, -0.2530951725001365, -1.1386052562784248, 0.38917661781477536, -0.9825733525869731, -0.31696837518324317, 0.7990527808015294, 1.5176967691503638, 1.410126737765439, -0.2743896134901539, -0.6929350750237689, 0.2936921575856845, 0.8254128170753967, -0.38061138001210737, -1.029983050729118, 0.5164862990891124, 0.5294226142890159, 1.3419954272688206, 0.4908184159374298, 0.49612404315739556, -1.5353261683128314, -0.23122135512542397, -0.969643060285253, -0.7905605694819513, 0.6367390711248883, -1.1584050310341727, 0.7132292476684078, 0.5512209938581333, -1.2332536027280028, 1.263445214176733, 1.0355389031994173, -0.4385948782738462, 1.2783266636003576, 0.9694074826731098, -0.5354973913133867, 0.3763906230930325, 1.0822003941489435, 0.7361046509510144, -0.4335373702666788, -0.17899964389897075, -0.3648809060196582, -0.32072220887824276, -0.02508944822472686, -0.5833657581143926, -0.3995712267987253, 0.9009130860560229, -1.4986325461576935, -1.8715391056827866, 2.8798459765859827, 0.07355556328316204, -0.022392130905374747, -1.4390151669046745, -0.12588443717729894, -0.1749203096655581, 0.5710963935160036, -0.8221985582564402, 1.1613570625458303, 0.7006283651400398, 0.028200929375390538, -1.1587338283713418, 0.18389562050698247, -0.9159351961730826, 1.912535172503708, -1.8209107037327792, -2.2563632012174306, 0.05798522639921089, -0.7234000317144638]}],\n",
       "                        {\"legend\": {\"bgcolor\": \"#F5F6F9\", \"font\": {\"color\": \"#4D5663\"}}, \"paper_bgcolor\": \"#F5F6F9\", \"plot_bgcolor\": \"#F5F6F9\", \"template\": {\"data\": {\"bar\": [{\"error_x\": {\"color\": \"#2a3f5f\"}, \"error_y\": {\"color\": \"#2a3f5f\"}, \"marker\": {\"line\": {\"color\": \"#E5ECF6\", \"width\": 0.5}}, \"type\": \"bar\"}], \"barpolar\": [{\"marker\": {\"line\": {\"color\": \"#E5ECF6\", \"width\": 0.5}}, \"type\": \"barpolar\"}], \"carpet\": [{\"aaxis\": {\"endlinecolor\": \"#2a3f5f\", \"gridcolor\": \"white\", \"linecolor\": \"white\", \"minorgridcolor\": \"white\", \"startlinecolor\": \"#2a3f5f\"}, \"baxis\": {\"endlinecolor\": \"#2a3f5f\", \"gridcolor\": \"white\", \"linecolor\": \"white\", \"minorgridcolor\": \"white\", \"startlinecolor\": \"#2a3f5f\"}, \"type\": \"carpet\"}], \"choropleth\": [{\"colorbar\": {\"outlinewidth\": 0, \"ticks\": \"\"}, \"type\": \"choropleth\"}], \"contour\": [{\"colorbar\": {\"outlinewidth\": 0, \"ticks\": \"\"}, \"colorscale\": [[0.0, \"#0d0887\"], [0.1111111111111111, \"#46039f\"], [0.2222222222222222, \"#7201a8\"], [0.3333333333333333, \"#9c179e\"], [0.4444444444444444, \"#bd3786\"], [0.5555555555555556, \"#d8576b\"], [0.6666666666666666, \"#ed7953\"], [0.7777777777777778, \"#fb9f3a\"], [0.8888888888888888, \"#fdca26\"], [1.0, \"#f0f921\"]], \"type\": \"contour\"}], \"contourcarpet\": [{\"colorbar\": {\"outlinewidth\": 0, \"ticks\": \"\"}, \"type\": \"contourcarpet\"}], \"heatmap\": [{\"colorbar\": {\"outlinewidth\": 0, \"ticks\": \"\"}, \"colorscale\": [[0.0, \"#0d0887\"], [0.1111111111111111, \"#46039f\"], [0.2222222222222222, \"#7201a8\"], [0.3333333333333333, \"#9c179e\"], [0.4444444444444444, \"#bd3786\"], [0.5555555555555556, \"#d8576b\"], [0.6666666666666666, \"#ed7953\"], [0.7777777777777778, \"#fb9f3a\"], [0.8888888888888888, \"#fdca26\"], [1.0, \"#f0f921\"]], \"type\": \"heatmap\"}], \"heatmapgl\": [{\"colorbar\": {\"outlinewidth\": 0, \"ticks\": \"\"}, \"colorscale\": [[0.0, \"#0d0887\"], [0.1111111111111111, \"#46039f\"], [0.2222222222222222, \"#7201a8\"], [0.3333333333333333, \"#9c179e\"], [0.4444444444444444, \"#bd3786\"], [0.5555555555555556, \"#d8576b\"], [0.6666666666666666, \"#ed7953\"], [0.7777777777777778, \"#fb9f3a\"], [0.8888888888888888, \"#fdca26\"], [1.0, \"#f0f921\"]], \"type\": \"heatmapgl\"}], \"histogram\": [{\"marker\": {\"colorbar\": {\"outlinewidth\": 0, \"ticks\": \"\"}}, \"type\": \"histogram\"}], \"histogram2d\": [{\"colorbar\": {\"outlinewidth\": 0, \"ticks\": \"\"}, \"colorscale\": [[0.0, \"#0d0887\"], [0.1111111111111111, \"#46039f\"], [0.2222222222222222, \"#7201a8\"], [0.3333333333333333, \"#9c179e\"], [0.4444444444444444, \"#bd3786\"], [0.5555555555555556, \"#d8576b\"], [0.6666666666666666, \"#ed7953\"], [0.7777777777777778, \"#fb9f3a\"], [0.8888888888888888, \"#fdca26\"], [1.0, \"#f0f921\"]], \"type\": \"histogram2d\"}], \"histogram2dcontour\": [{\"colorbar\": {\"outlinewidth\": 0, \"ticks\": \"\"}, \"colorscale\": [[0.0, \"#0d0887\"], [0.1111111111111111, \"#46039f\"], [0.2222222222222222, \"#7201a8\"], [0.3333333333333333, \"#9c179e\"], [0.4444444444444444, \"#bd3786\"], [0.5555555555555556, \"#d8576b\"], [0.6666666666666666, \"#ed7953\"], [0.7777777777777778, \"#fb9f3a\"], [0.8888888888888888, \"#fdca26\"], [1.0, \"#f0f921\"]], \"type\": \"histogram2dcontour\"}], \"mesh3d\": [{\"colorbar\": {\"outlinewidth\": 0, \"ticks\": \"\"}, \"type\": \"mesh3d\"}], \"parcoords\": [{\"line\": {\"colorbar\": {\"outlinewidth\": 0, \"ticks\": \"\"}}, \"type\": \"parcoords\"}], \"pie\": [{\"automargin\": true, \"type\": \"pie\"}], \"scatter\": [{\"marker\": {\"colorbar\": {\"outlinewidth\": 0, \"ticks\": \"\"}}, \"type\": \"scatter\"}], \"scatter3d\": [{\"line\": {\"colorbar\": {\"outlinewidth\": 0, \"ticks\": \"\"}}, \"marker\": {\"colorbar\": {\"outlinewidth\": 0, \"ticks\": \"\"}}, \"type\": \"scatter3d\"}], \"scattercarpet\": [{\"marker\": {\"colorbar\": {\"outlinewidth\": 0, \"ticks\": \"\"}}, \"type\": \"scattercarpet\"}], \"scattergeo\": [{\"marker\": {\"colorbar\": {\"outlinewidth\": 0, \"ticks\": \"\"}}, \"type\": \"scattergeo\"}], \"scattergl\": [{\"marker\": {\"colorbar\": {\"outlinewidth\": 0, \"ticks\": \"\"}}, \"type\": \"scattergl\"}], \"scattermapbox\": [{\"marker\": {\"colorbar\": {\"outlinewidth\": 0, \"ticks\": \"\"}}, \"type\": \"scattermapbox\"}], \"scatterpolar\": [{\"marker\": {\"colorbar\": {\"outlinewidth\": 0, \"ticks\": \"\"}}, \"type\": \"scatterpolar\"}], \"scatterpolargl\": [{\"marker\": {\"colorbar\": {\"outlinewidth\": 0, \"ticks\": \"\"}}, \"type\": \"scatterpolargl\"}], \"scatterternary\": [{\"marker\": {\"colorbar\": {\"outlinewidth\": 0, \"ticks\": \"\"}}, \"type\": \"scatterternary\"}], \"surface\": [{\"colorbar\": {\"outlinewidth\": 0, \"ticks\": \"\"}, \"colorscale\": [[0.0, \"#0d0887\"], [0.1111111111111111, \"#46039f\"], [0.2222222222222222, \"#7201a8\"], [0.3333333333333333, \"#9c179e\"], [0.4444444444444444, \"#bd3786\"], [0.5555555555555556, \"#d8576b\"], [0.6666666666666666, \"#ed7953\"], [0.7777777777777778, \"#fb9f3a\"], [0.8888888888888888, \"#fdca26\"], [1.0, \"#f0f921\"]], \"type\": \"surface\"}], \"table\": [{\"cells\": {\"fill\": {\"color\": \"#EBF0F8\"}, \"line\": {\"color\": \"white\"}}, \"header\": {\"fill\": {\"color\": \"#C8D4E3\"}, \"line\": {\"color\": \"white\"}}, \"type\": \"table\"}]}, \"layout\": {\"annotationdefaults\": {\"arrowcolor\": \"#2a3f5f\", \"arrowhead\": 0, \"arrowwidth\": 1}, \"coloraxis\": {\"colorbar\": {\"outlinewidth\": 0, \"ticks\": \"\"}}, \"colorscale\": {\"diverging\": [[0, \"#8e0152\"], [0.1, \"#c51b7d\"], [0.2, \"#de77ae\"], [0.3, \"#f1b6da\"], [0.4, \"#fde0ef\"], [0.5, \"#f7f7f7\"], [0.6, \"#e6f5d0\"], [0.7, \"#b8e186\"], [0.8, \"#7fbc41\"], [0.9, \"#4d9221\"], [1, \"#276419\"]], \"sequential\": [[0.0, \"#0d0887\"], [0.1111111111111111, \"#46039f\"], [0.2222222222222222, \"#7201a8\"], [0.3333333333333333, \"#9c179e\"], [0.4444444444444444, \"#bd3786\"], [0.5555555555555556, \"#d8576b\"], [0.6666666666666666, \"#ed7953\"], [0.7777777777777778, \"#fb9f3a\"], [0.8888888888888888, \"#fdca26\"], [1.0, \"#f0f921\"]], \"sequentialminus\": [[0.0, \"#0d0887\"], [0.1111111111111111, \"#46039f\"], [0.2222222222222222, \"#7201a8\"], [0.3333333333333333, \"#9c179e\"], [0.4444444444444444, \"#bd3786\"], [0.5555555555555556, \"#d8576b\"], [0.6666666666666666, \"#ed7953\"], [0.7777777777777778, \"#fb9f3a\"], [0.8888888888888888, \"#fdca26\"], [1.0, \"#f0f921\"]]}, \"colorway\": [\"#636efa\", \"#EF553B\", \"#00cc96\", \"#ab63fa\", \"#FFA15A\", \"#19d3f3\", \"#FF6692\", \"#B6E880\", \"#FF97FF\", \"#FECB52\"], \"font\": {\"color\": \"#2a3f5f\"}, \"geo\": {\"bgcolor\": \"white\", \"lakecolor\": \"white\", \"landcolor\": \"#E5ECF6\", \"showlakes\": true, \"showland\": true, \"subunitcolor\": \"white\"}, \"hoverlabel\": {\"align\": \"left\"}, \"hovermode\": \"closest\", \"mapbox\": {\"style\": \"light\"}, \"paper_bgcolor\": \"white\", \"plot_bgcolor\": \"#E5ECF6\", \"polar\": {\"angularaxis\": {\"gridcolor\": \"white\", \"linecolor\": \"white\", \"ticks\": \"\"}, \"bgcolor\": \"#E5ECF6\", \"radialaxis\": {\"gridcolor\": \"white\", \"linecolor\": \"white\", \"ticks\": \"\"}}, \"scene\": {\"xaxis\": {\"backgroundcolor\": \"#E5ECF6\", \"gridcolor\": \"white\", \"gridwidth\": 2, \"linecolor\": \"white\", \"showbackground\": true, \"ticks\": \"\", \"zerolinecolor\": \"white\"}, \"yaxis\": {\"backgroundcolor\": \"#E5ECF6\", \"gridcolor\": \"white\", \"gridwidth\": 2, \"linecolor\": \"white\", \"showbackground\": true, \"ticks\": \"\", \"zerolinecolor\": \"white\"}, \"zaxis\": {\"backgroundcolor\": \"#E5ECF6\", \"gridcolor\": \"white\", \"gridwidth\": 2, \"linecolor\": \"white\", \"showbackground\": true, \"ticks\": \"\", \"zerolinecolor\": \"white\"}}, \"shapedefaults\": {\"line\": {\"color\": \"#2a3f5f\"}}, \"ternary\": {\"aaxis\": {\"gridcolor\": \"white\", \"linecolor\": \"white\", \"ticks\": \"\"}, \"baxis\": {\"gridcolor\": \"white\", \"linecolor\": \"white\", \"ticks\": \"\"}, \"bgcolor\": \"#E5ECF6\", \"caxis\": {\"gridcolor\": \"white\", \"linecolor\": \"white\", \"ticks\": \"\"}}, \"title\": {\"x\": 0.05}, \"xaxis\": {\"automargin\": true, \"gridcolor\": \"white\", \"linecolor\": \"white\", \"ticks\": \"\", \"title\": {\"standoff\": 15}, \"zerolinecolor\": \"white\", \"zerolinewidth\": 2}, \"yaxis\": {\"automargin\": true, \"gridcolor\": \"white\", \"linecolor\": \"white\", \"ticks\": \"\", \"title\": {\"standoff\": 15}, \"zerolinecolor\": \"white\", \"zerolinewidth\": 2}}}, \"title\": {\"font\": {\"color\": \"#4D5663\"}}, \"xaxis\": {\"gridcolor\": \"#E1E5ED\", \"showgrid\": true, \"tickfont\": {\"color\": \"#4D5663\"}, \"title\": {\"font\": {\"color\": \"#4D5663\"}, \"text\": \"\"}, \"zerolinecolor\": \"#E1E5ED\"}, \"yaxis\": {\"gridcolor\": \"#E1E5ED\", \"showgrid\": true, \"tickfont\": {\"color\": \"#4D5663\"}, \"title\": {\"font\": {\"color\": \"#4D5663\"}, \"text\": \"\"}, \"zerolinecolor\": \"#E1E5ED\"}},\n",
       "                        {\"showLink\": true, \"linkText\": \"Export to plot.ly\", \"plotlyServerURL\": \"https://plot.ly\", \"responsive\": true}\n",
       "                    ).then(function(){\n",
       "                            \n",
       "var gd = document.getElementById('4cd459c1-64fa-4b7c-8bbc-45f4e367c97f');\n",
       "var x = new MutationObserver(function (mutations, observer) {{\n",
       "        var display = window.getComputedStyle(gd).display;\n",
       "        if (!display || display === 'none') {{\n",
       "            console.log([gd, 'removed!']);\n",
       "            Plotly.purge(gd);\n",
       "            observer.disconnect();\n",
       "        }}\n",
       "}});\n",
       "\n",
       "// Listen for the removal of the full notebook cells\n",
       "var notebookContainer = gd.closest('#notebook-container');\n",
       "if (notebookContainer) {{\n",
       "    x.observe(notebookContainer, {childList: true});\n",
       "}}\n",
       "\n",
       "// Listen for the clearing of the current output cell\n",
       "var outputEl = gd.closest('.output');\n",
       "if (outputEl) {{\n",
       "    x.observe(outputEl, {childList: true});\n",
       "}}\n",
       "\n",
       "                        })\n",
       "                };\n",
       "                });\n",
       "            </script>\n",
       "        </div>"
      ]
     },
     "metadata": {},
     "output_type": "display_data"
    }
   ],
   "source": [
    "df.iplot(kind='bubble',x='A',y='B',size='C')"
   ]
  },
  {
   "cell_type": "code",
   "execution_count": 37,
   "metadata": {},
   "outputs": [
    {
     "data": {
      "application/vnd.plotly.v1+json": {
       "config": {
        "linkText": "Export to plot.ly",
        "plotlyServerURL": "https://plot.ly",
        "showLink": true
       },
       "data": [
        {
         "histfunc": "count",
         "histnorm": "",
         "marker": {
          "color": "rgba(255, 153, 51, 1.0)",
          "line": {
           "color": "#4D5663",
           "width": 1.3
          }
         },
         "name": "A",
         "nbinsx": 10,
         "opacity": 0.8,
         "orientation": "v",
         "type": "histogram",
         "x": [
          -1.8375793829805152,
          -0.15949696869273136,
          1.1310371011634441,
          0.033424317827104935,
          -0.27266433823248903,
          -1.5266480612294526,
          0.6406900998232502,
          -1.2037810103452755,
          0.45766181096666353,
          -0.65756316944976,
          1.2254607006230938,
          -0.49670888312590306,
          0.9517977824412835,
          -0.4737685536624598,
          -0.18866034695016973,
          1.7707542889792907,
          0.6323242648780771,
          0.12204537313043434,
          -1.9034920234674675,
          -0.04442225969249496,
          0.15429995846266448,
          0.7932222997650096,
          2.539915784248557,
          -1.1930343034985709,
          -0.614857906207743,
          1.4806568174717332,
          -1.8648504458226827,
          -0.41509780444484906,
          -1.5902518624107531,
          -1.1668716248656292,
          0.7148812419826943,
          0.9205412994571905,
          -1.0552530177997501,
          -1.1144495047103273,
          -1.4148418771042273,
          -0.7978844421999658,
          -0.7196315490672652,
          -0.6581896684098428,
          -0.003017838744859791,
          1.000572700470973,
          0.03907023496823878,
          0.9445560069535803,
          -0.4370724628095535,
          -0.5308855796106563,
          0.40885528594580445,
          0.188730040054379,
          -0.7941436814811723,
          1.9071063059377538,
          -0.05371617887237018,
          -1.2180771449054735,
          -0.0027625945812005813,
          -0.7289781761912149,
          -1.5148040962595313,
          1.5310393005980325,
          1.2115849481386265,
          0.47883686689648225,
          -0.45499490210360916,
          -1.0189093313495297,
          -0.15728791717667132,
          -0.11127659476746542,
          0.8690846353904871,
          0.20354127289823257,
          -2.0630281790612797,
          1.3344770773409376,
          -1.6200000617491879,
          -0.23116693293656054,
          -0.6755590465420752,
          0.4685086761604976,
          0.49494635923821795,
          -0.005597955485651658,
          1.0885292455914743,
          -1.0407905089838017,
          -0.929490474183066,
          -1.015229473319679,
          1.8836505311940042,
          0.852998689782739,
          1.0753372020989056,
          1.4373344844109446,
          -0.03480585890954957,
          -0.37548221973787094,
          1.5645635392346884,
          1.758746465445413,
          -1.7330027977656584,
          -0.25500034465944543,
          -0.11760242138474251,
          1.9831290035306863,
          -1.6781345236672671,
          1.0916134309838674,
          -0.4986127299448885,
          0.4985659415525577,
          1.1762317481769409,
          -0.9905137465769372,
          -1.063065614167874,
          1.242282812838642,
          0.990357440665751,
          3.006402504672399,
          1.7946437084519817,
          1.2758239575605375,
          0.038206062830590415,
          -0.052200463798188414
         ],
         "xaxis": "x",
         "yaxis": "y"
        },
        {
         "line": {
          "color": "rgba(128, 128, 128, 1.0)",
          "dash": "solid",
          "shape": "linear",
          "width": 1.3
         },
         "marker": {
          "size": 2,
          "symbol": "circle"
         },
         "mode": "markers",
         "name": "A",
         "text": "",
         "type": "scatter",
         "x": [
          1.7979066365959437,
          0.46285376386792,
          -1.186763222985012,
          -1.3069987790938424,
          0.2846992419759555,
          -0.46572268676860606,
          0.37506581218122054,
          0.04307716596099602,
          -0.10030470230806747,
          0.2253581478192807,
          1.5881375303218745,
          -0.7860510560549011,
          0.0709065210939935,
          1.3179919385263983,
          0.1911135355144382,
          -0.1659826156491933,
          0.1335520665302867,
          -1.3591338016683188,
          0.6810870536812119,
          -0.3210353527483331,
          -0.9898181449092167,
          -1.2243689025562479,
          0.9843652721650106,
          -1.2543373215912461,
          0.8715596268958955,
          1.3562385722623433,
          -0.2579451332063824,
          0.8699716121262567,
          1.248480225043317,
          -1.5952232935299056,
          -0.03397694249447452,
          -0.343267396460641,
          0.28802212629747814,
          -0.8593404698722109,
          -0.2530951725001365,
          -1.1386052562784248,
          0.38917661781477536,
          -0.9825733525869731,
          -0.31696837518324317,
          0.7990527808015294,
          1.5176967691503638,
          1.410126737765439,
          -0.2743896134901539,
          -0.6929350750237689,
          0.2936921575856845,
          0.8254128170753967,
          -0.38061138001210737,
          -1.029983050729118,
          0.5164862990891124,
          0.5294226142890159,
          1.3419954272688206,
          0.4908184159374298,
          0.49612404315739556,
          -1.5353261683128314,
          -0.23122135512542397,
          -0.969643060285253,
          -0.7905605694819513,
          0.6367390711248883,
          -1.1584050310341727,
          0.7132292476684078,
          0.5512209938581333,
          -1.2332536027280028,
          1.263445214176733,
          1.0355389031994173,
          -0.4385948782738462,
          1.2783266636003576,
          0.9694074826731098,
          -0.5354973913133867,
          0.3763906230930325,
          1.0822003941489435,
          0.7361046509510144,
          -0.4335373702666788,
          -0.17899964389897075,
          -0.3648809060196582,
          -0.32072220887824276,
          -0.02508944822472686,
          -0.5833657581143926,
          -0.3995712267987253,
          0.9009130860560229,
          -1.4986325461576935,
          -1.8715391056827866,
          2.8798459765859827,
          0.07355556328316204,
          -0.022392130905374747,
          -1.4390151669046745,
          -0.12588443717729894,
          -0.1749203096655581,
          0.5710963935160036,
          -0.8221985582564402,
          1.1613570625458303,
          0.7006283651400398,
          0.028200929375390538,
          -1.1587338283713418,
          0.18389562050698247,
          -0.9159351961730826,
          1.912535172503708,
          -1.8209107037327792,
          -2.2563632012174306,
          0.05798522639921089,
          -0.7234000317144638
         ],
         "xaxis": "x2",
         "y": [
          -1.8375793829805152,
          -0.15949696869273136,
          1.1310371011634441,
          0.033424317827104935,
          -0.27266433823248903,
          -1.5266480612294526,
          0.6406900998232502,
          -1.2037810103452755,
          0.45766181096666353,
          -0.65756316944976,
          1.2254607006230938,
          -0.49670888312590306,
          0.9517977824412835,
          -0.4737685536624598,
          -0.18866034695016973,
          1.7707542889792907,
          0.6323242648780771,
          0.12204537313043434,
          -1.9034920234674675,
          -0.04442225969249496,
          0.15429995846266448,
          0.7932222997650096,
          2.539915784248557,
          -1.1930343034985709,
          -0.614857906207743,
          1.4806568174717332,
          -1.8648504458226827,
          -0.41509780444484906,
          -1.5902518624107531,
          -1.1668716248656292,
          0.7148812419826943,
          0.9205412994571905,
          -1.0552530177997501,
          -1.1144495047103273,
          -1.4148418771042273,
          -0.7978844421999658,
          -0.7196315490672652,
          -0.6581896684098428,
          -0.003017838744859791,
          1.000572700470973,
          0.03907023496823878,
          0.9445560069535803,
          -0.4370724628095535,
          -0.5308855796106563,
          0.40885528594580445,
          0.188730040054379,
          -0.7941436814811723,
          1.9071063059377538,
          -0.05371617887237018,
          -1.2180771449054735,
          -0.0027625945812005813,
          -0.7289781761912149,
          -1.5148040962595313,
          1.5310393005980325,
          1.2115849481386265,
          0.47883686689648225,
          -0.45499490210360916,
          -1.0189093313495297,
          -0.15728791717667132,
          -0.11127659476746542,
          0.8690846353904871,
          0.20354127289823257,
          -2.0630281790612797,
          1.3344770773409376,
          -1.6200000617491879,
          -0.23116693293656054,
          -0.6755590465420752,
          0.4685086761604976,
          0.49494635923821795,
          -0.005597955485651658,
          1.0885292455914743,
          -1.0407905089838017,
          -0.929490474183066,
          -1.015229473319679,
          1.8836505311940042,
          0.852998689782739,
          1.0753372020989056,
          1.4373344844109446,
          -0.03480585890954957,
          -0.37548221973787094,
          1.5645635392346884,
          1.758746465445413,
          -1.7330027977656584,
          -0.25500034465944543,
          -0.11760242138474251,
          1.9831290035306863,
          -1.6781345236672671,
          1.0916134309838674,
          -0.4986127299448885,
          0.4985659415525577,
          1.1762317481769409,
          -0.9905137465769372,
          -1.063065614167874,
          1.242282812838642,
          0.990357440665751,
          3.006402504672399,
          1.7946437084519817,
          1.2758239575605375,
          0.038206062830590415,
          -0.052200463798188414
         ],
         "yaxis": "y2"
        },
        {
         "line": {
          "color": "rgba(128, 128, 128, 1.0)",
          "dash": "solid",
          "shape": "linear",
          "width": 1.3
         },
         "marker": {
          "size": 2,
          "symbol": "circle"
         },
         "mode": "markers",
         "name": "A",
         "text": "",
         "type": "scatter",
         "x": [
          -0.11195680488630352,
          0.19813513395996601,
          0.6243952583500618,
          3.4636216744699926,
          1.6025780971968129,
          -1.4842957023344758,
          1.5200032468496212,
          -0.2631744539556295,
          1.6500701251249659,
          -3.029823148650362,
          1.0265662580499642,
          -0.2567714743133042,
          2.457180119797221,
          0.5238088696860247,
          0.26209872027584513,
          0.6956634102215381,
          -0.6875276285625027,
          0.6392616577482672,
          1.3351393658985924,
          0.34141495490170315,
          -0.5659435780610622,
          -1.5608013996314807,
          0.48786006329180565,
          0.336081140259419,
          1.0175981710604358,
          -1.0135670113619677,
          0.3129251024807007,
          0.09328582639040285,
          -0.87220153866261,
          2.219797990891727,
          0.3655625592140774,
          0.8002282698773922,
          0.5158153974877858,
          -0.33700303233675205,
          -1.2940315214203613,
          1.1328240142383346,
          0.10094096472141936,
          1.7370875372990418,
          0.1839808055476812,
          1.2827729447774527,
          0.01818646549473812,
          -0.8766507338302455,
          0.11151420077033018,
          -1.226767964025608,
          0.5925924682575862,
          -0.661867073821238,
          -0.3727916276086114,
          -0.35054991247657,
          -0.725074404132708,
          -0.8056579783319012,
          -2.370764105329452,
          0.022591428355840264,
          0.1701455330688707,
          -1.2801069400543095,
          1.80983649905343,
          1.3215544377183117,
          -0.6475697652766453,
          -2.878377702333487,
          -0.3907665880809579,
          -0.9491649532134488,
          0.08817234504563345,
          0.410923543362477,
          0.2118958880439002,
          0.027784440467459877,
          -0.3580699215915449,
          -2.0625597051700364,
          -1.0760324793561697,
          0.8371078225097193,
          0.5682216990227285,
          0.06389082048082165,
          -0.9604774121864444,
          -1.5094374087850413,
          -0.9892302232683492,
          -0.08039240707564778,
          0.4338028851904076,
          -0.32565578060191,
          -1.3588064292335826,
          -0.6212581022909891,
          -0.14729134904037633,
          0.676065770331901,
          0.048383080662061546,
          1.1655116085226473,
          0.36441634440261894,
          0.13740405736192837,
          -0.2692124351999852,
          1.0333699470883486,
          -1.4292425177566495,
          1.3193573123226177,
          0.14325005584199305,
          -0.6451136154829559,
          1.5868146161808676,
          0.3139631548592902,
          -1.2599371618269581,
          0.6661701105361751,
          0.050813451678986335,
          -0.16529638984939754,
          1.7873956492526328,
          0.6855946366040738,
          -0.4169361655747808,
          1.1957640390301516
         ],
         "xaxis": "x3",
         "y": [
          -1.8375793829805152,
          -0.15949696869273136,
          1.1310371011634441,
          0.033424317827104935,
          -0.27266433823248903,
          -1.5266480612294526,
          0.6406900998232502,
          -1.2037810103452755,
          0.45766181096666353,
          -0.65756316944976,
          1.2254607006230938,
          -0.49670888312590306,
          0.9517977824412835,
          -0.4737685536624598,
          -0.18866034695016973,
          1.7707542889792907,
          0.6323242648780771,
          0.12204537313043434,
          -1.9034920234674675,
          -0.04442225969249496,
          0.15429995846266448,
          0.7932222997650096,
          2.539915784248557,
          -1.1930343034985709,
          -0.614857906207743,
          1.4806568174717332,
          -1.8648504458226827,
          -0.41509780444484906,
          -1.5902518624107531,
          -1.1668716248656292,
          0.7148812419826943,
          0.9205412994571905,
          -1.0552530177997501,
          -1.1144495047103273,
          -1.4148418771042273,
          -0.7978844421999658,
          -0.7196315490672652,
          -0.6581896684098428,
          -0.003017838744859791,
          1.000572700470973,
          0.03907023496823878,
          0.9445560069535803,
          -0.4370724628095535,
          -0.5308855796106563,
          0.40885528594580445,
          0.188730040054379,
          -0.7941436814811723,
          1.9071063059377538,
          -0.05371617887237018,
          -1.2180771449054735,
          -0.0027625945812005813,
          -0.7289781761912149,
          -1.5148040962595313,
          1.5310393005980325,
          1.2115849481386265,
          0.47883686689648225,
          -0.45499490210360916,
          -1.0189093313495297,
          -0.15728791717667132,
          -0.11127659476746542,
          0.8690846353904871,
          0.20354127289823257,
          -2.0630281790612797,
          1.3344770773409376,
          -1.6200000617491879,
          -0.23116693293656054,
          -0.6755590465420752,
          0.4685086761604976,
          0.49494635923821795,
          -0.005597955485651658,
          1.0885292455914743,
          -1.0407905089838017,
          -0.929490474183066,
          -1.015229473319679,
          1.8836505311940042,
          0.852998689782739,
          1.0753372020989056,
          1.4373344844109446,
          -0.03480585890954957,
          -0.37548221973787094,
          1.5645635392346884,
          1.758746465445413,
          -1.7330027977656584,
          -0.25500034465944543,
          -0.11760242138474251,
          1.9831290035306863,
          -1.6781345236672671,
          1.0916134309838674,
          -0.4986127299448885,
          0.4985659415525577,
          1.1762317481769409,
          -0.9905137465769372,
          -1.063065614167874,
          1.242282812838642,
          0.990357440665751,
          3.006402504672399,
          1.7946437084519817,
          1.2758239575605375,
          0.038206062830590415,
          -0.052200463798188414
         ],
         "yaxis": "y3"
        },
        {
         "line": {
          "color": "rgba(128, 128, 128, 1.0)",
          "dash": "solid",
          "shape": "linear",
          "width": 1.3
         },
         "marker": {
          "size": 2,
          "symbol": "circle"
         },
         "mode": "markers",
         "name": "A",
         "text": "",
         "type": "scatter",
         "x": [
          0.8776105999726939,
          -0.10918325673623544,
          0.43222002504828105,
          0.21168643105607898,
          -0.9548195681227061,
          -0.6582052405583847,
          -0.3438405764101884,
          0.024985400072480204,
          0.8845177708376631,
          1.825785856913161,
          -0.28356750209844556,
          0.2742762047578588,
          -0.6886177300532897,
          0.5455626463032112,
          0.5512032007015983,
          -0.08465280718060102,
          -1.5683868440841968,
          -2.109777683469117,
          2.405134896361823,
          0.9499776131789283,
          0.529550183658126,
          -1.7435741433932503,
          -0.9283743006001778,
          1.3966321748408201,
          0.8373142928074896,
          0.08189116770723855,
          0.5154221849354002,
          -0.03439821187574808,
          0.2869642638346971,
          -0.03845611395295513,
          2.2779916916551435,
          0.8367230528940887,
          -1.7602317632984699,
          -1.0902609470819251,
          0.370608475722315,
          0.23087291044609118,
          -0.9429003049634584,
          -0.461098739151424,
          3.2211304767698223,
          1.311354278181902,
          -1.6504354303851616,
          -0.6950894070767035,
          -0.38424297017119463,
          1.4667644026261295,
          -0.2183733939914209,
          -1.2735493192721279,
          -0.7759015930990381,
          0.8913003162757013,
          -0.1436722265327362,
          0.8363533428070496,
          0.39207836074386404,
          -0.15199663407635397,
          0.28787773000192673,
          -0.4801591093253376,
          -0.3034078886198265,
          1.7352664204007102,
          0.5930378637504586,
          2.4102024296351297,
          -0.3307829848947105,
          0.0886876517645023,
          1.277432516235606,
          0.9019558405223357,
          -0.7686226225707046,
          -1.0990782319705044,
          -1.2594527794158445,
          -0.19837010832596924,
          -0.5189316931204656,
          -0.8051186320505203,
          -2.3767339874302347,
          1.437999065479335,
          1.1017865847557078,
          -1.2797434001507912,
          -0.3995660222486687,
          -0.8090871880124815,
          -1.6292142376945211,
          0.9051799112583083,
          -1.0310477717438267,
          0.1461910289114032,
          0.15232455199932002,
          -0.12343962851039851,
          -0.24341614756844326,
          0.7196652201614023,
          -1.2080488799693634,
          -0.8418013066217972,
          -1.2231851046757791,
          1.0191435197448586,
          0.8445573153614979,
          -0.9013918480171765,
          0.6440958508132099,
          -0.5749211031387301,
          -0.44451902570747176,
          -0.14964556022134423,
          -0.2506450929917549,
          -1.489332270604689,
          0.8837149767609971,
          1.6631330486294185,
          0.01675864008521639,
          -0.08869869279391412,
          -0.3375904941282858,
          0.6560718655960883
         ],
         "xaxis": "x4",
         "y": [
          -1.8375793829805152,
          -0.15949696869273136,
          1.1310371011634441,
          0.033424317827104935,
          -0.27266433823248903,
          -1.5266480612294526,
          0.6406900998232502,
          -1.2037810103452755,
          0.45766181096666353,
          -0.65756316944976,
          1.2254607006230938,
          -0.49670888312590306,
          0.9517977824412835,
          -0.4737685536624598,
          -0.18866034695016973,
          1.7707542889792907,
          0.6323242648780771,
          0.12204537313043434,
          -1.9034920234674675,
          -0.04442225969249496,
          0.15429995846266448,
          0.7932222997650096,
          2.539915784248557,
          -1.1930343034985709,
          -0.614857906207743,
          1.4806568174717332,
          -1.8648504458226827,
          -0.41509780444484906,
          -1.5902518624107531,
          -1.1668716248656292,
          0.7148812419826943,
          0.9205412994571905,
          -1.0552530177997501,
          -1.1144495047103273,
          -1.4148418771042273,
          -0.7978844421999658,
          -0.7196315490672652,
          -0.6581896684098428,
          -0.003017838744859791,
          1.000572700470973,
          0.03907023496823878,
          0.9445560069535803,
          -0.4370724628095535,
          -0.5308855796106563,
          0.40885528594580445,
          0.188730040054379,
          -0.7941436814811723,
          1.9071063059377538,
          -0.05371617887237018,
          -1.2180771449054735,
          -0.0027625945812005813,
          -0.7289781761912149,
          -1.5148040962595313,
          1.5310393005980325,
          1.2115849481386265,
          0.47883686689648225,
          -0.45499490210360916,
          -1.0189093313495297,
          -0.15728791717667132,
          -0.11127659476746542,
          0.8690846353904871,
          0.20354127289823257,
          -2.0630281790612797,
          1.3344770773409376,
          -1.6200000617491879,
          -0.23116693293656054,
          -0.6755590465420752,
          0.4685086761604976,
          0.49494635923821795,
          -0.005597955485651658,
          1.0885292455914743,
          -1.0407905089838017,
          -0.929490474183066,
          -1.015229473319679,
          1.8836505311940042,
          0.852998689782739,
          1.0753372020989056,
          1.4373344844109446,
          -0.03480585890954957,
          -0.37548221973787094,
          1.5645635392346884,
          1.758746465445413,
          -1.7330027977656584,
          -0.25500034465944543,
          -0.11760242138474251,
          1.9831290035306863,
          -1.6781345236672671,
          1.0916134309838674,
          -0.4986127299448885,
          0.4985659415525577,
          1.1762317481769409,
          -0.9905137465769372,
          -1.063065614167874,
          1.242282812838642,
          0.990357440665751,
          3.006402504672399,
          1.7946437084519817,
          1.2758239575605375,
          0.038206062830590415,
          -0.052200463798188414
         ],
         "yaxis": "y4"
        },
        {
         "line": {
          "color": "rgba(128, 128, 128, 1.0)",
          "dash": "solid",
          "shape": "linear",
          "width": 1.3
         },
         "marker": {
          "size": 2,
          "symbol": "circle"
         },
         "mode": "markers",
         "name": "B",
         "text": "",
         "type": "scatter",
         "x": [
          -1.8375793829805152,
          -0.15949696869273136,
          1.1310371011634441,
          0.033424317827104935,
          -0.27266433823248903,
          -1.5266480612294526,
          0.6406900998232502,
          -1.2037810103452755,
          0.45766181096666353,
          -0.65756316944976,
          1.2254607006230938,
          -0.49670888312590306,
          0.9517977824412835,
          -0.4737685536624598,
          -0.18866034695016973,
          1.7707542889792907,
          0.6323242648780771,
          0.12204537313043434,
          -1.9034920234674675,
          -0.04442225969249496,
          0.15429995846266448,
          0.7932222997650096,
          2.539915784248557,
          -1.1930343034985709,
          -0.614857906207743,
          1.4806568174717332,
          -1.8648504458226827,
          -0.41509780444484906,
          -1.5902518624107531,
          -1.1668716248656292,
          0.7148812419826943,
          0.9205412994571905,
          -1.0552530177997501,
          -1.1144495047103273,
          -1.4148418771042273,
          -0.7978844421999658,
          -0.7196315490672652,
          -0.6581896684098428,
          -0.003017838744859791,
          1.000572700470973,
          0.03907023496823878,
          0.9445560069535803,
          -0.4370724628095535,
          -0.5308855796106563,
          0.40885528594580445,
          0.188730040054379,
          -0.7941436814811723,
          1.9071063059377538,
          -0.05371617887237018,
          -1.2180771449054735,
          -0.0027625945812005813,
          -0.7289781761912149,
          -1.5148040962595313,
          1.5310393005980325,
          1.2115849481386265,
          0.47883686689648225,
          -0.45499490210360916,
          -1.0189093313495297,
          -0.15728791717667132,
          -0.11127659476746542,
          0.8690846353904871,
          0.20354127289823257,
          -2.0630281790612797,
          1.3344770773409376,
          -1.6200000617491879,
          -0.23116693293656054,
          -0.6755590465420752,
          0.4685086761604976,
          0.49494635923821795,
          -0.005597955485651658,
          1.0885292455914743,
          -1.0407905089838017,
          -0.929490474183066,
          -1.015229473319679,
          1.8836505311940042,
          0.852998689782739,
          1.0753372020989056,
          1.4373344844109446,
          -0.03480585890954957,
          -0.37548221973787094,
          1.5645635392346884,
          1.758746465445413,
          -1.7330027977656584,
          -0.25500034465944543,
          -0.11760242138474251,
          1.9831290035306863,
          -1.6781345236672671,
          1.0916134309838674,
          -0.4986127299448885,
          0.4985659415525577,
          1.1762317481769409,
          -0.9905137465769372,
          -1.063065614167874,
          1.242282812838642,
          0.990357440665751,
          3.006402504672399,
          1.7946437084519817,
          1.2758239575605375,
          0.038206062830590415,
          -0.052200463798188414
         ],
         "xaxis": "x5",
         "y": [
          1.7979066365959437,
          0.46285376386792,
          -1.186763222985012,
          -1.3069987790938424,
          0.2846992419759555,
          -0.46572268676860606,
          0.37506581218122054,
          0.04307716596099602,
          -0.10030470230806747,
          0.2253581478192807,
          1.5881375303218745,
          -0.7860510560549011,
          0.0709065210939935,
          1.3179919385263983,
          0.1911135355144382,
          -0.1659826156491933,
          0.1335520665302867,
          -1.3591338016683188,
          0.6810870536812119,
          -0.3210353527483331,
          -0.9898181449092167,
          -1.2243689025562479,
          0.9843652721650106,
          -1.2543373215912461,
          0.8715596268958955,
          1.3562385722623433,
          -0.2579451332063824,
          0.8699716121262567,
          1.248480225043317,
          -1.5952232935299056,
          -0.03397694249447452,
          -0.343267396460641,
          0.28802212629747814,
          -0.8593404698722109,
          -0.2530951725001365,
          -1.1386052562784248,
          0.38917661781477536,
          -0.9825733525869731,
          -0.31696837518324317,
          0.7990527808015294,
          1.5176967691503638,
          1.410126737765439,
          -0.2743896134901539,
          -0.6929350750237689,
          0.2936921575856845,
          0.8254128170753967,
          -0.38061138001210737,
          -1.029983050729118,
          0.5164862990891124,
          0.5294226142890159,
          1.3419954272688206,
          0.4908184159374298,
          0.49612404315739556,
          -1.5353261683128314,
          -0.23122135512542397,
          -0.969643060285253,
          -0.7905605694819513,
          0.6367390711248883,
          -1.1584050310341727,
          0.7132292476684078,
          0.5512209938581333,
          -1.2332536027280028,
          1.263445214176733,
          1.0355389031994173,
          -0.4385948782738462,
          1.2783266636003576,
          0.9694074826731098,
          -0.5354973913133867,
          0.3763906230930325,
          1.0822003941489435,
          0.7361046509510144,
          -0.4335373702666788,
          -0.17899964389897075,
          -0.3648809060196582,
          -0.32072220887824276,
          -0.02508944822472686,
          -0.5833657581143926,
          -0.3995712267987253,
          0.9009130860560229,
          -1.4986325461576935,
          -1.8715391056827866,
          2.8798459765859827,
          0.07355556328316204,
          -0.022392130905374747,
          -1.4390151669046745,
          -0.12588443717729894,
          -0.1749203096655581,
          0.5710963935160036,
          -0.8221985582564402,
          1.1613570625458303,
          0.7006283651400398,
          0.028200929375390538,
          -1.1587338283713418,
          0.18389562050698247,
          -0.9159351961730826,
          1.912535172503708,
          -1.8209107037327792,
          -2.2563632012174306,
          0.05798522639921089,
          -0.7234000317144638
         ],
         "yaxis": "y5"
        },
        {
         "histfunc": "count",
         "histnorm": "",
         "marker": {
          "color": "rgba(55, 128, 191, 1.0)",
          "line": {
           "color": "#4D5663",
           "width": 1.3
          }
         },
         "name": "B",
         "nbinsx": 10,
         "opacity": 0.8,
         "orientation": "v",
         "type": "histogram",
         "x": [
          1.7979066365959437,
          0.46285376386792,
          -1.186763222985012,
          -1.3069987790938424,
          0.2846992419759555,
          -0.46572268676860606,
          0.37506581218122054,
          0.04307716596099602,
          -0.10030470230806747,
          0.2253581478192807,
          1.5881375303218745,
          -0.7860510560549011,
          0.0709065210939935,
          1.3179919385263983,
          0.1911135355144382,
          -0.1659826156491933,
          0.1335520665302867,
          -1.3591338016683188,
          0.6810870536812119,
          -0.3210353527483331,
          -0.9898181449092167,
          -1.2243689025562479,
          0.9843652721650106,
          -1.2543373215912461,
          0.8715596268958955,
          1.3562385722623433,
          -0.2579451332063824,
          0.8699716121262567,
          1.248480225043317,
          -1.5952232935299056,
          -0.03397694249447452,
          -0.343267396460641,
          0.28802212629747814,
          -0.8593404698722109,
          -0.2530951725001365,
          -1.1386052562784248,
          0.38917661781477536,
          -0.9825733525869731,
          -0.31696837518324317,
          0.7990527808015294,
          1.5176967691503638,
          1.410126737765439,
          -0.2743896134901539,
          -0.6929350750237689,
          0.2936921575856845,
          0.8254128170753967,
          -0.38061138001210737,
          -1.029983050729118,
          0.5164862990891124,
          0.5294226142890159,
          1.3419954272688206,
          0.4908184159374298,
          0.49612404315739556,
          -1.5353261683128314,
          -0.23122135512542397,
          -0.969643060285253,
          -0.7905605694819513,
          0.6367390711248883,
          -1.1584050310341727,
          0.7132292476684078,
          0.5512209938581333,
          -1.2332536027280028,
          1.263445214176733,
          1.0355389031994173,
          -0.4385948782738462,
          1.2783266636003576,
          0.9694074826731098,
          -0.5354973913133867,
          0.3763906230930325,
          1.0822003941489435,
          0.7361046509510144,
          -0.4335373702666788,
          -0.17899964389897075,
          -0.3648809060196582,
          -0.32072220887824276,
          -0.02508944822472686,
          -0.5833657581143926,
          -0.3995712267987253,
          0.9009130860560229,
          -1.4986325461576935,
          -1.8715391056827866,
          2.8798459765859827,
          0.07355556328316204,
          -0.022392130905374747,
          -1.4390151669046745,
          -0.12588443717729894,
          -0.1749203096655581,
          0.5710963935160036,
          -0.8221985582564402,
          1.1613570625458303,
          0.7006283651400398,
          0.028200929375390538,
          -1.1587338283713418,
          0.18389562050698247,
          -0.9159351961730826,
          1.912535172503708,
          -1.8209107037327792,
          -2.2563632012174306,
          0.05798522639921089,
          -0.7234000317144638
         ],
         "xaxis": "x6",
         "yaxis": "y6"
        },
        {
         "line": {
          "color": "rgba(128, 128, 128, 1.0)",
          "dash": "solid",
          "shape": "linear",
          "width": 1.3
         },
         "marker": {
          "size": 2,
          "symbol": "circle"
         },
         "mode": "markers",
         "name": "B",
         "text": "",
         "type": "scatter",
         "x": [
          -0.11195680488630352,
          0.19813513395996601,
          0.6243952583500618,
          3.4636216744699926,
          1.6025780971968129,
          -1.4842957023344758,
          1.5200032468496212,
          -0.2631744539556295,
          1.6500701251249659,
          -3.029823148650362,
          1.0265662580499642,
          -0.2567714743133042,
          2.457180119797221,
          0.5238088696860247,
          0.26209872027584513,
          0.6956634102215381,
          -0.6875276285625027,
          0.6392616577482672,
          1.3351393658985924,
          0.34141495490170315,
          -0.5659435780610622,
          -1.5608013996314807,
          0.48786006329180565,
          0.336081140259419,
          1.0175981710604358,
          -1.0135670113619677,
          0.3129251024807007,
          0.09328582639040285,
          -0.87220153866261,
          2.219797990891727,
          0.3655625592140774,
          0.8002282698773922,
          0.5158153974877858,
          -0.33700303233675205,
          -1.2940315214203613,
          1.1328240142383346,
          0.10094096472141936,
          1.7370875372990418,
          0.1839808055476812,
          1.2827729447774527,
          0.01818646549473812,
          -0.8766507338302455,
          0.11151420077033018,
          -1.226767964025608,
          0.5925924682575862,
          -0.661867073821238,
          -0.3727916276086114,
          -0.35054991247657,
          -0.725074404132708,
          -0.8056579783319012,
          -2.370764105329452,
          0.022591428355840264,
          0.1701455330688707,
          -1.2801069400543095,
          1.80983649905343,
          1.3215544377183117,
          -0.6475697652766453,
          -2.878377702333487,
          -0.3907665880809579,
          -0.9491649532134488,
          0.08817234504563345,
          0.410923543362477,
          0.2118958880439002,
          0.027784440467459877,
          -0.3580699215915449,
          -2.0625597051700364,
          -1.0760324793561697,
          0.8371078225097193,
          0.5682216990227285,
          0.06389082048082165,
          -0.9604774121864444,
          -1.5094374087850413,
          -0.9892302232683492,
          -0.08039240707564778,
          0.4338028851904076,
          -0.32565578060191,
          -1.3588064292335826,
          -0.6212581022909891,
          -0.14729134904037633,
          0.676065770331901,
          0.048383080662061546,
          1.1655116085226473,
          0.36441634440261894,
          0.13740405736192837,
          -0.2692124351999852,
          1.0333699470883486,
          -1.4292425177566495,
          1.3193573123226177,
          0.14325005584199305,
          -0.6451136154829559,
          1.5868146161808676,
          0.3139631548592902,
          -1.2599371618269581,
          0.6661701105361751,
          0.050813451678986335,
          -0.16529638984939754,
          1.7873956492526328,
          0.6855946366040738,
          -0.4169361655747808,
          1.1957640390301516
         ],
         "xaxis": "x7",
         "y": [
          1.7979066365959437,
          0.46285376386792,
          -1.186763222985012,
          -1.3069987790938424,
          0.2846992419759555,
          -0.46572268676860606,
          0.37506581218122054,
          0.04307716596099602,
          -0.10030470230806747,
          0.2253581478192807,
          1.5881375303218745,
          -0.7860510560549011,
          0.0709065210939935,
          1.3179919385263983,
          0.1911135355144382,
          -0.1659826156491933,
          0.1335520665302867,
          -1.3591338016683188,
          0.6810870536812119,
          -0.3210353527483331,
          -0.9898181449092167,
          -1.2243689025562479,
          0.9843652721650106,
          -1.2543373215912461,
          0.8715596268958955,
          1.3562385722623433,
          -0.2579451332063824,
          0.8699716121262567,
          1.248480225043317,
          -1.5952232935299056,
          -0.03397694249447452,
          -0.343267396460641,
          0.28802212629747814,
          -0.8593404698722109,
          -0.2530951725001365,
          -1.1386052562784248,
          0.38917661781477536,
          -0.9825733525869731,
          -0.31696837518324317,
          0.7990527808015294,
          1.5176967691503638,
          1.410126737765439,
          -0.2743896134901539,
          -0.6929350750237689,
          0.2936921575856845,
          0.8254128170753967,
          -0.38061138001210737,
          -1.029983050729118,
          0.5164862990891124,
          0.5294226142890159,
          1.3419954272688206,
          0.4908184159374298,
          0.49612404315739556,
          -1.5353261683128314,
          -0.23122135512542397,
          -0.969643060285253,
          -0.7905605694819513,
          0.6367390711248883,
          -1.1584050310341727,
          0.7132292476684078,
          0.5512209938581333,
          -1.2332536027280028,
          1.263445214176733,
          1.0355389031994173,
          -0.4385948782738462,
          1.2783266636003576,
          0.9694074826731098,
          -0.5354973913133867,
          0.3763906230930325,
          1.0822003941489435,
          0.7361046509510144,
          -0.4335373702666788,
          -0.17899964389897075,
          -0.3648809060196582,
          -0.32072220887824276,
          -0.02508944822472686,
          -0.5833657581143926,
          -0.3995712267987253,
          0.9009130860560229,
          -1.4986325461576935,
          -1.8715391056827866,
          2.8798459765859827,
          0.07355556328316204,
          -0.022392130905374747,
          -1.4390151669046745,
          -0.12588443717729894,
          -0.1749203096655581,
          0.5710963935160036,
          -0.8221985582564402,
          1.1613570625458303,
          0.7006283651400398,
          0.028200929375390538,
          -1.1587338283713418,
          0.18389562050698247,
          -0.9159351961730826,
          1.912535172503708,
          -1.8209107037327792,
          -2.2563632012174306,
          0.05798522639921089,
          -0.7234000317144638
         ],
         "yaxis": "y7"
        },
        {
         "line": {
          "color": "rgba(128, 128, 128, 1.0)",
          "dash": "solid",
          "shape": "linear",
          "width": 1.3
         },
         "marker": {
          "size": 2,
          "symbol": "circle"
         },
         "mode": "markers",
         "name": "B",
         "text": "",
         "type": "scatter",
         "x": [
          0.8776105999726939,
          -0.10918325673623544,
          0.43222002504828105,
          0.21168643105607898,
          -0.9548195681227061,
          -0.6582052405583847,
          -0.3438405764101884,
          0.024985400072480204,
          0.8845177708376631,
          1.825785856913161,
          -0.28356750209844556,
          0.2742762047578588,
          -0.6886177300532897,
          0.5455626463032112,
          0.5512032007015983,
          -0.08465280718060102,
          -1.5683868440841968,
          -2.109777683469117,
          2.405134896361823,
          0.9499776131789283,
          0.529550183658126,
          -1.7435741433932503,
          -0.9283743006001778,
          1.3966321748408201,
          0.8373142928074896,
          0.08189116770723855,
          0.5154221849354002,
          -0.03439821187574808,
          0.2869642638346971,
          -0.03845611395295513,
          2.2779916916551435,
          0.8367230528940887,
          -1.7602317632984699,
          -1.0902609470819251,
          0.370608475722315,
          0.23087291044609118,
          -0.9429003049634584,
          -0.461098739151424,
          3.2211304767698223,
          1.311354278181902,
          -1.6504354303851616,
          -0.6950894070767035,
          -0.38424297017119463,
          1.4667644026261295,
          -0.2183733939914209,
          -1.2735493192721279,
          -0.7759015930990381,
          0.8913003162757013,
          -0.1436722265327362,
          0.8363533428070496,
          0.39207836074386404,
          -0.15199663407635397,
          0.28787773000192673,
          -0.4801591093253376,
          -0.3034078886198265,
          1.7352664204007102,
          0.5930378637504586,
          2.4102024296351297,
          -0.3307829848947105,
          0.0886876517645023,
          1.277432516235606,
          0.9019558405223357,
          -0.7686226225707046,
          -1.0990782319705044,
          -1.2594527794158445,
          -0.19837010832596924,
          -0.5189316931204656,
          -0.8051186320505203,
          -2.3767339874302347,
          1.437999065479335,
          1.1017865847557078,
          -1.2797434001507912,
          -0.3995660222486687,
          -0.8090871880124815,
          -1.6292142376945211,
          0.9051799112583083,
          -1.0310477717438267,
          0.1461910289114032,
          0.15232455199932002,
          -0.12343962851039851,
          -0.24341614756844326,
          0.7196652201614023,
          -1.2080488799693634,
          -0.8418013066217972,
          -1.2231851046757791,
          1.0191435197448586,
          0.8445573153614979,
          -0.9013918480171765,
          0.6440958508132099,
          -0.5749211031387301,
          -0.44451902570747176,
          -0.14964556022134423,
          -0.2506450929917549,
          -1.489332270604689,
          0.8837149767609971,
          1.6631330486294185,
          0.01675864008521639,
          -0.08869869279391412,
          -0.3375904941282858,
          0.6560718655960883
         ],
         "xaxis": "x8",
         "y": [
          1.7979066365959437,
          0.46285376386792,
          -1.186763222985012,
          -1.3069987790938424,
          0.2846992419759555,
          -0.46572268676860606,
          0.37506581218122054,
          0.04307716596099602,
          -0.10030470230806747,
          0.2253581478192807,
          1.5881375303218745,
          -0.7860510560549011,
          0.0709065210939935,
          1.3179919385263983,
          0.1911135355144382,
          -0.1659826156491933,
          0.1335520665302867,
          -1.3591338016683188,
          0.6810870536812119,
          -0.3210353527483331,
          -0.9898181449092167,
          -1.2243689025562479,
          0.9843652721650106,
          -1.2543373215912461,
          0.8715596268958955,
          1.3562385722623433,
          -0.2579451332063824,
          0.8699716121262567,
          1.248480225043317,
          -1.5952232935299056,
          -0.03397694249447452,
          -0.343267396460641,
          0.28802212629747814,
          -0.8593404698722109,
          -0.2530951725001365,
          -1.1386052562784248,
          0.38917661781477536,
          -0.9825733525869731,
          -0.31696837518324317,
          0.7990527808015294,
          1.5176967691503638,
          1.410126737765439,
          -0.2743896134901539,
          -0.6929350750237689,
          0.2936921575856845,
          0.8254128170753967,
          -0.38061138001210737,
          -1.029983050729118,
          0.5164862990891124,
          0.5294226142890159,
          1.3419954272688206,
          0.4908184159374298,
          0.49612404315739556,
          -1.5353261683128314,
          -0.23122135512542397,
          -0.969643060285253,
          -0.7905605694819513,
          0.6367390711248883,
          -1.1584050310341727,
          0.7132292476684078,
          0.5512209938581333,
          -1.2332536027280028,
          1.263445214176733,
          1.0355389031994173,
          -0.4385948782738462,
          1.2783266636003576,
          0.9694074826731098,
          -0.5354973913133867,
          0.3763906230930325,
          1.0822003941489435,
          0.7361046509510144,
          -0.4335373702666788,
          -0.17899964389897075,
          -0.3648809060196582,
          -0.32072220887824276,
          -0.02508944822472686,
          -0.5833657581143926,
          -0.3995712267987253,
          0.9009130860560229,
          -1.4986325461576935,
          -1.8715391056827866,
          2.8798459765859827,
          0.07355556328316204,
          -0.022392130905374747,
          -1.4390151669046745,
          -0.12588443717729894,
          -0.1749203096655581,
          0.5710963935160036,
          -0.8221985582564402,
          1.1613570625458303,
          0.7006283651400398,
          0.028200929375390538,
          -1.1587338283713418,
          0.18389562050698247,
          -0.9159351961730826,
          1.912535172503708,
          -1.8209107037327792,
          -2.2563632012174306,
          0.05798522639921089,
          -0.7234000317144638
         ],
         "yaxis": "y8"
        },
        {
         "line": {
          "color": "rgba(128, 128, 128, 1.0)",
          "dash": "solid",
          "shape": "linear",
          "width": 1.3
         },
         "marker": {
          "size": 2,
          "symbol": "circle"
         },
         "mode": "markers",
         "name": "C",
         "text": "",
         "type": "scatter",
         "x": [
          -1.8375793829805152,
          -0.15949696869273136,
          1.1310371011634441,
          0.033424317827104935,
          -0.27266433823248903,
          -1.5266480612294526,
          0.6406900998232502,
          -1.2037810103452755,
          0.45766181096666353,
          -0.65756316944976,
          1.2254607006230938,
          -0.49670888312590306,
          0.9517977824412835,
          -0.4737685536624598,
          -0.18866034695016973,
          1.7707542889792907,
          0.6323242648780771,
          0.12204537313043434,
          -1.9034920234674675,
          -0.04442225969249496,
          0.15429995846266448,
          0.7932222997650096,
          2.539915784248557,
          -1.1930343034985709,
          -0.614857906207743,
          1.4806568174717332,
          -1.8648504458226827,
          -0.41509780444484906,
          -1.5902518624107531,
          -1.1668716248656292,
          0.7148812419826943,
          0.9205412994571905,
          -1.0552530177997501,
          -1.1144495047103273,
          -1.4148418771042273,
          -0.7978844421999658,
          -0.7196315490672652,
          -0.6581896684098428,
          -0.003017838744859791,
          1.000572700470973,
          0.03907023496823878,
          0.9445560069535803,
          -0.4370724628095535,
          -0.5308855796106563,
          0.40885528594580445,
          0.188730040054379,
          -0.7941436814811723,
          1.9071063059377538,
          -0.05371617887237018,
          -1.2180771449054735,
          -0.0027625945812005813,
          -0.7289781761912149,
          -1.5148040962595313,
          1.5310393005980325,
          1.2115849481386265,
          0.47883686689648225,
          -0.45499490210360916,
          -1.0189093313495297,
          -0.15728791717667132,
          -0.11127659476746542,
          0.8690846353904871,
          0.20354127289823257,
          -2.0630281790612797,
          1.3344770773409376,
          -1.6200000617491879,
          -0.23116693293656054,
          -0.6755590465420752,
          0.4685086761604976,
          0.49494635923821795,
          -0.005597955485651658,
          1.0885292455914743,
          -1.0407905089838017,
          -0.929490474183066,
          -1.015229473319679,
          1.8836505311940042,
          0.852998689782739,
          1.0753372020989056,
          1.4373344844109446,
          -0.03480585890954957,
          -0.37548221973787094,
          1.5645635392346884,
          1.758746465445413,
          -1.7330027977656584,
          -0.25500034465944543,
          -0.11760242138474251,
          1.9831290035306863,
          -1.6781345236672671,
          1.0916134309838674,
          -0.4986127299448885,
          0.4985659415525577,
          1.1762317481769409,
          -0.9905137465769372,
          -1.063065614167874,
          1.242282812838642,
          0.990357440665751,
          3.006402504672399,
          1.7946437084519817,
          1.2758239575605375,
          0.038206062830590415,
          -0.052200463798188414
         ],
         "xaxis": "x9",
         "y": [
          -0.11195680488630352,
          0.19813513395996601,
          0.6243952583500618,
          3.4636216744699926,
          1.6025780971968129,
          -1.4842957023344758,
          1.5200032468496212,
          -0.2631744539556295,
          1.6500701251249659,
          -3.029823148650362,
          1.0265662580499642,
          -0.2567714743133042,
          2.457180119797221,
          0.5238088696860247,
          0.26209872027584513,
          0.6956634102215381,
          -0.6875276285625027,
          0.6392616577482672,
          1.3351393658985924,
          0.34141495490170315,
          -0.5659435780610622,
          -1.5608013996314807,
          0.48786006329180565,
          0.336081140259419,
          1.0175981710604358,
          -1.0135670113619677,
          0.3129251024807007,
          0.09328582639040285,
          -0.87220153866261,
          2.219797990891727,
          0.3655625592140774,
          0.8002282698773922,
          0.5158153974877858,
          -0.33700303233675205,
          -1.2940315214203613,
          1.1328240142383346,
          0.10094096472141936,
          1.7370875372990418,
          0.1839808055476812,
          1.2827729447774527,
          0.01818646549473812,
          -0.8766507338302455,
          0.11151420077033018,
          -1.226767964025608,
          0.5925924682575862,
          -0.661867073821238,
          -0.3727916276086114,
          -0.35054991247657,
          -0.725074404132708,
          -0.8056579783319012,
          -2.370764105329452,
          0.022591428355840264,
          0.1701455330688707,
          -1.2801069400543095,
          1.80983649905343,
          1.3215544377183117,
          -0.6475697652766453,
          -2.878377702333487,
          -0.3907665880809579,
          -0.9491649532134488,
          0.08817234504563345,
          0.410923543362477,
          0.2118958880439002,
          0.027784440467459877,
          -0.3580699215915449,
          -2.0625597051700364,
          -1.0760324793561697,
          0.8371078225097193,
          0.5682216990227285,
          0.06389082048082165,
          -0.9604774121864444,
          -1.5094374087850413,
          -0.9892302232683492,
          -0.08039240707564778,
          0.4338028851904076,
          -0.32565578060191,
          -1.3588064292335826,
          -0.6212581022909891,
          -0.14729134904037633,
          0.676065770331901,
          0.048383080662061546,
          1.1655116085226473,
          0.36441634440261894,
          0.13740405736192837,
          -0.2692124351999852,
          1.0333699470883486,
          -1.4292425177566495,
          1.3193573123226177,
          0.14325005584199305,
          -0.6451136154829559,
          1.5868146161808676,
          0.3139631548592902,
          -1.2599371618269581,
          0.6661701105361751,
          0.050813451678986335,
          -0.16529638984939754,
          1.7873956492526328,
          0.6855946366040738,
          -0.4169361655747808,
          1.1957640390301516
         ],
         "yaxis": "y9"
        },
        {
         "line": {
          "color": "rgba(128, 128, 128, 1.0)",
          "dash": "solid",
          "shape": "linear",
          "width": 1.3
         },
         "marker": {
          "size": 2,
          "symbol": "circle"
         },
         "mode": "markers",
         "name": "C",
         "text": "",
         "type": "scatter",
         "x": [
          1.7979066365959437,
          0.46285376386792,
          -1.186763222985012,
          -1.3069987790938424,
          0.2846992419759555,
          -0.46572268676860606,
          0.37506581218122054,
          0.04307716596099602,
          -0.10030470230806747,
          0.2253581478192807,
          1.5881375303218745,
          -0.7860510560549011,
          0.0709065210939935,
          1.3179919385263983,
          0.1911135355144382,
          -0.1659826156491933,
          0.1335520665302867,
          -1.3591338016683188,
          0.6810870536812119,
          -0.3210353527483331,
          -0.9898181449092167,
          -1.2243689025562479,
          0.9843652721650106,
          -1.2543373215912461,
          0.8715596268958955,
          1.3562385722623433,
          -0.2579451332063824,
          0.8699716121262567,
          1.248480225043317,
          -1.5952232935299056,
          -0.03397694249447452,
          -0.343267396460641,
          0.28802212629747814,
          -0.8593404698722109,
          -0.2530951725001365,
          -1.1386052562784248,
          0.38917661781477536,
          -0.9825733525869731,
          -0.31696837518324317,
          0.7990527808015294,
          1.5176967691503638,
          1.410126737765439,
          -0.2743896134901539,
          -0.6929350750237689,
          0.2936921575856845,
          0.8254128170753967,
          -0.38061138001210737,
          -1.029983050729118,
          0.5164862990891124,
          0.5294226142890159,
          1.3419954272688206,
          0.4908184159374298,
          0.49612404315739556,
          -1.5353261683128314,
          -0.23122135512542397,
          -0.969643060285253,
          -0.7905605694819513,
          0.6367390711248883,
          -1.1584050310341727,
          0.7132292476684078,
          0.5512209938581333,
          -1.2332536027280028,
          1.263445214176733,
          1.0355389031994173,
          -0.4385948782738462,
          1.2783266636003576,
          0.9694074826731098,
          -0.5354973913133867,
          0.3763906230930325,
          1.0822003941489435,
          0.7361046509510144,
          -0.4335373702666788,
          -0.17899964389897075,
          -0.3648809060196582,
          -0.32072220887824276,
          -0.02508944822472686,
          -0.5833657581143926,
          -0.3995712267987253,
          0.9009130860560229,
          -1.4986325461576935,
          -1.8715391056827866,
          2.8798459765859827,
          0.07355556328316204,
          -0.022392130905374747,
          -1.4390151669046745,
          -0.12588443717729894,
          -0.1749203096655581,
          0.5710963935160036,
          -0.8221985582564402,
          1.1613570625458303,
          0.7006283651400398,
          0.028200929375390538,
          -1.1587338283713418,
          0.18389562050698247,
          -0.9159351961730826,
          1.912535172503708,
          -1.8209107037327792,
          -2.2563632012174306,
          0.05798522639921089,
          -0.7234000317144638
         ],
         "xaxis": "x10",
         "y": [
          -0.11195680488630352,
          0.19813513395996601,
          0.6243952583500618,
          3.4636216744699926,
          1.6025780971968129,
          -1.4842957023344758,
          1.5200032468496212,
          -0.2631744539556295,
          1.6500701251249659,
          -3.029823148650362,
          1.0265662580499642,
          -0.2567714743133042,
          2.457180119797221,
          0.5238088696860247,
          0.26209872027584513,
          0.6956634102215381,
          -0.6875276285625027,
          0.6392616577482672,
          1.3351393658985924,
          0.34141495490170315,
          -0.5659435780610622,
          -1.5608013996314807,
          0.48786006329180565,
          0.336081140259419,
          1.0175981710604358,
          -1.0135670113619677,
          0.3129251024807007,
          0.09328582639040285,
          -0.87220153866261,
          2.219797990891727,
          0.3655625592140774,
          0.8002282698773922,
          0.5158153974877858,
          -0.33700303233675205,
          -1.2940315214203613,
          1.1328240142383346,
          0.10094096472141936,
          1.7370875372990418,
          0.1839808055476812,
          1.2827729447774527,
          0.01818646549473812,
          -0.8766507338302455,
          0.11151420077033018,
          -1.226767964025608,
          0.5925924682575862,
          -0.661867073821238,
          -0.3727916276086114,
          -0.35054991247657,
          -0.725074404132708,
          -0.8056579783319012,
          -2.370764105329452,
          0.022591428355840264,
          0.1701455330688707,
          -1.2801069400543095,
          1.80983649905343,
          1.3215544377183117,
          -0.6475697652766453,
          -2.878377702333487,
          -0.3907665880809579,
          -0.9491649532134488,
          0.08817234504563345,
          0.410923543362477,
          0.2118958880439002,
          0.027784440467459877,
          -0.3580699215915449,
          -2.0625597051700364,
          -1.0760324793561697,
          0.8371078225097193,
          0.5682216990227285,
          0.06389082048082165,
          -0.9604774121864444,
          -1.5094374087850413,
          -0.9892302232683492,
          -0.08039240707564778,
          0.4338028851904076,
          -0.32565578060191,
          -1.3588064292335826,
          -0.6212581022909891,
          -0.14729134904037633,
          0.676065770331901,
          0.048383080662061546,
          1.1655116085226473,
          0.36441634440261894,
          0.13740405736192837,
          -0.2692124351999852,
          1.0333699470883486,
          -1.4292425177566495,
          1.3193573123226177,
          0.14325005584199305,
          -0.6451136154829559,
          1.5868146161808676,
          0.3139631548592902,
          -1.2599371618269581,
          0.6661701105361751,
          0.050813451678986335,
          -0.16529638984939754,
          1.7873956492526328,
          0.6855946366040738,
          -0.4169361655747808,
          1.1957640390301516
         ],
         "yaxis": "y10"
        },
        {
         "histfunc": "count",
         "histnorm": "",
         "marker": {
          "color": "rgba(50, 171, 96, 1.0)",
          "line": {
           "color": "#4D5663",
           "width": 1.3
          }
         },
         "name": "C",
         "nbinsx": 10,
         "opacity": 0.8,
         "orientation": "v",
         "type": "histogram",
         "x": [
          -0.11195680488630352,
          0.19813513395996601,
          0.6243952583500618,
          3.4636216744699926,
          1.6025780971968129,
          -1.4842957023344758,
          1.5200032468496212,
          -0.2631744539556295,
          1.6500701251249659,
          -3.029823148650362,
          1.0265662580499642,
          -0.2567714743133042,
          2.457180119797221,
          0.5238088696860247,
          0.26209872027584513,
          0.6956634102215381,
          -0.6875276285625027,
          0.6392616577482672,
          1.3351393658985924,
          0.34141495490170315,
          -0.5659435780610622,
          -1.5608013996314807,
          0.48786006329180565,
          0.336081140259419,
          1.0175981710604358,
          -1.0135670113619677,
          0.3129251024807007,
          0.09328582639040285,
          -0.87220153866261,
          2.219797990891727,
          0.3655625592140774,
          0.8002282698773922,
          0.5158153974877858,
          -0.33700303233675205,
          -1.2940315214203613,
          1.1328240142383346,
          0.10094096472141936,
          1.7370875372990418,
          0.1839808055476812,
          1.2827729447774527,
          0.01818646549473812,
          -0.8766507338302455,
          0.11151420077033018,
          -1.226767964025608,
          0.5925924682575862,
          -0.661867073821238,
          -0.3727916276086114,
          -0.35054991247657,
          -0.725074404132708,
          -0.8056579783319012,
          -2.370764105329452,
          0.022591428355840264,
          0.1701455330688707,
          -1.2801069400543095,
          1.80983649905343,
          1.3215544377183117,
          -0.6475697652766453,
          -2.878377702333487,
          -0.3907665880809579,
          -0.9491649532134488,
          0.08817234504563345,
          0.410923543362477,
          0.2118958880439002,
          0.027784440467459877,
          -0.3580699215915449,
          -2.0625597051700364,
          -1.0760324793561697,
          0.8371078225097193,
          0.5682216990227285,
          0.06389082048082165,
          -0.9604774121864444,
          -1.5094374087850413,
          -0.9892302232683492,
          -0.08039240707564778,
          0.4338028851904076,
          -0.32565578060191,
          -1.3588064292335826,
          -0.6212581022909891,
          -0.14729134904037633,
          0.676065770331901,
          0.048383080662061546,
          1.1655116085226473,
          0.36441634440261894,
          0.13740405736192837,
          -0.2692124351999852,
          1.0333699470883486,
          -1.4292425177566495,
          1.3193573123226177,
          0.14325005584199305,
          -0.6451136154829559,
          1.5868146161808676,
          0.3139631548592902,
          -1.2599371618269581,
          0.6661701105361751,
          0.050813451678986335,
          -0.16529638984939754,
          1.7873956492526328,
          0.6855946366040738,
          -0.4169361655747808,
          1.1957640390301516
         ],
         "xaxis": "x11",
         "yaxis": "y11"
        },
        {
         "line": {
          "color": "rgba(128, 128, 128, 1.0)",
          "dash": "solid",
          "shape": "linear",
          "width": 1.3
         },
         "marker": {
          "size": 2,
          "symbol": "circle"
         },
         "mode": "markers",
         "name": "C",
         "text": "",
         "type": "scatter",
         "x": [
          0.8776105999726939,
          -0.10918325673623544,
          0.43222002504828105,
          0.21168643105607898,
          -0.9548195681227061,
          -0.6582052405583847,
          -0.3438405764101884,
          0.024985400072480204,
          0.8845177708376631,
          1.825785856913161,
          -0.28356750209844556,
          0.2742762047578588,
          -0.6886177300532897,
          0.5455626463032112,
          0.5512032007015983,
          -0.08465280718060102,
          -1.5683868440841968,
          -2.109777683469117,
          2.405134896361823,
          0.9499776131789283,
          0.529550183658126,
          -1.7435741433932503,
          -0.9283743006001778,
          1.3966321748408201,
          0.8373142928074896,
          0.08189116770723855,
          0.5154221849354002,
          -0.03439821187574808,
          0.2869642638346971,
          -0.03845611395295513,
          2.2779916916551435,
          0.8367230528940887,
          -1.7602317632984699,
          -1.0902609470819251,
          0.370608475722315,
          0.23087291044609118,
          -0.9429003049634584,
          -0.461098739151424,
          3.2211304767698223,
          1.311354278181902,
          -1.6504354303851616,
          -0.6950894070767035,
          -0.38424297017119463,
          1.4667644026261295,
          -0.2183733939914209,
          -1.2735493192721279,
          -0.7759015930990381,
          0.8913003162757013,
          -0.1436722265327362,
          0.8363533428070496,
          0.39207836074386404,
          -0.15199663407635397,
          0.28787773000192673,
          -0.4801591093253376,
          -0.3034078886198265,
          1.7352664204007102,
          0.5930378637504586,
          2.4102024296351297,
          -0.3307829848947105,
          0.0886876517645023,
          1.277432516235606,
          0.9019558405223357,
          -0.7686226225707046,
          -1.0990782319705044,
          -1.2594527794158445,
          -0.19837010832596924,
          -0.5189316931204656,
          -0.8051186320505203,
          -2.3767339874302347,
          1.437999065479335,
          1.1017865847557078,
          -1.2797434001507912,
          -0.3995660222486687,
          -0.8090871880124815,
          -1.6292142376945211,
          0.9051799112583083,
          -1.0310477717438267,
          0.1461910289114032,
          0.15232455199932002,
          -0.12343962851039851,
          -0.24341614756844326,
          0.7196652201614023,
          -1.2080488799693634,
          -0.8418013066217972,
          -1.2231851046757791,
          1.0191435197448586,
          0.8445573153614979,
          -0.9013918480171765,
          0.6440958508132099,
          -0.5749211031387301,
          -0.44451902570747176,
          -0.14964556022134423,
          -0.2506450929917549,
          -1.489332270604689,
          0.8837149767609971,
          1.6631330486294185,
          0.01675864008521639,
          -0.08869869279391412,
          -0.3375904941282858,
          0.6560718655960883
         ],
         "xaxis": "x12",
         "y": [
          -0.11195680488630352,
          0.19813513395996601,
          0.6243952583500618,
          3.4636216744699926,
          1.6025780971968129,
          -1.4842957023344758,
          1.5200032468496212,
          -0.2631744539556295,
          1.6500701251249659,
          -3.029823148650362,
          1.0265662580499642,
          -0.2567714743133042,
          2.457180119797221,
          0.5238088696860247,
          0.26209872027584513,
          0.6956634102215381,
          -0.6875276285625027,
          0.6392616577482672,
          1.3351393658985924,
          0.34141495490170315,
          -0.5659435780610622,
          -1.5608013996314807,
          0.48786006329180565,
          0.336081140259419,
          1.0175981710604358,
          -1.0135670113619677,
          0.3129251024807007,
          0.09328582639040285,
          -0.87220153866261,
          2.219797990891727,
          0.3655625592140774,
          0.8002282698773922,
          0.5158153974877858,
          -0.33700303233675205,
          -1.2940315214203613,
          1.1328240142383346,
          0.10094096472141936,
          1.7370875372990418,
          0.1839808055476812,
          1.2827729447774527,
          0.01818646549473812,
          -0.8766507338302455,
          0.11151420077033018,
          -1.226767964025608,
          0.5925924682575862,
          -0.661867073821238,
          -0.3727916276086114,
          -0.35054991247657,
          -0.725074404132708,
          -0.8056579783319012,
          -2.370764105329452,
          0.022591428355840264,
          0.1701455330688707,
          -1.2801069400543095,
          1.80983649905343,
          1.3215544377183117,
          -0.6475697652766453,
          -2.878377702333487,
          -0.3907665880809579,
          -0.9491649532134488,
          0.08817234504563345,
          0.410923543362477,
          0.2118958880439002,
          0.027784440467459877,
          -0.3580699215915449,
          -2.0625597051700364,
          -1.0760324793561697,
          0.8371078225097193,
          0.5682216990227285,
          0.06389082048082165,
          -0.9604774121864444,
          -1.5094374087850413,
          -0.9892302232683492,
          -0.08039240707564778,
          0.4338028851904076,
          -0.32565578060191,
          -1.3588064292335826,
          -0.6212581022909891,
          -0.14729134904037633,
          0.676065770331901,
          0.048383080662061546,
          1.1655116085226473,
          0.36441634440261894,
          0.13740405736192837,
          -0.2692124351999852,
          1.0333699470883486,
          -1.4292425177566495,
          1.3193573123226177,
          0.14325005584199305,
          -0.6451136154829559,
          1.5868146161808676,
          0.3139631548592902,
          -1.2599371618269581,
          0.6661701105361751,
          0.050813451678986335,
          -0.16529638984939754,
          1.7873956492526328,
          0.6855946366040738,
          -0.4169361655747808,
          1.1957640390301516
         ],
         "yaxis": "y12"
        },
        {
         "line": {
          "color": "rgba(128, 128, 128, 1.0)",
          "dash": "solid",
          "shape": "linear",
          "width": 1.3
         },
         "marker": {
          "size": 2,
          "symbol": "circle"
         },
         "mode": "markers",
         "name": "D",
         "text": "",
         "type": "scatter",
         "x": [
          -1.8375793829805152,
          -0.15949696869273136,
          1.1310371011634441,
          0.033424317827104935,
          -0.27266433823248903,
          -1.5266480612294526,
          0.6406900998232502,
          -1.2037810103452755,
          0.45766181096666353,
          -0.65756316944976,
          1.2254607006230938,
          -0.49670888312590306,
          0.9517977824412835,
          -0.4737685536624598,
          -0.18866034695016973,
          1.7707542889792907,
          0.6323242648780771,
          0.12204537313043434,
          -1.9034920234674675,
          -0.04442225969249496,
          0.15429995846266448,
          0.7932222997650096,
          2.539915784248557,
          -1.1930343034985709,
          -0.614857906207743,
          1.4806568174717332,
          -1.8648504458226827,
          -0.41509780444484906,
          -1.5902518624107531,
          -1.1668716248656292,
          0.7148812419826943,
          0.9205412994571905,
          -1.0552530177997501,
          -1.1144495047103273,
          -1.4148418771042273,
          -0.7978844421999658,
          -0.7196315490672652,
          -0.6581896684098428,
          -0.003017838744859791,
          1.000572700470973,
          0.03907023496823878,
          0.9445560069535803,
          -0.4370724628095535,
          -0.5308855796106563,
          0.40885528594580445,
          0.188730040054379,
          -0.7941436814811723,
          1.9071063059377538,
          -0.05371617887237018,
          -1.2180771449054735,
          -0.0027625945812005813,
          -0.7289781761912149,
          -1.5148040962595313,
          1.5310393005980325,
          1.2115849481386265,
          0.47883686689648225,
          -0.45499490210360916,
          -1.0189093313495297,
          -0.15728791717667132,
          -0.11127659476746542,
          0.8690846353904871,
          0.20354127289823257,
          -2.0630281790612797,
          1.3344770773409376,
          -1.6200000617491879,
          -0.23116693293656054,
          -0.6755590465420752,
          0.4685086761604976,
          0.49494635923821795,
          -0.005597955485651658,
          1.0885292455914743,
          -1.0407905089838017,
          -0.929490474183066,
          -1.015229473319679,
          1.8836505311940042,
          0.852998689782739,
          1.0753372020989056,
          1.4373344844109446,
          -0.03480585890954957,
          -0.37548221973787094,
          1.5645635392346884,
          1.758746465445413,
          -1.7330027977656584,
          -0.25500034465944543,
          -0.11760242138474251,
          1.9831290035306863,
          -1.6781345236672671,
          1.0916134309838674,
          -0.4986127299448885,
          0.4985659415525577,
          1.1762317481769409,
          -0.9905137465769372,
          -1.063065614167874,
          1.242282812838642,
          0.990357440665751,
          3.006402504672399,
          1.7946437084519817,
          1.2758239575605375,
          0.038206062830590415,
          -0.052200463798188414
         ],
         "xaxis": "x13",
         "y": [
          0.8776105999726939,
          -0.10918325673623544,
          0.43222002504828105,
          0.21168643105607898,
          -0.9548195681227061,
          -0.6582052405583847,
          -0.3438405764101884,
          0.024985400072480204,
          0.8845177708376631,
          1.825785856913161,
          -0.28356750209844556,
          0.2742762047578588,
          -0.6886177300532897,
          0.5455626463032112,
          0.5512032007015983,
          -0.08465280718060102,
          -1.5683868440841968,
          -2.109777683469117,
          2.405134896361823,
          0.9499776131789283,
          0.529550183658126,
          -1.7435741433932503,
          -0.9283743006001778,
          1.3966321748408201,
          0.8373142928074896,
          0.08189116770723855,
          0.5154221849354002,
          -0.03439821187574808,
          0.2869642638346971,
          -0.03845611395295513,
          2.2779916916551435,
          0.8367230528940887,
          -1.7602317632984699,
          -1.0902609470819251,
          0.370608475722315,
          0.23087291044609118,
          -0.9429003049634584,
          -0.461098739151424,
          3.2211304767698223,
          1.311354278181902,
          -1.6504354303851616,
          -0.6950894070767035,
          -0.38424297017119463,
          1.4667644026261295,
          -0.2183733939914209,
          -1.2735493192721279,
          -0.7759015930990381,
          0.8913003162757013,
          -0.1436722265327362,
          0.8363533428070496,
          0.39207836074386404,
          -0.15199663407635397,
          0.28787773000192673,
          -0.4801591093253376,
          -0.3034078886198265,
          1.7352664204007102,
          0.5930378637504586,
          2.4102024296351297,
          -0.3307829848947105,
          0.0886876517645023,
          1.277432516235606,
          0.9019558405223357,
          -0.7686226225707046,
          -1.0990782319705044,
          -1.2594527794158445,
          -0.19837010832596924,
          -0.5189316931204656,
          -0.8051186320505203,
          -2.3767339874302347,
          1.437999065479335,
          1.1017865847557078,
          -1.2797434001507912,
          -0.3995660222486687,
          -0.8090871880124815,
          -1.6292142376945211,
          0.9051799112583083,
          -1.0310477717438267,
          0.1461910289114032,
          0.15232455199932002,
          -0.12343962851039851,
          -0.24341614756844326,
          0.7196652201614023,
          -1.2080488799693634,
          -0.8418013066217972,
          -1.2231851046757791,
          1.0191435197448586,
          0.8445573153614979,
          -0.9013918480171765,
          0.6440958508132099,
          -0.5749211031387301,
          -0.44451902570747176,
          -0.14964556022134423,
          -0.2506450929917549,
          -1.489332270604689,
          0.8837149767609971,
          1.6631330486294185,
          0.01675864008521639,
          -0.08869869279391412,
          -0.3375904941282858,
          0.6560718655960883
         ],
         "yaxis": "y13"
        },
        {
         "line": {
          "color": "rgba(128, 128, 128, 1.0)",
          "dash": "solid",
          "shape": "linear",
          "width": 1.3
         },
         "marker": {
          "size": 2,
          "symbol": "circle"
         },
         "mode": "markers",
         "name": "D",
         "text": "",
         "type": "scatter",
         "x": [
          1.7979066365959437,
          0.46285376386792,
          -1.186763222985012,
          -1.3069987790938424,
          0.2846992419759555,
          -0.46572268676860606,
          0.37506581218122054,
          0.04307716596099602,
          -0.10030470230806747,
          0.2253581478192807,
          1.5881375303218745,
          -0.7860510560549011,
          0.0709065210939935,
          1.3179919385263983,
          0.1911135355144382,
          -0.1659826156491933,
          0.1335520665302867,
          -1.3591338016683188,
          0.6810870536812119,
          -0.3210353527483331,
          -0.9898181449092167,
          -1.2243689025562479,
          0.9843652721650106,
          -1.2543373215912461,
          0.8715596268958955,
          1.3562385722623433,
          -0.2579451332063824,
          0.8699716121262567,
          1.248480225043317,
          -1.5952232935299056,
          -0.03397694249447452,
          -0.343267396460641,
          0.28802212629747814,
          -0.8593404698722109,
          -0.2530951725001365,
          -1.1386052562784248,
          0.38917661781477536,
          -0.9825733525869731,
          -0.31696837518324317,
          0.7990527808015294,
          1.5176967691503638,
          1.410126737765439,
          -0.2743896134901539,
          -0.6929350750237689,
          0.2936921575856845,
          0.8254128170753967,
          -0.38061138001210737,
          -1.029983050729118,
          0.5164862990891124,
          0.5294226142890159,
          1.3419954272688206,
          0.4908184159374298,
          0.49612404315739556,
          -1.5353261683128314,
          -0.23122135512542397,
          -0.969643060285253,
          -0.7905605694819513,
          0.6367390711248883,
          -1.1584050310341727,
          0.7132292476684078,
          0.5512209938581333,
          -1.2332536027280028,
          1.263445214176733,
          1.0355389031994173,
          -0.4385948782738462,
          1.2783266636003576,
          0.9694074826731098,
          -0.5354973913133867,
          0.3763906230930325,
          1.0822003941489435,
          0.7361046509510144,
          -0.4335373702666788,
          -0.17899964389897075,
          -0.3648809060196582,
          -0.32072220887824276,
          -0.02508944822472686,
          -0.5833657581143926,
          -0.3995712267987253,
          0.9009130860560229,
          -1.4986325461576935,
          -1.8715391056827866,
          2.8798459765859827,
          0.07355556328316204,
          -0.022392130905374747,
          -1.4390151669046745,
          -0.12588443717729894,
          -0.1749203096655581,
          0.5710963935160036,
          -0.8221985582564402,
          1.1613570625458303,
          0.7006283651400398,
          0.028200929375390538,
          -1.1587338283713418,
          0.18389562050698247,
          -0.9159351961730826,
          1.912535172503708,
          -1.8209107037327792,
          -2.2563632012174306,
          0.05798522639921089,
          -0.7234000317144638
         ],
         "xaxis": "x14",
         "y": [
          0.8776105999726939,
          -0.10918325673623544,
          0.43222002504828105,
          0.21168643105607898,
          -0.9548195681227061,
          -0.6582052405583847,
          -0.3438405764101884,
          0.024985400072480204,
          0.8845177708376631,
          1.825785856913161,
          -0.28356750209844556,
          0.2742762047578588,
          -0.6886177300532897,
          0.5455626463032112,
          0.5512032007015983,
          -0.08465280718060102,
          -1.5683868440841968,
          -2.109777683469117,
          2.405134896361823,
          0.9499776131789283,
          0.529550183658126,
          -1.7435741433932503,
          -0.9283743006001778,
          1.3966321748408201,
          0.8373142928074896,
          0.08189116770723855,
          0.5154221849354002,
          -0.03439821187574808,
          0.2869642638346971,
          -0.03845611395295513,
          2.2779916916551435,
          0.8367230528940887,
          -1.7602317632984699,
          -1.0902609470819251,
          0.370608475722315,
          0.23087291044609118,
          -0.9429003049634584,
          -0.461098739151424,
          3.2211304767698223,
          1.311354278181902,
          -1.6504354303851616,
          -0.6950894070767035,
          -0.38424297017119463,
          1.4667644026261295,
          -0.2183733939914209,
          -1.2735493192721279,
          -0.7759015930990381,
          0.8913003162757013,
          -0.1436722265327362,
          0.8363533428070496,
          0.39207836074386404,
          -0.15199663407635397,
          0.28787773000192673,
          -0.4801591093253376,
          -0.3034078886198265,
          1.7352664204007102,
          0.5930378637504586,
          2.4102024296351297,
          -0.3307829848947105,
          0.0886876517645023,
          1.277432516235606,
          0.9019558405223357,
          -0.7686226225707046,
          -1.0990782319705044,
          -1.2594527794158445,
          -0.19837010832596924,
          -0.5189316931204656,
          -0.8051186320505203,
          -2.3767339874302347,
          1.437999065479335,
          1.1017865847557078,
          -1.2797434001507912,
          -0.3995660222486687,
          -0.8090871880124815,
          -1.6292142376945211,
          0.9051799112583083,
          -1.0310477717438267,
          0.1461910289114032,
          0.15232455199932002,
          -0.12343962851039851,
          -0.24341614756844326,
          0.7196652201614023,
          -1.2080488799693634,
          -0.8418013066217972,
          -1.2231851046757791,
          1.0191435197448586,
          0.8445573153614979,
          -0.9013918480171765,
          0.6440958508132099,
          -0.5749211031387301,
          -0.44451902570747176,
          -0.14964556022134423,
          -0.2506450929917549,
          -1.489332270604689,
          0.8837149767609971,
          1.6631330486294185,
          0.01675864008521639,
          -0.08869869279391412,
          -0.3375904941282858,
          0.6560718655960883
         ],
         "yaxis": "y14"
        },
        {
         "line": {
          "color": "rgba(128, 128, 128, 1.0)",
          "dash": "solid",
          "shape": "linear",
          "width": 1.3
         },
         "marker": {
          "size": 2,
          "symbol": "circle"
         },
         "mode": "markers",
         "name": "D",
         "text": "",
         "type": "scatter",
         "x": [
          -0.11195680488630352,
          0.19813513395996601,
          0.6243952583500618,
          3.4636216744699926,
          1.6025780971968129,
          -1.4842957023344758,
          1.5200032468496212,
          -0.2631744539556295,
          1.6500701251249659,
          -3.029823148650362,
          1.0265662580499642,
          -0.2567714743133042,
          2.457180119797221,
          0.5238088696860247,
          0.26209872027584513,
          0.6956634102215381,
          -0.6875276285625027,
          0.6392616577482672,
          1.3351393658985924,
          0.34141495490170315,
          -0.5659435780610622,
          -1.5608013996314807,
          0.48786006329180565,
          0.336081140259419,
          1.0175981710604358,
          -1.0135670113619677,
          0.3129251024807007,
          0.09328582639040285,
          -0.87220153866261,
          2.219797990891727,
          0.3655625592140774,
          0.8002282698773922,
          0.5158153974877858,
          -0.33700303233675205,
          -1.2940315214203613,
          1.1328240142383346,
          0.10094096472141936,
          1.7370875372990418,
          0.1839808055476812,
          1.2827729447774527,
          0.01818646549473812,
          -0.8766507338302455,
          0.11151420077033018,
          -1.226767964025608,
          0.5925924682575862,
          -0.661867073821238,
          -0.3727916276086114,
          -0.35054991247657,
          -0.725074404132708,
          -0.8056579783319012,
          -2.370764105329452,
          0.022591428355840264,
          0.1701455330688707,
          -1.2801069400543095,
          1.80983649905343,
          1.3215544377183117,
          -0.6475697652766453,
          -2.878377702333487,
          -0.3907665880809579,
          -0.9491649532134488,
          0.08817234504563345,
          0.410923543362477,
          0.2118958880439002,
          0.027784440467459877,
          -0.3580699215915449,
          -2.0625597051700364,
          -1.0760324793561697,
          0.8371078225097193,
          0.5682216990227285,
          0.06389082048082165,
          -0.9604774121864444,
          -1.5094374087850413,
          -0.9892302232683492,
          -0.08039240707564778,
          0.4338028851904076,
          -0.32565578060191,
          -1.3588064292335826,
          -0.6212581022909891,
          -0.14729134904037633,
          0.676065770331901,
          0.048383080662061546,
          1.1655116085226473,
          0.36441634440261894,
          0.13740405736192837,
          -0.2692124351999852,
          1.0333699470883486,
          -1.4292425177566495,
          1.3193573123226177,
          0.14325005584199305,
          -0.6451136154829559,
          1.5868146161808676,
          0.3139631548592902,
          -1.2599371618269581,
          0.6661701105361751,
          0.050813451678986335,
          -0.16529638984939754,
          1.7873956492526328,
          0.6855946366040738,
          -0.4169361655747808,
          1.1957640390301516
         ],
         "xaxis": "x15",
         "y": [
          0.8776105999726939,
          -0.10918325673623544,
          0.43222002504828105,
          0.21168643105607898,
          -0.9548195681227061,
          -0.6582052405583847,
          -0.3438405764101884,
          0.024985400072480204,
          0.8845177708376631,
          1.825785856913161,
          -0.28356750209844556,
          0.2742762047578588,
          -0.6886177300532897,
          0.5455626463032112,
          0.5512032007015983,
          -0.08465280718060102,
          -1.5683868440841968,
          -2.109777683469117,
          2.405134896361823,
          0.9499776131789283,
          0.529550183658126,
          -1.7435741433932503,
          -0.9283743006001778,
          1.3966321748408201,
          0.8373142928074896,
          0.08189116770723855,
          0.5154221849354002,
          -0.03439821187574808,
          0.2869642638346971,
          -0.03845611395295513,
          2.2779916916551435,
          0.8367230528940887,
          -1.7602317632984699,
          -1.0902609470819251,
          0.370608475722315,
          0.23087291044609118,
          -0.9429003049634584,
          -0.461098739151424,
          3.2211304767698223,
          1.311354278181902,
          -1.6504354303851616,
          -0.6950894070767035,
          -0.38424297017119463,
          1.4667644026261295,
          -0.2183733939914209,
          -1.2735493192721279,
          -0.7759015930990381,
          0.8913003162757013,
          -0.1436722265327362,
          0.8363533428070496,
          0.39207836074386404,
          -0.15199663407635397,
          0.28787773000192673,
          -0.4801591093253376,
          -0.3034078886198265,
          1.7352664204007102,
          0.5930378637504586,
          2.4102024296351297,
          -0.3307829848947105,
          0.0886876517645023,
          1.277432516235606,
          0.9019558405223357,
          -0.7686226225707046,
          -1.0990782319705044,
          -1.2594527794158445,
          -0.19837010832596924,
          -0.5189316931204656,
          -0.8051186320505203,
          -2.3767339874302347,
          1.437999065479335,
          1.1017865847557078,
          -1.2797434001507912,
          -0.3995660222486687,
          -0.8090871880124815,
          -1.6292142376945211,
          0.9051799112583083,
          -1.0310477717438267,
          0.1461910289114032,
          0.15232455199932002,
          -0.12343962851039851,
          -0.24341614756844326,
          0.7196652201614023,
          -1.2080488799693634,
          -0.8418013066217972,
          -1.2231851046757791,
          1.0191435197448586,
          0.8445573153614979,
          -0.9013918480171765,
          0.6440958508132099,
          -0.5749211031387301,
          -0.44451902570747176,
          -0.14964556022134423,
          -0.2506450929917549,
          -1.489332270604689,
          0.8837149767609971,
          1.6631330486294185,
          0.01675864008521639,
          -0.08869869279391412,
          -0.3375904941282858,
          0.6560718655960883
         ],
         "yaxis": "y15"
        },
        {
         "histfunc": "count",
         "histnorm": "",
         "marker": {
          "color": "rgba(128, 0, 128, 1.0)",
          "line": {
           "color": "#4D5663",
           "width": 1.3
          }
         },
         "name": "D",
         "nbinsx": 10,
         "opacity": 0.8,
         "orientation": "v",
         "type": "histogram",
         "x": [
          0.8776105999726939,
          -0.10918325673623544,
          0.43222002504828105,
          0.21168643105607898,
          -0.9548195681227061,
          -0.6582052405583847,
          -0.3438405764101884,
          0.024985400072480204,
          0.8845177708376631,
          1.825785856913161,
          -0.28356750209844556,
          0.2742762047578588,
          -0.6886177300532897,
          0.5455626463032112,
          0.5512032007015983,
          -0.08465280718060102,
          -1.5683868440841968,
          -2.109777683469117,
          2.405134896361823,
          0.9499776131789283,
          0.529550183658126,
          -1.7435741433932503,
          -0.9283743006001778,
          1.3966321748408201,
          0.8373142928074896,
          0.08189116770723855,
          0.5154221849354002,
          -0.03439821187574808,
          0.2869642638346971,
          -0.03845611395295513,
          2.2779916916551435,
          0.8367230528940887,
          -1.7602317632984699,
          -1.0902609470819251,
          0.370608475722315,
          0.23087291044609118,
          -0.9429003049634584,
          -0.461098739151424,
          3.2211304767698223,
          1.311354278181902,
          -1.6504354303851616,
          -0.6950894070767035,
          -0.38424297017119463,
          1.4667644026261295,
          -0.2183733939914209,
          -1.2735493192721279,
          -0.7759015930990381,
          0.8913003162757013,
          -0.1436722265327362,
          0.8363533428070496,
          0.39207836074386404,
          -0.15199663407635397,
          0.28787773000192673,
          -0.4801591093253376,
          -0.3034078886198265,
          1.7352664204007102,
          0.5930378637504586,
          2.4102024296351297,
          -0.3307829848947105,
          0.0886876517645023,
          1.277432516235606,
          0.9019558405223357,
          -0.7686226225707046,
          -1.0990782319705044,
          -1.2594527794158445,
          -0.19837010832596924,
          -0.5189316931204656,
          -0.8051186320505203,
          -2.3767339874302347,
          1.437999065479335,
          1.1017865847557078,
          -1.2797434001507912,
          -0.3995660222486687,
          -0.8090871880124815,
          -1.6292142376945211,
          0.9051799112583083,
          -1.0310477717438267,
          0.1461910289114032,
          0.15232455199932002,
          -0.12343962851039851,
          -0.24341614756844326,
          0.7196652201614023,
          -1.2080488799693634,
          -0.8418013066217972,
          -1.2231851046757791,
          1.0191435197448586,
          0.8445573153614979,
          -0.9013918480171765,
          0.6440958508132099,
          -0.5749211031387301,
          -0.44451902570747176,
          -0.14964556022134423,
          -0.2506450929917549,
          -1.489332270604689,
          0.8837149767609971,
          1.6631330486294185,
          0.01675864008521639,
          -0.08869869279391412,
          -0.3375904941282858,
          0.6560718655960883
         ],
         "xaxis": "x16",
         "yaxis": "y16"
        }
       ],
       "layout": {
        "bargap": 0.02,
        "legend": {
         "bgcolor": "#F5F6F9",
         "font": {
          "color": "#4D5663"
         }
        },
        "paper_bgcolor": "#F5F6F9",
        "plot_bgcolor": "#F5F6F9",
        "showlegend": false,
        "template": {
         "data": {
          "bar": [
           {
            "error_x": {
             "color": "#2a3f5f"
            },
            "error_y": {
             "color": "#2a3f5f"
            },
            "marker": {
             "line": {
              "color": "#E5ECF6",
              "width": 0.5
             }
            },
            "type": "bar"
           }
          ],
          "barpolar": [
           {
            "marker": {
             "line": {
              "color": "#E5ECF6",
              "width": 0.5
             }
            },
            "type": "barpolar"
           }
          ],
          "carpet": [
           {
            "aaxis": {
             "endlinecolor": "#2a3f5f",
             "gridcolor": "white",
             "linecolor": "white",
             "minorgridcolor": "white",
             "startlinecolor": "#2a3f5f"
            },
            "baxis": {
             "endlinecolor": "#2a3f5f",
             "gridcolor": "white",
             "linecolor": "white",
             "minorgridcolor": "white",
             "startlinecolor": "#2a3f5f"
            },
            "type": "carpet"
           }
          ],
          "choropleth": [
           {
            "colorbar": {
             "outlinewidth": 0,
             "ticks": ""
            },
            "type": "choropleth"
           }
          ],
          "contour": [
           {
            "colorbar": {
             "outlinewidth": 0,
             "ticks": ""
            },
            "colorscale": [
             [
              0,
              "#0d0887"
             ],
             [
              0.1111111111111111,
              "#46039f"
             ],
             [
              0.2222222222222222,
              "#7201a8"
             ],
             [
              0.3333333333333333,
              "#9c179e"
             ],
             [
              0.4444444444444444,
              "#bd3786"
             ],
             [
              0.5555555555555556,
              "#d8576b"
             ],
             [
              0.6666666666666666,
              "#ed7953"
             ],
             [
              0.7777777777777778,
              "#fb9f3a"
             ],
             [
              0.8888888888888888,
              "#fdca26"
             ],
             [
              1,
              "#f0f921"
             ]
            ],
            "type": "contour"
           }
          ],
          "contourcarpet": [
           {
            "colorbar": {
             "outlinewidth": 0,
             "ticks": ""
            },
            "type": "contourcarpet"
           }
          ],
          "heatmap": [
           {
            "colorbar": {
             "outlinewidth": 0,
             "ticks": ""
            },
            "colorscale": [
             [
              0,
              "#0d0887"
             ],
             [
              0.1111111111111111,
              "#46039f"
             ],
             [
              0.2222222222222222,
              "#7201a8"
             ],
             [
              0.3333333333333333,
              "#9c179e"
             ],
             [
              0.4444444444444444,
              "#bd3786"
             ],
             [
              0.5555555555555556,
              "#d8576b"
             ],
             [
              0.6666666666666666,
              "#ed7953"
             ],
             [
              0.7777777777777778,
              "#fb9f3a"
             ],
             [
              0.8888888888888888,
              "#fdca26"
             ],
             [
              1,
              "#f0f921"
             ]
            ],
            "type": "heatmap"
           }
          ],
          "heatmapgl": [
           {
            "colorbar": {
             "outlinewidth": 0,
             "ticks": ""
            },
            "colorscale": [
             [
              0,
              "#0d0887"
             ],
             [
              0.1111111111111111,
              "#46039f"
             ],
             [
              0.2222222222222222,
              "#7201a8"
             ],
             [
              0.3333333333333333,
              "#9c179e"
             ],
             [
              0.4444444444444444,
              "#bd3786"
             ],
             [
              0.5555555555555556,
              "#d8576b"
             ],
             [
              0.6666666666666666,
              "#ed7953"
             ],
             [
              0.7777777777777778,
              "#fb9f3a"
             ],
             [
              0.8888888888888888,
              "#fdca26"
             ],
             [
              1,
              "#f0f921"
             ]
            ],
            "type": "heatmapgl"
           }
          ],
          "histogram": [
           {
            "marker": {
             "colorbar": {
              "outlinewidth": 0,
              "ticks": ""
             }
            },
            "type": "histogram"
           }
          ],
          "histogram2d": [
           {
            "colorbar": {
             "outlinewidth": 0,
             "ticks": ""
            },
            "colorscale": [
             [
              0,
              "#0d0887"
             ],
             [
              0.1111111111111111,
              "#46039f"
             ],
             [
              0.2222222222222222,
              "#7201a8"
             ],
             [
              0.3333333333333333,
              "#9c179e"
             ],
             [
              0.4444444444444444,
              "#bd3786"
             ],
             [
              0.5555555555555556,
              "#d8576b"
             ],
             [
              0.6666666666666666,
              "#ed7953"
             ],
             [
              0.7777777777777778,
              "#fb9f3a"
             ],
             [
              0.8888888888888888,
              "#fdca26"
             ],
             [
              1,
              "#f0f921"
             ]
            ],
            "type": "histogram2d"
           }
          ],
          "histogram2dcontour": [
           {
            "colorbar": {
             "outlinewidth": 0,
             "ticks": ""
            },
            "colorscale": [
             [
              0,
              "#0d0887"
             ],
             [
              0.1111111111111111,
              "#46039f"
             ],
             [
              0.2222222222222222,
              "#7201a8"
             ],
             [
              0.3333333333333333,
              "#9c179e"
             ],
             [
              0.4444444444444444,
              "#bd3786"
             ],
             [
              0.5555555555555556,
              "#d8576b"
             ],
             [
              0.6666666666666666,
              "#ed7953"
             ],
             [
              0.7777777777777778,
              "#fb9f3a"
             ],
             [
              0.8888888888888888,
              "#fdca26"
             ],
             [
              1,
              "#f0f921"
             ]
            ],
            "type": "histogram2dcontour"
           }
          ],
          "mesh3d": [
           {
            "colorbar": {
             "outlinewidth": 0,
             "ticks": ""
            },
            "type": "mesh3d"
           }
          ],
          "parcoords": [
           {
            "line": {
             "colorbar": {
              "outlinewidth": 0,
              "ticks": ""
             }
            },
            "type": "parcoords"
           }
          ],
          "pie": [
           {
            "automargin": true,
            "type": "pie"
           }
          ],
          "scatter": [
           {
            "marker": {
             "colorbar": {
              "outlinewidth": 0,
              "ticks": ""
             }
            },
            "type": "scatter"
           }
          ],
          "scatter3d": [
           {
            "line": {
             "colorbar": {
              "outlinewidth": 0,
              "ticks": ""
             }
            },
            "marker": {
             "colorbar": {
              "outlinewidth": 0,
              "ticks": ""
             }
            },
            "type": "scatter3d"
           }
          ],
          "scattercarpet": [
           {
            "marker": {
             "colorbar": {
              "outlinewidth": 0,
              "ticks": ""
             }
            },
            "type": "scattercarpet"
           }
          ],
          "scattergeo": [
           {
            "marker": {
             "colorbar": {
              "outlinewidth": 0,
              "ticks": ""
             }
            },
            "type": "scattergeo"
           }
          ],
          "scattergl": [
           {
            "marker": {
             "colorbar": {
              "outlinewidth": 0,
              "ticks": ""
             }
            },
            "type": "scattergl"
           }
          ],
          "scattermapbox": [
           {
            "marker": {
             "colorbar": {
              "outlinewidth": 0,
              "ticks": ""
             }
            },
            "type": "scattermapbox"
           }
          ],
          "scatterpolar": [
           {
            "marker": {
             "colorbar": {
              "outlinewidth": 0,
              "ticks": ""
             }
            },
            "type": "scatterpolar"
           }
          ],
          "scatterpolargl": [
           {
            "marker": {
             "colorbar": {
              "outlinewidth": 0,
              "ticks": ""
             }
            },
            "type": "scatterpolargl"
           }
          ],
          "scatterternary": [
           {
            "marker": {
             "colorbar": {
              "outlinewidth": 0,
              "ticks": ""
             }
            },
            "type": "scatterternary"
           }
          ],
          "surface": [
           {
            "colorbar": {
             "outlinewidth": 0,
             "ticks": ""
            },
            "colorscale": [
             [
              0,
              "#0d0887"
             ],
             [
              0.1111111111111111,
              "#46039f"
             ],
             [
              0.2222222222222222,
              "#7201a8"
             ],
             [
              0.3333333333333333,
              "#9c179e"
             ],
             [
              0.4444444444444444,
              "#bd3786"
             ],
             [
              0.5555555555555556,
              "#d8576b"
             ],
             [
              0.6666666666666666,
              "#ed7953"
             ],
             [
              0.7777777777777778,
              "#fb9f3a"
             ],
             [
              0.8888888888888888,
              "#fdca26"
             ],
             [
              1,
              "#f0f921"
             ]
            ],
            "type": "surface"
           }
          ],
          "table": [
           {
            "cells": {
             "fill": {
              "color": "#EBF0F8"
             },
             "line": {
              "color": "white"
             }
            },
            "header": {
             "fill": {
              "color": "#C8D4E3"
             },
             "line": {
              "color": "white"
             }
            },
            "type": "table"
           }
          ]
         },
         "layout": {
          "annotationdefaults": {
           "arrowcolor": "#2a3f5f",
           "arrowhead": 0,
           "arrowwidth": 1
          },
          "coloraxis": {
           "colorbar": {
            "outlinewidth": 0,
            "ticks": ""
           }
          },
          "colorscale": {
           "diverging": [
            [
             0,
             "#8e0152"
            ],
            [
             0.1,
             "#c51b7d"
            ],
            [
             0.2,
             "#de77ae"
            ],
            [
             0.3,
             "#f1b6da"
            ],
            [
             0.4,
             "#fde0ef"
            ],
            [
             0.5,
             "#f7f7f7"
            ],
            [
             0.6,
             "#e6f5d0"
            ],
            [
             0.7,
             "#b8e186"
            ],
            [
             0.8,
             "#7fbc41"
            ],
            [
             0.9,
             "#4d9221"
            ],
            [
             1,
             "#276419"
            ]
           ],
           "sequential": [
            [
             0,
             "#0d0887"
            ],
            [
             0.1111111111111111,
             "#46039f"
            ],
            [
             0.2222222222222222,
             "#7201a8"
            ],
            [
             0.3333333333333333,
             "#9c179e"
            ],
            [
             0.4444444444444444,
             "#bd3786"
            ],
            [
             0.5555555555555556,
             "#d8576b"
            ],
            [
             0.6666666666666666,
             "#ed7953"
            ],
            [
             0.7777777777777778,
             "#fb9f3a"
            ],
            [
             0.8888888888888888,
             "#fdca26"
            ],
            [
             1,
             "#f0f921"
            ]
           ],
           "sequentialminus": [
            [
             0,
             "#0d0887"
            ],
            [
             0.1111111111111111,
             "#46039f"
            ],
            [
             0.2222222222222222,
             "#7201a8"
            ],
            [
             0.3333333333333333,
             "#9c179e"
            ],
            [
             0.4444444444444444,
             "#bd3786"
            ],
            [
             0.5555555555555556,
             "#d8576b"
            ],
            [
             0.6666666666666666,
             "#ed7953"
            ],
            [
             0.7777777777777778,
             "#fb9f3a"
            ],
            [
             0.8888888888888888,
             "#fdca26"
            ],
            [
             1,
             "#f0f921"
            ]
           ]
          },
          "colorway": [
           "#636efa",
           "#EF553B",
           "#00cc96",
           "#ab63fa",
           "#FFA15A",
           "#19d3f3",
           "#FF6692",
           "#B6E880",
           "#FF97FF",
           "#FECB52"
          ],
          "font": {
           "color": "#2a3f5f"
          },
          "geo": {
           "bgcolor": "white",
           "lakecolor": "white",
           "landcolor": "#E5ECF6",
           "showlakes": true,
           "showland": true,
           "subunitcolor": "white"
          },
          "hoverlabel": {
           "align": "left"
          },
          "hovermode": "closest",
          "mapbox": {
           "style": "light"
          },
          "paper_bgcolor": "white",
          "plot_bgcolor": "#E5ECF6",
          "polar": {
           "angularaxis": {
            "gridcolor": "white",
            "linecolor": "white",
            "ticks": ""
           },
           "bgcolor": "#E5ECF6",
           "radialaxis": {
            "gridcolor": "white",
            "linecolor": "white",
            "ticks": ""
           }
          },
          "scene": {
           "xaxis": {
            "backgroundcolor": "#E5ECF6",
            "gridcolor": "white",
            "gridwidth": 2,
            "linecolor": "white",
            "showbackground": true,
            "ticks": "",
            "zerolinecolor": "white"
           },
           "yaxis": {
            "backgroundcolor": "#E5ECF6",
            "gridcolor": "white",
            "gridwidth": 2,
            "linecolor": "white",
            "showbackground": true,
            "ticks": "",
            "zerolinecolor": "white"
           },
           "zaxis": {
            "backgroundcolor": "#E5ECF6",
            "gridcolor": "white",
            "gridwidth": 2,
            "linecolor": "white",
            "showbackground": true,
            "ticks": "",
            "zerolinecolor": "white"
           }
          },
          "shapedefaults": {
           "line": {
            "color": "#2a3f5f"
           }
          },
          "ternary": {
           "aaxis": {
            "gridcolor": "white",
            "linecolor": "white",
            "ticks": ""
           },
           "baxis": {
            "gridcolor": "white",
            "linecolor": "white",
            "ticks": ""
           },
           "bgcolor": "#E5ECF6",
           "caxis": {
            "gridcolor": "white",
            "linecolor": "white",
            "ticks": ""
           }
          },
          "title": {
           "x": 0.05
          },
          "xaxis": {
           "automargin": true,
           "gridcolor": "white",
           "linecolor": "white",
           "ticks": "",
           "title": {
            "standoff": 15
           },
           "zerolinecolor": "white",
           "zerolinewidth": 2
          },
          "yaxis": {
           "automargin": true,
           "gridcolor": "white",
           "linecolor": "white",
           "ticks": "",
           "title": {
            "standoff": 15
           },
           "zerolinecolor": "white",
           "zerolinewidth": 2
          }
         }
        },
        "title": {
         "font": {
          "color": "#4D5663"
         }
        },
        "xaxis": {
         "anchor": "y",
         "domain": [
          0,
          0.2125
         ],
         "gridcolor": "#E1E5ED",
         "showgrid": false,
         "tickfont": {
          "color": "#4D5663"
         },
         "title": {
          "font": {
           "color": "#4D5663"
          },
          "text": ""
         },
         "zerolinecolor": "#E1E5ED"
        },
        "xaxis10": {
         "anchor": "y10",
         "domain": [
          0.2625,
          0.475
         ],
         "gridcolor": "#E1E5ED",
         "showgrid": false,
         "tickfont": {
          "color": "#4D5663"
         },
         "title": {
          "font": {
           "color": "#4D5663"
          },
          "text": ""
         },
         "zerolinecolor": "#E1E5ED"
        },
        "xaxis11": {
         "anchor": "y11",
         "domain": [
          0.525,
          0.7375
         ],
         "gridcolor": "#E1E5ED",
         "showgrid": false,
         "tickfont": {
          "color": "#4D5663"
         },
         "title": {
          "font": {
           "color": "#4D5663"
          },
          "text": ""
         },
         "zerolinecolor": "#E1E5ED"
        },
        "xaxis12": {
         "anchor": "y12",
         "domain": [
          0.7875,
          1
         ],
         "gridcolor": "#E1E5ED",
         "showgrid": false,
         "tickfont": {
          "color": "#4D5663"
         },
         "title": {
          "font": {
           "color": "#4D5663"
          },
          "text": ""
         },
         "zerolinecolor": "#E1E5ED"
        },
        "xaxis13": {
         "anchor": "y13",
         "domain": [
          0,
          0.2125
         ],
         "gridcolor": "#E1E5ED",
         "showgrid": false,
         "tickfont": {
          "color": "#4D5663"
         },
         "title": {
          "font": {
           "color": "#4D5663"
          },
          "text": ""
         },
         "zerolinecolor": "#E1E5ED"
        },
        "xaxis14": {
         "anchor": "y14",
         "domain": [
          0.2625,
          0.475
         ],
         "gridcolor": "#E1E5ED",
         "showgrid": false,
         "tickfont": {
          "color": "#4D5663"
         },
         "title": {
          "font": {
           "color": "#4D5663"
          },
          "text": ""
         },
         "zerolinecolor": "#E1E5ED"
        },
        "xaxis15": {
         "anchor": "y15",
         "domain": [
          0.525,
          0.7375
         ],
         "gridcolor": "#E1E5ED",
         "showgrid": false,
         "tickfont": {
          "color": "#4D5663"
         },
         "title": {
          "font": {
           "color": "#4D5663"
          },
          "text": ""
         },
         "zerolinecolor": "#E1E5ED"
        },
        "xaxis16": {
         "anchor": "y16",
         "domain": [
          0.7875,
          1
         ],
         "gridcolor": "#E1E5ED",
         "showgrid": false,
         "tickfont": {
          "color": "#4D5663"
         },
         "title": {
          "font": {
           "color": "#4D5663"
          },
          "text": ""
         },
         "zerolinecolor": "#E1E5ED"
        },
        "xaxis2": {
         "anchor": "y2",
         "domain": [
          0.2625,
          0.475
         ],
         "gridcolor": "#E1E5ED",
         "showgrid": false,
         "tickfont": {
          "color": "#4D5663"
         },
         "title": {
          "font": {
           "color": "#4D5663"
          },
          "text": ""
         },
         "zerolinecolor": "#E1E5ED"
        },
        "xaxis3": {
         "anchor": "y3",
         "domain": [
          0.525,
          0.7375
         ],
         "gridcolor": "#E1E5ED",
         "showgrid": false,
         "tickfont": {
          "color": "#4D5663"
         },
         "title": {
          "font": {
           "color": "#4D5663"
          },
          "text": ""
         },
         "zerolinecolor": "#E1E5ED"
        },
        "xaxis4": {
         "anchor": "y4",
         "domain": [
          0.7875,
          1
         ],
         "gridcolor": "#E1E5ED",
         "showgrid": false,
         "tickfont": {
          "color": "#4D5663"
         },
         "title": {
          "font": {
           "color": "#4D5663"
          },
          "text": ""
         },
         "zerolinecolor": "#E1E5ED"
        },
        "xaxis5": {
         "anchor": "y5",
         "domain": [
          0,
          0.2125
         ],
         "gridcolor": "#E1E5ED",
         "showgrid": false,
         "tickfont": {
          "color": "#4D5663"
         },
         "title": {
          "font": {
           "color": "#4D5663"
          },
          "text": ""
         },
         "zerolinecolor": "#E1E5ED"
        },
        "xaxis6": {
         "anchor": "y6",
         "domain": [
          0.2625,
          0.475
         ],
         "gridcolor": "#E1E5ED",
         "showgrid": false,
         "tickfont": {
          "color": "#4D5663"
         },
         "title": {
          "font": {
           "color": "#4D5663"
          },
          "text": ""
         },
         "zerolinecolor": "#E1E5ED"
        },
        "xaxis7": {
         "anchor": "y7",
         "domain": [
          0.525,
          0.7375
         ],
         "gridcolor": "#E1E5ED",
         "showgrid": false,
         "tickfont": {
          "color": "#4D5663"
         },
         "title": {
          "font": {
           "color": "#4D5663"
          },
          "text": ""
         },
         "zerolinecolor": "#E1E5ED"
        },
        "xaxis8": {
         "anchor": "y8",
         "domain": [
          0.7875,
          1
         ],
         "gridcolor": "#E1E5ED",
         "showgrid": false,
         "tickfont": {
          "color": "#4D5663"
         },
         "title": {
          "font": {
           "color": "#4D5663"
          },
          "text": ""
         },
         "zerolinecolor": "#E1E5ED"
        },
        "xaxis9": {
         "anchor": "y9",
         "domain": [
          0,
          0.2125
         ],
         "gridcolor": "#E1E5ED",
         "showgrid": false,
         "tickfont": {
          "color": "#4D5663"
         },
         "title": {
          "font": {
           "color": "#4D5663"
          },
          "text": ""
         },
         "zerolinecolor": "#E1E5ED"
        },
        "yaxis": {
         "anchor": "x",
         "domain": [
          0.8025,
          1
         ],
         "gridcolor": "#E1E5ED",
         "showgrid": false,
         "tickfont": {
          "color": "#4D5663"
         },
         "title": {
          "font": {
           "color": "#4D5663"
          },
          "text": ""
         },
         "zerolinecolor": "#E1E5ED"
        },
        "yaxis10": {
         "anchor": "x10",
         "domain": [
          0.2675,
          0.465
         ],
         "gridcolor": "#E1E5ED",
         "showgrid": false,
         "tickfont": {
          "color": "#4D5663"
         },
         "title": {
          "font": {
           "color": "#4D5663"
          },
          "text": ""
         },
         "zerolinecolor": "#E1E5ED"
        },
        "yaxis11": {
         "anchor": "x11",
         "domain": [
          0.2675,
          0.465
         ],
         "gridcolor": "#E1E5ED",
         "showgrid": false,
         "tickfont": {
          "color": "#4D5663"
         },
         "title": {
          "font": {
           "color": "#4D5663"
          },
          "text": ""
         },
         "zerolinecolor": "#E1E5ED"
        },
        "yaxis12": {
         "anchor": "x12",
         "domain": [
          0.2675,
          0.465
         ],
         "gridcolor": "#E1E5ED",
         "showgrid": false,
         "tickfont": {
          "color": "#4D5663"
         },
         "title": {
          "font": {
           "color": "#4D5663"
          },
          "text": ""
         },
         "zerolinecolor": "#E1E5ED"
        },
        "yaxis13": {
         "anchor": "x13",
         "domain": [
          0,
          0.1975
         ],
         "gridcolor": "#E1E5ED",
         "showgrid": false,
         "tickfont": {
          "color": "#4D5663"
         },
         "title": {
          "font": {
           "color": "#4D5663"
          },
          "text": ""
         },
         "zerolinecolor": "#E1E5ED"
        },
        "yaxis14": {
         "anchor": "x14",
         "domain": [
          0,
          0.1975
         ],
         "gridcolor": "#E1E5ED",
         "showgrid": false,
         "tickfont": {
          "color": "#4D5663"
         },
         "title": {
          "font": {
           "color": "#4D5663"
          },
          "text": ""
         },
         "zerolinecolor": "#E1E5ED"
        },
        "yaxis15": {
         "anchor": "x15",
         "domain": [
          0,
          0.1975
         ],
         "gridcolor": "#E1E5ED",
         "showgrid": false,
         "tickfont": {
          "color": "#4D5663"
         },
         "title": {
          "font": {
           "color": "#4D5663"
          },
          "text": ""
         },
         "zerolinecolor": "#E1E5ED"
        },
        "yaxis16": {
         "anchor": "x16",
         "domain": [
          0,
          0.1975
         ],
         "gridcolor": "#E1E5ED",
         "showgrid": false,
         "tickfont": {
          "color": "#4D5663"
         },
         "title": {
          "font": {
           "color": "#4D5663"
          },
          "text": ""
         },
         "zerolinecolor": "#E1E5ED"
        },
        "yaxis2": {
         "anchor": "x2",
         "domain": [
          0.8025,
          1
         ],
         "gridcolor": "#E1E5ED",
         "showgrid": false,
         "tickfont": {
          "color": "#4D5663"
         },
         "title": {
          "font": {
           "color": "#4D5663"
          },
          "text": ""
         },
         "zerolinecolor": "#E1E5ED"
        },
        "yaxis3": {
         "anchor": "x3",
         "domain": [
          0.8025,
          1
         ],
         "gridcolor": "#E1E5ED",
         "showgrid": false,
         "tickfont": {
          "color": "#4D5663"
         },
         "title": {
          "font": {
           "color": "#4D5663"
          },
          "text": ""
         },
         "zerolinecolor": "#E1E5ED"
        },
        "yaxis4": {
         "anchor": "x4",
         "domain": [
          0.8025,
          1
         ],
         "gridcolor": "#E1E5ED",
         "showgrid": false,
         "tickfont": {
          "color": "#4D5663"
         },
         "title": {
          "font": {
           "color": "#4D5663"
          },
          "text": ""
         },
         "zerolinecolor": "#E1E5ED"
        },
        "yaxis5": {
         "anchor": "x5",
         "domain": [
          0.535,
          0.7325
         ],
         "gridcolor": "#E1E5ED",
         "showgrid": false,
         "tickfont": {
          "color": "#4D5663"
         },
         "title": {
          "font": {
           "color": "#4D5663"
          },
          "text": ""
         },
         "zerolinecolor": "#E1E5ED"
        },
        "yaxis6": {
         "anchor": "x6",
         "domain": [
          0.535,
          0.7325
         ],
         "gridcolor": "#E1E5ED",
         "showgrid": false,
         "tickfont": {
          "color": "#4D5663"
         },
         "title": {
          "font": {
           "color": "#4D5663"
          },
          "text": ""
         },
         "zerolinecolor": "#E1E5ED"
        },
        "yaxis7": {
         "anchor": "x7",
         "domain": [
          0.535,
          0.7325
         ],
         "gridcolor": "#E1E5ED",
         "showgrid": false,
         "tickfont": {
          "color": "#4D5663"
         },
         "title": {
          "font": {
           "color": "#4D5663"
          },
          "text": ""
         },
         "zerolinecolor": "#E1E5ED"
        },
        "yaxis8": {
         "anchor": "x8",
         "domain": [
          0.535,
          0.7325
         ],
         "gridcolor": "#E1E5ED",
         "showgrid": false,
         "tickfont": {
          "color": "#4D5663"
         },
         "title": {
          "font": {
           "color": "#4D5663"
          },
          "text": ""
         },
         "zerolinecolor": "#E1E5ED"
        },
        "yaxis9": {
         "anchor": "x9",
         "domain": [
          0.2675,
          0.465
         ],
         "gridcolor": "#E1E5ED",
         "showgrid": false,
         "tickfont": {
          "color": "#4D5663"
         },
         "title": {
          "font": {
           "color": "#4D5663"
          },
          "text": ""
         },
         "zerolinecolor": "#E1E5ED"
        }
       }
      },
      "text/html": [
       "<div>\n",
       "        \n",
       "        \n",
       "            <div id=\"59896f7d-3283-4132-9ac6-5b8a88d5e0f8\" class=\"plotly-graph-div\" style=\"height:525px; width:100%;\"></div>\n",
       "            <script type=\"text/javascript\">\n",
       "                require([\"plotly\"], function(Plotly) {\n",
       "                    window.PLOTLYENV=window.PLOTLYENV || {};\n",
       "                    window.PLOTLYENV.BASE_URL='https://plot.ly';\n",
       "                    \n",
       "                if (document.getElementById(\"59896f7d-3283-4132-9ac6-5b8a88d5e0f8\")) {\n",
       "                    Plotly.newPlot(\n",
       "                        '59896f7d-3283-4132-9ac6-5b8a88d5e0f8',\n",
       "                        [{\"histfunc\": \"count\", \"histnorm\": \"\", \"marker\": {\"color\": \"rgba(255, 153, 51, 1.0)\", \"line\": {\"color\": \"#4D5663\", \"width\": 1.3}}, \"name\": \"A\", \"nbinsx\": 10, \"opacity\": 0.8, \"orientation\": \"v\", \"type\": \"histogram\", \"x\": [-1.8375793829805152, -0.15949696869273136, 1.1310371011634441, 0.033424317827104935, -0.27266433823248903, -1.5266480612294526, 0.6406900998232502, -1.2037810103452755, 0.45766181096666353, -0.65756316944976, 1.2254607006230938, -0.49670888312590306, 0.9517977824412835, -0.4737685536624598, -0.18866034695016973, 1.7707542889792907, 0.6323242648780771, 0.12204537313043434, -1.9034920234674675, -0.04442225969249496, 0.15429995846266448, 0.7932222997650096, 2.539915784248557, -1.1930343034985709, -0.614857906207743, 1.4806568174717332, -1.8648504458226827, -0.41509780444484906, -1.5902518624107531, -1.1668716248656292, 0.7148812419826943, 0.9205412994571905, -1.0552530177997501, -1.1144495047103273, -1.4148418771042273, -0.7978844421999658, -0.7196315490672652, -0.6581896684098428, -0.003017838744859791, 1.000572700470973, 0.03907023496823878, 0.9445560069535803, -0.4370724628095535, -0.5308855796106563, 0.40885528594580445, 0.188730040054379, -0.7941436814811723, 1.9071063059377538, -0.05371617887237018, -1.2180771449054735, -0.0027625945812005813, -0.7289781761912149, -1.5148040962595313, 1.5310393005980325, 1.2115849481386265, 0.47883686689648225, -0.45499490210360916, -1.0189093313495297, -0.15728791717667132, -0.11127659476746542, 0.8690846353904871, 0.20354127289823257, -2.0630281790612797, 1.3344770773409376, -1.6200000617491879, -0.23116693293656054, -0.6755590465420752, 0.4685086761604976, 0.49494635923821795, -0.005597955485651658, 1.0885292455914743, -1.0407905089838017, -0.929490474183066, -1.015229473319679, 1.8836505311940042, 0.852998689782739, 1.0753372020989056, 1.4373344844109446, -0.03480585890954957, -0.37548221973787094, 1.5645635392346884, 1.758746465445413, -1.7330027977656584, -0.25500034465944543, -0.11760242138474251, 1.9831290035306863, -1.6781345236672671, 1.0916134309838674, -0.4986127299448885, 0.4985659415525577, 1.1762317481769409, -0.9905137465769372, -1.063065614167874, 1.242282812838642, 0.990357440665751, 3.006402504672399, 1.7946437084519817, 1.2758239575605375, 0.038206062830590415, -0.052200463798188414], \"xaxis\": \"x\", \"yaxis\": \"y\"}, {\"line\": {\"color\": \"rgba(128, 128, 128, 1.0)\", \"dash\": \"solid\", \"shape\": \"linear\", \"width\": 1.3}, \"marker\": {\"size\": 2, \"symbol\": \"circle\"}, \"mode\": \"markers\", \"name\": \"A\", \"text\": \"\", \"type\": \"scatter\", \"x\": [1.7979066365959437, 0.46285376386792, -1.186763222985012, -1.3069987790938424, 0.2846992419759555, -0.46572268676860606, 0.37506581218122054, 0.04307716596099602, -0.10030470230806747, 0.2253581478192807, 1.5881375303218745, -0.7860510560549011, 0.0709065210939935, 1.3179919385263983, 0.1911135355144382, -0.1659826156491933, 0.1335520665302867, -1.3591338016683188, 0.6810870536812119, -0.3210353527483331, -0.9898181449092167, -1.2243689025562479, 0.9843652721650106, -1.2543373215912461, 0.8715596268958955, 1.3562385722623433, -0.2579451332063824, 0.8699716121262567, 1.248480225043317, -1.5952232935299056, -0.03397694249447452, -0.343267396460641, 0.28802212629747814, -0.8593404698722109, -0.2530951725001365, -1.1386052562784248, 0.38917661781477536, -0.9825733525869731, -0.31696837518324317, 0.7990527808015294, 1.5176967691503638, 1.410126737765439, -0.2743896134901539, -0.6929350750237689, 0.2936921575856845, 0.8254128170753967, -0.38061138001210737, -1.029983050729118, 0.5164862990891124, 0.5294226142890159, 1.3419954272688206, 0.4908184159374298, 0.49612404315739556, -1.5353261683128314, -0.23122135512542397, -0.969643060285253, -0.7905605694819513, 0.6367390711248883, -1.1584050310341727, 0.7132292476684078, 0.5512209938581333, -1.2332536027280028, 1.263445214176733, 1.0355389031994173, -0.4385948782738462, 1.2783266636003576, 0.9694074826731098, -0.5354973913133867, 0.3763906230930325, 1.0822003941489435, 0.7361046509510144, -0.4335373702666788, -0.17899964389897075, -0.3648809060196582, -0.32072220887824276, -0.02508944822472686, -0.5833657581143926, -0.3995712267987253, 0.9009130860560229, -1.4986325461576935, -1.8715391056827866, 2.8798459765859827, 0.07355556328316204, -0.022392130905374747, -1.4390151669046745, -0.12588443717729894, -0.1749203096655581, 0.5710963935160036, -0.8221985582564402, 1.1613570625458303, 0.7006283651400398, 0.028200929375390538, -1.1587338283713418, 0.18389562050698247, -0.9159351961730826, 1.912535172503708, -1.8209107037327792, -2.2563632012174306, 0.05798522639921089, -0.7234000317144638], \"xaxis\": \"x2\", \"y\": [-1.8375793829805152, -0.15949696869273136, 1.1310371011634441, 0.033424317827104935, -0.27266433823248903, -1.5266480612294526, 0.6406900998232502, -1.2037810103452755, 0.45766181096666353, -0.65756316944976, 1.2254607006230938, -0.49670888312590306, 0.9517977824412835, -0.4737685536624598, -0.18866034695016973, 1.7707542889792907, 0.6323242648780771, 0.12204537313043434, -1.9034920234674675, -0.04442225969249496, 0.15429995846266448, 0.7932222997650096, 2.539915784248557, -1.1930343034985709, -0.614857906207743, 1.4806568174717332, -1.8648504458226827, -0.41509780444484906, -1.5902518624107531, -1.1668716248656292, 0.7148812419826943, 0.9205412994571905, -1.0552530177997501, -1.1144495047103273, -1.4148418771042273, -0.7978844421999658, -0.7196315490672652, -0.6581896684098428, -0.003017838744859791, 1.000572700470973, 0.03907023496823878, 0.9445560069535803, -0.4370724628095535, -0.5308855796106563, 0.40885528594580445, 0.188730040054379, -0.7941436814811723, 1.9071063059377538, -0.05371617887237018, -1.2180771449054735, -0.0027625945812005813, -0.7289781761912149, -1.5148040962595313, 1.5310393005980325, 1.2115849481386265, 0.47883686689648225, -0.45499490210360916, -1.0189093313495297, -0.15728791717667132, -0.11127659476746542, 0.8690846353904871, 0.20354127289823257, -2.0630281790612797, 1.3344770773409376, -1.6200000617491879, -0.23116693293656054, -0.6755590465420752, 0.4685086761604976, 0.49494635923821795, -0.005597955485651658, 1.0885292455914743, -1.0407905089838017, -0.929490474183066, -1.015229473319679, 1.8836505311940042, 0.852998689782739, 1.0753372020989056, 1.4373344844109446, -0.03480585890954957, -0.37548221973787094, 1.5645635392346884, 1.758746465445413, -1.7330027977656584, -0.25500034465944543, -0.11760242138474251, 1.9831290035306863, -1.6781345236672671, 1.0916134309838674, -0.4986127299448885, 0.4985659415525577, 1.1762317481769409, -0.9905137465769372, -1.063065614167874, 1.242282812838642, 0.990357440665751, 3.006402504672399, 1.7946437084519817, 1.2758239575605375, 0.038206062830590415, -0.052200463798188414], \"yaxis\": \"y2\"}, {\"line\": {\"color\": \"rgba(128, 128, 128, 1.0)\", \"dash\": \"solid\", \"shape\": \"linear\", \"width\": 1.3}, \"marker\": {\"size\": 2, \"symbol\": \"circle\"}, \"mode\": \"markers\", \"name\": \"A\", \"text\": \"\", \"type\": \"scatter\", \"x\": [-0.11195680488630352, 0.19813513395996601, 0.6243952583500618, 3.4636216744699926, 1.6025780971968129, -1.4842957023344758, 1.5200032468496212, -0.2631744539556295, 1.6500701251249659, -3.029823148650362, 1.0265662580499642, -0.2567714743133042, 2.457180119797221, 0.5238088696860247, 0.26209872027584513, 0.6956634102215381, -0.6875276285625027, 0.6392616577482672, 1.3351393658985924, 0.34141495490170315, -0.5659435780610622, -1.5608013996314807, 0.48786006329180565, 0.336081140259419, 1.0175981710604358, -1.0135670113619677, 0.3129251024807007, 0.09328582639040285, -0.87220153866261, 2.219797990891727, 0.3655625592140774, 0.8002282698773922, 0.5158153974877858, -0.33700303233675205, -1.2940315214203613, 1.1328240142383346, 0.10094096472141936, 1.7370875372990418, 0.1839808055476812, 1.2827729447774527, 0.01818646549473812, -0.8766507338302455, 0.11151420077033018, -1.226767964025608, 0.5925924682575862, -0.661867073821238, -0.3727916276086114, -0.35054991247657, -0.725074404132708, -0.8056579783319012, -2.370764105329452, 0.022591428355840264, 0.1701455330688707, -1.2801069400543095, 1.80983649905343, 1.3215544377183117, -0.6475697652766453, -2.878377702333487, -0.3907665880809579, -0.9491649532134488, 0.08817234504563345, 0.410923543362477, 0.2118958880439002, 0.027784440467459877, -0.3580699215915449, -2.0625597051700364, -1.0760324793561697, 0.8371078225097193, 0.5682216990227285, 0.06389082048082165, -0.9604774121864444, -1.5094374087850413, -0.9892302232683492, -0.08039240707564778, 0.4338028851904076, -0.32565578060191, -1.3588064292335826, -0.6212581022909891, -0.14729134904037633, 0.676065770331901, 0.048383080662061546, 1.1655116085226473, 0.36441634440261894, 0.13740405736192837, -0.2692124351999852, 1.0333699470883486, -1.4292425177566495, 1.3193573123226177, 0.14325005584199305, -0.6451136154829559, 1.5868146161808676, 0.3139631548592902, -1.2599371618269581, 0.6661701105361751, 0.050813451678986335, -0.16529638984939754, 1.7873956492526328, 0.6855946366040738, -0.4169361655747808, 1.1957640390301516], \"xaxis\": \"x3\", \"y\": [-1.8375793829805152, -0.15949696869273136, 1.1310371011634441, 0.033424317827104935, -0.27266433823248903, -1.5266480612294526, 0.6406900998232502, -1.2037810103452755, 0.45766181096666353, -0.65756316944976, 1.2254607006230938, -0.49670888312590306, 0.9517977824412835, -0.4737685536624598, -0.18866034695016973, 1.7707542889792907, 0.6323242648780771, 0.12204537313043434, -1.9034920234674675, -0.04442225969249496, 0.15429995846266448, 0.7932222997650096, 2.539915784248557, -1.1930343034985709, -0.614857906207743, 1.4806568174717332, -1.8648504458226827, -0.41509780444484906, -1.5902518624107531, -1.1668716248656292, 0.7148812419826943, 0.9205412994571905, -1.0552530177997501, -1.1144495047103273, -1.4148418771042273, -0.7978844421999658, -0.7196315490672652, -0.6581896684098428, -0.003017838744859791, 1.000572700470973, 0.03907023496823878, 0.9445560069535803, -0.4370724628095535, -0.5308855796106563, 0.40885528594580445, 0.188730040054379, -0.7941436814811723, 1.9071063059377538, -0.05371617887237018, -1.2180771449054735, -0.0027625945812005813, -0.7289781761912149, -1.5148040962595313, 1.5310393005980325, 1.2115849481386265, 0.47883686689648225, -0.45499490210360916, -1.0189093313495297, -0.15728791717667132, -0.11127659476746542, 0.8690846353904871, 0.20354127289823257, -2.0630281790612797, 1.3344770773409376, -1.6200000617491879, -0.23116693293656054, -0.6755590465420752, 0.4685086761604976, 0.49494635923821795, -0.005597955485651658, 1.0885292455914743, -1.0407905089838017, -0.929490474183066, -1.015229473319679, 1.8836505311940042, 0.852998689782739, 1.0753372020989056, 1.4373344844109446, -0.03480585890954957, -0.37548221973787094, 1.5645635392346884, 1.758746465445413, -1.7330027977656584, -0.25500034465944543, -0.11760242138474251, 1.9831290035306863, -1.6781345236672671, 1.0916134309838674, -0.4986127299448885, 0.4985659415525577, 1.1762317481769409, -0.9905137465769372, -1.063065614167874, 1.242282812838642, 0.990357440665751, 3.006402504672399, 1.7946437084519817, 1.2758239575605375, 0.038206062830590415, -0.052200463798188414], \"yaxis\": \"y3\"}, {\"line\": {\"color\": \"rgba(128, 128, 128, 1.0)\", \"dash\": \"solid\", \"shape\": \"linear\", \"width\": 1.3}, \"marker\": {\"size\": 2, \"symbol\": \"circle\"}, \"mode\": \"markers\", \"name\": \"A\", \"text\": \"\", \"type\": \"scatter\", \"x\": [0.8776105999726939, -0.10918325673623544, 0.43222002504828105, 0.21168643105607898, -0.9548195681227061, -0.6582052405583847, -0.3438405764101884, 0.024985400072480204, 0.8845177708376631, 1.825785856913161, -0.28356750209844556, 0.2742762047578588, -0.6886177300532897, 0.5455626463032112, 0.5512032007015983, -0.08465280718060102, -1.5683868440841968, -2.109777683469117, 2.405134896361823, 0.9499776131789283, 0.529550183658126, -1.7435741433932503, -0.9283743006001778, 1.3966321748408201, 0.8373142928074896, 0.08189116770723855, 0.5154221849354002, -0.03439821187574808, 0.2869642638346971, -0.03845611395295513, 2.2779916916551435, 0.8367230528940887, -1.7602317632984699, -1.0902609470819251, 0.370608475722315, 0.23087291044609118, -0.9429003049634584, -0.461098739151424, 3.2211304767698223, 1.311354278181902, -1.6504354303851616, -0.6950894070767035, -0.38424297017119463, 1.4667644026261295, -0.2183733939914209, -1.2735493192721279, -0.7759015930990381, 0.8913003162757013, -0.1436722265327362, 0.8363533428070496, 0.39207836074386404, -0.15199663407635397, 0.28787773000192673, -0.4801591093253376, -0.3034078886198265, 1.7352664204007102, 0.5930378637504586, 2.4102024296351297, -0.3307829848947105, 0.0886876517645023, 1.277432516235606, 0.9019558405223357, -0.7686226225707046, -1.0990782319705044, -1.2594527794158445, -0.19837010832596924, -0.5189316931204656, -0.8051186320505203, -2.3767339874302347, 1.437999065479335, 1.1017865847557078, -1.2797434001507912, -0.3995660222486687, -0.8090871880124815, -1.6292142376945211, 0.9051799112583083, -1.0310477717438267, 0.1461910289114032, 0.15232455199932002, -0.12343962851039851, -0.24341614756844326, 0.7196652201614023, -1.2080488799693634, -0.8418013066217972, -1.2231851046757791, 1.0191435197448586, 0.8445573153614979, -0.9013918480171765, 0.6440958508132099, -0.5749211031387301, -0.44451902570747176, -0.14964556022134423, -0.2506450929917549, -1.489332270604689, 0.8837149767609971, 1.6631330486294185, 0.01675864008521639, -0.08869869279391412, -0.3375904941282858, 0.6560718655960883], \"xaxis\": \"x4\", \"y\": [-1.8375793829805152, -0.15949696869273136, 1.1310371011634441, 0.033424317827104935, -0.27266433823248903, -1.5266480612294526, 0.6406900998232502, -1.2037810103452755, 0.45766181096666353, -0.65756316944976, 1.2254607006230938, -0.49670888312590306, 0.9517977824412835, -0.4737685536624598, -0.18866034695016973, 1.7707542889792907, 0.6323242648780771, 0.12204537313043434, -1.9034920234674675, -0.04442225969249496, 0.15429995846266448, 0.7932222997650096, 2.539915784248557, -1.1930343034985709, -0.614857906207743, 1.4806568174717332, -1.8648504458226827, -0.41509780444484906, -1.5902518624107531, -1.1668716248656292, 0.7148812419826943, 0.9205412994571905, -1.0552530177997501, -1.1144495047103273, -1.4148418771042273, -0.7978844421999658, -0.7196315490672652, -0.6581896684098428, -0.003017838744859791, 1.000572700470973, 0.03907023496823878, 0.9445560069535803, -0.4370724628095535, -0.5308855796106563, 0.40885528594580445, 0.188730040054379, -0.7941436814811723, 1.9071063059377538, -0.05371617887237018, -1.2180771449054735, -0.0027625945812005813, -0.7289781761912149, -1.5148040962595313, 1.5310393005980325, 1.2115849481386265, 0.47883686689648225, -0.45499490210360916, -1.0189093313495297, -0.15728791717667132, -0.11127659476746542, 0.8690846353904871, 0.20354127289823257, -2.0630281790612797, 1.3344770773409376, -1.6200000617491879, -0.23116693293656054, -0.6755590465420752, 0.4685086761604976, 0.49494635923821795, -0.005597955485651658, 1.0885292455914743, -1.0407905089838017, -0.929490474183066, -1.015229473319679, 1.8836505311940042, 0.852998689782739, 1.0753372020989056, 1.4373344844109446, -0.03480585890954957, -0.37548221973787094, 1.5645635392346884, 1.758746465445413, -1.7330027977656584, -0.25500034465944543, -0.11760242138474251, 1.9831290035306863, -1.6781345236672671, 1.0916134309838674, -0.4986127299448885, 0.4985659415525577, 1.1762317481769409, -0.9905137465769372, -1.063065614167874, 1.242282812838642, 0.990357440665751, 3.006402504672399, 1.7946437084519817, 1.2758239575605375, 0.038206062830590415, -0.052200463798188414], \"yaxis\": \"y4\"}, {\"line\": {\"color\": \"rgba(128, 128, 128, 1.0)\", \"dash\": \"solid\", \"shape\": \"linear\", \"width\": 1.3}, \"marker\": {\"size\": 2, \"symbol\": \"circle\"}, \"mode\": \"markers\", \"name\": \"B\", \"text\": \"\", \"type\": \"scatter\", \"x\": [-1.8375793829805152, -0.15949696869273136, 1.1310371011634441, 0.033424317827104935, -0.27266433823248903, -1.5266480612294526, 0.6406900998232502, -1.2037810103452755, 0.45766181096666353, -0.65756316944976, 1.2254607006230938, -0.49670888312590306, 0.9517977824412835, -0.4737685536624598, -0.18866034695016973, 1.7707542889792907, 0.6323242648780771, 0.12204537313043434, -1.9034920234674675, -0.04442225969249496, 0.15429995846266448, 0.7932222997650096, 2.539915784248557, -1.1930343034985709, -0.614857906207743, 1.4806568174717332, -1.8648504458226827, -0.41509780444484906, -1.5902518624107531, -1.1668716248656292, 0.7148812419826943, 0.9205412994571905, -1.0552530177997501, -1.1144495047103273, -1.4148418771042273, -0.7978844421999658, -0.7196315490672652, -0.6581896684098428, -0.003017838744859791, 1.000572700470973, 0.03907023496823878, 0.9445560069535803, -0.4370724628095535, -0.5308855796106563, 0.40885528594580445, 0.188730040054379, -0.7941436814811723, 1.9071063059377538, -0.05371617887237018, -1.2180771449054735, -0.0027625945812005813, -0.7289781761912149, -1.5148040962595313, 1.5310393005980325, 1.2115849481386265, 0.47883686689648225, -0.45499490210360916, -1.0189093313495297, -0.15728791717667132, -0.11127659476746542, 0.8690846353904871, 0.20354127289823257, -2.0630281790612797, 1.3344770773409376, -1.6200000617491879, -0.23116693293656054, -0.6755590465420752, 0.4685086761604976, 0.49494635923821795, -0.005597955485651658, 1.0885292455914743, -1.0407905089838017, -0.929490474183066, -1.015229473319679, 1.8836505311940042, 0.852998689782739, 1.0753372020989056, 1.4373344844109446, -0.03480585890954957, -0.37548221973787094, 1.5645635392346884, 1.758746465445413, -1.7330027977656584, -0.25500034465944543, -0.11760242138474251, 1.9831290035306863, -1.6781345236672671, 1.0916134309838674, -0.4986127299448885, 0.4985659415525577, 1.1762317481769409, -0.9905137465769372, -1.063065614167874, 1.242282812838642, 0.990357440665751, 3.006402504672399, 1.7946437084519817, 1.2758239575605375, 0.038206062830590415, -0.052200463798188414], \"xaxis\": \"x5\", \"y\": [1.7979066365959437, 0.46285376386792, -1.186763222985012, -1.3069987790938424, 0.2846992419759555, -0.46572268676860606, 0.37506581218122054, 0.04307716596099602, -0.10030470230806747, 0.2253581478192807, 1.5881375303218745, -0.7860510560549011, 0.0709065210939935, 1.3179919385263983, 0.1911135355144382, -0.1659826156491933, 0.1335520665302867, -1.3591338016683188, 0.6810870536812119, -0.3210353527483331, -0.9898181449092167, -1.2243689025562479, 0.9843652721650106, -1.2543373215912461, 0.8715596268958955, 1.3562385722623433, -0.2579451332063824, 0.8699716121262567, 1.248480225043317, -1.5952232935299056, -0.03397694249447452, -0.343267396460641, 0.28802212629747814, -0.8593404698722109, -0.2530951725001365, -1.1386052562784248, 0.38917661781477536, -0.9825733525869731, -0.31696837518324317, 0.7990527808015294, 1.5176967691503638, 1.410126737765439, -0.2743896134901539, -0.6929350750237689, 0.2936921575856845, 0.8254128170753967, -0.38061138001210737, -1.029983050729118, 0.5164862990891124, 0.5294226142890159, 1.3419954272688206, 0.4908184159374298, 0.49612404315739556, -1.5353261683128314, -0.23122135512542397, -0.969643060285253, -0.7905605694819513, 0.6367390711248883, -1.1584050310341727, 0.7132292476684078, 0.5512209938581333, -1.2332536027280028, 1.263445214176733, 1.0355389031994173, -0.4385948782738462, 1.2783266636003576, 0.9694074826731098, -0.5354973913133867, 0.3763906230930325, 1.0822003941489435, 0.7361046509510144, -0.4335373702666788, -0.17899964389897075, -0.3648809060196582, -0.32072220887824276, -0.02508944822472686, -0.5833657581143926, -0.3995712267987253, 0.9009130860560229, -1.4986325461576935, -1.8715391056827866, 2.8798459765859827, 0.07355556328316204, -0.022392130905374747, -1.4390151669046745, -0.12588443717729894, -0.1749203096655581, 0.5710963935160036, -0.8221985582564402, 1.1613570625458303, 0.7006283651400398, 0.028200929375390538, -1.1587338283713418, 0.18389562050698247, -0.9159351961730826, 1.912535172503708, -1.8209107037327792, -2.2563632012174306, 0.05798522639921089, -0.7234000317144638], \"yaxis\": \"y5\"}, {\"histfunc\": \"count\", \"histnorm\": \"\", \"marker\": {\"color\": \"rgba(55, 128, 191, 1.0)\", \"line\": {\"color\": \"#4D5663\", \"width\": 1.3}}, \"name\": \"B\", \"nbinsx\": 10, \"opacity\": 0.8, \"orientation\": \"v\", \"type\": \"histogram\", \"x\": [1.7979066365959437, 0.46285376386792, -1.186763222985012, -1.3069987790938424, 0.2846992419759555, -0.46572268676860606, 0.37506581218122054, 0.04307716596099602, -0.10030470230806747, 0.2253581478192807, 1.5881375303218745, -0.7860510560549011, 0.0709065210939935, 1.3179919385263983, 0.1911135355144382, -0.1659826156491933, 0.1335520665302867, -1.3591338016683188, 0.6810870536812119, -0.3210353527483331, -0.9898181449092167, -1.2243689025562479, 0.9843652721650106, -1.2543373215912461, 0.8715596268958955, 1.3562385722623433, -0.2579451332063824, 0.8699716121262567, 1.248480225043317, -1.5952232935299056, -0.03397694249447452, -0.343267396460641, 0.28802212629747814, -0.8593404698722109, -0.2530951725001365, -1.1386052562784248, 0.38917661781477536, -0.9825733525869731, -0.31696837518324317, 0.7990527808015294, 1.5176967691503638, 1.410126737765439, -0.2743896134901539, -0.6929350750237689, 0.2936921575856845, 0.8254128170753967, -0.38061138001210737, -1.029983050729118, 0.5164862990891124, 0.5294226142890159, 1.3419954272688206, 0.4908184159374298, 0.49612404315739556, -1.5353261683128314, -0.23122135512542397, -0.969643060285253, -0.7905605694819513, 0.6367390711248883, -1.1584050310341727, 0.7132292476684078, 0.5512209938581333, -1.2332536027280028, 1.263445214176733, 1.0355389031994173, -0.4385948782738462, 1.2783266636003576, 0.9694074826731098, -0.5354973913133867, 0.3763906230930325, 1.0822003941489435, 0.7361046509510144, -0.4335373702666788, -0.17899964389897075, -0.3648809060196582, -0.32072220887824276, -0.02508944822472686, -0.5833657581143926, -0.3995712267987253, 0.9009130860560229, -1.4986325461576935, -1.8715391056827866, 2.8798459765859827, 0.07355556328316204, -0.022392130905374747, -1.4390151669046745, -0.12588443717729894, -0.1749203096655581, 0.5710963935160036, -0.8221985582564402, 1.1613570625458303, 0.7006283651400398, 0.028200929375390538, -1.1587338283713418, 0.18389562050698247, -0.9159351961730826, 1.912535172503708, -1.8209107037327792, -2.2563632012174306, 0.05798522639921089, -0.7234000317144638], \"xaxis\": \"x6\", \"yaxis\": \"y6\"}, {\"line\": {\"color\": \"rgba(128, 128, 128, 1.0)\", \"dash\": \"solid\", \"shape\": \"linear\", \"width\": 1.3}, \"marker\": {\"size\": 2, \"symbol\": \"circle\"}, \"mode\": \"markers\", \"name\": \"B\", \"text\": \"\", \"type\": \"scatter\", \"x\": [-0.11195680488630352, 0.19813513395996601, 0.6243952583500618, 3.4636216744699926, 1.6025780971968129, -1.4842957023344758, 1.5200032468496212, -0.2631744539556295, 1.6500701251249659, -3.029823148650362, 1.0265662580499642, -0.2567714743133042, 2.457180119797221, 0.5238088696860247, 0.26209872027584513, 0.6956634102215381, -0.6875276285625027, 0.6392616577482672, 1.3351393658985924, 0.34141495490170315, -0.5659435780610622, -1.5608013996314807, 0.48786006329180565, 0.336081140259419, 1.0175981710604358, -1.0135670113619677, 0.3129251024807007, 0.09328582639040285, -0.87220153866261, 2.219797990891727, 0.3655625592140774, 0.8002282698773922, 0.5158153974877858, -0.33700303233675205, -1.2940315214203613, 1.1328240142383346, 0.10094096472141936, 1.7370875372990418, 0.1839808055476812, 1.2827729447774527, 0.01818646549473812, -0.8766507338302455, 0.11151420077033018, -1.226767964025608, 0.5925924682575862, -0.661867073821238, -0.3727916276086114, -0.35054991247657, -0.725074404132708, -0.8056579783319012, -2.370764105329452, 0.022591428355840264, 0.1701455330688707, -1.2801069400543095, 1.80983649905343, 1.3215544377183117, -0.6475697652766453, -2.878377702333487, -0.3907665880809579, -0.9491649532134488, 0.08817234504563345, 0.410923543362477, 0.2118958880439002, 0.027784440467459877, -0.3580699215915449, -2.0625597051700364, -1.0760324793561697, 0.8371078225097193, 0.5682216990227285, 0.06389082048082165, -0.9604774121864444, -1.5094374087850413, -0.9892302232683492, -0.08039240707564778, 0.4338028851904076, -0.32565578060191, -1.3588064292335826, -0.6212581022909891, -0.14729134904037633, 0.676065770331901, 0.048383080662061546, 1.1655116085226473, 0.36441634440261894, 0.13740405736192837, -0.2692124351999852, 1.0333699470883486, -1.4292425177566495, 1.3193573123226177, 0.14325005584199305, -0.6451136154829559, 1.5868146161808676, 0.3139631548592902, -1.2599371618269581, 0.6661701105361751, 0.050813451678986335, -0.16529638984939754, 1.7873956492526328, 0.6855946366040738, -0.4169361655747808, 1.1957640390301516], \"xaxis\": \"x7\", \"y\": [1.7979066365959437, 0.46285376386792, -1.186763222985012, -1.3069987790938424, 0.2846992419759555, -0.46572268676860606, 0.37506581218122054, 0.04307716596099602, -0.10030470230806747, 0.2253581478192807, 1.5881375303218745, -0.7860510560549011, 0.0709065210939935, 1.3179919385263983, 0.1911135355144382, -0.1659826156491933, 0.1335520665302867, -1.3591338016683188, 0.6810870536812119, -0.3210353527483331, -0.9898181449092167, -1.2243689025562479, 0.9843652721650106, -1.2543373215912461, 0.8715596268958955, 1.3562385722623433, -0.2579451332063824, 0.8699716121262567, 1.248480225043317, -1.5952232935299056, -0.03397694249447452, -0.343267396460641, 0.28802212629747814, -0.8593404698722109, -0.2530951725001365, -1.1386052562784248, 0.38917661781477536, -0.9825733525869731, -0.31696837518324317, 0.7990527808015294, 1.5176967691503638, 1.410126737765439, -0.2743896134901539, -0.6929350750237689, 0.2936921575856845, 0.8254128170753967, -0.38061138001210737, -1.029983050729118, 0.5164862990891124, 0.5294226142890159, 1.3419954272688206, 0.4908184159374298, 0.49612404315739556, -1.5353261683128314, -0.23122135512542397, -0.969643060285253, -0.7905605694819513, 0.6367390711248883, -1.1584050310341727, 0.7132292476684078, 0.5512209938581333, -1.2332536027280028, 1.263445214176733, 1.0355389031994173, -0.4385948782738462, 1.2783266636003576, 0.9694074826731098, -0.5354973913133867, 0.3763906230930325, 1.0822003941489435, 0.7361046509510144, -0.4335373702666788, -0.17899964389897075, -0.3648809060196582, -0.32072220887824276, -0.02508944822472686, -0.5833657581143926, -0.3995712267987253, 0.9009130860560229, -1.4986325461576935, -1.8715391056827866, 2.8798459765859827, 0.07355556328316204, -0.022392130905374747, -1.4390151669046745, -0.12588443717729894, -0.1749203096655581, 0.5710963935160036, -0.8221985582564402, 1.1613570625458303, 0.7006283651400398, 0.028200929375390538, -1.1587338283713418, 0.18389562050698247, -0.9159351961730826, 1.912535172503708, -1.8209107037327792, -2.2563632012174306, 0.05798522639921089, -0.7234000317144638], \"yaxis\": \"y7\"}, {\"line\": {\"color\": \"rgba(128, 128, 128, 1.0)\", \"dash\": \"solid\", \"shape\": \"linear\", \"width\": 1.3}, \"marker\": {\"size\": 2, \"symbol\": \"circle\"}, \"mode\": \"markers\", \"name\": \"B\", \"text\": \"\", \"type\": \"scatter\", \"x\": [0.8776105999726939, -0.10918325673623544, 0.43222002504828105, 0.21168643105607898, -0.9548195681227061, -0.6582052405583847, -0.3438405764101884, 0.024985400072480204, 0.8845177708376631, 1.825785856913161, -0.28356750209844556, 0.2742762047578588, -0.6886177300532897, 0.5455626463032112, 0.5512032007015983, -0.08465280718060102, -1.5683868440841968, -2.109777683469117, 2.405134896361823, 0.9499776131789283, 0.529550183658126, -1.7435741433932503, -0.9283743006001778, 1.3966321748408201, 0.8373142928074896, 0.08189116770723855, 0.5154221849354002, -0.03439821187574808, 0.2869642638346971, -0.03845611395295513, 2.2779916916551435, 0.8367230528940887, -1.7602317632984699, -1.0902609470819251, 0.370608475722315, 0.23087291044609118, -0.9429003049634584, -0.461098739151424, 3.2211304767698223, 1.311354278181902, -1.6504354303851616, -0.6950894070767035, -0.38424297017119463, 1.4667644026261295, -0.2183733939914209, -1.2735493192721279, -0.7759015930990381, 0.8913003162757013, -0.1436722265327362, 0.8363533428070496, 0.39207836074386404, -0.15199663407635397, 0.28787773000192673, -0.4801591093253376, -0.3034078886198265, 1.7352664204007102, 0.5930378637504586, 2.4102024296351297, -0.3307829848947105, 0.0886876517645023, 1.277432516235606, 0.9019558405223357, -0.7686226225707046, -1.0990782319705044, -1.2594527794158445, -0.19837010832596924, -0.5189316931204656, -0.8051186320505203, -2.3767339874302347, 1.437999065479335, 1.1017865847557078, -1.2797434001507912, -0.3995660222486687, -0.8090871880124815, -1.6292142376945211, 0.9051799112583083, -1.0310477717438267, 0.1461910289114032, 0.15232455199932002, -0.12343962851039851, -0.24341614756844326, 0.7196652201614023, -1.2080488799693634, -0.8418013066217972, -1.2231851046757791, 1.0191435197448586, 0.8445573153614979, -0.9013918480171765, 0.6440958508132099, -0.5749211031387301, -0.44451902570747176, -0.14964556022134423, -0.2506450929917549, -1.489332270604689, 0.8837149767609971, 1.6631330486294185, 0.01675864008521639, -0.08869869279391412, -0.3375904941282858, 0.6560718655960883], \"xaxis\": \"x8\", \"y\": [1.7979066365959437, 0.46285376386792, -1.186763222985012, -1.3069987790938424, 0.2846992419759555, -0.46572268676860606, 0.37506581218122054, 0.04307716596099602, -0.10030470230806747, 0.2253581478192807, 1.5881375303218745, -0.7860510560549011, 0.0709065210939935, 1.3179919385263983, 0.1911135355144382, -0.1659826156491933, 0.1335520665302867, -1.3591338016683188, 0.6810870536812119, -0.3210353527483331, -0.9898181449092167, -1.2243689025562479, 0.9843652721650106, -1.2543373215912461, 0.8715596268958955, 1.3562385722623433, -0.2579451332063824, 0.8699716121262567, 1.248480225043317, -1.5952232935299056, -0.03397694249447452, -0.343267396460641, 0.28802212629747814, -0.8593404698722109, -0.2530951725001365, -1.1386052562784248, 0.38917661781477536, -0.9825733525869731, -0.31696837518324317, 0.7990527808015294, 1.5176967691503638, 1.410126737765439, -0.2743896134901539, -0.6929350750237689, 0.2936921575856845, 0.8254128170753967, -0.38061138001210737, -1.029983050729118, 0.5164862990891124, 0.5294226142890159, 1.3419954272688206, 0.4908184159374298, 0.49612404315739556, -1.5353261683128314, -0.23122135512542397, -0.969643060285253, -0.7905605694819513, 0.6367390711248883, -1.1584050310341727, 0.7132292476684078, 0.5512209938581333, -1.2332536027280028, 1.263445214176733, 1.0355389031994173, -0.4385948782738462, 1.2783266636003576, 0.9694074826731098, -0.5354973913133867, 0.3763906230930325, 1.0822003941489435, 0.7361046509510144, -0.4335373702666788, -0.17899964389897075, -0.3648809060196582, -0.32072220887824276, -0.02508944822472686, -0.5833657581143926, -0.3995712267987253, 0.9009130860560229, -1.4986325461576935, -1.8715391056827866, 2.8798459765859827, 0.07355556328316204, -0.022392130905374747, -1.4390151669046745, -0.12588443717729894, -0.1749203096655581, 0.5710963935160036, -0.8221985582564402, 1.1613570625458303, 0.7006283651400398, 0.028200929375390538, -1.1587338283713418, 0.18389562050698247, -0.9159351961730826, 1.912535172503708, -1.8209107037327792, -2.2563632012174306, 0.05798522639921089, -0.7234000317144638], \"yaxis\": \"y8\"}, {\"line\": {\"color\": \"rgba(128, 128, 128, 1.0)\", \"dash\": \"solid\", \"shape\": \"linear\", \"width\": 1.3}, \"marker\": {\"size\": 2, \"symbol\": \"circle\"}, \"mode\": \"markers\", \"name\": \"C\", \"text\": \"\", \"type\": \"scatter\", \"x\": [-1.8375793829805152, -0.15949696869273136, 1.1310371011634441, 0.033424317827104935, -0.27266433823248903, -1.5266480612294526, 0.6406900998232502, -1.2037810103452755, 0.45766181096666353, -0.65756316944976, 1.2254607006230938, -0.49670888312590306, 0.9517977824412835, -0.4737685536624598, -0.18866034695016973, 1.7707542889792907, 0.6323242648780771, 0.12204537313043434, -1.9034920234674675, -0.04442225969249496, 0.15429995846266448, 0.7932222997650096, 2.539915784248557, -1.1930343034985709, -0.614857906207743, 1.4806568174717332, -1.8648504458226827, -0.41509780444484906, -1.5902518624107531, -1.1668716248656292, 0.7148812419826943, 0.9205412994571905, -1.0552530177997501, -1.1144495047103273, -1.4148418771042273, -0.7978844421999658, -0.7196315490672652, -0.6581896684098428, -0.003017838744859791, 1.000572700470973, 0.03907023496823878, 0.9445560069535803, -0.4370724628095535, -0.5308855796106563, 0.40885528594580445, 0.188730040054379, -0.7941436814811723, 1.9071063059377538, -0.05371617887237018, -1.2180771449054735, -0.0027625945812005813, -0.7289781761912149, -1.5148040962595313, 1.5310393005980325, 1.2115849481386265, 0.47883686689648225, -0.45499490210360916, -1.0189093313495297, -0.15728791717667132, -0.11127659476746542, 0.8690846353904871, 0.20354127289823257, -2.0630281790612797, 1.3344770773409376, -1.6200000617491879, -0.23116693293656054, -0.6755590465420752, 0.4685086761604976, 0.49494635923821795, -0.005597955485651658, 1.0885292455914743, -1.0407905089838017, -0.929490474183066, -1.015229473319679, 1.8836505311940042, 0.852998689782739, 1.0753372020989056, 1.4373344844109446, -0.03480585890954957, -0.37548221973787094, 1.5645635392346884, 1.758746465445413, -1.7330027977656584, -0.25500034465944543, -0.11760242138474251, 1.9831290035306863, -1.6781345236672671, 1.0916134309838674, -0.4986127299448885, 0.4985659415525577, 1.1762317481769409, -0.9905137465769372, -1.063065614167874, 1.242282812838642, 0.990357440665751, 3.006402504672399, 1.7946437084519817, 1.2758239575605375, 0.038206062830590415, -0.052200463798188414], \"xaxis\": \"x9\", \"y\": [-0.11195680488630352, 0.19813513395996601, 0.6243952583500618, 3.4636216744699926, 1.6025780971968129, -1.4842957023344758, 1.5200032468496212, -0.2631744539556295, 1.6500701251249659, -3.029823148650362, 1.0265662580499642, -0.2567714743133042, 2.457180119797221, 0.5238088696860247, 0.26209872027584513, 0.6956634102215381, -0.6875276285625027, 0.6392616577482672, 1.3351393658985924, 0.34141495490170315, -0.5659435780610622, -1.5608013996314807, 0.48786006329180565, 0.336081140259419, 1.0175981710604358, -1.0135670113619677, 0.3129251024807007, 0.09328582639040285, -0.87220153866261, 2.219797990891727, 0.3655625592140774, 0.8002282698773922, 0.5158153974877858, -0.33700303233675205, -1.2940315214203613, 1.1328240142383346, 0.10094096472141936, 1.7370875372990418, 0.1839808055476812, 1.2827729447774527, 0.01818646549473812, -0.8766507338302455, 0.11151420077033018, -1.226767964025608, 0.5925924682575862, -0.661867073821238, -0.3727916276086114, -0.35054991247657, -0.725074404132708, -0.8056579783319012, -2.370764105329452, 0.022591428355840264, 0.1701455330688707, -1.2801069400543095, 1.80983649905343, 1.3215544377183117, -0.6475697652766453, -2.878377702333487, -0.3907665880809579, -0.9491649532134488, 0.08817234504563345, 0.410923543362477, 0.2118958880439002, 0.027784440467459877, -0.3580699215915449, -2.0625597051700364, -1.0760324793561697, 0.8371078225097193, 0.5682216990227285, 0.06389082048082165, -0.9604774121864444, -1.5094374087850413, -0.9892302232683492, -0.08039240707564778, 0.4338028851904076, -0.32565578060191, -1.3588064292335826, -0.6212581022909891, -0.14729134904037633, 0.676065770331901, 0.048383080662061546, 1.1655116085226473, 0.36441634440261894, 0.13740405736192837, -0.2692124351999852, 1.0333699470883486, -1.4292425177566495, 1.3193573123226177, 0.14325005584199305, -0.6451136154829559, 1.5868146161808676, 0.3139631548592902, -1.2599371618269581, 0.6661701105361751, 0.050813451678986335, -0.16529638984939754, 1.7873956492526328, 0.6855946366040738, -0.4169361655747808, 1.1957640390301516], \"yaxis\": \"y9\"}, {\"line\": {\"color\": \"rgba(128, 128, 128, 1.0)\", \"dash\": \"solid\", \"shape\": \"linear\", \"width\": 1.3}, \"marker\": {\"size\": 2, \"symbol\": \"circle\"}, \"mode\": \"markers\", \"name\": \"C\", \"text\": \"\", \"type\": \"scatter\", \"x\": [1.7979066365959437, 0.46285376386792, -1.186763222985012, -1.3069987790938424, 0.2846992419759555, -0.46572268676860606, 0.37506581218122054, 0.04307716596099602, -0.10030470230806747, 0.2253581478192807, 1.5881375303218745, -0.7860510560549011, 0.0709065210939935, 1.3179919385263983, 0.1911135355144382, -0.1659826156491933, 0.1335520665302867, -1.3591338016683188, 0.6810870536812119, -0.3210353527483331, -0.9898181449092167, -1.2243689025562479, 0.9843652721650106, -1.2543373215912461, 0.8715596268958955, 1.3562385722623433, -0.2579451332063824, 0.8699716121262567, 1.248480225043317, -1.5952232935299056, -0.03397694249447452, -0.343267396460641, 0.28802212629747814, -0.8593404698722109, -0.2530951725001365, -1.1386052562784248, 0.38917661781477536, -0.9825733525869731, -0.31696837518324317, 0.7990527808015294, 1.5176967691503638, 1.410126737765439, -0.2743896134901539, -0.6929350750237689, 0.2936921575856845, 0.8254128170753967, -0.38061138001210737, -1.029983050729118, 0.5164862990891124, 0.5294226142890159, 1.3419954272688206, 0.4908184159374298, 0.49612404315739556, -1.5353261683128314, -0.23122135512542397, -0.969643060285253, -0.7905605694819513, 0.6367390711248883, -1.1584050310341727, 0.7132292476684078, 0.5512209938581333, -1.2332536027280028, 1.263445214176733, 1.0355389031994173, -0.4385948782738462, 1.2783266636003576, 0.9694074826731098, -0.5354973913133867, 0.3763906230930325, 1.0822003941489435, 0.7361046509510144, -0.4335373702666788, -0.17899964389897075, -0.3648809060196582, -0.32072220887824276, -0.02508944822472686, -0.5833657581143926, -0.3995712267987253, 0.9009130860560229, -1.4986325461576935, -1.8715391056827866, 2.8798459765859827, 0.07355556328316204, -0.022392130905374747, -1.4390151669046745, -0.12588443717729894, -0.1749203096655581, 0.5710963935160036, -0.8221985582564402, 1.1613570625458303, 0.7006283651400398, 0.028200929375390538, -1.1587338283713418, 0.18389562050698247, -0.9159351961730826, 1.912535172503708, -1.8209107037327792, -2.2563632012174306, 0.05798522639921089, -0.7234000317144638], \"xaxis\": \"x10\", \"y\": [-0.11195680488630352, 0.19813513395996601, 0.6243952583500618, 3.4636216744699926, 1.6025780971968129, -1.4842957023344758, 1.5200032468496212, -0.2631744539556295, 1.6500701251249659, -3.029823148650362, 1.0265662580499642, -0.2567714743133042, 2.457180119797221, 0.5238088696860247, 0.26209872027584513, 0.6956634102215381, -0.6875276285625027, 0.6392616577482672, 1.3351393658985924, 0.34141495490170315, -0.5659435780610622, -1.5608013996314807, 0.48786006329180565, 0.336081140259419, 1.0175981710604358, -1.0135670113619677, 0.3129251024807007, 0.09328582639040285, -0.87220153866261, 2.219797990891727, 0.3655625592140774, 0.8002282698773922, 0.5158153974877858, -0.33700303233675205, -1.2940315214203613, 1.1328240142383346, 0.10094096472141936, 1.7370875372990418, 0.1839808055476812, 1.2827729447774527, 0.01818646549473812, -0.8766507338302455, 0.11151420077033018, -1.226767964025608, 0.5925924682575862, -0.661867073821238, -0.3727916276086114, -0.35054991247657, -0.725074404132708, -0.8056579783319012, -2.370764105329452, 0.022591428355840264, 0.1701455330688707, -1.2801069400543095, 1.80983649905343, 1.3215544377183117, -0.6475697652766453, -2.878377702333487, -0.3907665880809579, -0.9491649532134488, 0.08817234504563345, 0.410923543362477, 0.2118958880439002, 0.027784440467459877, -0.3580699215915449, -2.0625597051700364, -1.0760324793561697, 0.8371078225097193, 0.5682216990227285, 0.06389082048082165, -0.9604774121864444, -1.5094374087850413, -0.9892302232683492, -0.08039240707564778, 0.4338028851904076, -0.32565578060191, -1.3588064292335826, -0.6212581022909891, -0.14729134904037633, 0.676065770331901, 0.048383080662061546, 1.1655116085226473, 0.36441634440261894, 0.13740405736192837, -0.2692124351999852, 1.0333699470883486, -1.4292425177566495, 1.3193573123226177, 0.14325005584199305, -0.6451136154829559, 1.5868146161808676, 0.3139631548592902, -1.2599371618269581, 0.6661701105361751, 0.050813451678986335, -0.16529638984939754, 1.7873956492526328, 0.6855946366040738, -0.4169361655747808, 1.1957640390301516], \"yaxis\": \"y10\"}, {\"histfunc\": \"count\", \"histnorm\": \"\", \"marker\": {\"color\": \"rgba(50, 171, 96, 1.0)\", \"line\": {\"color\": \"#4D5663\", \"width\": 1.3}}, \"name\": \"C\", \"nbinsx\": 10, \"opacity\": 0.8, \"orientation\": \"v\", \"type\": \"histogram\", \"x\": [-0.11195680488630352, 0.19813513395996601, 0.6243952583500618, 3.4636216744699926, 1.6025780971968129, -1.4842957023344758, 1.5200032468496212, -0.2631744539556295, 1.6500701251249659, -3.029823148650362, 1.0265662580499642, -0.2567714743133042, 2.457180119797221, 0.5238088696860247, 0.26209872027584513, 0.6956634102215381, -0.6875276285625027, 0.6392616577482672, 1.3351393658985924, 0.34141495490170315, -0.5659435780610622, -1.5608013996314807, 0.48786006329180565, 0.336081140259419, 1.0175981710604358, -1.0135670113619677, 0.3129251024807007, 0.09328582639040285, -0.87220153866261, 2.219797990891727, 0.3655625592140774, 0.8002282698773922, 0.5158153974877858, -0.33700303233675205, -1.2940315214203613, 1.1328240142383346, 0.10094096472141936, 1.7370875372990418, 0.1839808055476812, 1.2827729447774527, 0.01818646549473812, -0.8766507338302455, 0.11151420077033018, -1.226767964025608, 0.5925924682575862, -0.661867073821238, -0.3727916276086114, -0.35054991247657, -0.725074404132708, -0.8056579783319012, -2.370764105329452, 0.022591428355840264, 0.1701455330688707, -1.2801069400543095, 1.80983649905343, 1.3215544377183117, -0.6475697652766453, -2.878377702333487, -0.3907665880809579, -0.9491649532134488, 0.08817234504563345, 0.410923543362477, 0.2118958880439002, 0.027784440467459877, -0.3580699215915449, -2.0625597051700364, -1.0760324793561697, 0.8371078225097193, 0.5682216990227285, 0.06389082048082165, -0.9604774121864444, -1.5094374087850413, -0.9892302232683492, -0.08039240707564778, 0.4338028851904076, -0.32565578060191, -1.3588064292335826, -0.6212581022909891, -0.14729134904037633, 0.676065770331901, 0.048383080662061546, 1.1655116085226473, 0.36441634440261894, 0.13740405736192837, -0.2692124351999852, 1.0333699470883486, -1.4292425177566495, 1.3193573123226177, 0.14325005584199305, -0.6451136154829559, 1.5868146161808676, 0.3139631548592902, -1.2599371618269581, 0.6661701105361751, 0.050813451678986335, -0.16529638984939754, 1.7873956492526328, 0.6855946366040738, -0.4169361655747808, 1.1957640390301516], \"xaxis\": \"x11\", \"yaxis\": \"y11\"}, {\"line\": {\"color\": \"rgba(128, 128, 128, 1.0)\", \"dash\": \"solid\", \"shape\": \"linear\", \"width\": 1.3}, \"marker\": {\"size\": 2, \"symbol\": \"circle\"}, \"mode\": \"markers\", \"name\": \"C\", \"text\": \"\", \"type\": \"scatter\", \"x\": [0.8776105999726939, -0.10918325673623544, 0.43222002504828105, 0.21168643105607898, -0.9548195681227061, -0.6582052405583847, -0.3438405764101884, 0.024985400072480204, 0.8845177708376631, 1.825785856913161, -0.28356750209844556, 0.2742762047578588, -0.6886177300532897, 0.5455626463032112, 0.5512032007015983, -0.08465280718060102, -1.5683868440841968, -2.109777683469117, 2.405134896361823, 0.9499776131789283, 0.529550183658126, -1.7435741433932503, -0.9283743006001778, 1.3966321748408201, 0.8373142928074896, 0.08189116770723855, 0.5154221849354002, -0.03439821187574808, 0.2869642638346971, -0.03845611395295513, 2.2779916916551435, 0.8367230528940887, -1.7602317632984699, -1.0902609470819251, 0.370608475722315, 0.23087291044609118, -0.9429003049634584, -0.461098739151424, 3.2211304767698223, 1.311354278181902, -1.6504354303851616, -0.6950894070767035, -0.38424297017119463, 1.4667644026261295, -0.2183733939914209, -1.2735493192721279, -0.7759015930990381, 0.8913003162757013, -0.1436722265327362, 0.8363533428070496, 0.39207836074386404, -0.15199663407635397, 0.28787773000192673, -0.4801591093253376, -0.3034078886198265, 1.7352664204007102, 0.5930378637504586, 2.4102024296351297, -0.3307829848947105, 0.0886876517645023, 1.277432516235606, 0.9019558405223357, -0.7686226225707046, -1.0990782319705044, -1.2594527794158445, -0.19837010832596924, -0.5189316931204656, -0.8051186320505203, -2.3767339874302347, 1.437999065479335, 1.1017865847557078, -1.2797434001507912, -0.3995660222486687, -0.8090871880124815, -1.6292142376945211, 0.9051799112583083, -1.0310477717438267, 0.1461910289114032, 0.15232455199932002, -0.12343962851039851, -0.24341614756844326, 0.7196652201614023, -1.2080488799693634, -0.8418013066217972, -1.2231851046757791, 1.0191435197448586, 0.8445573153614979, -0.9013918480171765, 0.6440958508132099, -0.5749211031387301, -0.44451902570747176, -0.14964556022134423, -0.2506450929917549, -1.489332270604689, 0.8837149767609971, 1.6631330486294185, 0.01675864008521639, -0.08869869279391412, -0.3375904941282858, 0.6560718655960883], \"xaxis\": \"x12\", \"y\": [-0.11195680488630352, 0.19813513395996601, 0.6243952583500618, 3.4636216744699926, 1.6025780971968129, -1.4842957023344758, 1.5200032468496212, -0.2631744539556295, 1.6500701251249659, -3.029823148650362, 1.0265662580499642, -0.2567714743133042, 2.457180119797221, 0.5238088696860247, 0.26209872027584513, 0.6956634102215381, -0.6875276285625027, 0.6392616577482672, 1.3351393658985924, 0.34141495490170315, -0.5659435780610622, -1.5608013996314807, 0.48786006329180565, 0.336081140259419, 1.0175981710604358, -1.0135670113619677, 0.3129251024807007, 0.09328582639040285, -0.87220153866261, 2.219797990891727, 0.3655625592140774, 0.8002282698773922, 0.5158153974877858, -0.33700303233675205, -1.2940315214203613, 1.1328240142383346, 0.10094096472141936, 1.7370875372990418, 0.1839808055476812, 1.2827729447774527, 0.01818646549473812, -0.8766507338302455, 0.11151420077033018, -1.226767964025608, 0.5925924682575862, -0.661867073821238, -0.3727916276086114, -0.35054991247657, -0.725074404132708, -0.8056579783319012, -2.370764105329452, 0.022591428355840264, 0.1701455330688707, -1.2801069400543095, 1.80983649905343, 1.3215544377183117, -0.6475697652766453, -2.878377702333487, -0.3907665880809579, -0.9491649532134488, 0.08817234504563345, 0.410923543362477, 0.2118958880439002, 0.027784440467459877, -0.3580699215915449, -2.0625597051700364, -1.0760324793561697, 0.8371078225097193, 0.5682216990227285, 0.06389082048082165, -0.9604774121864444, -1.5094374087850413, -0.9892302232683492, -0.08039240707564778, 0.4338028851904076, -0.32565578060191, -1.3588064292335826, -0.6212581022909891, -0.14729134904037633, 0.676065770331901, 0.048383080662061546, 1.1655116085226473, 0.36441634440261894, 0.13740405736192837, -0.2692124351999852, 1.0333699470883486, -1.4292425177566495, 1.3193573123226177, 0.14325005584199305, -0.6451136154829559, 1.5868146161808676, 0.3139631548592902, -1.2599371618269581, 0.6661701105361751, 0.050813451678986335, -0.16529638984939754, 1.7873956492526328, 0.6855946366040738, -0.4169361655747808, 1.1957640390301516], \"yaxis\": \"y12\"}, {\"line\": {\"color\": \"rgba(128, 128, 128, 1.0)\", \"dash\": \"solid\", \"shape\": \"linear\", \"width\": 1.3}, \"marker\": {\"size\": 2, \"symbol\": \"circle\"}, \"mode\": \"markers\", \"name\": \"D\", \"text\": \"\", \"type\": \"scatter\", \"x\": [-1.8375793829805152, -0.15949696869273136, 1.1310371011634441, 0.033424317827104935, -0.27266433823248903, -1.5266480612294526, 0.6406900998232502, -1.2037810103452755, 0.45766181096666353, -0.65756316944976, 1.2254607006230938, -0.49670888312590306, 0.9517977824412835, -0.4737685536624598, -0.18866034695016973, 1.7707542889792907, 0.6323242648780771, 0.12204537313043434, -1.9034920234674675, -0.04442225969249496, 0.15429995846266448, 0.7932222997650096, 2.539915784248557, -1.1930343034985709, -0.614857906207743, 1.4806568174717332, -1.8648504458226827, -0.41509780444484906, -1.5902518624107531, -1.1668716248656292, 0.7148812419826943, 0.9205412994571905, -1.0552530177997501, -1.1144495047103273, -1.4148418771042273, -0.7978844421999658, -0.7196315490672652, -0.6581896684098428, -0.003017838744859791, 1.000572700470973, 0.03907023496823878, 0.9445560069535803, -0.4370724628095535, -0.5308855796106563, 0.40885528594580445, 0.188730040054379, -0.7941436814811723, 1.9071063059377538, -0.05371617887237018, -1.2180771449054735, -0.0027625945812005813, -0.7289781761912149, -1.5148040962595313, 1.5310393005980325, 1.2115849481386265, 0.47883686689648225, -0.45499490210360916, -1.0189093313495297, -0.15728791717667132, -0.11127659476746542, 0.8690846353904871, 0.20354127289823257, -2.0630281790612797, 1.3344770773409376, -1.6200000617491879, -0.23116693293656054, -0.6755590465420752, 0.4685086761604976, 0.49494635923821795, -0.005597955485651658, 1.0885292455914743, -1.0407905089838017, -0.929490474183066, -1.015229473319679, 1.8836505311940042, 0.852998689782739, 1.0753372020989056, 1.4373344844109446, -0.03480585890954957, -0.37548221973787094, 1.5645635392346884, 1.758746465445413, -1.7330027977656584, -0.25500034465944543, -0.11760242138474251, 1.9831290035306863, -1.6781345236672671, 1.0916134309838674, -0.4986127299448885, 0.4985659415525577, 1.1762317481769409, -0.9905137465769372, -1.063065614167874, 1.242282812838642, 0.990357440665751, 3.006402504672399, 1.7946437084519817, 1.2758239575605375, 0.038206062830590415, -0.052200463798188414], \"xaxis\": \"x13\", \"y\": [0.8776105999726939, -0.10918325673623544, 0.43222002504828105, 0.21168643105607898, -0.9548195681227061, -0.6582052405583847, -0.3438405764101884, 0.024985400072480204, 0.8845177708376631, 1.825785856913161, -0.28356750209844556, 0.2742762047578588, -0.6886177300532897, 0.5455626463032112, 0.5512032007015983, -0.08465280718060102, -1.5683868440841968, -2.109777683469117, 2.405134896361823, 0.9499776131789283, 0.529550183658126, -1.7435741433932503, -0.9283743006001778, 1.3966321748408201, 0.8373142928074896, 0.08189116770723855, 0.5154221849354002, -0.03439821187574808, 0.2869642638346971, -0.03845611395295513, 2.2779916916551435, 0.8367230528940887, -1.7602317632984699, -1.0902609470819251, 0.370608475722315, 0.23087291044609118, -0.9429003049634584, -0.461098739151424, 3.2211304767698223, 1.311354278181902, -1.6504354303851616, -0.6950894070767035, -0.38424297017119463, 1.4667644026261295, -0.2183733939914209, -1.2735493192721279, -0.7759015930990381, 0.8913003162757013, -0.1436722265327362, 0.8363533428070496, 0.39207836074386404, -0.15199663407635397, 0.28787773000192673, -0.4801591093253376, -0.3034078886198265, 1.7352664204007102, 0.5930378637504586, 2.4102024296351297, -0.3307829848947105, 0.0886876517645023, 1.277432516235606, 0.9019558405223357, -0.7686226225707046, -1.0990782319705044, -1.2594527794158445, -0.19837010832596924, -0.5189316931204656, -0.8051186320505203, -2.3767339874302347, 1.437999065479335, 1.1017865847557078, -1.2797434001507912, -0.3995660222486687, -0.8090871880124815, -1.6292142376945211, 0.9051799112583083, -1.0310477717438267, 0.1461910289114032, 0.15232455199932002, -0.12343962851039851, -0.24341614756844326, 0.7196652201614023, -1.2080488799693634, -0.8418013066217972, -1.2231851046757791, 1.0191435197448586, 0.8445573153614979, -0.9013918480171765, 0.6440958508132099, -0.5749211031387301, -0.44451902570747176, -0.14964556022134423, -0.2506450929917549, -1.489332270604689, 0.8837149767609971, 1.6631330486294185, 0.01675864008521639, -0.08869869279391412, -0.3375904941282858, 0.6560718655960883], \"yaxis\": \"y13\"}, {\"line\": {\"color\": \"rgba(128, 128, 128, 1.0)\", \"dash\": \"solid\", \"shape\": \"linear\", \"width\": 1.3}, \"marker\": {\"size\": 2, \"symbol\": \"circle\"}, \"mode\": \"markers\", \"name\": \"D\", \"text\": \"\", \"type\": \"scatter\", \"x\": [1.7979066365959437, 0.46285376386792, -1.186763222985012, -1.3069987790938424, 0.2846992419759555, -0.46572268676860606, 0.37506581218122054, 0.04307716596099602, -0.10030470230806747, 0.2253581478192807, 1.5881375303218745, -0.7860510560549011, 0.0709065210939935, 1.3179919385263983, 0.1911135355144382, -0.1659826156491933, 0.1335520665302867, -1.3591338016683188, 0.6810870536812119, -0.3210353527483331, -0.9898181449092167, -1.2243689025562479, 0.9843652721650106, -1.2543373215912461, 0.8715596268958955, 1.3562385722623433, -0.2579451332063824, 0.8699716121262567, 1.248480225043317, -1.5952232935299056, -0.03397694249447452, -0.343267396460641, 0.28802212629747814, -0.8593404698722109, -0.2530951725001365, -1.1386052562784248, 0.38917661781477536, -0.9825733525869731, -0.31696837518324317, 0.7990527808015294, 1.5176967691503638, 1.410126737765439, -0.2743896134901539, -0.6929350750237689, 0.2936921575856845, 0.8254128170753967, -0.38061138001210737, -1.029983050729118, 0.5164862990891124, 0.5294226142890159, 1.3419954272688206, 0.4908184159374298, 0.49612404315739556, -1.5353261683128314, -0.23122135512542397, -0.969643060285253, -0.7905605694819513, 0.6367390711248883, -1.1584050310341727, 0.7132292476684078, 0.5512209938581333, -1.2332536027280028, 1.263445214176733, 1.0355389031994173, -0.4385948782738462, 1.2783266636003576, 0.9694074826731098, -0.5354973913133867, 0.3763906230930325, 1.0822003941489435, 0.7361046509510144, -0.4335373702666788, -0.17899964389897075, -0.3648809060196582, -0.32072220887824276, -0.02508944822472686, -0.5833657581143926, -0.3995712267987253, 0.9009130860560229, -1.4986325461576935, -1.8715391056827866, 2.8798459765859827, 0.07355556328316204, -0.022392130905374747, -1.4390151669046745, -0.12588443717729894, -0.1749203096655581, 0.5710963935160036, -0.8221985582564402, 1.1613570625458303, 0.7006283651400398, 0.028200929375390538, -1.1587338283713418, 0.18389562050698247, -0.9159351961730826, 1.912535172503708, -1.8209107037327792, -2.2563632012174306, 0.05798522639921089, -0.7234000317144638], \"xaxis\": \"x14\", \"y\": [0.8776105999726939, -0.10918325673623544, 0.43222002504828105, 0.21168643105607898, -0.9548195681227061, -0.6582052405583847, -0.3438405764101884, 0.024985400072480204, 0.8845177708376631, 1.825785856913161, -0.28356750209844556, 0.2742762047578588, -0.6886177300532897, 0.5455626463032112, 0.5512032007015983, -0.08465280718060102, -1.5683868440841968, -2.109777683469117, 2.405134896361823, 0.9499776131789283, 0.529550183658126, -1.7435741433932503, -0.9283743006001778, 1.3966321748408201, 0.8373142928074896, 0.08189116770723855, 0.5154221849354002, -0.03439821187574808, 0.2869642638346971, -0.03845611395295513, 2.2779916916551435, 0.8367230528940887, -1.7602317632984699, -1.0902609470819251, 0.370608475722315, 0.23087291044609118, -0.9429003049634584, -0.461098739151424, 3.2211304767698223, 1.311354278181902, -1.6504354303851616, -0.6950894070767035, -0.38424297017119463, 1.4667644026261295, -0.2183733939914209, -1.2735493192721279, -0.7759015930990381, 0.8913003162757013, -0.1436722265327362, 0.8363533428070496, 0.39207836074386404, -0.15199663407635397, 0.28787773000192673, -0.4801591093253376, -0.3034078886198265, 1.7352664204007102, 0.5930378637504586, 2.4102024296351297, -0.3307829848947105, 0.0886876517645023, 1.277432516235606, 0.9019558405223357, -0.7686226225707046, -1.0990782319705044, -1.2594527794158445, -0.19837010832596924, -0.5189316931204656, -0.8051186320505203, -2.3767339874302347, 1.437999065479335, 1.1017865847557078, -1.2797434001507912, -0.3995660222486687, -0.8090871880124815, -1.6292142376945211, 0.9051799112583083, -1.0310477717438267, 0.1461910289114032, 0.15232455199932002, -0.12343962851039851, -0.24341614756844326, 0.7196652201614023, -1.2080488799693634, -0.8418013066217972, -1.2231851046757791, 1.0191435197448586, 0.8445573153614979, -0.9013918480171765, 0.6440958508132099, -0.5749211031387301, -0.44451902570747176, -0.14964556022134423, -0.2506450929917549, -1.489332270604689, 0.8837149767609971, 1.6631330486294185, 0.01675864008521639, -0.08869869279391412, -0.3375904941282858, 0.6560718655960883], \"yaxis\": \"y14\"}, {\"line\": {\"color\": \"rgba(128, 128, 128, 1.0)\", \"dash\": \"solid\", \"shape\": \"linear\", \"width\": 1.3}, \"marker\": {\"size\": 2, \"symbol\": \"circle\"}, \"mode\": \"markers\", \"name\": \"D\", \"text\": \"\", \"type\": \"scatter\", \"x\": [-0.11195680488630352, 0.19813513395996601, 0.6243952583500618, 3.4636216744699926, 1.6025780971968129, -1.4842957023344758, 1.5200032468496212, -0.2631744539556295, 1.6500701251249659, -3.029823148650362, 1.0265662580499642, -0.2567714743133042, 2.457180119797221, 0.5238088696860247, 0.26209872027584513, 0.6956634102215381, -0.6875276285625027, 0.6392616577482672, 1.3351393658985924, 0.34141495490170315, -0.5659435780610622, -1.5608013996314807, 0.48786006329180565, 0.336081140259419, 1.0175981710604358, -1.0135670113619677, 0.3129251024807007, 0.09328582639040285, -0.87220153866261, 2.219797990891727, 0.3655625592140774, 0.8002282698773922, 0.5158153974877858, -0.33700303233675205, -1.2940315214203613, 1.1328240142383346, 0.10094096472141936, 1.7370875372990418, 0.1839808055476812, 1.2827729447774527, 0.01818646549473812, -0.8766507338302455, 0.11151420077033018, -1.226767964025608, 0.5925924682575862, -0.661867073821238, -0.3727916276086114, -0.35054991247657, -0.725074404132708, -0.8056579783319012, -2.370764105329452, 0.022591428355840264, 0.1701455330688707, -1.2801069400543095, 1.80983649905343, 1.3215544377183117, -0.6475697652766453, -2.878377702333487, -0.3907665880809579, -0.9491649532134488, 0.08817234504563345, 0.410923543362477, 0.2118958880439002, 0.027784440467459877, -0.3580699215915449, -2.0625597051700364, -1.0760324793561697, 0.8371078225097193, 0.5682216990227285, 0.06389082048082165, -0.9604774121864444, -1.5094374087850413, -0.9892302232683492, -0.08039240707564778, 0.4338028851904076, -0.32565578060191, -1.3588064292335826, -0.6212581022909891, -0.14729134904037633, 0.676065770331901, 0.048383080662061546, 1.1655116085226473, 0.36441634440261894, 0.13740405736192837, -0.2692124351999852, 1.0333699470883486, -1.4292425177566495, 1.3193573123226177, 0.14325005584199305, -0.6451136154829559, 1.5868146161808676, 0.3139631548592902, -1.2599371618269581, 0.6661701105361751, 0.050813451678986335, -0.16529638984939754, 1.7873956492526328, 0.6855946366040738, -0.4169361655747808, 1.1957640390301516], \"xaxis\": \"x15\", \"y\": [0.8776105999726939, -0.10918325673623544, 0.43222002504828105, 0.21168643105607898, -0.9548195681227061, -0.6582052405583847, -0.3438405764101884, 0.024985400072480204, 0.8845177708376631, 1.825785856913161, -0.28356750209844556, 0.2742762047578588, -0.6886177300532897, 0.5455626463032112, 0.5512032007015983, -0.08465280718060102, -1.5683868440841968, -2.109777683469117, 2.405134896361823, 0.9499776131789283, 0.529550183658126, -1.7435741433932503, -0.9283743006001778, 1.3966321748408201, 0.8373142928074896, 0.08189116770723855, 0.5154221849354002, -0.03439821187574808, 0.2869642638346971, -0.03845611395295513, 2.2779916916551435, 0.8367230528940887, -1.7602317632984699, -1.0902609470819251, 0.370608475722315, 0.23087291044609118, -0.9429003049634584, -0.461098739151424, 3.2211304767698223, 1.311354278181902, -1.6504354303851616, -0.6950894070767035, -0.38424297017119463, 1.4667644026261295, -0.2183733939914209, -1.2735493192721279, -0.7759015930990381, 0.8913003162757013, -0.1436722265327362, 0.8363533428070496, 0.39207836074386404, -0.15199663407635397, 0.28787773000192673, -0.4801591093253376, -0.3034078886198265, 1.7352664204007102, 0.5930378637504586, 2.4102024296351297, -0.3307829848947105, 0.0886876517645023, 1.277432516235606, 0.9019558405223357, -0.7686226225707046, -1.0990782319705044, -1.2594527794158445, -0.19837010832596924, -0.5189316931204656, -0.8051186320505203, -2.3767339874302347, 1.437999065479335, 1.1017865847557078, -1.2797434001507912, -0.3995660222486687, -0.8090871880124815, -1.6292142376945211, 0.9051799112583083, -1.0310477717438267, 0.1461910289114032, 0.15232455199932002, -0.12343962851039851, -0.24341614756844326, 0.7196652201614023, -1.2080488799693634, -0.8418013066217972, -1.2231851046757791, 1.0191435197448586, 0.8445573153614979, -0.9013918480171765, 0.6440958508132099, -0.5749211031387301, -0.44451902570747176, -0.14964556022134423, -0.2506450929917549, -1.489332270604689, 0.8837149767609971, 1.6631330486294185, 0.01675864008521639, -0.08869869279391412, -0.3375904941282858, 0.6560718655960883], \"yaxis\": \"y15\"}, {\"histfunc\": \"count\", \"histnorm\": \"\", \"marker\": {\"color\": \"rgba(128, 0, 128, 1.0)\", \"line\": {\"color\": \"#4D5663\", \"width\": 1.3}}, \"name\": \"D\", \"nbinsx\": 10, \"opacity\": 0.8, \"orientation\": \"v\", \"type\": \"histogram\", \"x\": [0.8776105999726939, -0.10918325673623544, 0.43222002504828105, 0.21168643105607898, -0.9548195681227061, -0.6582052405583847, -0.3438405764101884, 0.024985400072480204, 0.8845177708376631, 1.825785856913161, -0.28356750209844556, 0.2742762047578588, -0.6886177300532897, 0.5455626463032112, 0.5512032007015983, -0.08465280718060102, -1.5683868440841968, -2.109777683469117, 2.405134896361823, 0.9499776131789283, 0.529550183658126, -1.7435741433932503, -0.9283743006001778, 1.3966321748408201, 0.8373142928074896, 0.08189116770723855, 0.5154221849354002, -0.03439821187574808, 0.2869642638346971, -0.03845611395295513, 2.2779916916551435, 0.8367230528940887, -1.7602317632984699, -1.0902609470819251, 0.370608475722315, 0.23087291044609118, -0.9429003049634584, -0.461098739151424, 3.2211304767698223, 1.311354278181902, -1.6504354303851616, -0.6950894070767035, -0.38424297017119463, 1.4667644026261295, -0.2183733939914209, -1.2735493192721279, -0.7759015930990381, 0.8913003162757013, -0.1436722265327362, 0.8363533428070496, 0.39207836074386404, -0.15199663407635397, 0.28787773000192673, -0.4801591093253376, -0.3034078886198265, 1.7352664204007102, 0.5930378637504586, 2.4102024296351297, -0.3307829848947105, 0.0886876517645023, 1.277432516235606, 0.9019558405223357, -0.7686226225707046, -1.0990782319705044, -1.2594527794158445, -0.19837010832596924, -0.5189316931204656, -0.8051186320505203, -2.3767339874302347, 1.437999065479335, 1.1017865847557078, -1.2797434001507912, -0.3995660222486687, -0.8090871880124815, -1.6292142376945211, 0.9051799112583083, -1.0310477717438267, 0.1461910289114032, 0.15232455199932002, -0.12343962851039851, -0.24341614756844326, 0.7196652201614023, -1.2080488799693634, -0.8418013066217972, -1.2231851046757791, 1.0191435197448586, 0.8445573153614979, -0.9013918480171765, 0.6440958508132099, -0.5749211031387301, -0.44451902570747176, -0.14964556022134423, -0.2506450929917549, -1.489332270604689, 0.8837149767609971, 1.6631330486294185, 0.01675864008521639, -0.08869869279391412, -0.3375904941282858, 0.6560718655960883], \"xaxis\": \"x16\", \"yaxis\": \"y16\"}],\n",
       "                        {\"bargap\": 0.02, \"legend\": {\"bgcolor\": \"#F5F6F9\", \"font\": {\"color\": \"#4D5663\"}}, \"paper_bgcolor\": \"#F5F6F9\", \"plot_bgcolor\": \"#F5F6F9\", \"showlegend\": false, \"template\": {\"data\": {\"bar\": [{\"error_x\": {\"color\": \"#2a3f5f\"}, \"error_y\": {\"color\": \"#2a3f5f\"}, \"marker\": {\"line\": {\"color\": \"#E5ECF6\", \"width\": 0.5}}, \"type\": \"bar\"}], \"barpolar\": [{\"marker\": {\"line\": {\"color\": \"#E5ECF6\", \"width\": 0.5}}, \"type\": \"barpolar\"}], \"carpet\": [{\"aaxis\": {\"endlinecolor\": \"#2a3f5f\", \"gridcolor\": \"white\", \"linecolor\": \"white\", \"minorgridcolor\": \"white\", \"startlinecolor\": \"#2a3f5f\"}, \"baxis\": {\"endlinecolor\": \"#2a3f5f\", \"gridcolor\": \"white\", \"linecolor\": \"white\", \"minorgridcolor\": \"white\", \"startlinecolor\": \"#2a3f5f\"}, \"type\": \"carpet\"}], \"choropleth\": [{\"colorbar\": {\"outlinewidth\": 0, \"ticks\": \"\"}, \"type\": \"choropleth\"}], \"contour\": [{\"colorbar\": {\"outlinewidth\": 0, \"ticks\": \"\"}, \"colorscale\": [[0.0, \"#0d0887\"], [0.1111111111111111, \"#46039f\"], [0.2222222222222222, \"#7201a8\"], [0.3333333333333333, \"#9c179e\"], [0.4444444444444444, \"#bd3786\"], [0.5555555555555556, \"#d8576b\"], [0.6666666666666666, \"#ed7953\"], [0.7777777777777778, \"#fb9f3a\"], [0.8888888888888888, \"#fdca26\"], [1.0, \"#f0f921\"]], \"type\": \"contour\"}], \"contourcarpet\": [{\"colorbar\": {\"outlinewidth\": 0, \"ticks\": \"\"}, \"type\": \"contourcarpet\"}], \"heatmap\": [{\"colorbar\": {\"outlinewidth\": 0, \"ticks\": \"\"}, \"colorscale\": [[0.0, \"#0d0887\"], [0.1111111111111111, \"#46039f\"], [0.2222222222222222, \"#7201a8\"], [0.3333333333333333, \"#9c179e\"], [0.4444444444444444, \"#bd3786\"], [0.5555555555555556, \"#d8576b\"], [0.6666666666666666, \"#ed7953\"], [0.7777777777777778, \"#fb9f3a\"], [0.8888888888888888, \"#fdca26\"], [1.0, \"#f0f921\"]], \"type\": \"heatmap\"}], \"heatmapgl\": [{\"colorbar\": {\"outlinewidth\": 0, \"ticks\": \"\"}, \"colorscale\": [[0.0, \"#0d0887\"], [0.1111111111111111, \"#46039f\"], [0.2222222222222222, \"#7201a8\"], [0.3333333333333333, \"#9c179e\"], [0.4444444444444444, \"#bd3786\"], [0.5555555555555556, \"#d8576b\"], [0.6666666666666666, \"#ed7953\"], [0.7777777777777778, \"#fb9f3a\"], [0.8888888888888888, \"#fdca26\"], [1.0, \"#f0f921\"]], \"type\": \"heatmapgl\"}], \"histogram\": [{\"marker\": {\"colorbar\": {\"outlinewidth\": 0, \"ticks\": \"\"}}, \"type\": \"histogram\"}], \"histogram2d\": [{\"colorbar\": {\"outlinewidth\": 0, \"ticks\": \"\"}, \"colorscale\": [[0.0, \"#0d0887\"], [0.1111111111111111, \"#46039f\"], [0.2222222222222222, \"#7201a8\"], [0.3333333333333333, \"#9c179e\"], [0.4444444444444444, \"#bd3786\"], [0.5555555555555556, \"#d8576b\"], [0.6666666666666666, \"#ed7953\"], [0.7777777777777778, \"#fb9f3a\"], [0.8888888888888888, \"#fdca26\"], [1.0, \"#f0f921\"]], \"type\": \"histogram2d\"}], \"histogram2dcontour\": [{\"colorbar\": {\"outlinewidth\": 0, \"ticks\": \"\"}, \"colorscale\": [[0.0, \"#0d0887\"], [0.1111111111111111, \"#46039f\"], [0.2222222222222222, \"#7201a8\"], [0.3333333333333333, \"#9c179e\"], [0.4444444444444444, \"#bd3786\"], [0.5555555555555556, \"#d8576b\"], [0.6666666666666666, \"#ed7953\"], [0.7777777777777778, \"#fb9f3a\"], [0.8888888888888888, \"#fdca26\"], [1.0, \"#f0f921\"]], \"type\": \"histogram2dcontour\"}], \"mesh3d\": [{\"colorbar\": {\"outlinewidth\": 0, \"ticks\": \"\"}, \"type\": \"mesh3d\"}], \"parcoords\": [{\"line\": {\"colorbar\": {\"outlinewidth\": 0, \"ticks\": \"\"}}, \"type\": \"parcoords\"}], \"pie\": [{\"automargin\": true, \"type\": \"pie\"}], \"scatter\": [{\"marker\": {\"colorbar\": {\"outlinewidth\": 0, \"ticks\": \"\"}}, \"type\": \"scatter\"}], \"scatter3d\": [{\"line\": {\"colorbar\": {\"outlinewidth\": 0, \"ticks\": \"\"}}, \"marker\": {\"colorbar\": {\"outlinewidth\": 0, \"ticks\": \"\"}}, \"type\": \"scatter3d\"}], \"scattercarpet\": [{\"marker\": {\"colorbar\": {\"outlinewidth\": 0, \"ticks\": \"\"}}, \"type\": \"scattercarpet\"}], \"scattergeo\": [{\"marker\": {\"colorbar\": {\"outlinewidth\": 0, \"ticks\": \"\"}}, \"type\": \"scattergeo\"}], \"scattergl\": [{\"marker\": {\"colorbar\": {\"outlinewidth\": 0, \"ticks\": \"\"}}, \"type\": \"scattergl\"}], \"scattermapbox\": [{\"marker\": {\"colorbar\": {\"outlinewidth\": 0, \"ticks\": \"\"}}, \"type\": \"scattermapbox\"}], \"scatterpolar\": [{\"marker\": {\"colorbar\": {\"outlinewidth\": 0, \"ticks\": \"\"}}, \"type\": \"scatterpolar\"}], \"scatterpolargl\": [{\"marker\": {\"colorbar\": {\"outlinewidth\": 0, \"ticks\": \"\"}}, \"type\": \"scatterpolargl\"}], \"scatterternary\": [{\"marker\": {\"colorbar\": {\"outlinewidth\": 0, \"ticks\": \"\"}}, \"type\": \"scatterternary\"}], \"surface\": [{\"colorbar\": {\"outlinewidth\": 0, \"ticks\": \"\"}, \"colorscale\": [[0.0, \"#0d0887\"], [0.1111111111111111, \"#46039f\"], [0.2222222222222222, \"#7201a8\"], [0.3333333333333333, \"#9c179e\"], [0.4444444444444444, \"#bd3786\"], [0.5555555555555556, \"#d8576b\"], [0.6666666666666666, \"#ed7953\"], [0.7777777777777778, \"#fb9f3a\"], [0.8888888888888888, \"#fdca26\"], [1.0, \"#f0f921\"]], \"type\": \"surface\"}], \"table\": [{\"cells\": {\"fill\": {\"color\": \"#EBF0F8\"}, \"line\": {\"color\": \"white\"}}, \"header\": {\"fill\": {\"color\": \"#C8D4E3\"}, \"line\": {\"color\": \"white\"}}, \"type\": \"table\"}]}, \"layout\": {\"annotationdefaults\": {\"arrowcolor\": \"#2a3f5f\", \"arrowhead\": 0, \"arrowwidth\": 1}, \"coloraxis\": {\"colorbar\": {\"outlinewidth\": 0, \"ticks\": \"\"}}, \"colorscale\": {\"diverging\": [[0, \"#8e0152\"], [0.1, \"#c51b7d\"], [0.2, \"#de77ae\"], [0.3, \"#f1b6da\"], [0.4, \"#fde0ef\"], [0.5, \"#f7f7f7\"], [0.6, \"#e6f5d0\"], [0.7, \"#b8e186\"], [0.8, \"#7fbc41\"], [0.9, \"#4d9221\"], [1, \"#276419\"]], \"sequential\": [[0.0, \"#0d0887\"], [0.1111111111111111, \"#46039f\"], [0.2222222222222222, \"#7201a8\"], [0.3333333333333333, \"#9c179e\"], [0.4444444444444444, \"#bd3786\"], [0.5555555555555556, \"#d8576b\"], [0.6666666666666666, \"#ed7953\"], [0.7777777777777778, \"#fb9f3a\"], [0.8888888888888888, \"#fdca26\"], [1.0, \"#f0f921\"]], \"sequentialminus\": [[0.0, \"#0d0887\"], [0.1111111111111111, \"#46039f\"], [0.2222222222222222, \"#7201a8\"], [0.3333333333333333, \"#9c179e\"], [0.4444444444444444, \"#bd3786\"], [0.5555555555555556, \"#d8576b\"], [0.6666666666666666, \"#ed7953\"], [0.7777777777777778, \"#fb9f3a\"], [0.8888888888888888, \"#fdca26\"], [1.0, \"#f0f921\"]]}, \"colorway\": [\"#636efa\", \"#EF553B\", \"#00cc96\", \"#ab63fa\", \"#FFA15A\", \"#19d3f3\", \"#FF6692\", \"#B6E880\", \"#FF97FF\", \"#FECB52\"], \"font\": {\"color\": \"#2a3f5f\"}, \"geo\": {\"bgcolor\": \"white\", \"lakecolor\": \"white\", \"landcolor\": \"#E5ECF6\", \"showlakes\": true, \"showland\": true, \"subunitcolor\": \"white\"}, \"hoverlabel\": {\"align\": \"left\"}, \"hovermode\": \"closest\", \"mapbox\": {\"style\": \"light\"}, \"paper_bgcolor\": \"white\", \"plot_bgcolor\": \"#E5ECF6\", \"polar\": {\"angularaxis\": {\"gridcolor\": \"white\", \"linecolor\": \"white\", \"ticks\": \"\"}, \"bgcolor\": \"#E5ECF6\", \"radialaxis\": {\"gridcolor\": \"white\", \"linecolor\": \"white\", \"ticks\": \"\"}}, \"scene\": {\"xaxis\": {\"backgroundcolor\": \"#E5ECF6\", \"gridcolor\": \"white\", \"gridwidth\": 2, \"linecolor\": \"white\", \"showbackground\": true, \"ticks\": \"\", \"zerolinecolor\": \"white\"}, \"yaxis\": {\"backgroundcolor\": \"#E5ECF6\", \"gridcolor\": \"white\", \"gridwidth\": 2, \"linecolor\": \"white\", \"showbackground\": true, \"ticks\": \"\", \"zerolinecolor\": \"white\"}, \"zaxis\": {\"backgroundcolor\": \"#E5ECF6\", \"gridcolor\": \"white\", \"gridwidth\": 2, \"linecolor\": \"white\", \"showbackground\": true, \"ticks\": \"\", \"zerolinecolor\": \"white\"}}, \"shapedefaults\": {\"line\": {\"color\": \"#2a3f5f\"}}, \"ternary\": {\"aaxis\": {\"gridcolor\": \"white\", \"linecolor\": \"white\", \"ticks\": \"\"}, \"baxis\": {\"gridcolor\": \"white\", \"linecolor\": \"white\", \"ticks\": \"\"}, \"bgcolor\": \"#E5ECF6\", \"caxis\": {\"gridcolor\": \"white\", \"linecolor\": \"white\", \"ticks\": \"\"}}, \"title\": {\"x\": 0.05}, \"xaxis\": {\"automargin\": true, \"gridcolor\": \"white\", \"linecolor\": \"white\", \"ticks\": \"\", \"title\": {\"standoff\": 15}, \"zerolinecolor\": \"white\", \"zerolinewidth\": 2}, \"yaxis\": {\"automargin\": true, \"gridcolor\": \"white\", \"linecolor\": \"white\", \"ticks\": \"\", \"title\": {\"standoff\": 15}, \"zerolinecolor\": \"white\", \"zerolinewidth\": 2}}}, \"title\": {\"font\": {\"color\": \"#4D5663\"}}, \"xaxis\": {\"anchor\": \"y\", \"domain\": [0.0, 0.2125], \"gridcolor\": \"#E1E5ED\", \"showgrid\": false, \"tickfont\": {\"color\": \"#4D5663\"}, \"title\": {\"font\": {\"color\": \"#4D5663\"}, \"text\": \"\"}, \"zerolinecolor\": \"#E1E5ED\"}, \"xaxis10\": {\"anchor\": \"y10\", \"domain\": [0.2625, 0.475], \"gridcolor\": \"#E1E5ED\", \"showgrid\": false, \"tickfont\": {\"color\": \"#4D5663\"}, \"title\": {\"font\": {\"color\": \"#4D5663\"}, \"text\": \"\"}, \"zerolinecolor\": \"#E1E5ED\"}, \"xaxis11\": {\"anchor\": \"y11\", \"domain\": [0.525, 0.7375], \"gridcolor\": \"#E1E5ED\", \"showgrid\": false, \"tickfont\": {\"color\": \"#4D5663\"}, \"title\": {\"font\": {\"color\": \"#4D5663\"}, \"text\": \"\"}, \"zerolinecolor\": \"#E1E5ED\"}, \"xaxis12\": {\"anchor\": \"y12\", \"domain\": [0.7875, 1.0], \"gridcolor\": \"#E1E5ED\", \"showgrid\": false, \"tickfont\": {\"color\": \"#4D5663\"}, \"title\": {\"font\": {\"color\": \"#4D5663\"}, \"text\": \"\"}, \"zerolinecolor\": \"#E1E5ED\"}, \"xaxis13\": {\"anchor\": \"y13\", \"domain\": [0.0, 0.2125], \"gridcolor\": \"#E1E5ED\", \"showgrid\": false, \"tickfont\": {\"color\": \"#4D5663\"}, \"title\": {\"font\": {\"color\": \"#4D5663\"}, \"text\": \"\"}, \"zerolinecolor\": \"#E1E5ED\"}, \"xaxis14\": {\"anchor\": \"y14\", \"domain\": [0.2625, 0.475], \"gridcolor\": \"#E1E5ED\", \"showgrid\": false, \"tickfont\": {\"color\": \"#4D5663\"}, \"title\": {\"font\": {\"color\": \"#4D5663\"}, \"text\": \"\"}, \"zerolinecolor\": \"#E1E5ED\"}, \"xaxis15\": {\"anchor\": \"y15\", \"domain\": [0.525, 0.7375], \"gridcolor\": \"#E1E5ED\", \"showgrid\": false, \"tickfont\": {\"color\": \"#4D5663\"}, \"title\": {\"font\": {\"color\": \"#4D5663\"}, \"text\": \"\"}, \"zerolinecolor\": \"#E1E5ED\"}, \"xaxis16\": {\"anchor\": \"y16\", \"domain\": [0.7875, 1.0], \"gridcolor\": \"#E1E5ED\", \"showgrid\": false, \"tickfont\": {\"color\": \"#4D5663\"}, \"title\": {\"font\": {\"color\": \"#4D5663\"}, \"text\": \"\"}, \"zerolinecolor\": \"#E1E5ED\"}, \"xaxis2\": {\"anchor\": \"y2\", \"domain\": [0.2625, 0.475], \"gridcolor\": \"#E1E5ED\", \"showgrid\": false, \"tickfont\": {\"color\": \"#4D5663\"}, \"title\": {\"font\": {\"color\": \"#4D5663\"}, \"text\": \"\"}, \"zerolinecolor\": \"#E1E5ED\"}, \"xaxis3\": {\"anchor\": \"y3\", \"domain\": [0.525, 0.7375], \"gridcolor\": \"#E1E5ED\", \"showgrid\": false, \"tickfont\": {\"color\": \"#4D5663\"}, \"title\": {\"font\": {\"color\": \"#4D5663\"}, \"text\": \"\"}, \"zerolinecolor\": \"#E1E5ED\"}, \"xaxis4\": {\"anchor\": \"y4\", \"domain\": [0.7875, 1.0], \"gridcolor\": \"#E1E5ED\", \"showgrid\": false, \"tickfont\": {\"color\": \"#4D5663\"}, \"title\": {\"font\": {\"color\": \"#4D5663\"}, \"text\": \"\"}, \"zerolinecolor\": \"#E1E5ED\"}, \"xaxis5\": {\"anchor\": \"y5\", \"domain\": [0.0, 0.2125], \"gridcolor\": \"#E1E5ED\", \"showgrid\": false, \"tickfont\": {\"color\": \"#4D5663\"}, \"title\": {\"font\": {\"color\": \"#4D5663\"}, \"text\": \"\"}, \"zerolinecolor\": \"#E1E5ED\"}, \"xaxis6\": {\"anchor\": \"y6\", \"domain\": [0.2625, 0.475], \"gridcolor\": \"#E1E5ED\", \"showgrid\": false, \"tickfont\": {\"color\": \"#4D5663\"}, \"title\": {\"font\": {\"color\": \"#4D5663\"}, \"text\": \"\"}, \"zerolinecolor\": \"#E1E5ED\"}, \"xaxis7\": {\"anchor\": \"y7\", \"domain\": [0.525, 0.7375], \"gridcolor\": \"#E1E5ED\", \"showgrid\": false, \"tickfont\": {\"color\": \"#4D5663\"}, \"title\": {\"font\": {\"color\": \"#4D5663\"}, \"text\": \"\"}, \"zerolinecolor\": \"#E1E5ED\"}, \"xaxis8\": {\"anchor\": \"y8\", \"domain\": [0.7875, 1.0], \"gridcolor\": \"#E1E5ED\", \"showgrid\": false, \"tickfont\": {\"color\": \"#4D5663\"}, \"title\": {\"font\": {\"color\": \"#4D5663\"}, \"text\": \"\"}, \"zerolinecolor\": \"#E1E5ED\"}, \"xaxis9\": {\"anchor\": \"y9\", \"domain\": [0.0, 0.2125], \"gridcolor\": \"#E1E5ED\", \"showgrid\": false, \"tickfont\": {\"color\": \"#4D5663\"}, \"title\": {\"font\": {\"color\": \"#4D5663\"}, \"text\": \"\"}, \"zerolinecolor\": \"#E1E5ED\"}, \"yaxis\": {\"anchor\": \"x\", \"domain\": [0.8025, 1.0], \"gridcolor\": \"#E1E5ED\", \"showgrid\": false, \"tickfont\": {\"color\": \"#4D5663\"}, \"title\": {\"font\": {\"color\": \"#4D5663\"}, \"text\": \"\"}, \"zerolinecolor\": \"#E1E5ED\"}, \"yaxis10\": {\"anchor\": \"x10\", \"domain\": [0.2675, 0.465], \"gridcolor\": \"#E1E5ED\", \"showgrid\": false, \"tickfont\": {\"color\": \"#4D5663\"}, \"title\": {\"font\": {\"color\": \"#4D5663\"}, \"text\": \"\"}, \"zerolinecolor\": \"#E1E5ED\"}, \"yaxis11\": {\"anchor\": \"x11\", \"domain\": [0.2675, 0.465], \"gridcolor\": \"#E1E5ED\", \"showgrid\": false, \"tickfont\": {\"color\": \"#4D5663\"}, \"title\": {\"font\": {\"color\": \"#4D5663\"}, \"text\": \"\"}, \"zerolinecolor\": \"#E1E5ED\"}, \"yaxis12\": {\"anchor\": \"x12\", \"domain\": [0.2675, 0.465], \"gridcolor\": \"#E1E5ED\", \"showgrid\": false, \"tickfont\": {\"color\": \"#4D5663\"}, \"title\": {\"font\": {\"color\": \"#4D5663\"}, \"text\": \"\"}, \"zerolinecolor\": \"#E1E5ED\"}, \"yaxis13\": {\"anchor\": \"x13\", \"domain\": [0.0, 0.1975], \"gridcolor\": \"#E1E5ED\", \"showgrid\": false, \"tickfont\": {\"color\": \"#4D5663\"}, \"title\": {\"font\": {\"color\": \"#4D5663\"}, \"text\": \"\"}, \"zerolinecolor\": \"#E1E5ED\"}, \"yaxis14\": {\"anchor\": \"x14\", \"domain\": [0.0, 0.1975], \"gridcolor\": \"#E1E5ED\", \"showgrid\": false, \"tickfont\": {\"color\": \"#4D5663\"}, \"title\": {\"font\": {\"color\": \"#4D5663\"}, \"text\": \"\"}, \"zerolinecolor\": \"#E1E5ED\"}, \"yaxis15\": {\"anchor\": \"x15\", \"domain\": [0.0, 0.1975], \"gridcolor\": \"#E1E5ED\", \"showgrid\": false, \"tickfont\": {\"color\": \"#4D5663\"}, \"title\": {\"font\": {\"color\": \"#4D5663\"}, \"text\": \"\"}, \"zerolinecolor\": \"#E1E5ED\"}, \"yaxis16\": {\"anchor\": \"x16\", \"domain\": [0.0, 0.1975], \"gridcolor\": \"#E1E5ED\", \"showgrid\": false, \"tickfont\": {\"color\": \"#4D5663\"}, \"title\": {\"font\": {\"color\": \"#4D5663\"}, \"text\": \"\"}, \"zerolinecolor\": \"#E1E5ED\"}, \"yaxis2\": {\"anchor\": \"x2\", \"domain\": [0.8025, 1.0], \"gridcolor\": \"#E1E5ED\", \"showgrid\": false, \"tickfont\": {\"color\": \"#4D5663\"}, \"title\": {\"font\": {\"color\": \"#4D5663\"}, \"text\": \"\"}, \"zerolinecolor\": \"#E1E5ED\"}, \"yaxis3\": {\"anchor\": \"x3\", \"domain\": [0.8025, 1.0], \"gridcolor\": \"#E1E5ED\", \"showgrid\": false, \"tickfont\": {\"color\": \"#4D5663\"}, \"title\": {\"font\": {\"color\": \"#4D5663\"}, \"text\": \"\"}, \"zerolinecolor\": \"#E1E5ED\"}, \"yaxis4\": {\"anchor\": \"x4\", \"domain\": [0.8025, 1.0], \"gridcolor\": \"#E1E5ED\", \"showgrid\": false, \"tickfont\": {\"color\": \"#4D5663\"}, \"title\": {\"font\": {\"color\": \"#4D5663\"}, \"text\": \"\"}, \"zerolinecolor\": \"#E1E5ED\"}, \"yaxis5\": {\"anchor\": \"x5\", \"domain\": [0.535, 0.7325], \"gridcolor\": \"#E1E5ED\", \"showgrid\": false, \"tickfont\": {\"color\": \"#4D5663\"}, \"title\": {\"font\": {\"color\": \"#4D5663\"}, \"text\": \"\"}, \"zerolinecolor\": \"#E1E5ED\"}, \"yaxis6\": {\"anchor\": \"x6\", \"domain\": [0.535, 0.7325], \"gridcolor\": \"#E1E5ED\", \"showgrid\": false, \"tickfont\": {\"color\": \"#4D5663\"}, \"title\": {\"font\": {\"color\": \"#4D5663\"}, \"text\": \"\"}, \"zerolinecolor\": \"#E1E5ED\"}, \"yaxis7\": {\"anchor\": \"x7\", \"domain\": [0.535, 0.7325], \"gridcolor\": \"#E1E5ED\", \"showgrid\": false, \"tickfont\": {\"color\": \"#4D5663\"}, \"title\": {\"font\": {\"color\": \"#4D5663\"}, \"text\": \"\"}, \"zerolinecolor\": \"#E1E5ED\"}, \"yaxis8\": {\"anchor\": \"x8\", \"domain\": [0.535, 0.7325], \"gridcolor\": \"#E1E5ED\", \"showgrid\": false, \"tickfont\": {\"color\": \"#4D5663\"}, \"title\": {\"font\": {\"color\": \"#4D5663\"}, \"text\": \"\"}, \"zerolinecolor\": \"#E1E5ED\"}, \"yaxis9\": {\"anchor\": \"x9\", \"domain\": [0.2675, 0.465], \"gridcolor\": \"#E1E5ED\", \"showgrid\": false, \"tickfont\": {\"color\": \"#4D5663\"}, \"title\": {\"font\": {\"color\": \"#4D5663\"}, \"text\": \"\"}, \"zerolinecolor\": \"#E1E5ED\"}},\n",
       "                        {\"showLink\": true, \"linkText\": \"Export to plot.ly\", \"plotlyServerURL\": \"https://plot.ly\", \"responsive\": true}\n",
       "                    ).then(function(){\n",
       "                            \n",
       "var gd = document.getElementById('59896f7d-3283-4132-9ac6-5b8a88d5e0f8');\n",
       "var x = new MutationObserver(function (mutations, observer) {{\n",
       "        var display = window.getComputedStyle(gd).display;\n",
       "        if (!display || display === 'none') {{\n",
       "            console.log([gd, 'removed!']);\n",
       "            Plotly.purge(gd);\n",
       "            observer.disconnect();\n",
       "        }}\n",
       "}});\n",
       "\n",
       "// Listen for the removal of the full notebook cells\n",
       "var notebookContainer = gd.closest('#notebook-container');\n",
       "if (notebookContainer) {{\n",
       "    x.observe(notebookContainer, {childList: true});\n",
       "}}\n",
       "\n",
       "// Listen for the clearing of the current output cell\n",
       "var outputEl = gd.closest('.output');\n",
       "if (outputEl) {{\n",
       "    x.observe(outputEl, {childList: true});\n",
       "}}\n",
       "\n",
       "                        })\n",
       "                };\n",
       "                });\n",
       "            </script>\n",
       "        </div>"
      ]
     },
     "metadata": {},
     "output_type": "display_data"
    }
   ],
   "source": [
    "df.scatter_matrix()"
   ]
  },
  {
   "cell_type": "code",
   "execution_count": null,
   "metadata": {},
   "outputs": [],
   "source": []
  }
 ],
 "metadata": {
  "kernelspec": {
   "display_name": "Python 3",
   "language": "python",
   "name": "python3"
  },
  "language_info": {
   "codemirror_mode": {
    "name": "ipython",
    "version": 3
   },
   "file_extension": ".py",
   "mimetype": "text/x-python",
   "name": "python",
   "nbconvert_exporter": "python",
   "pygments_lexer": "ipython3",
   "version": "3.7.4"
  }
 },
 "nbformat": 4,
 "nbformat_minor": 2
}
